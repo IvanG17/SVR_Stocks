{
  "nbformat": 4,
  "nbformat_minor": 0,
  "metadata": {
    "colab": {
      "name": "AMZN-SVR.ipynb",
      "provenance": [],
      "authorship_tag": "ABX9TyMf3sxxCFtGrK4FxSG1L05N"
    },
    "kernelspec": {
      "name": "python3",
      "display_name": "Python 3"
    },
    "language_info": {
      "name": "python"
    }
  },
  "cells": [
    {
      "cell_type": "code",
      "metadata": {
        "colab": {
          "base_uri": "https://localhost:8080/"
        },
        "id": "Usp-DCCaE9-T",
        "outputId": "790c49cf-4a27-4773-9e5f-c38626c591e3"
      },
      "source": [
        "pip install yfinance"
      ],
      "execution_count": null,
      "outputs": [
        {
          "output_type": "stream",
          "text": [
            "Collecting yfinance\n",
            "  Downloading https://files.pythonhosted.org/packages/a7/ee/315752b9ef281ba83c62aa7ec2e2074f85223da6e7e74efb4d3e11c0f510/yfinance-0.1.59.tar.gz\n",
            "Requirement already satisfied: pandas>=0.24 in /usr/local/lib/python3.7/dist-packages (from yfinance) (1.1.5)\n",
            "Requirement already satisfied: numpy>=1.15 in /usr/local/lib/python3.7/dist-packages (from yfinance) (1.19.5)\n",
            "Requirement already satisfied: requests>=2.20 in /usr/local/lib/python3.7/dist-packages (from yfinance) (2.23.0)\n",
            "Requirement already satisfied: multitasking>=0.0.7 in /usr/local/lib/python3.7/dist-packages (from yfinance) (0.0.9)\n",
            "Collecting lxml>=4.5.1\n",
            "\u001b[?25l  Downloading https://files.pythonhosted.org/packages/30/c0/d0526314971fc661b083ab135747dc68446a3022686da8c16d25fcf6ef07/lxml-4.6.3-cp37-cp37m-manylinux2014_x86_64.whl (6.3MB)\n",
            "\u001b[K     |████████████████████████████████| 6.3MB 4.3MB/s \n",
            "\u001b[?25hRequirement already satisfied: pytz>=2017.2 in /usr/local/lib/python3.7/dist-packages (from pandas>=0.24->yfinance) (2018.9)\n",
            "Requirement already satisfied: python-dateutil>=2.7.3 in /usr/local/lib/python3.7/dist-packages (from pandas>=0.24->yfinance) (2.8.1)\n",
            "Requirement already satisfied: certifi>=2017.4.17 in /usr/local/lib/python3.7/dist-packages (from requests>=2.20->yfinance) (2020.12.5)\n",
            "Requirement already satisfied: chardet<4,>=3.0.2 in /usr/local/lib/python3.7/dist-packages (from requests>=2.20->yfinance) (3.0.4)\n",
            "Requirement already satisfied: urllib3!=1.25.0,!=1.25.1,<1.26,>=1.21.1 in /usr/local/lib/python3.7/dist-packages (from requests>=2.20->yfinance) (1.24.3)\n",
            "Requirement already satisfied: idna<3,>=2.5 in /usr/local/lib/python3.7/dist-packages (from requests>=2.20->yfinance) (2.10)\n",
            "Requirement already satisfied: six>=1.5 in /usr/local/lib/python3.7/dist-packages (from python-dateutil>=2.7.3->pandas>=0.24->yfinance) (1.15.0)\n",
            "Building wheels for collected packages: yfinance\n",
            "  Building wheel for yfinance (setup.py) ... \u001b[?25l\u001b[?25hdone\n",
            "  Created wheel for yfinance: filename=yfinance-0.1.59-py2.py3-none-any.whl size=23442 sha256=1c64f3a9cc608ceb7a30be2ae70f06b8eec99bc4b020756222295677458c3be5\n",
            "  Stored in directory: /root/.cache/pip/wheels/f8/2a/0f/4b5a86e1d52e451757eb6bc17fd899629f0925c777741b6d04\n",
            "Successfully built yfinance\n",
            "Installing collected packages: lxml, yfinance\n",
            "  Found existing installation: lxml 4.2.6\n",
            "    Uninstalling lxml-4.2.6:\n",
            "      Successfully uninstalled lxml-4.2.6\n",
            "Successfully installed lxml-4.6.3 yfinance-0.1.59\n"
          ],
          "name": "stdout"
        }
      ]
    },
    {
      "cell_type": "code",
      "metadata": {
        "id": "r-ATH3QjFHPx"
      },
      "source": [
        "from sklearn.svm import SVR\n",
        "import numpy as np \n",
        "import pandas as pd \n",
        "import matplotlib.pyplot as plt \n",
        "from datetime import datetime\n"
      ],
      "execution_count": null,
      "outputs": []
    },
    {
      "cell_type": "code",
      "metadata": {
        "id": "tQKYV0KPFLVO"
      },
      "source": [
        "import yfinance as yf"
      ],
      "execution_count": null,
      "outputs": []
    },
    {
      "cell_type": "code",
      "metadata": {
        "id": "nVwFQxFQFMsI"
      },
      "source": [
        "ticker = 'AMZN'\n",
        "AMZNData = yf.Ticker(ticker)"
      ],
      "execution_count": null,
      "outputs": []
    },
    {
      "cell_type": "code",
      "metadata": {
        "id": "IFBGkYQuFTpK"
      },
      "source": [
        "amzn_df = AMZNData.history(period='1d', start= '2011-1-1', end = '2021-5-18')"
      ],
      "execution_count": null,
      "outputs": []
    },
    {
      "cell_type": "code",
      "metadata": {
        "id": "A8zvSf8HFj6W",
        "colab": {
          "base_uri": "https://localhost:8080/",
          "height": 437
        },
        "outputId": "d8a9d125-0710-4a6a-9c71-40365d42b4f9"
      },
      "source": [
        "amzn_df"
      ],
      "execution_count": null,
      "outputs": [
        {
          "output_type": "execute_result",
          "data": {
            "text/html": [
              "<div>\n",
              "<style scoped>\n",
              "    .dataframe tbody tr th:only-of-type {\n",
              "        vertical-align: middle;\n",
              "    }\n",
              "\n",
              "    .dataframe tbody tr th {\n",
              "        vertical-align: top;\n",
              "    }\n",
              "\n",
              "    .dataframe thead th {\n",
              "        text-align: right;\n",
              "    }\n",
              "</style>\n",
              "<table border=\"1\" class=\"dataframe\">\n",
              "  <thead>\n",
              "    <tr style=\"text-align: right;\">\n",
              "      <th></th>\n",
              "      <th>Open</th>\n",
              "      <th>High</th>\n",
              "      <th>Low</th>\n",
              "      <th>Close</th>\n",
              "      <th>Volume</th>\n",
              "      <th>Dividends</th>\n",
              "      <th>Stock Splits</th>\n",
              "    </tr>\n",
              "    <tr>\n",
              "      <th>Date</th>\n",
              "      <th></th>\n",
              "      <th></th>\n",
              "      <th></th>\n",
              "      <th></th>\n",
              "      <th></th>\n",
              "      <th></th>\n",
              "      <th></th>\n",
              "    </tr>\n",
              "  </thead>\n",
              "  <tbody>\n",
              "    <tr>\n",
              "      <th>2011-01-03</th>\n",
              "      <td>181.369995</td>\n",
              "      <td>186.000000</td>\n",
              "      <td>181.210007</td>\n",
              "      <td>184.220001</td>\n",
              "      <td>5331400</td>\n",
              "      <td>0</td>\n",
              "      <td>0</td>\n",
              "    </tr>\n",
              "    <tr>\n",
              "      <th>2011-01-04</th>\n",
              "      <td>186.149994</td>\n",
              "      <td>187.699997</td>\n",
              "      <td>183.779999</td>\n",
              "      <td>185.009995</td>\n",
              "      <td>5031800</td>\n",
              "      <td>0</td>\n",
              "      <td>0</td>\n",
              "    </tr>\n",
              "    <tr>\n",
              "      <th>2011-01-05</th>\n",
              "      <td>184.100006</td>\n",
              "      <td>187.449997</td>\n",
              "      <td>184.070007</td>\n",
              "      <td>187.419998</td>\n",
              "      <td>3418800</td>\n",
              "      <td>0</td>\n",
              "      <td>0</td>\n",
              "    </tr>\n",
              "    <tr>\n",
              "      <th>2011-01-06</th>\n",
              "      <td>186.500000</td>\n",
              "      <td>187.410004</td>\n",
              "      <td>185.250000</td>\n",
              "      <td>185.860001</td>\n",
              "      <td>3179700</td>\n",
              "      <td>0</td>\n",
              "      <td>0</td>\n",
              "    </tr>\n",
              "    <tr>\n",
              "      <th>2011-01-07</th>\n",
              "      <td>187.880005</td>\n",
              "      <td>188.449997</td>\n",
              "      <td>183.740005</td>\n",
              "      <td>185.490005</td>\n",
              "      <td>5221700</td>\n",
              "      <td>0</td>\n",
              "      <td>0</td>\n",
              "    </tr>\n",
              "    <tr>\n",
              "      <th>...</th>\n",
              "      <td>...</td>\n",
              "      <td>...</td>\n",
              "      <td>...</td>\n",
              "      <td>...</td>\n",
              "      <td>...</td>\n",
              "      <td>...</td>\n",
              "      <td>...</td>\n",
              "    </tr>\n",
              "    <tr>\n",
              "      <th>2021-05-11</th>\n",
              "      <td>3136.280029</td>\n",
              "      <td>3238.000000</td>\n",
              "      <td>3127.370117</td>\n",
              "      <td>3223.909912</td>\n",
              "      <td>4619800</td>\n",
              "      <td>0</td>\n",
              "      <td>0</td>\n",
              "    </tr>\n",
              "    <tr>\n",
              "      <th>2021-05-12</th>\n",
              "      <td>3185.000000</td>\n",
              "      <td>3207.939941</td>\n",
              "      <td>3133.100098</td>\n",
              "      <td>3151.939941</td>\n",
              "      <td>4936400</td>\n",
              "      <td>0</td>\n",
              "      <td>0</td>\n",
              "    </tr>\n",
              "    <tr>\n",
              "      <th>2021-05-13</th>\n",
              "      <td>3185.469971</td>\n",
              "      <td>3203.840088</td>\n",
              "      <td>3133.000000</td>\n",
              "      <td>3161.469971</td>\n",
              "      <td>3350900</td>\n",
              "      <td>0</td>\n",
              "      <td>0</td>\n",
              "    </tr>\n",
              "    <tr>\n",
              "      <th>2021-05-14</th>\n",
              "      <td>3185.560059</td>\n",
              "      <td>3228.860107</td>\n",
              "      <td>3183.000000</td>\n",
              "      <td>3222.899902</td>\n",
              "      <td>3321400</td>\n",
              "      <td>0</td>\n",
              "      <td>0</td>\n",
              "    </tr>\n",
              "    <tr>\n",
              "      <th>2021-05-17</th>\n",
              "      <td>3245.929932</td>\n",
              "      <td>3292.750000</td>\n",
              "      <td>3234.590088</td>\n",
              "      <td>3270.389893</td>\n",
              "      <td>3723900</td>\n",
              "      <td>0</td>\n",
              "      <td>0</td>\n",
              "    </tr>\n",
              "  </tbody>\n",
              "</table>\n",
              "<p>2610 rows × 7 columns</p>\n",
              "</div>"
            ],
            "text/plain": [
              "                   Open         High  ...  Dividends  Stock Splits\n",
              "Date                                  ...                         \n",
              "2011-01-03   181.369995   186.000000  ...          0             0\n",
              "2011-01-04   186.149994   187.699997  ...          0             0\n",
              "2011-01-05   184.100006   187.449997  ...          0             0\n",
              "2011-01-06   186.500000   187.410004  ...          0             0\n",
              "2011-01-07   187.880005   188.449997  ...          0             0\n",
              "...                 ...          ...  ...        ...           ...\n",
              "2021-05-11  3136.280029  3238.000000  ...          0             0\n",
              "2021-05-12  3185.000000  3207.939941  ...          0             0\n",
              "2021-05-13  3185.469971  3203.840088  ...          0             0\n",
              "2021-05-14  3185.560059  3228.860107  ...          0             0\n",
              "2021-05-17  3245.929932  3292.750000  ...          0             0\n",
              "\n",
              "[2610 rows x 7 columns]"
            ]
          },
          "metadata": {
            "tags": []
          },
          "execution_count": 7
        }
      ]
    },
    {
      "cell_type": "code",
      "metadata": {
        "id": "_FynukLuFk4U",
        "colab": {
          "base_uri": "https://localhost:8080/"
        },
        "outputId": "d3a6eead-d402-4bf1-a7fb-694d679a76c8"
      },
      "source": [
        "for col in amzn_df.columns:\n",
        "  print (col)"
      ],
      "execution_count": null,
      "outputs": [
        {
          "output_type": "stream",
          "text": [
            "Open\n",
            "High\n",
            "Low\n",
            "Close\n",
            "Volume\n",
            "Dividends\n",
            "Stock Splits\n"
          ],
          "name": "stdout"
        }
      ]
    },
    {
      "cell_type": "code",
      "metadata": {
        "id": "8PhFqe1lFuHR"
      },
      "source": [
        "amzn_df.reset_index(inplace=True)\n",
        "amzn_df.set_index('Date', inplace=True)"
      ],
      "execution_count": null,
      "outputs": []
    },
    {
      "cell_type": "code",
      "metadata": {
        "id": "QzZoHjKhGrib",
        "colab": {
          "base_uri": "https://localhost:8080/",
          "height": 437
        },
        "outputId": "c794e27b-1543-4571-e562-a327e08a29fa"
      },
      "source": [
        "amzn_df"
      ],
      "execution_count": null,
      "outputs": [
        {
          "output_type": "execute_result",
          "data": {
            "text/html": [
              "<div>\n",
              "<style scoped>\n",
              "    .dataframe tbody tr th:only-of-type {\n",
              "        vertical-align: middle;\n",
              "    }\n",
              "\n",
              "    .dataframe tbody tr th {\n",
              "        vertical-align: top;\n",
              "    }\n",
              "\n",
              "    .dataframe thead th {\n",
              "        text-align: right;\n",
              "    }\n",
              "</style>\n",
              "<table border=\"1\" class=\"dataframe\">\n",
              "  <thead>\n",
              "    <tr style=\"text-align: right;\">\n",
              "      <th></th>\n",
              "      <th>Open</th>\n",
              "      <th>High</th>\n",
              "      <th>Low</th>\n",
              "      <th>Close</th>\n",
              "      <th>Volume</th>\n",
              "      <th>Dividends</th>\n",
              "      <th>Stock Splits</th>\n",
              "    </tr>\n",
              "    <tr>\n",
              "      <th>Date</th>\n",
              "      <th></th>\n",
              "      <th></th>\n",
              "      <th></th>\n",
              "      <th></th>\n",
              "      <th></th>\n",
              "      <th></th>\n",
              "      <th></th>\n",
              "    </tr>\n",
              "  </thead>\n",
              "  <tbody>\n",
              "    <tr>\n",
              "      <th>2011-01-03</th>\n",
              "      <td>181.369995</td>\n",
              "      <td>186.000000</td>\n",
              "      <td>181.210007</td>\n",
              "      <td>184.220001</td>\n",
              "      <td>5331400</td>\n",
              "      <td>0</td>\n",
              "      <td>0</td>\n",
              "    </tr>\n",
              "    <tr>\n",
              "      <th>2011-01-04</th>\n",
              "      <td>186.149994</td>\n",
              "      <td>187.699997</td>\n",
              "      <td>183.779999</td>\n",
              "      <td>185.009995</td>\n",
              "      <td>5031800</td>\n",
              "      <td>0</td>\n",
              "      <td>0</td>\n",
              "    </tr>\n",
              "    <tr>\n",
              "      <th>2011-01-05</th>\n",
              "      <td>184.100006</td>\n",
              "      <td>187.449997</td>\n",
              "      <td>184.070007</td>\n",
              "      <td>187.419998</td>\n",
              "      <td>3418800</td>\n",
              "      <td>0</td>\n",
              "      <td>0</td>\n",
              "    </tr>\n",
              "    <tr>\n",
              "      <th>2011-01-06</th>\n",
              "      <td>186.500000</td>\n",
              "      <td>187.410004</td>\n",
              "      <td>185.250000</td>\n",
              "      <td>185.860001</td>\n",
              "      <td>3179700</td>\n",
              "      <td>0</td>\n",
              "      <td>0</td>\n",
              "    </tr>\n",
              "    <tr>\n",
              "      <th>2011-01-07</th>\n",
              "      <td>187.880005</td>\n",
              "      <td>188.449997</td>\n",
              "      <td>183.740005</td>\n",
              "      <td>185.490005</td>\n",
              "      <td>5221700</td>\n",
              "      <td>0</td>\n",
              "      <td>0</td>\n",
              "    </tr>\n",
              "    <tr>\n",
              "      <th>...</th>\n",
              "      <td>...</td>\n",
              "      <td>...</td>\n",
              "      <td>...</td>\n",
              "      <td>...</td>\n",
              "      <td>...</td>\n",
              "      <td>...</td>\n",
              "      <td>...</td>\n",
              "    </tr>\n",
              "    <tr>\n",
              "      <th>2021-05-11</th>\n",
              "      <td>3136.280029</td>\n",
              "      <td>3238.000000</td>\n",
              "      <td>3127.370117</td>\n",
              "      <td>3223.909912</td>\n",
              "      <td>4619800</td>\n",
              "      <td>0</td>\n",
              "      <td>0</td>\n",
              "    </tr>\n",
              "    <tr>\n",
              "      <th>2021-05-12</th>\n",
              "      <td>3185.000000</td>\n",
              "      <td>3207.939941</td>\n",
              "      <td>3133.100098</td>\n",
              "      <td>3151.939941</td>\n",
              "      <td>4936400</td>\n",
              "      <td>0</td>\n",
              "      <td>0</td>\n",
              "    </tr>\n",
              "    <tr>\n",
              "      <th>2021-05-13</th>\n",
              "      <td>3185.469971</td>\n",
              "      <td>3203.840088</td>\n",
              "      <td>3133.000000</td>\n",
              "      <td>3161.469971</td>\n",
              "      <td>3350900</td>\n",
              "      <td>0</td>\n",
              "      <td>0</td>\n",
              "    </tr>\n",
              "    <tr>\n",
              "      <th>2021-05-14</th>\n",
              "      <td>3185.560059</td>\n",
              "      <td>3228.860107</td>\n",
              "      <td>3183.000000</td>\n",
              "      <td>3222.899902</td>\n",
              "      <td>3321400</td>\n",
              "      <td>0</td>\n",
              "      <td>0</td>\n",
              "    </tr>\n",
              "    <tr>\n",
              "      <th>2021-05-17</th>\n",
              "      <td>3245.929932</td>\n",
              "      <td>3292.750000</td>\n",
              "      <td>3234.590088</td>\n",
              "      <td>3270.389893</td>\n",
              "      <td>3723900</td>\n",
              "      <td>0</td>\n",
              "      <td>0</td>\n",
              "    </tr>\n",
              "  </tbody>\n",
              "</table>\n",
              "<p>2610 rows × 7 columns</p>\n",
              "</div>"
            ],
            "text/plain": [
              "                   Open         High  ...  Dividends  Stock Splits\n",
              "Date                                  ...                         \n",
              "2011-01-03   181.369995   186.000000  ...          0             0\n",
              "2011-01-04   186.149994   187.699997  ...          0             0\n",
              "2011-01-05   184.100006   187.449997  ...          0             0\n",
              "2011-01-06   186.500000   187.410004  ...          0             0\n",
              "2011-01-07   187.880005   188.449997  ...          0             0\n",
              "...                 ...          ...  ...        ...           ...\n",
              "2021-05-11  3136.280029  3238.000000  ...          0             0\n",
              "2021-05-12  3185.000000  3207.939941  ...          0             0\n",
              "2021-05-13  3185.469971  3203.840088  ...          0             0\n",
              "2021-05-14  3185.560059  3228.860107  ...          0             0\n",
              "2021-05-17  3245.929932  3292.750000  ...          0             0\n",
              "\n",
              "[2610 rows x 7 columns]"
            ]
          },
          "metadata": {
            "tags": []
          },
          "execution_count": 10
        }
      ]
    },
    {
      "cell_type": "code",
      "metadata": {
        "id": "XurAi2UPHf8K",
        "colab": {
          "base_uri": "https://localhost:8080/"
        },
        "outputId": "29ecda85-fffe-4b15-c105-6a706649fecc"
      },
      "source": [
        "df_Open=amzn_df[['Open']]\n",
        "df_dates=amzn_df.index.to_frame().reset_index(drop=True)\n",
        "print(df_dates)"
      ],
      "execution_count": null,
      "outputs": [
        {
          "output_type": "stream",
          "text": [
            "           Date\n",
            "0    2011-01-03\n",
            "1    2011-01-04\n",
            "2    2011-01-05\n",
            "3    2011-01-06\n",
            "4    2011-01-07\n",
            "...         ...\n",
            "2605 2021-05-11\n",
            "2606 2021-05-12\n",
            "2607 2021-05-13\n",
            "2608 2021-05-14\n",
            "2609 2021-05-17\n",
            "\n",
            "[2610 rows x 1 columns]\n"
          ],
          "name": "stdout"
        }
      ]
    },
    {
      "cell_type": "code",
      "metadata": {
        "id": "NU7WwRZBHhSB"
      },
      "source": [
        "#amzn_df = pd.concat([amzn_df, df_dates])"
      ],
      "execution_count": null,
      "outputs": []
    },
    {
      "cell_type": "code",
      "metadata": {
        "id": "gQxYLvYsH6-o",
        "colab": {
          "base_uri": "https://localhost:8080/",
          "height": 437
        },
        "outputId": "aaac4905-cba2-4e4c-b5e5-333054f9316b"
      },
      "source": [
        "amzn_df"
      ],
      "execution_count": null,
      "outputs": [
        {
          "output_type": "execute_result",
          "data": {
            "text/html": [
              "<div>\n",
              "<style scoped>\n",
              "    .dataframe tbody tr th:only-of-type {\n",
              "        vertical-align: middle;\n",
              "    }\n",
              "\n",
              "    .dataframe tbody tr th {\n",
              "        vertical-align: top;\n",
              "    }\n",
              "\n",
              "    .dataframe thead th {\n",
              "        text-align: right;\n",
              "    }\n",
              "</style>\n",
              "<table border=\"1\" class=\"dataframe\">\n",
              "  <thead>\n",
              "    <tr style=\"text-align: right;\">\n",
              "      <th></th>\n",
              "      <th>Open</th>\n",
              "      <th>High</th>\n",
              "      <th>Low</th>\n",
              "      <th>Close</th>\n",
              "      <th>Volume</th>\n",
              "      <th>Dividends</th>\n",
              "      <th>Stock Splits</th>\n",
              "    </tr>\n",
              "    <tr>\n",
              "      <th>Date</th>\n",
              "      <th></th>\n",
              "      <th></th>\n",
              "      <th></th>\n",
              "      <th></th>\n",
              "      <th></th>\n",
              "      <th></th>\n",
              "      <th></th>\n",
              "    </tr>\n",
              "  </thead>\n",
              "  <tbody>\n",
              "    <tr>\n",
              "      <th>2011-01-03</th>\n",
              "      <td>181.369995</td>\n",
              "      <td>186.000000</td>\n",
              "      <td>181.210007</td>\n",
              "      <td>184.220001</td>\n",
              "      <td>5331400</td>\n",
              "      <td>0</td>\n",
              "      <td>0</td>\n",
              "    </tr>\n",
              "    <tr>\n",
              "      <th>2011-01-04</th>\n",
              "      <td>186.149994</td>\n",
              "      <td>187.699997</td>\n",
              "      <td>183.779999</td>\n",
              "      <td>185.009995</td>\n",
              "      <td>5031800</td>\n",
              "      <td>0</td>\n",
              "      <td>0</td>\n",
              "    </tr>\n",
              "    <tr>\n",
              "      <th>2011-01-05</th>\n",
              "      <td>184.100006</td>\n",
              "      <td>187.449997</td>\n",
              "      <td>184.070007</td>\n",
              "      <td>187.419998</td>\n",
              "      <td>3418800</td>\n",
              "      <td>0</td>\n",
              "      <td>0</td>\n",
              "    </tr>\n",
              "    <tr>\n",
              "      <th>2011-01-06</th>\n",
              "      <td>186.500000</td>\n",
              "      <td>187.410004</td>\n",
              "      <td>185.250000</td>\n",
              "      <td>185.860001</td>\n",
              "      <td>3179700</td>\n",
              "      <td>0</td>\n",
              "      <td>0</td>\n",
              "    </tr>\n",
              "    <tr>\n",
              "      <th>2011-01-07</th>\n",
              "      <td>187.880005</td>\n",
              "      <td>188.449997</td>\n",
              "      <td>183.740005</td>\n",
              "      <td>185.490005</td>\n",
              "      <td>5221700</td>\n",
              "      <td>0</td>\n",
              "      <td>0</td>\n",
              "    </tr>\n",
              "    <tr>\n",
              "      <th>...</th>\n",
              "      <td>...</td>\n",
              "      <td>...</td>\n",
              "      <td>...</td>\n",
              "      <td>...</td>\n",
              "      <td>...</td>\n",
              "      <td>...</td>\n",
              "      <td>...</td>\n",
              "    </tr>\n",
              "    <tr>\n",
              "      <th>2021-05-11</th>\n",
              "      <td>3136.280029</td>\n",
              "      <td>3238.000000</td>\n",
              "      <td>3127.370117</td>\n",
              "      <td>3223.909912</td>\n",
              "      <td>4619800</td>\n",
              "      <td>0</td>\n",
              "      <td>0</td>\n",
              "    </tr>\n",
              "    <tr>\n",
              "      <th>2021-05-12</th>\n",
              "      <td>3185.000000</td>\n",
              "      <td>3207.939941</td>\n",
              "      <td>3133.100098</td>\n",
              "      <td>3151.939941</td>\n",
              "      <td>4936400</td>\n",
              "      <td>0</td>\n",
              "      <td>0</td>\n",
              "    </tr>\n",
              "    <tr>\n",
              "      <th>2021-05-13</th>\n",
              "      <td>3185.469971</td>\n",
              "      <td>3203.840088</td>\n",
              "      <td>3133.000000</td>\n",
              "      <td>3161.469971</td>\n",
              "      <td>3350900</td>\n",
              "      <td>0</td>\n",
              "      <td>0</td>\n",
              "    </tr>\n",
              "    <tr>\n",
              "      <th>2021-05-14</th>\n",
              "      <td>3185.560059</td>\n",
              "      <td>3228.860107</td>\n",
              "      <td>3183.000000</td>\n",
              "      <td>3222.899902</td>\n",
              "      <td>3321400</td>\n",
              "      <td>0</td>\n",
              "      <td>0</td>\n",
              "    </tr>\n",
              "    <tr>\n",
              "      <th>2021-05-17</th>\n",
              "      <td>3245.929932</td>\n",
              "      <td>3292.750000</td>\n",
              "      <td>3234.590088</td>\n",
              "      <td>3270.389893</td>\n",
              "      <td>3723900</td>\n",
              "      <td>0</td>\n",
              "      <td>0</td>\n",
              "    </tr>\n",
              "  </tbody>\n",
              "</table>\n",
              "<p>2610 rows × 7 columns</p>\n",
              "</div>"
            ],
            "text/plain": [
              "                   Open         High  ...  Dividends  Stock Splits\n",
              "Date                                  ...                         \n",
              "2011-01-03   181.369995   186.000000  ...          0             0\n",
              "2011-01-04   186.149994   187.699997  ...          0             0\n",
              "2011-01-05   184.100006   187.449997  ...          0             0\n",
              "2011-01-06   186.500000   187.410004  ...          0             0\n",
              "2011-01-07   187.880005   188.449997  ...          0             0\n",
              "...                 ...          ...  ...        ...           ...\n",
              "2021-05-11  3136.280029  3238.000000  ...          0             0\n",
              "2021-05-12  3185.000000  3207.939941  ...          0             0\n",
              "2021-05-13  3185.469971  3203.840088  ...          0             0\n",
              "2021-05-14  3185.560059  3228.860107  ...          0             0\n",
              "2021-05-17  3245.929932  3292.750000  ...          0             0\n",
              "\n",
              "[2610 rows x 7 columns]"
            ]
          },
          "metadata": {
            "tags": []
          },
          "execution_count": 13
        }
      ]
    },
    {
      "cell_type": "code",
      "metadata": {
        "id": "CCUSaSeZH7ml"
      },
      "source": [
        " #df_dates['Date']"
      ],
      "execution_count": null,
      "outputs": []
    },
    {
      "cell_type": "code",
      "metadata": {
        "id": "floLm7RgIP5m"
      },
      "source": [
        "#a#mzn_df=amzn_df.append(df_dates)"
      ],
      "execution_count": null,
      "outputs": []
    },
    {
      "cell_type": "code",
      "metadata": {
        "id": "F07zwKyrIQv4"
      },
      "source": [
        "amzn_df['Date']= df_dates['Date'].values"
      ],
      "execution_count": null,
      "outputs": []
    },
    {
      "cell_type": "code",
      "metadata": {
        "id": "VOCgatWOIqx-",
        "colab": {
          "base_uri": "https://localhost:8080/",
          "height": 437
        },
        "outputId": "6d0a9639-9e97-4e7f-a7ec-b9630d833885"
      },
      "source": [
        "amzn_df"
      ],
      "execution_count": null,
      "outputs": [
        {
          "output_type": "execute_result",
          "data": {
            "text/html": [
              "<div>\n",
              "<style scoped>\n",
              "    .dataframe tbody tr th:only-of-type {\n",
              "        vertical-align: middle;\n",
              "    }\n",
              "\n",
              "    .dataframe tbody tr th {\n",
              "        vertical-align: top;\n",
              "    }\n",
              "\n",
              "    .dataframe thead th {\n",
              "        text-align: right;\n",
              "    }\n",
              "</style>\n",
              "<table border=\"1\" class=\"dataframe\">\n",
              "  <thead>\n",
              "    <tr style=\"text-align: right;\">\n",
              "      <th></th>\n",
              "      <th>Open</th>\n",
              "      <th>High</th>\n",
              "      <th>Low</th>\n",
              "      <th>Close</th>\n",
              "      <th>Volume</th>\n",
              "      <th>Dividends</th>\n",
              "      <th>Stock Splits</th>\n",
              "      <th>Date</th>\n",
              "    </tr>\n",
              "    <tr>\n",
              "      <th>Date</th>\n",
              "      <th></th>\n",
              "      <th></th>\n",
              "      <th></th>\n",
              "      <th></th>\n",
              "      <th></th>\n",
              "      <th></th>\n",
              "      <th></th>\n",
              "      <th></th>\n",
              "    </tr>\n",
              "  </thead>\n",
              "  <tbody>\n",
              "    <tr>\n",
              "      <th>2011-01-03</th>\n",
              "      <td>181.369995</td>\n",
              "      <td>186.000000</td>\n",
              "      <td>181.210007</td>\n",
              "      <td>184.220001</td>\n",
              "      <td>5331400</td>\n",
              "      <td>0</td>\n",
              "      <td>0</td>\n",
              "      <td>2011-01-03</td>\n",
              "    </tr>\n",
              "    <tr>\n",
              "      <th>2011-01-04</th>\n",
              "      <td>186.149994</td>\n",
              "      <td>187.699997</td>\n",
              "      <td>183.779999</td>\n",
              "      <td>185.009995</td>\n",
              "      <td>5031800</td>\n",
              "      <td>0</td>\n",
              "      <td>0</td>\n",
              "      <td>2011-01-04</td>\n",
              "    </tr>\n",
              "    <tr>\n",
              "      <th>2011-01-05</th>\n",
              "      <td>184.100006</td>\n",
              "      <td>187.449997</td>\n",
              "      <td>184.070007</td>\n",
              "      <td>187.419998</td>\n",
              "      <td>3418800</td>\n",
              "      <td>0</td>\n",
              "      <td>0</td>\n",
              "      <td>2011-01-05</td>\n",
              "    </tr>\n",
              "    <tr>\n",
              "      <th>2011-01-06</th>\n",
              "      <td>186.500000</td>\n",
              "      <td>187.410004</td>\n",
              "      <td>185.250000</td>\n",
              "      <td>185.860001</td>\n",
              "      <td>3179700</td>\n",
              "      <td>0</td>\n",
              "      <td>0</td>\n",
              "      <td>2011-01-06</td>\n",
              "    </tr>\n",
              "    <tr>\n",
              "      <th>2011-01-07</th>\n",
              "      <td>187.880005</td>\n",
              "      <td>188.449997</td>\n",
              "      <td>183.740005</td>\n",
              "      <td>185.490005</td>\n",
              "      <td>5221700</td>\n",
              "      <td>0</td>\n",
              "      <td>0</td>\n",
              "      <td>2011-01-07</td>\n",
              "    </tr>\n",
              "    <tr>\n",
              "      <th>...</th>\n",
              "      <td>...</td>\n",
              "      <td>...</td>\n",
              "      <td>...</td>\n",
              "      <td>...</td>\n",
              "      <td>...</td>\n",
              "      <td>...</td>\n",
              "      <td>...</td>\n",
              "      <td>...</td>\n",
              "    </tr>\n",
              "    <tr>\n",
              "      <th>2021-05-11</th>\n",
              "      <td>3136.280029</td>\n",
              "      <td>3238.000000</td>\n",
              "      <td>3127.370117</td>\n",
              "      <td>3223.909912</td>\n",
              "      <td>4619800</td>\n",
              "      <td>0</td>\n",
              "      <td>0</td>\n",
              "      <td>2021-05-11</td>\n",
              "    </tr>\n",
              "    <tr>\n",
              "      <th>2021-05-12</th>\n",
              "      <td>3185.000000</td>\n",
              "      <td>3207.939941</td>\n",
              "      <td>3133.100098</td>\n",
              "      <td>3151.939941</td>\n",
              "      <td>4936400</td>\n",
              "      <td>0</td>\n",
              "      <td>0</td>\n",
              "      <td>2021-05-12</td>\n",
              "    </tr>\n",
              "    <tr>\n",
              "      <th>2021-05-13</th>\n",
              "      <td>3185.469971</td>\n",
              "      <td>3203.840088</td>\n",
              "      <td>3133.000000</td>\n",
              "      <td>3161.469971</td>\n",
              "      <td>3350900</td>\n",
              "      <td>0</td>\n",
              "      <td>0</td>\n",
              "      <td>2021-05-13</td>\n",
              "    </tr>\n",
              "    <tr>\n",
              "      <th>2021-05-14</th>\n",
              "      <td>3185.560059</td>\n",
              "      <td>3228.860107</td>\n",
              "      <td>3183.000000</td>\n",
              "      <td>3222.899902</td>\n",
              "      <td>3321400</td>\n",
              "      <td>0</td>\n",
              "      <td>0</td>\n",
              "      <td>2021-05-14</td>\n",
              "    </tr>\n",
              "    <tr>\n",
              "      <th>2021-05-17</th>\n",
              "      <td>3245.929932</td>\n",
              "      <td>3292.750000</td>\n",
              "      <td>3234.590088</td>\n",
              "      <td>3270.389893</td>\n",
              "      <td>3723900</td>\n",
              "      <td>0</td>\n",
              "      <td>0</td>\n",
              "      <td>2021-05-17</td>\n",
              "    </tr>\n",
              "  </tbody>\n",
              "</table>\n",
              "<p>2610 rows × 8 columns</p>\n",
              "</div>"
            ],
            "text/plain": [
              "                   Open         High  ...  Stock Splits       Date\n",
              "Date                                  ...                         \n",
              "2011-01-03   181.369995   186.000000  ...             0 2011-01-03\n",
              "2011-01-04   186.149994   187.699997  ...             0 2011-01-04\n",
              "2011-01-05   184.100006   187.449997  ...             0 2011-01-05\n",
              "2011-01-06   186.500000   187.410004  ...             0 2011-01-06\n",
              "2011-01-07   187.880005   188.449997  ...             0 2011-01-07\n",
              "...                 ...          ...  ...           ...        ...\n",
              "2021-05-11  3136.280029  3238.000000  ...             0 2021-05-11\n",
              "2021-05-12  3185.000000  3207.939941  ...             0 2021-05-12\n",
              "2021-05-13  3185.469971  3203.840088  ...             0 2021-05-13\n",
              "2021-05-14  3185.560059  3228.860107  ...             0 2021-05-14\n",
              "2021-05-17  3245.929932  3292.750000  ...             0 2021-05-17\n",
              "\n",
              "[2610 rows x 8 columns]"
            ]
          },
          "metadata": {
            "tags": []
          },
          "execution_count": 17
        }
      ]
    },
    {
      "cell_type": "code",
      "metadata": {
        "id": "su1iv34TJBL3"
      },
      "source": [
        "amzn_df['Date'] = amzn_df['Date'].astype(str)"
      ],
      "execution_count": null,
      "outputs": []
    },
    {
      "cell_type": "code",
      "metadata": {
        "id": "z8-qFpabJGq6"
      },
      "source": [
        "amzn_df['new_date'] = amzn_df['Date'].str.replace('\\D', '').astype(int)"
      ],
      "execution_count": null,
      "outputs": []
    },
    {
      "cell_type": "code",
      "metadata": {
        "id": "agyTW_EiJMBz",
        "colab": {
          "base_uri": "https://localhost:8080/",
          "height": 437
        },
        "outputId": "38c58d9a-d11c-47eb-c104-188146c66780"
      },
      "source": [
        "amzn_df"
      ],
      "execution_count": null,
      "outputs": [
        {
          "output_type": "execute_result",
          "data": {
            "text/html": [
              "<div>\n",
              "<style scoped>\n",
              "    .dataframe tbody tr th:only-of-type {\n",
              "        vertical-align: middle;\n",
              "    }\n",
              "\n",
              "    .dataframe tbody tr th {\n",
              "        vertical-align: top;\n",
              "    }\n",
              "\n",
              "    .dataframe thead th {\n",
              "        text-align: right;\n",
              "    }\n",
              "</style>\n",
              "<table border=\"1\" class=\"dataframe\">\n",
              "  <thead>\n",
              "    <tr style=\"text-align: right;\">\n",
              "      <th></th>\n",
              "      <th>Open</th>\n",
              "      <th>High</th>\n",
              "      <th>Low</th>\n",
              "      <th>Close</th>\n",
              "      <th>Volume</th>\n",
              "      <th>Dividends</th>\n",
              "      <th>Stock Splits</th>\n",
              "      <th>Date</th>\n",
              "      <th>new_date</th>\n",
              "    </tr>\n",
              "    <tr>\n",
              "      <th>Date</th>\n",
              "      <th></th>\n",
              "      <th></th>\n",
              "      <th></th>\n",
              "      <th></th>\n",
              "      <th></th>\n",
              "      <th></th>\n",
              "      <th></th>\n",
              "      <th></th>\n",
              "      <th></th>\n",
              "    </tr>\n",
              "  </thead>\n",
              "  <tbody>\n",
              "    <tr>\n",
              "      <th>2011-01-03</th>\n",
              "      <td>181.369995</td>\n",
              "      <td>186.000000</td>\n",
              "      <td>181.210007</td>\n",
              "      <td>184.220001</td>\n",
              "      <td>5331400</td>\n",
              "      <td>0</td>\n",
              "      <td>0</td>\n",
              "      <td>2011-01-03</td>\n",
              "      <td>20110103</td>\n",
              "    </tr>\n",
              "    <tr>\n",
              "      <th>2011-01-04</th>\n",
              "      <td>186.149994</td>\n",
              "      <td>187.699997</td>\n",
              "      <td>183.779999</td>\n",
              "      <td>185.009995</td>\n",
              "      <td>5031800</td>\n",
              "      <td>0</td>\n",
              "      <td>0</td>\n",
              "      <td>2011-01-04</td>\n",
              "      <td>20110104</td>\n",
              "    </tr>\n",
              "    <tr>\n",
              "      <th>2011-01-05</th>\n",
              "      <td>184.100006</td>\n",
              "      <td>187.449997</td>\n",
              "      <td>184.070007</td>\n",
              "      <td>187.419998</td>\n",
              "      <td>3418800</td>\n",
              "      <td>0</td>\n",
              "      <td>0</td>\n",
              "      <td>2011-01-05</td>\n",
              "      <td>20110105</td>\n",
              "    </tr>\n",
              "    <tr>\n",
              "      <th>2011-01-06</th>\n",
              "      <td>186.500000</td>\n",
              "      <td>187.410004</td>\n",
              "      <td>185.250000</td>\n",
              "      <td>185.860001</td>\n",
              "      <td>3179700</td>\n",
              "      <td>0</td>\n",
              "      <td>0</td>\n",
              "      <td>2011-01-06</td>\n",
              "      <td>20110106</td>\n",
              "    </tr>\n",
              "    <tr>\n",
              "      <th>2011-01-07</th>\n",
              "      <td>187.880005</td>\n",
              "      <td>188.449997</td>\n",
              "      <td>183.740005</td>\n",
              "      <td>185.490005</td>\n",
              "      <td>5221700</td>\n",
              "      <td>0</td>\n",
              "      <td>0</td>\n",
              "      <td>2011-01-07</td>\n",
              "      <td>20110107</td>\n",
              "    </tr>\n",
              "    <tr>\n",
              "      <th>...</th>\n",
              "      <td>...</td>\n",
              "      <td>...</td>\n",
              "      <td>...</td>\n",
              "      <td>...</td>\n",
              "      <td>...</td>\n",
              "      <td>...</td>\n",
              "      <td>...</td>\n",
              "      <td>...</td>\n",
              "      <td>...</td>\n",
              "    </tr>\n",
              "    <tr>\n",
              "      <th>2021-05-11</th>\n",
              "      <td>3136.280029</td>\n",
              "      <td>3238.000000</td>\n",
              "      <td>3127.370117</td>\n",
              "      <td>3223.909912</td>\n",
              "      <td>4619800</td>\n",
              "      <td>0</td>\n",
              "      <td>0</td>\n",
              "      <td>2021-05-11</td>\n",
              "      <td>20210511</td>\n",
              "    </tr>\n",
              "    <tr>\n",
              "      <th>2021-05-12</th>\n",
              "      <td>3185.000000</td>\n",
              "      <td>3207.939941</td>\n",
              "      <td>3133.100098</td>\n",
              "      <td>3151.939941</td>\n",
              "      <td>4936400</td>\n",
              "      <td>0</td>\n",
              "      <td>0</td>\n",
              "      <td>2021-05-12</td>\n",
              "      <td>20210512</td>\n",
              "    </tr>\n",
              "    <tr>\n",
              "      <th>2021-05-13</th>\n",
              "      <td>3185.469971</td>\n",
              "      <td>3203.840088</td>\n",
              "      <td>3133.000000</td>\n",
              "      <td>3161.469971</td>\n",
              "      <td>3350900</td>\n",
              "      <td>0</td>\n",
              "      <td>0</td>\n",
              "      <td>2021-05-13</td>\n",
              "      <td>20210513</td>\n",
              "    </tr>\n",
              "    <tr>\n",
              "      <th>2021-05-14</th>\n",
              "      <td>3185.560059</td>\n",
              "      <td>3228.860107</td>\n",
              "      <td>3183.000000</td>\n",
              "      <td>3222.899902</td>\n",
              "      <td>3321400</td>\n",
              "      <td>0</td>\n",
              "      <td>0</td>\n",
              "      <td>2021-05-14</td>\n",
              "      <td>20210514</td>\n",
              "    </tr>\n",
              "    <tr>\n",
              "      <th>2021-05-17</th>\n",
              "      <td>3245.929932</td>\n",
              "      <td>3292.750000</td>\n",
              "      <td>3234.590088</td>\n",
              "      <td>3270.389893</td>\n",
              "      <td>3723900</td>\n",
              "      <td>0</td>\n",
              "      <td>0</td>\n",
              "      <td>2021-05-17</td>\n",
              "      <td>20210517</td>\n",
              "    </tr>\n",
              "  </tbody>\n",
              "</table>\n",
              "<p>2610 rows × 9 columns</p>\n",
              "</div>"
            ],
            "text/plain": [
              "                   Open         High  ...        Date  new_date\n",
              "Date                                  ...                      \n",
              "2011-01-03   181.369995   186.000000  ...  2011-01-03  20110103\n",
              "2011-01-04   186.149994   187.699997  ...  2011-01-04  20110104\n",
              "2011-01-05   184.100006   187.449997  ...  2011-01-05  20110105\n",
              "2011-01-06   186.500000   187.410004  ...  2011-01-06  20110106\n",
              "2011-01-07   187.880005   188.449997  ...  2011-01-07  20110107\n",
              "...                 ...          ...  ...         ...       ...\n",
              "2021-05-11  3136.280029  3238.000000  ...  2021-05-11  20210511\n",
              "2021-05-12  3185.000000  3207.939941  ...  2021-05-12  20210512\n",
              "2021-05-13  3185.469971  3203.840088  ...  2021-05-13  20210513\n",
              "2021-05-14  3185.560059  3228.860107  ...  2021-05-14  20210514\n",
              "2021-05-17  3245.929932  3292.750000  ...  2021-05-17  20210517\n",
              "\n",
              "[2610 rows x 9 columns]"
            ]
          },
          "metadata": {
            "tags": []
          },
          "execution_count": 20
        }
      ]
    },
    {
      "cell_type": "code",
      "metadata": {
        "id": "J4cFyPpNJOPD",
        "colab": {
          "base_uri": "https://localhost:8080/",
          "height": 107
        },
        "outputId": "3ec98cf5-41aa-44ca-9dcc-076cd23b07a4"
      },
      "source": [
        "actual_price = amzn_df.tail(1)\n",
        "actual_price"
      ],
      "execution_count": null,
      "outputs": [
        {
          "output_type": "execute_result",
          "data": {
            "text/html": [
              "<div>\n",
              "<style scoped>\n",
              "    .dataframe tbody tr th:only-of-type {\n",
              "        vertical-align: middle;\n",
              "    }\n",
              "\n",
              "    .dataframe tbody tr th {\n",
              "        vertical-align: top;\n",
              "    }\n",
              "\n",
              "    .dataframe thead th {\n",
              "        text-align: right;\n",
              "    }\n",
              "</style>\n",
              "<table border=\"1\" class=\"dataframe\">\n",
              "  <thead>\n",
              "    <tr style=\"text-align: right;\">\n",
              "      <th></th>\n",
              "      <th>Open</th>\n",
              "      <th>High</th>\n",
              "      <th>Low</th>\n",
              "      <th>Close</th>\n",
              "      <th>Volume</th>\n",
              "      <th>Dividends</th>\n",
              "      <th>Stock Splits</th>\n",
              "      <th>Date</th>\n",
              "      <th>new_date</th>\n",
              "    </tr>\n",
              "    <tr>\n",
              "      <th>Date</th>\n",
              "      <th></th>\n",
              "      <th></th>\n",
              "      <th></th>\n",
              "      <th></th>\n",
              "      <th></th>\n",
              "      <th></th>\n",
              "      <th></th>\n",
              "      <th></th>\n",
              "      <th></th>\n",
              "    </tr>\n",
              "  </thead>\n",
              "  <tbody>\n",
              "    <tr>\n",
              "      <th>2021-05-17</th>\n",
              "      <td>3245.929932</td>\n",
              "      <td>3292.75</td>\n",
              "      <td>3234.590088</td>\n",
              "      <td>3270.389893</td>\n",
              "      <td>3723900</td>\n",
              "      <td>0</td>\n",
              "      <td>0</td>\n",
              "      <td>2021-05-17</td>\n",
              "      <td>20210517</td>\n",
              "    </tr>\n",
              "  </tbody>\n",
              "</table>\n",
              "</div>"
            ],
            "text/plain": [
              "                   Open     High  ...        Date  new_date\n",
              "Date                              ...                      \n",
              "2021-05-17  3245.929932  3292.75  ...  2021-05-17  20210517\n",
              "\n",
              "[1 rows x 9 columns]"
            ]
          },
          "metadata": {
            "tags": []
          },
          "execution_count": 21
        }
      ]
    },
    {
      "cell_type": "code",
      "metadata": {
        "id": "aU4AvhTtIDvw",
        "colab": {
          "base_uri": "https://localhost:8080/"
        },
        "outputId": "76659e86-d3a8-400c-af1e-1022367d3e45"
      },
      "source": [
        "x=actual_price['Close']\n",
        "list2=[]\n",
        "list2.append(x)\n",
        "list2\n",
        "\n",
        "y= 1+ list2[0]\n",
        "print(list2[0])\n",
        "print(y)\n",
        "\n",
        "len(list2)\n"
      ],
      "execution_count": null,
      "outputs": [
        {
          "output_type": "stream",
          "text": [
            "Date\n",
            "2021-05-17    3270.389893\n",
            "Name: Close, dtype: float64\n",
            "Date\n",
            "2021-05-17    3271.389893\n",
            "Name: Close, dtype: float64\n"
          ],
          "name": "stdout"
        },
        {
          "output_type": "execute_result",
          "data": {
            "text/plain": [
              "1"
            ]
          },
          "metadata": {
            "tags": []
          },
          "execution_count": 22
        }
      ]
    },
    {
      "cell_type": "code",
      "metadata": {
        "id": "c7NU9Ky7JRvt"
      },
      "source": [
        "amzn_df = amzn_df.head(len(amzn_df)-1)"
      ],
      "execution_count": null,
      "outputs": []
    },
    {
      "cell_type": "code",
      "metadata": {
        "id": "4faIDnyGJWNs"
      },
      "source": [
        "days = list()\n",
        "close_prices= list()"
      ],
      "execution_count": null,
      "outputs": []
    },
    {
      "cell_type": "code",
      "metadata": {
        "id": "9oSeJ9Z3JZoG",
        "colab": {
          "base_uri": "https://localhost:8080/"
        },
        "outputId": "503a9c45-e933-40a3-acbf-4c454ba9fc17"
      },
      "source": [
        "df_days = amzn_df.loc[:,'new_date']\n",
        "df_days"
      ],
      "execution_count": null,
      "outputs": [
        {
          "output_type": "execute_result",
          "data": {
            "text/plain": [
              "Date\n",
              "2011-01-03    20110103\n",
              "2011-01-04    20110104\n",
              "2011-01-05    20110105\n",
              "2011-01-06    20110106\n",
              "2011-01-07    20110107\n",
              "                ...   \n",
              "2021-05-10    20210510\n",
              "2021-05-11    20210511\n",
              "2021-05-12    20210512\n",
              "2021-05-13    20210513\n",
              "2021-05-14    20210514\n",
              "Name: new_date, Length: 2609, dtype: int64"
            ]
          },
          "metadata": {
            "tags": []
          },
          "execution_count": 25
        }
      ]
    },
    {
      "cell_type": "code",
      "metadata": {
        "id": "4Xkxsaf5Jb7K"
      },
      "source": [
        "df_close_price = amzn_df.loc[:,'Close']"
      ],
      "execution_count": null,
      "outputs": []
    },
    {
      "cell_type": "code",
      "metadata": {
        "id": "gt3bqO-mJecR"
      },
      "source": [
        "for dates in df_days:\n",
        "  days.append([int(dates)])\n",
        "\n",
        "days"
      ],
      "execution_count": null,
      "outputs": []
    },
    {
      "cell_type": "code",
      "metadata": {
        "id": "LLYeb7akJhys"
      },
      "source": [
        "for price in df_close_price: \n",
        "  close_prices.append(float(price))\n",
        "\n",
        "close_prices"
      ],
      "execution_count": null,
      "outputs": []
    },
    {
      "cell_type": "code",
      "metadata": {
        "id": "1F3eBNvLJjcQ",
        "colab": {
          "base_uri": "https://localhost:8080/"
        },
        "outputId": "79ca4c9b-2042-4cf1-b98d-ef16e6aed438"
      },
      "source": [
        "print(days)\n",
        "print(close_prices)\n",
        "\n",
        "print(len(days))\n",
        "print(len(close_prices))"
      ],
      "execution_count": null,
      "outputs": [
        {
          "output_type": "stream",
          "text": [
            "[[20110103], [20110104], [20110105], [20110106], [20110107], [20110110], [20110111], [20110112], [20110113], [20110114], [20110118], [20110119], [20110120], [20110121], [20110124], [20110125], [20110126], [20110127], [20110128], [20110131], [20110201], [20110202], [20110203], [20110204], [20110207], [20110208], [20110209], [20110210], [20110211], [20110214], [20110215], [20110216], [20110217], [20110218], [20110222], [20110223], [20110224], [20110225], [20110228], [20110301], [20110302], [20110303], [20110304], [20110307], [20110308], [20110309], [20110310], [20110311], [20110314], [20110315], [20110316], [20110317], [20110318], [20110321], [20110322], [20110323], [20110324], [20110325], [20110328], [20110329], [20110330], [20110331], [20110401], [20110404], [20110405], [20110406], [20110407], [20110408], [20110411], [20110412], [20110413], [20110414], [20110415], [20110418], [20110419], [20110420], [20110421], [20110425], [20110426], [20110427], [20110428], [20110429], [20110502], [20110503], [20110504], [20110505], [20110506], [20110509], [20110510], [20110511], [20110512], [20110513], [20110516], [20110517], [20110518], [20110519], [20110520], [20110523], [20110524], [20110525], [20110526], [20110527], [20110531], [20110601], [20110602], [20110603], [20110606], [20110607], [20110608], [20110609], [20110610], [20110613], [20110614], [20110615], [20110616], [20110617], [20110620], [20110621], [20110622], [20110623], [20110624], [20110627], [20110628], [20110629], [20110630], [20110701], [20110705], [20110706], [20110707], [20110708], [20110711], [20110712], [20110713], [20110714], [20110715], [20110718], [20110719], [20110720], [20110721], [20110722], [20110725], [20110726], [20110727], [20110728], [20110729], [20110801], [20110802], [20110803], [20110804], [20110805], [20110808], [20110809], [20110810], [20110811], [20110812], [20110815], [20110816], [20110817], [20110818], [20110819], [20110822], [20110823], [20110824], [20110825], [20110826], [20110829], [20110830], [20110831], [20110901], [20110902], [20110906], [20110907], [20110908], [20110909], [20110912], [20110913], [20110914], [20110915], [20110916], [20110919], [20110920], [20110921], [20110922], [20110923], [20110926], [20110927], [20110928], [20110929], [20110930], [20111003], [20111004], [20111005], [20111006], [20111007], [20111010], [20111011], [20111012], [20111013], [20111014], [20111017], [20111018], [20111019], [20111020], [20111021], [20111024], [20111025], [20111026], [20111027], [20111028], [20111031], [20111101], [20111102], [20111103], [20111104], [20111107], [20111108], [20111109], [20111110], [20111111], [20111114], [20111115], [20111116], [20111117], [20111118], [20111121], [20111122], [20111123], [20111125], [20111128], [20111129], [20111130], [20111201], [20111202], [20111205], [20111206], [20111207], [20111208], [20111209], [20111212], [20111213], [20111214], [20111215], [20111216], [20111219], [20111220], [20111221], [20111222], [20111223], [20111227], [20111228], [20111229], [20111230], [20120103], [20120104], [20120105], [20120106], [20120109], [20120110], [20120111], [20120112], [20120113], [20120117], [20120118], [20120119], [20120120], [20120123], [20120124], [20120125], [20120126], [20120127], [20120130], [20120131], [20120201], [20120202], [20120203], [20120206], [20120207], [20120208], [20120209], [20120210], [20120213], [20120214], [20120215], [20120216], [20120217], [20120221], [20120222], [20120223], [20120224], [20120227], [20120228], [20120229], [20120301], [20120302], [20120305], [20120306], [20120307], [20120308], [20120309], [20120312], [20120313], [20120314], [20120315], [20120316], [20120319], [20120320], [20120321], [20120322], [20120323], [20120326], [20120327], [20120328], [20120329], [20120330], [20120402], [20120403], [20120404], [20120405], [20120409], [20120410], [20120411], [20120412], [20120413], [20120416], [20120417], [20120418], [20120419], [20120420], [20120423], [20120424], [20120425], [20120426], [20120427], [20120430], [20120501], [20120502], [20120503], [20120504], [20120507], [20120508], [20120509], [20120510], [20120511], [20120514], [20120515], [20120516], [20120517], [20120518], [20120521], [20120522], [20120523], [20120524], [20120525], [20120529], [20120530], [20120531], [20120601], [20120604], [20120605], [20120606], [20120607], [20120608], [20120611], [20120612], [20120613], [20120614], [20120615], [20120618], [20120619], [20120620], [20120621], [20120622], [20120625], [20120626], [20120627], [20120628], [20120629], [20120702], [20120703], [20120705], [20120706], [20120709], [20120710], [20120711], [20120712], [20120713], [20120716], [20120717], [20120718], [20120719], [20120720], [20120723], [20120724], [20120725], [20120726], [20120727], [20120730], [20120731], [20120801], [20120802], [20120803], [20120806], [20120807], [20120808], [20120809], [20120810], [20120813], [20120814], [20120815], [20120816], [20120817], [20120820], [20120821], [20120822], [20120823], [20120824], [20120827], [20120828], [20120829], [20120830], [20120831], [20120904], [20120905], [20120906], [20120907], [20120910], [20120911], [20120912], [20120913], [20120914], [20120917], [20120918], [20120919], [20120920], [20120921], [20120924], [20120925], [20120926], [20120927], [20120928], [20121001], [20121002], [20121003], [20121004], [20121005], [20121008], [20121009], [20121010], [20121011], [20121012], [20121015], [20121016], [20121017], [20121018], [20121019], [20121022], [20121023], [20121024], [20121025], [20121026], [20121031], [20121101], [20121102], [20121105], [20121106], [20121107], [20121108], [20121109], [20121112], [20121113], [20121114], [20121115], [20121116], [20121119], [20121120], [20121121], [20121123], [20121126], [20121127], [20121128], [20121129], [20121130], [20121203], [20121204], [20121205], [20121206], [20121207], [20121210], [20121211], [20121212], [20121213], [20121214], [20121217], [20121218], [20121219], [20121220], [20121221], [20121224], [20121226], [20121227], [20121228], [20121231], [20130102], [20130103], [20130104], [20130107], [20130108], [20130109], [20130110], [20130111], [20130114], [20130115], [20130116], [20130117], [20130118], [20130122], [20130123], [20130124], [20130125], [20130128], [20130129], [20130130], [20130131], [20130201], [20130204], [20130205], [20130206], [20130207], [20130208], [20130211], [20130212], [20130213], [20130214], [20130215], [20130219], [20130220], [20130221], [20130222], [20130225], [20130226], [20130227], [20130228], [20130301], [20130304], [20130305], [20130306], [20130307], [20130308], [20130311], [20130312], [20130313], [20130314], [20130315], [20130318], [20130319], [20130320], [20130321], [20130322], [20130325], [20130326], [20130327], [20130328], [20130401], [20130402], [20130403], [20130404], [20130405], [20130408], [20130409], [20130410], [20130411], [20130412], [20130415], [20130416], [20130417], [20130418], [20130419], [20130422], [20130423], [20130424], [20130425], [20130426], [20130429], [20130430], [20130501], [20130502], [20130503], [20130506], [20130507], [20130508], [20130509], [20130510], [20130513], [20130514], [20130515], [20130516], [20130517], [20130520], [20130521], [20130522], [20130523], [20130524], [20130528], [20130529], [20130530], [20130531], [20130603], [20130604], [20130605], [20130606], [20130607], [20130610], [20130611], [20130612], [20130613], [20130614], [20130617], [20130618], [20130619], [20130620], [20130621], [20130624], [20130625], [20130626], [20130627], [20130628], [20130701], [20130702], [20130703], [20130705], [20130708], [20130709], [20130710], [20130711], [20130712], [20130715], [20130716], [20130717], [20130718], [20130719], [20130722], [20130723], [20130724], [20130725], [20130726], [20130729], [20130730], [20130731], [20130801], [20130802], [20130805], [20130806], [20130807], [20130808], [20130809], [20130812], [20130813], [20130814], [20130815], [20130816], [20130819], [20130820], [20130821], [20130822], [20130823], [20130826], [20130827], [20130828], [20130829], [20130830], [20130903], [20130904], [20130905], [20130906], [20130909], [20130910], [20130911], [20130912], [20130913], [20130916], [20130917], [20130918], [20130919], [20130920], [20130923], [20130924], [20130925], [20130926], [20130927], [20130930], [20131001], [20131002], [20131003], [20131004], [20131007], [20131008], [20131009], [20131010], [20131011], [20131014], [20131015], [20131016], [20131017], [20131018], [20131021], [20131022], [20131023], [20131024], [20131025], [20131028], [20131029], [20131030], [20131031], [20131101], [20131104], [20131105], [20131106], [20131107], [20131108], [20131111], [20131112], [20131113], [20131114], [20131115], [20131118], [20131119], [20131120], [20131121], [20131122], [20131125], [20131126], [20131127], [20131129], [20131202], [20131203], [20131204], [20131205], [20131206], [20131209], [20131210], [20131211], [20131212], [20131213], [20131216], [20131217], [20131218], [20131219], [20131220], [20131223], [20131224], [20131226], [20131227], [20131230], [20131231], [20140102], [20140103], [20140106], [20140107], [20140108], [20140109], [20140110], [20140113], [20140114], [20140115], [20140116], [20140117], [20140121], [20140122], [20140123], [20140124], [20140127], [20140128], [20140129], [20140130], [20140131], [20140203], [20140204], [20140205], [20140206], [20140207], [20140210], [20140211], [20140212], [20140213], [20140214], [20140218], [20140219], [20140220], [20140221], [20140224], [20140225], [20140226], [20140227], [20140228], [20140303], [20140304], [20140305], [20140306], [20140307], [20140310], [20140311], [20140312], [20140313], [20140314], [20140317], [20140318], [20140319], [20140320], [20140321], [20140324], [20140325], [20140326], [20140327], [20140328], [20140331], [20140401], [20140402], [20140403], [20140404], [20140407], [20140408], [20140409], [20140410], [20140411], [20140414], [20140415], [20140416], [20140417], [20140421], [20140422], [20140423], [20140424], [20140425], [20140428], [20140429], [20140430], [20140501], [20140502], [20140505], [20140506], [20140507], [20140508], [20140509], [20140512], [20140513], [20140514], [20140515], [20140516], [20140519], [20140520], [20140521], [20140522], [20140523], [20140527], [20140528], [20140529], [20140530], [20140602], [20140603], [20140604], [20140605], [20140606], [20140609], [20140610], [20140611], [20140612], [20140613], [20140616], [20140617], [20140618], [20140619], [20140620], [20140623], [20140624], [20140625], [20140626], [20140627], [20140630], [20140701], [20140702], [20140703], [20140707], [20140708], [20140709], [20140710], [20140711], [20140714], [20140715], [20140716], [20140717], [20140718], [20140721], [20140722], [20140723], [20140724], [20140725], [20140728], [20140729], [20140730], [20140731], [20140801], [20140804], [20140805], [20140806], [20140807], [20140808], [20140811], [20140812], [20140813], [20140814], [20140815], [20140818], [20140819], [20140820], [20140821], [20140822], [20140825], [20140826], [20140827], [20140828], [20140829], [20140902], [20140903], [20140904], [20140905], [20140908], [20140909], [20140910], [20140911], [20140912], [20140915], [20140916], [20140917], [20140918], [20140919], [20140922], [20140923], [20140924], [20140925], [20140926], [20140929], [20140930], [20141001], [20141002], [20141003], [20141006], [20141007], [20141008], [20141009], [20141010], [20141013], [20141014], [20141015], [20141016], [20141017], [20141020], [20141021], [20141022], [20141023], [20141024], [20141027], [20141028], [20141029], [20141030], [20141031], [20141103], [20141104], [20141105], [20141106], [20141107], [20141110], [20141111], [20141112], [20141113], [20141114], [20141117], [20141118], [20141119], [20141120], [20141121], [20141124], [20141125], [20141126], [20141128], [20141201], [20141202], [20141203], [20141204], [20141205], [20141208], [20141209], [20141210], [20141211], [20141212], [20141215], [20141216], [20141217], [20141218], [20141219], [20141222], [20141223], [20141224], [20141226], [20141229], [20141230], [20141231], [20150102], [20150105], [20150106], [20150107], [20150108], [20150109], [20150112], [20150113], [20150114], [20150115], [20150116], [20150120], [20150121], [20150122], [20150123], [20150126], [20150127], [20150128], [20150129], [20150130], [20150202], [20150203], [20150204], [20150205], [20150206], [20150209], [20150210], [20150211], [20150212], [20150213], [20150217], [20150218], [20150219], [20150220], [20150223], [20150224], [20150225], [20150226], [20150227], [20150302], [20150303], [20150304], [20150305], [20150306], [20150309], [20150310], [20150311], [20150312], [20150313], [20150316], [20150317], [20150318], [20150319], [20150320], [20150323], [20150324], [20150325], [20150326], [20150327], [20150330], [20150331], [20150401], [20150402], [20150406], [20150407], [20150408], [20150409], [20150410], [20150413], [20150414], [20150415], [20150416], [20150417], [20150420], [20150421], [20150422], [20150423], [20150424], [20150427], [20150428], [20150429], [20150430], [20150501], [20150504], [20150505], [20150506], [20150507], [20150508], [20150511], [20150512], [20150513], [20150514], [20150515], [20150518], [20150519], [20150520], [20150521], [20150522], [20150526], [20150527], [20150528], [20150529], [20150601], [20150602], [20150603], [20150604], [20150605], [20150608], [20150609], [20150610], [20150611], [20150612], [20150615], [20150616], [20150617], [20150618], [20150619], [20150622], [20150623], [20150624], [20150625], [20150626], [20150629], [20150630], [20150701], [20150702], [20150706], [20150707], [20150708], [20150709], [20150710], [20150713], [20150714], [20150715], [20150716], [20150717], [20150720], [20150721], [20150722], [20150723], [20150724], [20150727], [20150728], [20150729], [20150730], [20150731], [20150803], [20150804], [20150805], [20150806], [20150807], [20150810], [20150811], [20150812], [20150813], [20150814], [20150817], [20150818], [20150819], [20150820], [20150821], [20150824], [20150825], [20150826], [20150827], [20150828], [20150831], [20150901], [20150902], [20150903], [20150904], [20150908], [20150909], [20150910], [20150911], [20150914], [20150915], [20150916], [20150917], [20150918], [20150921], [20150922], [20150923], [20150924], [20150925], [20150928], [20150929], [20150930], [20151001], [20151002], [20151005], [20151006], [20151007], [20151008], [20151009], [20151012], [20151013], [20151014], [20151015], [20151016], [20151019], [20151020], [20151021], [20151022], [20151023], [20151026], [20151027], [20151028], [20151029], [20151030], [20151102], [20151103], [20151104], [20151105], [20151106], [20151109], [20151110], [20151111], [20151112], [20151113], [20151116], [20151117], [20151118], [20151119], [20151120], [20151123], [20151124], [20151125], [20151127], [20151130], [20151201], [20151202], [20151203], [20151204], [20151207], [20151208], [20151209], [20151210], [20151211], [20151214], [20151215], [20151216], [20151217], [20151218], [20151221], [20151222], [20151223], [20151224], [20151228], [20151229], [20151230], [20151231], [20160104], [20160105], [20160106], [20160107], [20160108], [20160111], [20160112], [20160113], [20160114], [20160115], [20160119], [20160120], [20160121], [20160122], [20160125], [20160126], [20160127], [20160128], [20160129], [20160201], [20160202], [20160203], [20160204], [20160205], [20160208], [20160209], [20160210], [20160211], [20160212], [20160216], [20160217], [20160218], [20160219], [20160222], [20160223], [20160224], [20160225], [20160226], [20160229], [20160301], [20160302], [20160303], [20160304], [20160307], [20160308], [20160309], [20160310], [20160311], [20160314], [20160315], [20160316], [20160317], [20160318], [20160321], [20160322], [20160323], [20160324], [20160328], [20160329], [20160330], [20160331], [20160401], [20160404], [20160405], [20160406], [20160407], [20160408], [20160411], [20160412], [20160413], [20160414], [20160415], [20160418], [20160419], [20160420], [20160421], [20160422], [20160425], [20160426], [20160427], [20160428], [20160429], [20160502], [20160503], [20160504], [20160505], [20160506], [20160509], [20160510], [20160511], [20160512], [20160513], [20160516], [20160517], [20160518], [20160519], [20160520], [20160523], [20160524], [20160525], [20160526], [20160527], [20160531], [20160601], [20160602], [20160603], [20160606], [20160607], [20160608], [20160609], [20160610], [20160613], [20160614], [20160615], [20160616], [20160617], [20160620], [20160621], [20160622], [20160623], [20160624], [20160627], [20160628], [20160629], [20160630], [20160701], [20160705], [20160706], [20160707], [20160708], [20160711], [20160712], [20160713], [20160714], [20160715], [20160718], [20160719], [20160720], [20160721], [20160722], [20160725], [20160726], [20160727], [20160728], [20160729], [20160801], [20160802], [20160803], [20160804], [20160805], [20160808], [20160809], [20160810], [20160811], [20160812], [20160815], [20160816], [20160817], [20160818], [20160819], [20160822], [20160823], [20160824], [20160825], [20160826], [20160829], [20160830], [20160831], [20160901], [20160902], [20160906], [20160907], [20160908], [20160909], [20160912], [20160913], [20160914], [20160915], [20160916], [20160919], [20160920], [20160921], [20160922], [20160923], [20160926], [20160927], [20160928], [20160929], [20160930], [20161003], [20161004], [20161005], [20161006], [20161007], [20161010], [20161011], [20161012], [20161013], [20161014], [20161017], [20161018], [20161019], [20161020], [20161021], [20161024], [20161025], [20161026], [20161027], [20161028], [20161031], [20161101], [20161102], [20161103], [20161104], [20161107], [20161108], [20161109], [20161110], [20161111], [20161114], [20161115], [20161116], [20161117], [20161118], [20161121], [20161122], [20161123], [20161125], [20161128], [20161129], [20161130], [20161201], [20161202], [20161205], [20161206], [20161207], [20161208], [20161209], [20161212], [20161213], [20161214], [20161215], [20161216], [20161219], [20161220], [20161221], [20161222], [20161223], [20161227], [20161228], [20161229], [20161230], [20170103], [20170104], [20170105], [20170106], [20170109], [20170110], [20170111], [20170112], [20170113], [20170117], [20170118], [20170119], [20170120], [20170123], [20170124], [20170125], [20170126], [20170127], [20170130], [20170131], [20170201], [20170202], [20170203], [20170206], [20170207], [20170208], [20170209], [20170210], [20170213], [20170214], [20170215], [20170216], [20170217], [20170221], [20170222], [20170223], [20170224], [20170227], [20170228], [20170301], [20170302], [20170303], [20170306], [20170307], [20170308], [20170309], [20170310], [20170313], [20170314], [20170315], [20170316], [20170317], [20170320], [20170321], [20170322], [20170323], [20170324], [20170327], [20170328], [20170329], [20170330], [20170331], [20170403], [20170404], [20170405], [20170406], [20170407], [20170410], [20170411], [20170412], [20170413], [20170417], [20170418], [20170419], [20170420], [20170421], [20170424], [20170425], [20170426], [20170427], [20170428], [20170501], [20170502], [20170503], [20170504], [20170505], [20170508], [20170509], [20170510], [20170511], [20170512], [20170515], [20170516], [20170517], [20170518], [20170519], [20170522], [20170523], [20170524], [20170525], [20170526], [20170530], [20170531], [20170601], [20170602], [20170605], [20170606], [20170607], [20170608], [20170609], [20170612], [20170613], [20170614], [20170615], [20170616], [20170619], [20170620], [20170621], [20170622], [20170623], [20170626], [20170627], [20170628], [20170629], [20170630], [20170703], [20170705], [20170706], [20170707], [20170710], [20170711], [20170712], [20170713], [20170714], [20170717], [20170718], [20170719], [20170720], [20170721], [20170724], [20170725], [20170726], [20170727], [20170728], [20170731], [20170801], [20170802], [20170803], [20170804], [20170807], [20170808], [20170809], [20170810], [20170811], [20170814], [20170815], [20170816], [20170817], [20170818], [20170821], [20170822], [20170823], [20170824], [20170825], [20170828], [20170829], [20170830], [20170831], [20170901], [20170905], [20170906], [20170907], [20170908], [20170911], [20170912], [20170913], [20170914], [20170915], [20170918], [20170919], [20170920], [20170921], [20170922], [20170925], [20170926], [20170927], [20170928], [20170929], [20171002], [20171003], [20171004], [20171005], [20171006], [20171009], [20171010], [20171011], [20171012], [20171013], [20171016], [20171017], [20171018], [20171019], [20171020], [20171023], [20171024], [20171025], [20171026], [20171027], [20171030], [20171031], [20171101], [20171102], [20171103], [20171106], [20171107], [20171108], [20171109], [20171110], [20171113], [20171114], [20171115], [20171116], [20171117], [20171120], [20171121], [20171122], [20171124], [20171127], [20171128], [20171129], [20171130], [20171201], [20171204], [20171205], [20171206], [20171207], [20171208], [20171211], [20171212], [20171213], [20171214], [20171215], [20171218], [20171219], [20171220], [20171221], [20171222], [20171226], [20171227], [20171228], [20171229], [20180102], [20180103], [20180104], [20180105], [20180108], [20180109], [20180110], [20180111], [20180112], [20180116], [20180117], [20180118], [20180119], [20180122], [20180123], [20180124], [20180125], [20180126], [20180129], [20180130], [20180131], [20180201], [20180202], [20180205], [20180206], [20180207], [20180208], [20180209], [20180212], [20180213], [20180214], [20180215], [20180216], [20180220], [20180221], [20180222], [20180223], [20180226], [20180227], [20180228], [20180301], [20180302], [20180305], [20180306], [20180307], [20180308], [20180309], [20180312], [20180313], [20180314], [20180315], [20180316], [20180319], [20180320], [20180321], [20180322], [20180323], [20180326], [20180327], [20180328], [20180329], [20180402], [20180403], [20180404], [20180405], [20180406], [20180409], [20180410], [20180411], [20180412], [20180413], [20180416], [20180417], [20180418], [20180419], [20180420], [20180423], [20180424], [20180425], [20180426], [20180427], [20180430], [20180501], [20180502], [20180503], [20180504], [20180507], [20180508], [20180509], [20180510], [20180511], [20180514], [20180515], [20180516], [20180517], [20180518], [20180521], [20180522], [20180523], [20180524], [20180525], [20180529], [20180530], [20180531], [20180601], [20180604], [20180605], [20180606], [20180607], [20180608], [20180611], [20180612], [20180613], [20180614], [20180615], [20180618], [20180619], [20180620], [20180621], [20180622], [20180625], [20180626], [20180627], [20180628], [20180629], [20180702], [20180703], [20180705], [20180706], [20180709], [20180710], [20180711], [20180712], [20180713], [20180716], [20180717], [20180718], [20180719], [20180720], [20180723], [20180724], [20180725], [20180726], [20180727], [20180730], [20180731], [20180801], [20180802], [20180803], [20180806], [20180807], [20180808], [20180809], [20180810], [20180813], [20180814], [20180815], [20180816], [20180817], [20180820], [20180821], [20180822], [20180823], [20180824], [20180827], [20180828], [20180829], [20180830], [20180831], [20180904], [20180905], [20180906], [20180907], [20180910], [20180911], [20180912], [20180913], [20180914], [20180917], [20180918], [20180919], [20180920], [20180921], [20180924], [20180925], [20180926], [20180927], [20180928], [20181001], [20181002], [20181003], [20181004], [20181005], [20181008], [20181009], [20181010], [20181011], [20181012], [20181015], [20181016], [20181017], [20181018], [20181019], [20181022], [20181023], [20181024], [20181025], [20181026], [20181029], [20181030], [20181031], [20181101], [20181102], [20181105], [20181106], [20181107], [20181108], [20181109], [20181112], [20181113], [20181114], [20181115], [20181116], [20181119], [20181120], [20181121], [20181123], [20181126], [20181127], [20181128], [20181129], [20181130], [20181203], [20181204], [20181206], [20181207], [20181210], [20181211], [20181212], [20181213], [20181214], [20181217], [20181218], [20181219], [20181220], [20181221], [20181224], [20181226], [20181227], [20181228], [20181231], [20190102], [20190103], [20190104], [20190107], [20190108], [20190109], [20190110], [20190111], [20190114], [20190115], [20190116], [20190117], [20190118], [20190122], [20190123], [20190124], [20190125], [20190128], [20190129], [20190130], [20190131], [20190201], [20190204], [20190205], [20190206], [20190207], [20190208], [20190211], [20190212], [20190213], [20190214], [20190215], [20190219], [20190220], [20190221], [20190222], [20190225], [20190226], [20190227], [20190228], [20190301], [20190304], [20190305], [20190306], [20190307], [20190308], [20190311], [20190312], [20190313], [20190314], [20190315], [20190318], [20190319], [20190320], [20190321], [20190322], [20190325], [20190326], [20190327], [20190328], [20190329], [20190401], [20190402], [20190403], [20190404], [20190405], [20190408], [20190409], [20190410], [20190411], [20190412], [20190415], [20190416], [20190417], [20190418], [20190422], [20190423], [20190424], [20190425], [20190426], [20190429], [20190430], [20190501], [20190502], [20190503], [20190506], [20190507], [20190508], [20190509], [20190510], [20190513], [20190514], [20190515], [20190516], [20190517], [20190520], [20190521], [20190522], [20190523], [20190524], [20190528], [20190529], [20190530], [20190531], [20190603], [20190604], [20190605], [20190606], [20190607], [20190610], [20190611], [20190612], [20190613], [20190614], [20190617], [20190618], [20190619], [20190620], [20190621], [20190624], [20190625], [20190626], [20190627], [20190628], [20190701], [20190702], [20190703], [20190705], [20190708], [20190709], [20190710], [20190711], [20190712], [20190715], [20190716], [20190717], [20190718], [20190719], [20190722], [20190723], [20190724], [20190725], [20190726], [20190729], [20190730], [20190731], [20190801], [20190802], [20190805], [20190806], [20190807], [20190808], [20190809], [20190812], [20190813], [20190814], [20190815], [20190816], [20190819], [20190820], [20190821], [20190822], [20190823], [20190826], [20190827], [20190828], [20190829], [20190830], [20190903], [20190904], [20190905], [20190906], [20190909], [20190910], [20190911], [20190912], [20190913], [20190916], [20190917], [20190918], [20190919], [20190920], [20190923], [20190924], [20190925], [20190926], [20190927], [20190930], [20191001], [20191002], [20191003], [20191004], [20191007], [20191008], [20191009], [20191010], [20191011], [20191014], [20191015], [20191016], [20191017], [20191018], [20191021], [20191022], [20191023], [20191024], [20191025], [20191028], [20191029], [20191030], [20191031], [20191101], [20191104], [20191105], [20191106], [20191107], [20191108], [20191111], [20191112], [20191113], [20191114], [20191115], [20191118], [20191119], [20191120], [20191121], [20191122], [20191125], [20191126], [20191127], [20191129], [20191202], [20191203], [20191204], [20191205], [20191206], [20191209], [20191210], [20191211], [20191212], [20191213], [20191216], [20191217], [20191218], [20191219], [20191220], [20191223], [20191224], [20191226], [20191227], [20191230], [20191231], [20200102], [20200103], [20200106], [20200107], [20200108], [20200109], [20200110], [20200113], [20200114], [20200115], [20200116], [20200117], [20200121], [20200122], [20200123], [20200124], [20200127], [20200128], [20200129], [20200130], [20200131], [20200203], [20200204], [20200205], [20200206], [20200207], [20200210], [20200211], [20200212], [20200213], [20200214], [20200218], [20200219], [20200220], [20200221], [20200224], [20200225], [20200226], [20200227], [20200228], [20200302], [20200303], [20200304], [20200305], [20200306], [20200309], [20200310], [20200311], [20200312], [20200313], [20200316], [20200317], [20200318], [20200319], [20200320], [20200323], [20200324], [20200325], [20200326], [20200327], [20200330], [20200331], [20200401], [20200402], [20200403], [20200406], [20200407], [20200408], [20200409], [20200413], [20200414], [20200415], [20200416], [20200417], [20200420], [20200421], [20200422], [20200423], [20200424], [20200427], [20200428], [20200429], [20200430], [20200501], [20200504], [20200505], [20200506], [20200507], [20200508], [20200511], [20200512], [20200513], [20200514], [20200515], [20200518], [20200519], [20200520], [20200521], [20200522], [20200526], [20200527], [20200528], [20200529], [20200601], [20200602], [20200603], [20200604], [20200605], [20200608], [20200609], [20200610], [20200611], [20200612], [20200615], [20200616], [20200617], [20200618], [20200619], [20200622], [20200623], [20200624], [20200625], [20200626], [20200629], [20200630], [20200701], [20200702], [20200706], [20200707], [20200708], [20200709], [20200710], [20200713], [20200714], [20200715], [20200716], [20200717], [20200720], [20200721], [20200722], [20200723], [20200724], [20200727], [20200728], [20200729], [20200730], [20200731], [20200803], [20200804], [20200805], [20200806], [20200807], [20200810], [20200811], [20200812], [20200813], [20200814], [20200817], [20200818], [20200819], [20200820], [20200821], [20200824], [20200825], [20200826], [20200827], [20200828], [20200831], [20200901], [20200902], [20200903], [20200904], [20200908], [20200909], [20200910], [20200911], [20200914], [20200915], [20200916], [20200917], [20200918], [20200921], [20200922], [20200923], [20200924], [20200925], [20200928], [20200929], [20200930], [20201001], [20201002], [20201005], [20201006], [20201007], [20201008], [20201009], [20201012], [20201013], [20201014], [20201015], [20201016], [20201019], [20201020], [20201021], [20201022], [20201023], [20201026], [20201027], [20201028], [20201029], [20201030], [20201102], [20201103], [20201104], [20201105], [20201106], [20201109], [20201110], [20201111], [20201112], [20201113], [20201116], [20201117], [20201118], [20201119], [20201120], [20201123], [20201124], [20201125], [20201127], [20201130], [20201201], [20201202], [20201203], [20201204], [20201207], [20201208], [20201209], [20201210], [20201211], [20201214], [20201215], [20201216], [20201217], [20201218], [20201221], [20201222], [20201223], [20201224], [20201228], [20201229], [20201230], [20201231], [20210104], [20210105], [20210106], [20210107], [20210108], [20210111], [20210112], [20210113], [20210114], [20210115], [20210119], [20210120], [20210121], [20210122], [20210125], [20210126], [20210127], [20210128], [20210129], [20210201], [20210202], [20210203], [20210204], [20210205], [20210208], [20210209], [20210210], [20210211], [20210212], [20210216], [20210217], [20210218], [20210219], [20210222], [20210223], [20210224], [20210225], [20210226], [20210301], [20210302], [20210303], [20210304], [20210305], [20210308], [20210309], [20210310], [20210311], [20210312], [20210315], [20210316], [20210317], [20210318], [20210319], [20210322], [20210323], [20210324], [20210325], [20210326], [20210329], [20210330], [20210331], [20210401], [20210405], [20210406], [20210407], [20210408], [20210409], [20210412], [20210413], [20210414], [20210415], [20210416], [20210419], [20210420], [20210421], [20210422], [20210423], [20210426], [20210427], [20210428], [20210429], [20210430], [20210503], [20210504], [20210505], [20210506], [20210507], [20210510], [20210511], [20210512], [20210513], [20210514]]\n",
            "[184.22000122070312, 185.00999450683594, 187.4199981689453, 185.86000061035156, 185.49000549316406, 184.67999267578125, 184.33999633789062, 184.0800018310547, 185.52999877929688, 188.75, 191.25, 186.8699951171875, 181.9600067138672, 177.4199981689453, 176.85000610351562, 176.6999969482422, 175.38999938964844, 184.4499969482422, 171.13999938964844, 169.63999938964844, 172.11000061035156, 173.52999877929688, 173.7100067138672, 175.92999267578125, 176.42999267578125, 183.05999755859375, 185.3000030517578, 186.2100067138672, 189.25, 190.4199981689453, 189.02999877929688, 186.6199951171875, 187.75999450683594, 186.5, 180.4199981689453, 176.67999267578125, 177.75, 177.24000549316406, 173.2899932861328, 169.44000244140625, 172.02000427246094, 172.7899932861328, 171.6699981689453, 169.0800018310547, 166.88999938964844, 169.0500030517578, 166.13999938964844, 168.07000732421875, 166.72999572753906, 165.0800018310547, 164.6999969482422, 160.97000122070312, 161.82000732421875, 164.52000427246094, 162.60000610351562, 165.32000732421875, 171.10000610351562, 170.97999572753906, 169.35000610351562, 174.6199951171875, 179.4199981689453, 180.1300048828125, 180.1300048828125, 182.94000244140625, 185.2899932861328, 182.75999450683594, 184.91000366210938, 184.7100067138672, 184.0399932861328, 180.47999572753906, 182.2899932861328, 181.82000732421875, 180.00999450683594, 178.33999633789062, 178.82000732421875, 183.8699951171875, 185.88999938964844, 185.4199981689453, 182.3000030517578, 196.6300048828125, 195.07000732421875, 195.80999755859375, 201.19000244140625, 198.4499969482422, 199.97000122070312, 197.11000061035156, 197.60000610351562, 200.8000030517578, 203.94000244140625, 204.3800048828125, 206.07000732421875, 202.55999755859375, 192.50999450683594, 194.80999755859375, 197.08999633789062, 198.8000030517578, 198.64999389648438, 196.22000122070312, 193.27000427246094, 192.25999450683594, 195.0, 194.1300048828125, 196.69000244140625, 192.39999389648438, 193.64999389648438, 188.32000732421875, 185.69000244140625, 187.5500030517578, 188.0500030517578, 189.67999267578125, 186.52999877929688, 186.2899932861328, 189.9600067138672, 185.97999572753906, 183.64999389648438, 186.3699951171875, 187.72000122070312, 194.22999572753906, 191.6300048828125, 194.16000366210938, 192.5500030517578, 201.25, 202.35000610351562, 204.17999267578125, 204.49000549316406, 209.49000549316406, 213.19000244140625, 214.19000244140625, 216.74000549316406, 218.27999877929688, 212.5500030517578, 211.22999572753906, 213.5, 210.3800048828125, 212.8699951171875, 211.52999877929688, 218.05999755859375, 215.5500030517578, 213.2100067138672, 216.52000427246094, 213.49000549316406, 214.17999267578125, 222.52000427246094, 223.89999389648438, 222.52000427246094, 221.32000732421875, 211.6999969482422, 209.9600067138672, 201.47999572753906, 202.6999969482422, 193.6999969482422, 205.08999633789062, 194.1300048828125, 198.36000061035156, 202.3000030517578, 202.9499969482422, 197.67999267578125, 195.92999267578125, 182.52000427246094, 178.92999267578125, 177.5399932861328, 193.5500030517578, 193.72999572753906, 192.02999877929688, 199.27000427246094, 206.52999877929688, 210.9199981689453, 215.22999572753906, 212.5399932861328, 210.0, 216.17999267578125, 219.89999389648438, 217.25999450683594, 211.38999938964844, 216.55999755859375, 219.52999877929688, 222.57000732421875, 226.77999877929688, 239.3000030517578, 241.69000244140625, 233.25, 231.8699951171875, 223.22999572753906, 223.61000061035156, 229.85000610351562, 224.2100067138672, 229.7100067138672, 222.44000244140625, 216.22999572753906, 211.97999572753906, 212.5, 219.5, 221.50999450683594, 224.74000549316406, 231.32000732421875, 235.47999572753906, 236.80999755859375, 236.14999389648438, 246.7100067138672, 242.3300018310547, 243.8800048828125, 231.52999877929688, 233.61000061035156, 234.77999877929688, 237.61000061035156, 227.14999389648438, 198.39999389648438, 206.77999877929688, 217.32000732421875, 213.50999450683594, 212.10000610351562, 215.6199951171875, 218.2899932861328, 216.47999572753906, 217.0, 217.99000549316406, 211.22000122070312, 210.7899932861328, 217.38999938964844, 218.92999267578125, 217.8300018310547, 211.99000549316406, 204.52000427246094, 197.13999938964844, 189.25, 192.33999633789062, 188.99000549316406, 182.39999389648438, 194.14999389648438, 188.38999938964844, 192.2899932861328, 197.1300048828125, 196.02999877929688, 196.24000549316406, 191.99000549316406, 195.32000732421875, 190.47999572753906, 193.02999877929688, 189.52000427246094, 180.50999450683594, 180.2100067138672, 181.25999450683594, 181.25999450683594, 179.3300018310547, 182.52000427246094, 174.35000610351562, 179.02999877929688, 177.27999877929688, 176.27000427246094, 173.88999938964844, 173.86000061035156, 173.10000610351562, 179.02999877929688, 177.50999450683594, 177.61000061035156, 182.61000061035156, 178.55999755859375, 179.33999633789062, 178.89999389648438, 175.92999267578125, 178.4199981689453, 181.66000366210938, 189.44000244140625, 194.4499969482422, 190.92999267578125, 186.08999633789062, 187.0, 187.8000030517578, 193.32000732421875, 195.3699951171875, 192.14999389648438, 194.44000244140625, 179.4600067138672, 181.72000122070312, 187.67999267578125, 183.13999938964844, 184.19000244140625, 185.47999572753906, 184.97999572753906, 185.5399932861328, 191.58999633789062, 191.3000030517578, 184.47000122070312, 179.92999267578125, 182.5, 182.25999450683594, 180.5800018310547, 178.88999938964844, 179.1300048828125, 178.52999877929688, 183.8000030517578, 179.69000244140625, 180.0399932861328, 179.3000030517578, 180.25999450683594, 181.08999633789062, 183.77000427246094, 187.63999938964844, 184.32000732421875, 183.38999938964844, 184.58999633789062, 182.25999450683594, 184.42999267578125, 185.0500030517578, 185.52000427246094, 192.3300018310547, 191.72999572753906, 192.39999389648438, 195.0399932861328, 202.8699951171875, 205.44000244140625, 201.16000366210938, 204.61000061035156, 202.50999450683594, 198.0500030517578, 199.66000366210938, 193.99000549316406, 194.38999938964844, 191.8699951171875, 186.97999572753906, 187.97000122070312, 190.69000244140625, 188.4600067138672, 185.5, 188.38999938964844, 191.07000732421875, 191.10000610351562, 189.97999572753906, 188.24000549316406, 190.3300018310547, 194.4199981689453, 195.99000549316406, 226.85000610351562, 231.89999389648438, 230.0399932861328, 230.25, 229.4499969482422, 223.99000549316406, 225.16000366210938, 223.89999389648438, 222.97999572753906, 226.69000244140625, 227.67999267578125, 222.92999267578125, 224.38999938964844, 224.05999755859375, 218.36000061035156, 213.85000610351562, 218.11000061035156, 215.3300018310547, 217.27999877929688, 215.24000549316406, 212.88999938964844, 214.75, 209.22999572753906, 212.91000366210938, 208.22000122070312, 214.57000732421875, 213.2100067138672, 217.63999938964844, 218.8000030517578, 218.47999572753906, 216.5, 216.4199981689453, 214.72999572753906, 214.4499969482422, 218.35000610351562, 222.66000366210938, 224.02999877929688, 223.02000427246094, 220.57000732421875, 222.16000366210938, 220.07000732421875, 225.61000061035156, 225.6199951171875, 221.30999755859375, 228.35000610351562, 229.32000732421875, 229.52999877929688, 227.05999755859375, 225.0500030517578, 225.0500030517578, 219.5, 218.3699951171875, 215.36000061035156, 218.38999938964844, 216.00999450683594, 216.92999267578125, 217.47000122070312, 226.1699981689453, 228.2899932861328, 226.00999450683594, 223.0399932861328, 217.0500030517578, 220.00999450683594, 237.32000732421875, 236.08999633789062, 233.3000030517578, 232.08999633789062, 230.80999755859375, 234.97000122070312, 233.99000549316406, 236.55999755859375, 234.3800048828125, 234.05999755859375, 232.75, 232.44000244140625, 233.19000244140625, 237.4199981689453, 241.5500030517578, 241.1699981689453, 240.35000610351562, 239.4499969482422, 243.10000610351562, 241.1999969482422, 245.74000549316406, 243.9199981689453, 246.11000061035156, 247.1199951171875, 246.22000122070312, 248.27000427246094, 247.8800048828125, 246.22000122070312, 251.3800048828125, 259.1400146484375, 257.0899963378906, 255.6699981689453, 255.6300048828125, 260.239990234375, 261.2699890136719, 258.0, 258.75, 261.67999267578125, 260.80999755859375, 257.4700012207031, 254.8000030517578, 252.4600067138672, 249.6699981689453, 256.5899963378906, 254.32000732421875, 252.00999450683594, 250.60000610351562, 255.9199981689453, 260.4700012207031, 258.510009765625, 259.05999755859375, 250.9600067138672, 244.99000549316406, 244.22000122070312, 242.36000061035156, 244.17999267578125, 243.94000244140625, 247.49000549316406, 244.85000610351562, 240.0, 233.77999877929688, 234.30999755859375, 228.49000549316406, 222.9199981689453, 238.24000549316406, 232.88999938964844, 232.13999938964844, 232.4199981689453, 234.3300018310547, 237.55999755859375, 232.05999755859375, 227.35000610351562, 226.30999755859375, 226.47000122070312, 226.60000610351562, 222.9499969482422, 220.60000610351562, 225.22999572753906, 229.7100067138672, 233.77999877929688, 238.02999877929688, 239.8800048828125, 243.6199951171875, 243.39999389648438, 247.11000061035156, 251.27000427246094, 252.0500030517578, 250.3300018310547, 252.49000549316406, 253.9600067138672, 253.3699951171875, 253.27000427246094, 247.77000427246094, 250.69000244140625, 251.75999450683594, 251.25, 249.19000244140625, 253.86000061035156, 260.3999938964844, 257.989990234375, 261.5, 256.9200134277344, 258.6199951171875, 248.6300048828125, 248.30999755859375, 245.17999267578125, 250.8699951171875, 257.30999755859375, 258.4800109863281, 259.1499938964844, 268.4599914550781, 266.3800048828125, 266.3500061035156, 265.3399963378906, 267.94000244140625, 272.7300109863281, 271.8999938964844, 268.92999267578125, 270.4800109863281, 272.1199951171875, 270.19000244140625, 268.1099853515625, 273.4599914550781, 283.989990234375, 276.0400085449219, 260.3500061035156, 272.760009765625, 265.5, 265.0, 259.9800109863281, 266.8900146484375, 262.2200012207031, 260.2300109863281, 261.95001220703125, 257.2099914550781, 258.70001220703125, 269.4700012207031, 269.239990234375, 265.0899963378906, 269.75, 266.4100036621094, 265.94000244140625, 265.4200134277344, 259.8699951171875, 259.3599853515625, 263.25, 264.2699890136719, 265.739990234375, 273.1099853515625, 275.5899963378906, 273.7900085449219, 273.8800048828125, 274.19000244140625, 271.239990234375, 274.1300048828125, 275.1000061035156, 265.739990234375, 261.82000732421875, 257.8900146484375, 256.4100036621094, 257.2799987792969, 253.38999938964844, 257.75, 256.0199890136719, 260.30999755859375, 265.29998779296875, 266.489990234375, 261.6099853515625, 263.32000732421875, 259.0299987792969, 259.0799865722656, 255.47999572753906, 258.95001220703125, 261.1400146484375, 264.7699890136719, 269.8500061035156, 272.8699951171875, 267.7200012207031, 272.3399963378906, 267.3999938964844, 259.4200134277344, 260.32000732421875, 263.54998779296875, 268.8999938964844, 268.7799987792969, 274.70001220703125, 254.80999755859375, 249.74000549316406, 253.80999755859375, 248.22999572753906, 252.5500030517578, 258.04998779296875, 255.72000122070312, 257.7300109863281, 258.67999267578125, 260.1600036621094, 263.6300048828125, 264.510009765625, 268.3299865722656, 266.55999755859375, 264.1199951171875, 269.8999938964844, 267.6300048828125, 268.8599853515625, 262.9599914550781, 261.79998779296875, 261.739990234375, 267.2900085449219, 265.5299987792969, 266.8299865722656, 269.20001220703125, 266.8800048828125, 265.70001220703125, 267.1700134277344, 267.8299865722656, 276.8699951171875, 281.07000732421875, 274.7799987792969, 271.6700134277344, 275.7900085449219, 273.989990234375, 278.05999755859375, 281.760009765625, 278.1600036621094, 273.44000244140625, 273.3599853515625, 270.6099853515625, 272.0899963378906, 277.57000732421875, 277.54998779296875, 277.69000244140625, 282.1000061035156, 283.7300109863281, 284.0299987792969, 285.8800048828125, 290.5899963378906, 291.5299987792969, 292.3299865722656, 299.6600036621094, 307.54998779296875, 306.57000732421875, 306.8699951171875, 308.69000244140625, 304.1099853515625, 305.2300109863281, 303.4800109863281, 301.05999755859375, 298.94000244140625, 303.3999938964844, 312.010009765625, 306.1000061035156, 302.4100036621094, 301.2200012207031, 305.57000732421875, 304.2099914550781, 300.989990234375, 300.75, 296.9100036621094, 295.739990234375, 297.260009765625, 296.69000244140625, 293.9700012207031, 291.3399963378906, 286.4700012207031, 284.82000732421875, 285.57000732421875, 287.0899963378906, 284.57000732421875, 289.7300109863281, 290.010009765625, 286.2099914550781, 280.92999267578125, 281.5799865722656, 283.9800109863281, 280.9800109863281, 288.79998779296875, 293.6400146484375, 294.1000061035156, 295.8599853515625, 299.7099914550781, 300.3599853515625, 299.6400146484375, 298.8599853515625, 297.9200134277344, 296.05999755859375, 304.1700134277344, 312.0299987792969, 312.05999755859375, 316.3399963378906, 311.489990234375, 314.1300048828125, 312.6499938964844, 318.1199951171875, 316.010009765625, 312.6400146484375, 320.95001220703125, 320.510009765625, 314.760009765625, 319.0400085449219, 310.0299987792969, 303.2300109863281, 298.2300109863281, 305.1700134277344, 310.8900146484375, 310.70001220703125, 306.3999938964844, 310.489990234375, 310.7699890136719, 328.92999267578125, 326.44000244140625, 332.5400085449219, 326.760009765625, 332.2099914550781, 363.3900146484375, 358.1600036621094, 362.70001220703125, 361.0799865722656, 364.0299987792969, 359.0, 358.739990234375, 358.8900146484375, 356.17999267578125, 343.55999755859375, 350.30999755859375, 354.3800048828125, 349.5299987792969, 356.2200012207031, 367.3999938964844, 369.1700134277344, 366.17999267578125, 364.94000244140625, 362.57000732421875, 368.9200134277344, 372.30999755859375, 376.6400146484375, 381.3699951171875, 386.7099914550781, 393.6199951171875, 392.29998779296875, 384.6600036621094, 385.9599914550781, 384.489990234375, 386.95001220703125, 384.8900146484375, 387.7799987792969, 382.19000244140625, 381.25, 384.239990234375, 388.9700012207031, 387.6499938964844, 395.9599914550781, 395.19000244140625, 402.20001220703125, 402.9200134277344, 399.20001220703125, 404.3900146484375, 398.0799865722656, 393.3699951171875, 398.7900085449219, 397.9700012207031, 396.44000244140625, 393.6300048828125, 398.0299987792969, 401.9200134277344, 401.010009765625, 397.6600036621094, 390.9800109863281, 397.5400085449219, 395.8699951171875, 395.79998779296875, 399.6099853515625, 407.04998779296875, 404.5400085449219, 399.8699951171875, 387.6000061035156, 386.2799987792969, 394.42999267578125, 384.20001220703125, 403.010009765625, 358.69000244140625, 346.1499938964844, 347.95001220703125, 346.45001220703125, 354.5899963378906, 361.0799865722656, 360.8699951171875, 361.7900085449219, 349.25, 357.20001220703125, 357.3500061035156, 353.6499938964844, 347.3800048828125, 349.79998779296875, 346.760009765625, 351.7799987792969, 358.32000732421875, 359.79998779296875, 360.1300048828125, 362.1000061035156, 359.7799987792969, 363.8999938964844, 372.3699951171875, 372.1600036621094, 372.05999755859375, 370.5299987792969, 368.82000732421875, 370.6400146484375, 371.510009765625, 373.739990234375, 375.0400085449219, 378.7699890136719, 373.2300109863281, 368.9700012207031, 360.6199951171875, 351.8500061035156, 354.7099914550781, 343.4100036621094, 338.4700012207031, 338.2900085449219, 336.3699951171875, 342.989990234375, 341.9599914550781, 333.6199951171875, 323.0, 317.760009765625, 327.07000732421875, 331.80999755859375, 317.1099853515625, 311.7300109863281, 315.9100036621094, 316.0799865722656, 323.67999267578125, 324.9100036621094, 330.8699951171875, 329.32000732421875, 324.5799865722656, 337.1499938964844, 303.8299865722656, 296.5799865722656, 300.3800048828125, 304.1300048828125, 307.8900146484375, 308.010009765625, 310.04998779296875, 297.3800048828125, 292.7099914550781, 288.32000732421875, 292.239990234375, 302.8599853515625, 304.6400146484375, 297.6199951171875, 295.19000244140625, 297.70001220703125, 296.760009765625, 301.19000244140625, 305.010009765625, 304.9100036621094, 312.239990234375, 310.82000732421875, 310.1600036621094, 313.7799987792969, 312.54998779296875, 308.8399963378906, 307.19000244140625, 306.7799987792969, 323.57000732421875, 329.6700134277344, 327.5, 332.4100036621094, 335.20001220703125, 325.9100036621094, 326.2699890136719, 327.6199951171875, 325.6199951171875, 334.3800048828125, 327.0, 324.20001220703125, 327.239990234375, 324.1600036621094, 327.44000244140625, 325.69000244140625, 324.57000732421875, 324.7799987792969, 332.3900146484375, 332.8500061035156, 337.489990234375, 333.54998779296875, 323.80999755859375, 329.9700012207031, 327.9200134277344, 346.20001220703125, 355.32000732421875, 354.44000244140625, 355.8999938964844, 352.45001220703125, 358.6600036621094, 359.760009765625, 360.8399963378906, 358.1400146484375, 358.6099853515625, 324.010009765625, 320.4100036621094, 320.0, 322.510009765625, 312.989990234375, 307.05999755859375, 313.6499938964844, 312.32000732421875, 313.8900146484375, 311.45001220703125, 316.79998779296875, 318.3299865722656, 319.32000732421875, 326.2799987792969, 333.2099914550781, 333.6300048828125, 334.5299987792969, 335.1300048828125, 335.7799987792969, 332.9100036621094, 331.5899963378906, 334.0199890136719, 341.8299865722656, 343.17999267578125, 340.0199890136719, 339.0400085449219, 342.3800048828125, 339.0, 345.95001220703125, 346.3800048828125, 342.3399963378906, 329.75, 331.3299865722656, 330.5199890136719, 331.19000244140625, 323.8900146484375, 327.760009765625, 324.0, 325.0, 331.32000732421875, 324.5, 323.6300048828125, 328.2099914550781, 321.92999267578125, 323.2099914550781, 321.82000732421875, 322.44000244140625, 317.4599914550781, 318.4100036621094, 322.739990234375, 322.20001220703125, 316.9800109863281, 322.70001220703125, 315.3699951171875, 311.3900146484375, 306.45001220703125, 308.30999755859375, 305.9700012207031, 302.8599853515625, 303.6400146484375, 306.2099914550781, 315.3299865722656, 312.9700012207031, 313.17999267578125, 287.05999755859375, 289.9700012207031, 295.5899963378906, 294.1199951171875, 299.07000732421875, 305.4599914550781, 305.7200012207031, 302.80999755859375, 296.5199890136719, 296.6400146484375, 299.8599853515625, 305.1099853515625, 312.010009765625, 311.510009765625, 316.4800109863281, 327.82000732421875, 323.04998779296875, 324.92999267578125, 326.5400085449219, 330.5400085449219, 332.6300048828125, 335.6400146484375, 335.0400085449219, 333.57000732421875, 338.6400146484375, 326.0, 326.30999755859375, 316.5, 316.92999267578125, 312.6300048828125, 306.6400146484375, 312.5, 305.8399963378906, 307.3599853515625, 307.32000732421875, 306.07000732421875, 295.05999755859375, 298.8800048828125, 297.7300109863281, 299.8999938964844, 306.5400085449219, 306.2900085449219, 303.0299987792969, 309.0899963378906, 312.0400085449219, 310.29998779296875, 310.3500061035156, 308.5199890136719, 302.19000244140625, 295.2900085449219, 298.4200134277344, 300.4599914550781, 296.92999267578125, 291.4100036621094, 294.739990234375, 293.2699890136719, 286.95001220703125, 290.739990234375, 289.44000244140625, 297.25, 310.32000732421875, 312.3900146484375, 309.6600036621094, 306.75, 303.9100036621094, 311.7799987792969, 354.5299987792969, 364.4700012207031, 363.54998779296875, 364.75, 373.8900146484375, 374.2799987792969, 370.55999755859375, 373.0, 375.1400146484375, 377.1700134277344, 381.8299865722656, 375.42999267578125, 373.3699951171875, 379.0, 383.6600036621094, 380.1400146484375, 378.5899963378906, 385.3699951171875, 384.79998779296875, 380.1600036621094, 385.6600036621094, 384.6099853515625, 382.7200012207031, 387.8299865722656, 380.0899963378906, 378.55999755859375, 369.510009765625, 366.3699951171875, 374.239990234375, 370.5799865722656, 373.3500061035156, 371.9200134277344, 375.1400146484375, 373.239990234375, 378.489990234375, 375.1099853515625, 374.0899963378906, 370.9599914550781, 367.3500061035156, 370.55999755859375, 374.5899963378906, 372.1000061035156, 370.260009765625, 372.25, 377.0400085449219, 374.4100036621094, 381.20001220703125, 383.5400085449219, 382.6499938964844, 382.3599853515625, 385.1099853515625, 383.45001220703125, 386.0400085449219, 375.55999755859375, 389.510009765625, 391.17999267578125, 389.79998779296875, 389.989990234375, 445.1000061035156, 438.55999755859375, 429.30999755859375, 429.3699951171875, 421.7799987792969, 422.8699951171875, 423.0400085449219, 421.19000244140625, 419.1000061035156, 426.8800048828125, 433.69000244140625, 432.8500061035156, 431.0199890136719, 426.8699951171875, 432.2799987792969, 426.0, 425.239990234375, 421.7099914550781, 423.8599853515625, 431.6300048828125, 427.6300048828125, 425.4700012207031, 431.4200134277344, 426.57000732421875, 429.2300109863281, 430.9200134277344, 430.989990234375, 436.5899963378906, 430.7799987792969, 426.95001220703125, 423.5, 425.4800109863281, 430.7699890136719, 432.9700012207031, 429.9200134277344, 423.6700134277344, 427.260009765625, 427.80999755859375, 439.3900146484375, 434.9200134277344, 436.2900085449219, 445.989990234375, 440.8399963378906, 440.1000061035156, 438.1000061035156, 429.8599853515625, 434.0899963378906, 437.3900146484375, 437.7099914550781, 436.0400085449219, 436.7200012207031, 429.70001220703125, 434.3900146484375, 443.510009765625, 455.57000732421875, 465.57000732421875, 461.19000244140625, 475.4800109863281, 483.010009765625, 488.1000061035156, 488.0, 488.2699890136719, 482.17999267578125, 529.4199829101562, 531.4099731445312, 526.030029296875, 529.0, 536.760009765625, 536.1500244140625, 535.030029296875, 531.9000244140625, 537.010009765625, 529.4600219726562, 522.6199951171875, 524.0, 527.4600219726562, 525.9099731445312, 529.6599731445312, 531.52001953125, 535.219970703125, 535.02001953125, 532.9199829101562, 515.780029296875, 494.4700012207031, 463.3699951171875, 466.3699951171875, 500.7699890136719, 518.3699951171875, 518.010009765625, 512.8900146484375, 496.5400085449219, 510.54998779296875, 504.7200012207031, 499.0, 517.5399780273438, 516.8900146484375, 522.239990234375, 529.4400024414062, 521.3800048828125, 522.3699951171875, 527.3900146484375, 538.8699951171875, 540.260009765625, 548.3900146484375, 538.4000244140625, 536.0700073242188, 533.75, 524.25, 504.05999755859375, 496.07000732421875, 511.8900146484375, 520.719970703125, 532.5399780273438, 543.6799926757812, 537.47998046875, 541.9400024414062, 533.1599731445312, 539.7999877929688, 550.1900024414062, 548.9000244140625, 544.8300170898438, 562.4400024414062, 570.760009765625, 573.1500244140625, 560.8800048828125, 555.77001953125, 563.9099731445312, 599.030029296875, 608.6099853515625, 611.010009765625, 617.0999755859375, 626.5499877929688, 625.9000244140625, 628.3499755859375, 625.3099975585938, 640.9500122070312, 655.6500244140625, 659.3699951171875, 655.489990234375, 659.6799926757812, 673.25, 665.5999755859375, 642.3499755859375, 647.8099975585938, 643.2999877929688, 663.5399780273438, 661.27001953125, 668.4500122070312, 678.989990234375, 671.1500244140625, 675.3400268554688, 673.260009765625, 664.7999877929688, 679.0599975585938, 676.010009765625, 666.25, 672.6400146484375, 669.8300170898438, 677.3300170898438, 664.7899780273438, 662.3200073242188, 640.1500244140625, 657.9099731445312, 658.6400146484375, 675.77001953125, 670.6500244140625, 664.1400146484375, 664.510009765625, 663.1500244140625, 663.7000122070312, 662.7899780273438, 675.2000122070312, 693.969970703125, 689.0700073242188, 675.8900146484375, 636.989990234375, 633.7899780273438, 632.6500244140625, 607.9400024414062, 607.0499877929688, 617.739990234375, 617.8900146484375, 581.8099975585938, 593.0, 570.1799926757812, 574.47998046875, 571.77001953125, 575.02001953125, 596.3800048828125, 596.530029296875, 601.25, 583.3499755859375, 635.3499755859375, 587.0, 574.8099975585938, 552.0999755859375, 531.0700073242188, 536.260009765625, 502.1300048828125, 488.1000061035156, 482.07000732421875, 490.4800109863281, 503.82000732421875, 507.0799865722656, 521.0999755859375, 534.0999755859375, 525.0, 534.9000244140625, 559.5, 552.9400024414062, 554.0399780273438, 555.1500244140625, 555.22998046875, 552.52001953125, 579.0399780273438, 580.2100219726562, 577.489990234375, 575.1400146484375, 562.7999877929688, 560.260009765625, 559.469970703125, 558.9299926757812, 569.6099853515625, 573.3699951171875, 577.02001953125, 574.27001953125, 559.4400024414062, 552.0800170898438, 553.97998046875, 560.47998046875, 569.6300048828125, 582.9500122070312, 579.8699951171875, 593.8599853515625, 598.6900024414062, 593.6400146484375, 598.5, 593.1900024414062, 586.1400146484375, 602.0800170898438, 591.4299926757812, 594.5999755859375, 595.9299926757812, 603.1699829101562, 614.8200073242188, 620.75, 625.8900146484375, 635.3499755859375, 627.9000244140625, 632.989990234375, 631.0, 620.5, 626.2000122070312, 616.8800048828125, 606.5700073242188, 602.0, 659.5900268554688, 683.8499755859375, 671.3200073242188, 670.9000244140625, 659.0900268554688, 673.9500122070312, 679.75, 703.0700073242188, 713.22998046875, 717.9299926757812, 709.9199829101562, 710.6599731445312, 695.27001953125, 697.4500122070312, 698.52001953125, 702.7999877929688, 696.75, 704.2000122070312, 708.3499755859375, 714.9099731445312, 712.239990234375, 722.7899780273438, 719.4400024414062, 728.239990234375, 725.5399780273438, 726.72998046875, 723.739990234375, 726.6400146484375, 727.6500244140625, 717.9099731445312, 715.239990234375, 719.2999877929688, 714.260009765625, 717.510009765625, 706.3900146484375, 714.010009765625, 715.8200073242188, 710.5999755859375, 722.0800170898438, 698.9600219726562, 691.3599853515625, 707.9500122070312, 715.5999755859375, 715.6199951171875, 725.6799926757812, 728.0999755859375, 737.6099853515625, 736.5700073242188, 745.8099975585938, 753.780029296875, 748.2100219726562, 742.6300048828125, 741.2000122070312, 735.4400024414062, 736.0700073242188, 739.9500122070312, 745.719970703125, 744.4299926757812, 744.8599853515625, 739.6099853515625, 735.5900268554688, 736.6699829101562, 752.6099853515625, 758.8099975585938, 767.739990234375, 760.5800170898438, 754.6400146484375, 760.77001953125, 765.97998046875, 766.5599975585938, 768.3099975585938, 768.5599975585938, 771.239990234375, 772.5599975585938, 768.489990234375, 764.0399780273438, 764.6300048828125, 764.4600219726562, 757.3099975585938, 759.47998046875, 762.4500122070312, 757.25, 759.219970703125, 769.0, 771.2899780273438, 767.5800170898438, 769.1599731445312, 770.6199951171875, 772.4400024414062, 788.8699951171875, 784.47998046875, 784.0599975585938, 760.1400146484375, 771.489990234375, 761.010009765625, 761.0900268554688, 769.6900024414062, 778.52001953125, 775.0999755859375, 780.219970703125, 789.739990234375, 804.7000122070312, 805.75, 799.1599731445312, 816.1099853515625, 828.719970703125, 829.0499877929688, 837.3099975585938, 836.739990234375, 834.030029296875, 844.3599853515625, 841.6599731445312, 839.4299926757812, 841.7100219726562, 831.0, 834.0900268554688, 829.280029296875, 822.9600219726562, 812.9500122070312, 817.6500244140625, 817.6900024414062, 810.3200073242188, 818.989990234375, 838.0900268554688, 835.1799926757812, 822.5900268554688, 818.3599853515625, 776.3200073242188, 789.8200073242188, 785.4099731445312, 765.5599975585938, 767.030029296875, 755.0499877929688, 784.9299926757812, 787.75, 771.8800048828125, 742.3800048828125, 739.010009765625, 719.0700073242188, 743.239990234375, 746.489990234375, 756.4000244140625, 760.1599731445312, 780.0, 785.3300170898438, 780.1199951171875, 780.3699951171875, 766.77001953125, 762.52001953125, 750.5700073242188, 743.6500244140625, 740.3400268554688, 759.3599853515625, 764.719970703125, 770.4199829101562, 767.3300170898438, 768.6599731445312, 760.1199951171875, 774.3400268554688, 768.8200073242188, 761.0, 757.77001953125, 766.0, 771.219970703125, 770.5999755859375, 766.3400268554688, 760.5900268554688, 771.4000244140625, 772.1300048828125, 765.1500244140625, 749.8699951171875, 753.6699829101562, 757.1799926757812, 780.4500122070312, 795.989990234375, 796.9199829101562, 795.9000244140625, 799.02001953125, 813.6400146484375, 817.1400146484375, 809.719970703125, 807.47998046875, 809.0399780273438, 808.3300170898438, 817.8800048828125, 822.4400024414062, 836.52001953125, 839.1500244140625, 835.77001953125, 830.3800048828125, 823.47998046875, 832.3499755859375, 839.9500122070312, 810.2000122070312, 807.6400146484375, 812.5, 819.7100219726562, 821.3599853515625, 827.4600219726562, 836.530029296875, 836.3900146484375, 842.7000122070312, 844.1400146484375, 845.0700073242188, 856.4400024414062, 855.6099853515625, 852.1900024414062, 845.239990234375, 848.6400146484375, 845.0399780273438, 853.0800170898438, 848.9099731445312, 849.8800048828125, 846.6099853515625, 846.02001953125, 850.5, 853.0, 852.4600219726562, 854.5900268554688, 852.530029296875, 852.969970703125, 853.4199829101562, 852.3099975585938, 856.969970703125, 843.2000122070312, 848.0599975585938, 847.3800048828125, 845.6099853515625, 846.8200073242188, 856.0, 874.3200073242188, 876.3400268554688, 886.5399780273438, 891.510009765625, 906.8300170898438, 909.280029296875, 898.280029296875, 894.8800048828125, 907.0399780273438, 902.3599853515625, 896.22998046875, 884.6699829101562, 901.989990234375, 903.780029296875, 899.2000122070312, 902.0599975585938, 898.530029296875, 907.4099731445312, 907.6199951171875, 909.2899780273438, 918.3800048828125, 924.989990234375, 948.22998046875, 946.9400024414062, 941.030029296875, 937.530029296875, 934.1500244140625, 949.0399780273438, 952.8200073242188, 948.9500122070312, 947.6199951171875, 961.3499755859375, 957.969970703125, 966.0700073242188, 944.760009765625, 958.489990234375, 959.8400268554688, 970.6699829101562, 971.5399780273438, 980.3499755859375, 993.3800048828125, 995.780029296875, 996.7000122070312, 994.6199951171875, 995.9500122070312, 1006.72998046875, 1011.3400268554688, 1003.0, 1010.0700073242188, 1010.27001953125, 978.3099975585938, 964.9099731445312, 980.7899780273438, 976.469970703125, 964.1699829101562, 987.7100219726562, 995.1699829101562, 992.5900268554688, 1002.22998046875, 1001.2999877929688, 1003.739990234375, 993.97998046875, 976.780029296875, 990.3300170898438, 975.9299926757812, 968.0, 953.6599731445312, 971.4000244140625, 965.1400146484375, 978.760009765625, 996.469970703125, 994.1300048828125, 1006.510009765625, 1000.6300048828125, 1001.8099975585938, 1010.0399780273438, 1024.449951171875, 1026.8699951171875, 1028.699951171875, 1025.6700439453125, 1038.949951171875, 1039.8699951171875, 1052.800048828125, 1046.0, 1020.0399780273438, 987.780029296875, 996.1900024414062, 995.8900146484375, 986.9199829101562, 987.5800170898438, 992.27001953125, 989.8400268554688, 982.010009765625, 956.9199829101562, 967.989990234375, 983.2999877929688, 982.739990234375, 978.1799926757812, 960.5700073242188, 958.469970703125, 953.2899780273438, 966.9000244140625, 958.0, 952.4500122070312, 945.260009765625, 946.02001953125, 954.0599975585938, 967.5900268554688, 980.5999755859375, 978.25, 965.27001953125, 967.7999877929688, 979.469970703125, 965.9000244140625, 977.9600219726562, 982.5800170898438, 999.5999755859375, 992.2100219726562, 986.7899780273438, 974.1900024414062, 969.8599853515625, 973.2100219726562, 964.6500244140625, 955.0999755859375, 939.7899780273438, 938.5999755859375, 950.8699951171875, 956.4000244140625, 961.3499755859375, 959.1900024414062, 957.0999755859375, 965.4500122070312, 980.8499755859375, 989.5800170898438, 990.989990234375, 987.2000122070312, 995.0, 1000.9299926757812, 1002.9400024414062, 1006.3400268554688, 1009.1300048828125, 997.0, 986.6099853515625, 982.9099731445312, 966.2999877929688, 975.9000244140625, 972.9099731445312, 972.4299926757812, 1100.949951171875, 1110.8499755859375, 1105.280029296875, 1103.6800537109375, 1094.219970703125, 1111.5999755859375, 1120.6600341796875, 1123.1700439453125, 1132.8800048828125, 1129.1300048828125, 1125.3499755859375, 1129.1700439453125, 1136.8399658203125, 1126.68994140625, 1137.2900390625, 1129.8800048828125, 1126.31005859375, 1139.489990234375, 1156.1600341796875, 1186.0, 1195.8299560546875, 1193.5999755859375, 1161.27001953125, 1176.75, 1162.3499755859375, 1133.949951171875, 1141.5699462890625, 1152.3499755859375, 1159.7900390625, 1162.0, 1168.9200439453125, 1165.0799560546875, 1164.1300048828125, 1174.260009765625, 1179.1400146484375, 1190.5799560546875, 1187.3800048828125, 1177.6199951171875, 1174.760009765625, 1168.3599853515625, 1176.760009765625, 1182.260009765625, 1186.0999755859375, 1169.469970703125, 1189.010009765625, 1204.199951171875, 1209.5899658203125, 1229.1400146484375, 1246.8699951171875, 1252.699951171875, 1254.3299560546875, 1276.6800537109375, 1305.199951171875, 1304.8599853515625, 1295.0, 1293.3199462890625, 1294.5799560546875, 1327.31005859375, 1362.5400390625, 1357.510009765625, 1377.949951171875, 1402.050048828125, 1417.6800537109375, 1437.8199462890625, 1450.8900146484375, 1390.0, 1429.949951171875, 1390.0, 1442.8399658203125, 1416.780029296875, 1350.5, 1339.5999755859375, 1386.22998046875, 1414.510009765625, 1451.050048828125, 1461.760009765625, 1448.68994140625, 1468.3499755859375, 1482.9200439453125, 1485.3399658203125, 1500.0, 1521.949951171875, 1511.97998046875, 1512.449951171875, 1493.449951171875, 1500.25, 1523.6099853515625, 1537.6400146484375, 1545.0, 1551.8599853515625, 1578.8900146484375, 1598.3900146484375, 1588.1800537109375, 1591.0, 1582.3199462890625, 1571.6800537109375, 1544.9300537109375, 1586.510009765625, 1581.8599853515625, 1544.9200439453125, 1495.56005859375, 1555.8599853515625, 1497.050048828125, 1431.4200439453125, 1447.3399658203125, 1371.989990234375, 1392.050048828125, 1410.5699462890625, 1451.75, 1405.22998046875, 1406.0799560546875, 1436.219970703125, 1427.050048828125, 1448.5, 1430.7900390625, 1441.5, 1503.8299560546875, 1527.8399658203125, 1556.9100341796875, 1527.489990234375, 1517.8599853515625, 1460.0899658203125, 1460.1700439453125, 1517.9599609375, 1572.6199951171875, 1566.1300048828125, 1582.260009765625, 1569.6800537109375, 1572.0799560546875, 1580.949951171875, 1600.1400146484375, 1592.3900146484375, 1608.0, 1609.0799560546875, 1602.9100341796875, 1601.5400390625, 1576.1199951171875, 1587.280029296875, 1581.760009765625, 1574.3699951171875, 1585.4599609375, 1581.4000244140625, 1601.8599853515625, 1603.0699462890625, 1610.1500244140625, 1612.8699951171875, 1624.8900146484375, 1629.6199951171875, 1641.5400390625, 1665.27001953125, 1696.3499755859375, 1695.75, 1689.300048828125, 1683.989990234375, 1689.1199951171875, 1698.75, 1704.8599853515625, 1723.8599853515625, 1715.969970703125, 1723.7900390625, 1734.780029296875, 1750.0799560546875, 1730.219970703125, 1715.6700439453125, 1663.1500244140625, 1691.0899658203125, 1660.510009765625, 1701.449951171875, 1699.800048828125, 1713.780029296875, 1693.9599609375, 1699.72998046875, 1710.6300048828125, 1739.02001953125, 1743.0699462890625, 1755.0, 1796.6199951171875, 1813.030029296875, 1822.489990234375, 1843.9300537109375, 1842.9200439453125, 1812.969970703125, 1813.699951171875, 1802.0, 1829.239990234375, 1863.6099853515625, 1808.0, 1817.27001953125, 1779.219970703125, 1777.43994140625, 1797.1700439453125, 1834.3299560546875, 1823.2900390625, 1847.75, 1862.47998046875, 1886.52001953125, 1898.52001953125, 1886.300048828125, 1896.199951171875, 1919.6500244140625, 1882.6199951171875, 1886.52001953125, 1882.219970703125, 1876.7099609375, 1883.4200439453125, 1904.9000244140625, 1902.9000244140625, 1905.3900146484375, 1927.6800537109375, 1932.8199462890625, 1998.0999755859375, 2002.3800048828125, 2012.7099609375, 2039.510009765625, 1994.8199462890625, 1958.31005859375, 1952.0699462890625, 1939.010009765625, 1987.1500244140625, 1990.0, 1989.8699951171875, 1970.18994140625, 1908.030029296875, 1941.050048828125, 1926.4200439453125, 1944.300048828125, 1915.010009765625, 1934.3599853515625, 1974.550048828125, 1974.8499755859375, 2012.97998046875, 2003.0, 2004.3599853515625, 1971.31005859375, 1952.760009765625, 1909.4200439453125, 1889.6500244140625, 1864.4200439453125, 1870.3199462890625, 1755.25, 1719.3599853515625, 1788.6099853515625, 1760.949951171875, 1819.9599609375, 1831.72998046875, 1770.719970703125, 1764.030029296875, 1789.300048828125, 1768.699951171875, 1664.199951171875, 1782.1700439453125, 1642.81005859375, 1538.8800048828125, 1530.4200439453125, 1598.010009765625, 1665.530029296875, 1665.530029296875, 1627.800048828125, 1642.81005859375, 1755.489990234375, 1754.9100341796875, 1712.4300537109375, 1636.8499755859375, 1631.1700439453125, 1599.010009765625, 1619.43994140625, 1593.4100341796875, 1512.2900390625, 1495.4599609375, 1516.72998046875, 1502.06005859375, 1581.3299560546875, 1581.4200439453125, 1677.75, 1673.5699462890625, 1690.1700439453125, 1772.3599853515625, 1668.4000244140625, 1699.18994140625, 1629.1300048828125, 1641.030029296875, 1643.239990234375, 1663.5400390625, 1658.3800048828125, 1591.9100341796875, 1520.9100341796875, 1551.47998046875, 1495.0799560546875, 1460.8299560546875, 1377.449951171875, 1343.9599609375, 1470.9000244140625, 1461.6400146484375, 1478.02001953125, 1501.969970703125, 1539.1300048828125, 1500.280029296875, 1575.3900146484375, 1629.510009765625, 1656.5799560546875, 1659.4200439453125, 1656.219970703125, 1640.56005859375, 1617.2099609375, 1674.56005859375, 1683.780029296875, 1693.219970703125, 1696.199951171875, 1632.1700439453125, 1640.02001953125, 1654.9300537109375, 1670.5699462890625, 1637.8900146484375, 1593.8800048828125, 1670.4300537109375, 1718.72998046875, 1626.22998046875, 1633.31005859375, 1658.81005859375, 1640.260009765625, 1614.3699951171875, 1588.219970703125, 1591.0, 1638.010009765625, 1640.0, 1622.6500244140625, 1607.949951171875, 1627.5799560546875, 1622.0999755859375, 1619.43994140625, 1631.56005859375, 1633.0, 1636.4000244140625, 1641.0899658203125, 1639.8299560546875, 1671.72998046875, 1696.1700439453125, 1692.4300537109375, 1668.949951171875, 1625.949951171875, 1620.800048828125, 1670.6199951171875, 1673.0999755859375, 1690.81005859375, 1686.219970703125, 1712.3599853515625, 1742.1500244140625, 1761.8499755859375, 1797.27001953125, 1819.260009765625, 1764.77001953125, 1774.260009765625, 1783.760009765625, 1765.699951171875, 1773.4200439453125, 1780.75, 1814.18994140625, 1813.97998046875, 1820.699951171875, 1818.8599853515625, 1837.280029296875, 1849.8599853515625, 1835.8399658203125, 1847.3299560546875, 1844.0699462890625, 1843.06005859375, 1844.8699951171875, 1863.0400390625, 1864.8199462890625, 1861.68994140625, 1887.31005859375, 1923.77001953125, 1901.75, 1902.25, 1950.6300048828125, 1938.4300537109375, 1926.52001953125, 1911.52001953125, 1900.8199462890625, 1962.4599609375, 1950.550048828125, 1921.0, 1917.77001953125, 1899.8699951171875, 1889.97998046875, 1822.6800537109375, 1840.1199951171875, 1871.1500244140625, 1907.5699462890625, 1869.0, 1858.969970703125, 1857.52001953125, 1859.6800537109375, 1815.47998046875, 1823.280029296875, 1836.4300537109375, 1819.18994140625, 1816.3199462890625, 1775.0699462890625, 1692.68994140625, 1729.56005859375, 1738.5, 1754.3599853515625, 1804.030029296875, 1860.6300048828125, 1863.699951171875, 1855.3199462890625, 1870.300048828125, 1869.6700439453125, 1886.030029296875, 1901.3699951171875, 1908.7900390625, 1918.18994140625, 1911.300048828125, 1913.9000244140625, 1878.27001953125, 1897.8299560546875, 1904.280029296875, 1893.6300048828125, 1922.18994140625, 1934.31005859375, 1939.0, 1942.9100341796875, 1952.3199462890625, 1988.300048828125, 2017.4100341796875, 2001.0699462890625, 2011.0, 2020.989990234375, 2009.9000244140625, 1992.030029296875, 1977.9000244140625, 1964.52001953125, 1985.6300048828125, 1994.489990234375, 2000.81005859375, 1973.8199462890625, 1943.050048828125, 1912.449951171875, 1898.530029296875, 1866.780029296875, 1855.3199462890625, 1823.239990234375, 1765.1300048828125, 1787.8299560546875, 1793.4000244140625, 1832.8900146484375, 1807.5799560546875, 1784.9200439453125, 1824.3399658203125, 1762.9599609375, 1776.1199951171875, 1792.5699462890625, 1816.1199951171875, 1801.3800048828125, 1823.5400390625, 1804.6600341796875, 1749.6199951171875, 1768.8699951171875, 1761.8299560546875, 1764.25, 1786.4000244140625, 1776.2900390625, 1789.8399658203125, 1800.6199951171875, 1840.719970703125, 1833.510009765625, 1831.3499755859375, 1820.550048828125, 1822.989990234375, 1843.550048828125, 1839.3399658203125, 1807.8399658203125, 1822.550048828125, 1817.4599609375, 1821.5, 1794.1600341796875, 1785.300048828125, 1741.6099853515625, 1768.3299560546875, 1739.8399658203125, 1725.449951171875, 1735.9100341796875, 1735.6500244140625, 1713.22998046875, 1724.4200439453125, 1739.6500244140625, 1732.6600341796875, 1705.510009765625, 1721.989990234375, 1720.260009765625, 1731.9200439453125, 1736.4300537109375, 1767.3800048828125, 1777.4300537109375, 1787.47998046875, 1757.510009765625, 1785.6600341796875, 1765.72998046875, 1762.1700439453125, 1780.780029296875, 1761.3299560546875, 1777.0799560546875, 1762.7099609375, 1779.989990234375, 1776.6600341796875, 1791.43994140625, 1804.6600341796875, 1801.7099609375, 1795.77001953125, 1788.199951171875, 1785.8800048828125, 1771.6500244140625, 1778.0, 1753.1099853515625, 1754.5999755859375, 1739.489990234375, 1752.530029296875, 1752.7900390625, 1745.530029296875, 1734.7099609375, 1745.719970703125, 1773.8399658203125, 1796.93994140625, 1818.510009765625, 1800.800048828125, 1781.5999755859375, 1769.9599609375, 1760.68994140625, 1740.47998046875, 1751.5999755859375, 1749.510009765625, 1739.2099609375, 1748.719970703125, 1760.3299560546875, 1760.93994140625, 1769.2099609375, 1790.6600341796875, 1784.030029296875, 1792.280029296875, 1786.5, 1793.0, 1789.2099609375, 1868.77001953125, 1869.800048828125, 1846.8900146484375, 1847.8399658203125, 1898.010009765625, 1874.969970703125, 1902.8800048828125, 1906.8599853515625, 1891.969970703125, 1901.050048828125, 1883.1600341796875, 1891.300048828125, 1869.43994140625, 1862.02001953125, 1877.93994140625, 1864.719970703125, 1892.0, 1887.4599609375, 1884.5799560546875, 1861.6400146484375, 1828.3399658203125, 1853.25, 1858.0, 1870.6800537109375, 2008.719970703125, 2004.199951171875, 2049.669921875, 2039.8699951171875, 2050.22998046875, 2079.280029296875, 2133.909912109375, 2150.800048828125, 2160.0, 2149.8701171875, 2134.8701171875, 2155.669921875, 2170.219970703125, 2153.10009765625, 2095.969970703125, 2009.2900390625, 1972.739990234375, 1979.5899658203125, 1884.300048828125, 1883.75, 1953.949951171875, 1908.989990234375, 1975.8299560546875, 1924.030029296875, 1901.0899658203125, 1800.6099853515625, 1891.8199462890625, 1820.8599853515625, 1676.6099853515625, 1785.0, 1689.1500244140625, 1807.8399658203125, 1830.0, 1880.9300537109375, 1846.0899658203125, 1902.8299560546875, 1940.0999755859375, 1885.8399658203125, 1955.489990234375, 1900.0999755859375, 1963.949951171875, 1949.719970703125, 1907.699951171875, 1918.8299560546875, 1906.5899658203125, 1997.5899658203125, 2011.5999755859375, 2043.0, 2042.760009765625, 2168.8701171875, 2283.320068359375, 2307.679931640625, 2408.18994140625, 2375.0, 2393.610107421875, 2328.1201171875, 2363.489990234375, 2399.449951171875, 2410.219970703125, 2376.0, 2314.080078125, 2372.7099609375, 2474.0, 2286.0400390625, 2315.989990234375, 2317.800048828125, 2351.260009765625, 2367.610107421875, 2379.610107421875, 2409.0, 2356.949951171875, 2367.919921875, 2388.85009765625, 2409.780029296875, 2426.260009765625, 2449.330078125, 2497.93994140625, 2446.739990234375, 2436.8798828125, 2421.860107421875, 2410.389892578125, 2401.10009765625, 2442.3701171875, 2471.0400390625, 2472.409912109375, 2478.39990234375, 2460.60009765625, 2483.0, 2524.06005859375, 2600.860107421875, 2647.449951171875, 2557.9599609375, 2545.02001953125, 2572.679931640625, 2615.27001953125, 2640.97998046875, 2653.97998046875, 2675.010009765625, 2713.820068359375, 2764.409912109375, 2734.39990234375, 2754.580078125, 2692.8701171875, 2680.3798828125, 2758.820068359375, 2878.699951171875, 2890.300048828125, 3057.0400390625, 3000.1201171875, 3081.110107421875, 3182.6298828125, 3200.0, 3104.0, 3084.0, 3008.8701171875, 2999.89990234375, 2961.969970703125, 3196.840087890625, 3138.2900390625, 3099.909912109375, 2986.550048828125, 3008.909912109375, 3055.2099609375, 3000.330078125, 3033.530029296875, 3051.8798828125, 3164.679931640625, 3111.889892578125, 3138.830078125, 3205.030029296875, 3225.0, 3167.4599609375, 3148.159912109375, 3080.669921875, 3162.239990234375, 3161.02001953125, 3148.02001953125, 3182.409912109375, 3312.489990234375, 3260.47998046875, 3297.3701171875, 3284.719970703125, 3307.4599609375, 3346.489990234375, 3441.85009765625, 3400.0, 3401.800048828125, 3450.9599609375, 3499.1201171875, 3531.449951171875, 3368.0, 3294.6201171875, 3149.840087890625, 3268.610107421875, 3175.110107421875, 3116.219970703125, 3102.969970703125, 3156.1298828125, 3078.10009765625, 3008.72998046875, 2954.909912109375, 2960.469970703125, 3128.989990234375, 2999.860107421875, 3019.7900390625, 3095.1298828125, 3174.050048828125, 3144.8798828125, 3148.72998046875, 3221.260009765625, 3125.0, 3199.199951171875, 3099.9599609375, 3195.68994140625, 3190.550048828125, 3286.64990234375, 3442.929931640625, 3443.6298828125, 3363.7099609375, 3338.64990234375, 3272.7099609375, 3207.2099609375, 3217.010009765625, 3184.93994140625, 3176.39990234375, 3204.39990234375, 3207.0400390625, 3286.330078125, 3162.780029296875, 3211.010009765625, 3036.14990234375, 3004.47998046875, 3048.409912109375, 3241.159912109375, 3322.0, 3311.3701171875, 3143.739990234375, 3035.02001953125, 3137.389892578125, 3110.280029296875, 3128.81005859375, 3131.06005859375, 3135.659912109375, 3105.4599609375, 3117.02001953125, 3099.39990234375, 3098.389892578125, 3118.06005859375, 3185.070068359375, 3195.340087890625, 3168.0400390625, 3220.080078125, 3203.530029296875, 3186.72998046875, 3162.580078125, 3158.0, 3177.2900390625, 3104.199951171875, 3101.489990234375, 3116.419921875, 3156.969970703125, 3165.1201171875, 3240.9599609375, 3236.080078125, 3201.64990234375, 3206.179931640625, 3206.52001953125, 3185.27001953125, 3172.68994140625, 3283.9599609375, 3322.0, 3285.85009765625, 3256.929931640625, 3186.6298828125, 3218.510009765625, 3138.3798828125, 3162.159912109375, 3182.699951171875, 3114.2099609375, 3120.830078125, 3165.889892578125, 3127.469970703125, 3104.25, 3120.760009765625, 3263.3798828125, 3306.989990234375, 3292.22998046875, 3294.0, 3326.1298828125, 3232.580078125, 3237.6201171875, 3206.199951171875, 3342.8798828125, 3380.0, 3312.530029296875, 3331.0, 3352.14990234375, 3322.93994140625, 3305.0, 3286.580078125, 3262.1298828125, 3277.7099609375, 3268.949951171875, 3308.639892578125, 3328.22998046875, 3249.89990234375, 3180.739990234375, 3194.5, 3159.530029296875, 3057.159912109375, 3092.929931640625, 3146.139892578125, 3094.530029296875, 3005.0, 2977.570068359375, 3000.4599609375, 2951.949951171875, 3062.85009765625, 3057.639892578125, 3113.590087890625, 3089.489990234375, 3081.679931640625, 3091.860107421875, 3135.72998046875, 3027.989990234375, 3074.9599609375, 3110.8701171875, 3137.5, 3087.070068359375, 3046.260009765625, 3052.030029296875, 3075.72998046875, 3055.2900390625, 3094.080078125, 3161.0, 3226.72998046875, 3223.820068359375, 3279.389892578125, 3299.300048828125, 3372.199951171875, 3379.389892578125, 3400.0, 3333.0, 3379.090087890625, 3399.43994140625, 3372.010009765625, 3334.68994140625, 3362.02001953125, 3309.0400390625, 3340.8798828125, 3409.0, 3417.429931640625, 3458.5, 3471.31005859375, 3467.419921875, 3386.489990234375, 3311.8701171875, 3270.5400390625, 3306.3701171875, 3291.610107421875, 3190.489990234375, 3223.909912109375, 3151.93994140625, 3161.469970703125, 3222.89990234375]\n",
            "2609\n",
            "2609\n"
          ],
          "name": "stdout"
        }
      ]
    },
    {
      "cell_type": "code",
      "metadata": {
        "colab": {
          "base_uri": "https://localhost:8080/"
        },
        "id": "LwRGN32wYYD_",
        "outputId": "188e51d5-1659-433d-8490-21d31e02e23a"
      },
      "source": [
        "rbf = SVR(kernel= 'rbf', C= 1000.0, gamma= 1E-5)\n",
        "rbf.fit(days, close_prices)"
      ],
      "execution_count": null,
      "outputs": [
        {
          "output_type": "execute_result",
          "data": {
            "text/plain": [
              "SVR(C=1000.0, cache_size=200, coef0=0.0, degree=3, epsilon=0.1, gamma=1e-05,\n",
              "    kernel='rbf', max_iter=-1, shrinking=True, tol=0.001, verbose=False)"
            ]
          },
          "metadata": {
            "tags": []
          },
          "execution_count": 69
        }
      ]
    },
    {
      "cell_type": "code",
      "metadata": {
        "colab": {
          "base_uri": "https://localhost:8080/",
          "height": 496
        },
        "id": "dI-YplQHYYjO",
        "outputId": "f5b18726-b0e1-4c5d-cbe0-af1009640e71"
      },
      "source": [
        "plt.figure(figsize=(16,8))\n",
        "plt.scatter(days,close_prices, color= 'red', label= 'Data')\n",
        "plt.plot(days, rbf.predict(days), color='blue', label='RBF Model')\n",
        "plt.legend()\n",
        "plt.show()"
      ],
      "execution_count": null,
      "outputs": [
        {
          "output_type": "display_data",
          "data": {
            "image/png": "[encoded data removed]",
            "text/plain": [
              "<Figure size 1152x576 with 1 Axes>"
            ]
          },
          "metadata": {
            "tags": [],
            "needs_background": "light"
          }
        }
      ]
    },
    {
      "cell_type": "code",
      "metadata": {
        "colab": {
          "base_uri": "https://localhost:8080/",
          "height": 107
        },
        "id": "spWei0brYm6l",
        "outputId": "98a8e958-28fc-4fc1-f957-81cb73eba4ea"
      },
      "source": [
        "actual_price"
      ],
      "execution_count": null,
      "outputs": [
        {
          "output_type": "execute_result",
          "data": {
            "text/html": [
              "<div>\n",
              "<style scoped>\n",
              "    .dataframe tbody tr th:only-of-type {\n",
              "        vertical-align: middle;\n",
              "    }\n",
              "\n",
              "    .dataframe tbody tr th {\n",
              "        vertical-align: top;\n",
              "    }\n",
              "\n",
              "    .dataframe thead th {\n",
              "        text-align: right;\n",
              "    }\n",
              "</style>\n",
              "<table border=\"1\" class=\"dataframe\">\n",
              "  <thead>\n",
              "    <tr style=\"text-align: right;\">\n",
              "      <th></th>\n",
              "      <th>Open</th>\n",
              "      <th>High</th>\n",
              "      <th>Low</th>\n",
              "      <th>Close</th>\n",
              "      <th>Volume</th>\n",
              "      <th>Dividends</th>\n",
              "      <th>Stock Splits</th>\n",
              "      <th>Date</th>\n",
              "      <th>new_date</th>\n",
              "    </tr>\n",
              "    <tr>\n",
              "      <th>Date</th>\n",
              "      <th></th>\n",
              "      <th></th>\n",
              "      <th></th>\n",
              "      <th></th>\n",
              "      <th></th>\n",
              "      <th></th>\n",
              "      <th></th>\n",
              "      <th></th>\n",
              "      <th></th>\n",
              "    </tr>\n",
              "  </thead>\n",
              "  <tbody>\n",
              "    <tr>\n",
              "      <th>2021-05-17</th>\n",
              "      <td>3245.929932</td>\n",
              "      <td>3292.75</td>\n",
              "      <td>3234.590088</td>\n",
              "      <td>3270.389893</td>\n",
              "      <td>3723900</td>\n",
              "      <td>0</td>\n",
              "      <td>0</td>\n",
              "      <td>2021-05-17</td>\n",
              "      <td>20210517</td>\n",
              "    </tr>\n",
              "  </tbody>\n",
              "</table>\n",
              "</div>"
            ],
            "text/plain": [
              "                   Open     High  ...        Date  new_date\n",
              "Date                              ...                      \n",
              "2021-05-17  3245.929932  3292.75  ...  2021-05-17  20210517\n",
              "\n",
              "[1 rows x 9 columns]"
            ]
          },
          "metadata": {
            "tags": []
          },
          "execution_count": 71
        }
      ]
    },
    {
      "cell_type": "code",
      "metadata": {
        "colab": {
          "base_uri": "https://localhost:8080/"
        },
        "id": "63hKMAF6Ynkx",
        "outputId": "50a21335-5be8-420e-ee15-5e5470f3c3da"
      },
      "source": [
        "day= [[20210517]]\n",
        "print('The predicted value on 2021-05-04 from the rbf model is: ' , rbf.predict(day))\n",
        "print('The percent error for this is: ', float((abs(3270.39-(rbf.predict(day)))/3270.39)*100),'%')"
      ],
      "execution_count": null,
      "outputs": [
        {
          "output_type": "stream",
          "text": [
            "The predicted value on 2021-05-04 from the rbf model is:  [3282.18431041]\n",
            "The percent error for this is:  0.36063926340748614 %\n"
          ],
          "name": "stdout"
        }
      ]
    },
    {
      "cell_type": "code",
      "metadata": {
        "colab": {
          "base_uri": "https://localhost:8080/"
        },
        "id": "hUXkjKj0ZLIJ",
        "outputId": "b3583b82-137a-4dea-a9a5-879fb8553cad"
      },
      "source": [
        "may_sixth = [[20210505]]\n",
        "print('The predicted value on 2021-05-05 from the rbf model is: ' , rbf.predict(may_sixth))\n",
        "print('The percent error for this is: ', float((abs(3270.54-(rbf.predict(may_sixth)))/3270.54)*100),'%')"
      ],
      "execution_count": null,
      "outputs": [
        {
          "output_type": "stream",
          "text": [
            "The predicted value on 2021-05-05 from the rbf model is:  [3292.92146587]\n",
            "The percent error for this is:  0.6843354880934155 %\n"
          ],
          "name": "stdout"
        }
      ]
    },
    {
      "cell_type": "code",
      "metadata": {
        "colab": {
          "base_uri": "https://localhost:8080/"
        },
        "id": "ah3BvtOPjny2",
        "outputId": "2f45c941-338e-4078-f74f-cfd1c4bf3d91"
      },
      "source": [
        "tomorrow = [[20210506]]\n",
        "print('The predicted value on 2021-05-06 from the rbf model is: ' , rbf.predict(tomorrow))\n",
        "print('It\\'s predicted to drop: ' , float(((3146.3458-3249.386427)/3146.3458)*100), '%')"
      ],
      "execution_count": null,
      "outputs": [
        {
          "output_type": "stream",
          "text": [
            "The predicted value on 2021-05-06 from the rbf model is:  [3292.23460979]\n",
            "It's predicted to drop:  -3.2749301427706974 %\n"
          ],
          "name": "stdout"
        }
      ]
    },
    {
      "cell_type": "code",
      "metadata": {
        "id": "pu8bWpHljhMw"
      },
      "source": [
        ""
      ],
      "execution_count": null,
      "outputs": []
    },
    {
      "cell_type": "markdown",
      "metadata": {
        "id": "4X-VhWasfFes"
      },
      "source": [
        "# RBF Unfixed"
      ]
    },
    {
      "cell_type": "code",
      "metadata": {
        "colab": {
          "base_uri": "https://localhost:8080/"
        },
        "id": "XxNEbOCafIUb",
        "outputId": "be0665dc-0114-4885-eba9-af1de04fb3a9"
      },
      "source": [
        "rbf = SVR(kernel= 'rbf', C= 1000.0, gamma= 0.15)\n",
        "rbf.fit(days, close_prices)"
      ],
      "execution_count": null,
      "outputs": [
        {
          "output_type": "execute_result",
          "data": {
            "text/plain": [
              "SVR(C=1000.0, cache_size=200, coef0=0.0, degree=3, epsilon=0.1, gamma=0.15,\n",
              "    kernel='rbf', max_iter=-1, shrinking=True, tol=0.001, verbose=False)"
            ]
          },
          "metadata": {
            "tags": []
          },
          "execution_count": 36
        }
      ]
    },
    {
      "cell_type": "code",
      "metadata": {
        "colab": {
          "base_uri": "https://localhost:8080/",
          "height": 496
        },
        "id": "VEMAn7W0fMcp",
        "outputId": "244a4156-9fc7-441c-9e5e-dc243b52068e"
      },
      "source": [
        "plt.figure(figsize=(16,8))\n",
        "plt.scatter(days,close_prices, color= 'red', label= 'Data')\n",
        "plt.plot(days, rbf.predict(days), color='blue', label='RBF Model')\n",
        "plt.legend()\n",
        "plt.show()"
      ],
      "execution_count": null,
      "outputs": [
        {
          "output_type": "display_data",
          "data": {
            "image/png": "[encoded data removed]",
            "text/plain": [
              "<Figure size 1152x576 with 1 Axes>"
            ]
          },
          "metadata": {
            "tags": [],
            "needs_background": "light"
          }
        }
      ]
    },
    {
      "cell_type": "code",
      "metadata": {
        "colab": {
          "base_uri": "https://localhost:8080/"
        },
        "id": "YYEWpoYEfRoU",
        "outputId": "b768af3a-c4be-4d53-ef8d-dd619295a8c4"
      },
      "source": [
        "day= [[20210517]]\n",
        "print('The predicted value on 2021-05-04 from the rbf model is: ' , rbf.predict(day))\n",
        "print('The percent error for this is: ', float((abs(3270.39-(rbf.predict(day)))/3270.39)*100),'%')"
      ],
      "execution_count": null,
      "outputs": [
        {
          "output_type": "stream",
          "text": [
            "The predicted value on 2021-05-04 from the rbf model is:  [1328.50654933]\n",
            "The percent error for this is:  59.377733257230325 %\n"
          ],
          "name": "stdout"
        }
      ]
    },
    {
      "cell_type": "code",
      "metadata": {
        "colab": {
          "base_uri": "https://localhost:8080/"
        },
        "id": "oKKfvAZ7fSKY",
        "outputId": "1175616d-3f1c-47a4-8926-b07cd5faadf0"
      },
      "source": [
        "may_sixth = [[20210505]]\n",
        "print('The predicted value on 2021-05-05 from the rbf model is: ' , rbf.predict(may_sixth))\n",
        "print('The percent error for this is: ', float((abs(3270.54-(rbf.predict(may_sixth)))/3270.54)*100),'%')"
      ],
      "execution_count": null,
      "outputs": [
        {
          "output_type": "stream",
          "text": [
            "The predicted value on 2021-05-05 from the rbf model is:  [3270.63977013]\n",
            "The percent error for this is:  0.0030505704322229773 %\n"
          ],
          "name": "stdout"
        }
      ]
    },
    {
      "cell_type": "markdown",
      "metadata": {
        "id": "8W-FtxYefBzY"
      },
      "source": [
        "# Linear"
      ]
    },
    {
      "cell_type": "code",
      "metadata": {
        "colab": {
          "base_uri": "https://localhost:8080/"
        },
        "id": "GaOhhP9bYygB",
        "outputId": "7127c522-d456-4eb4-f35f-7968f494172e"
      },
      "source": [
        "lin = SVR(kernel= 'linear',C= 1E-8)\n",
        "lin.fit(days, close_prices) "
      ],
      "execution_count": null,
      "outputs": [
        {
          "output_type": "execute_result",
          "data": {
            "text/plain": [
              "SVR(C=1e-08, cache_size=200, coef0=0.0, degree=3, epsilon=0.1, gamma='scale',\n",
              "    kernel='linear', max_iter=-1, shrinking=True, tol=0.001, verbose=False)"
            ]
          },
          "metadata": {
            "tags": []
          },
          "execution_count": 40
        }
      ]
    },
    {
      "cell_type": "code",
      "metadata": {
        "colab": {
          "base_uri": "https://localhost:8080/",
          "height": 496
        },
        "id": "Qy5R5NVBY8R3",
        "outputId": "952a975a-01ae-4739-acd5-3420b77c504f"
      },
      "source": [
        "plt.figure(figsize=(16,8))\n",
        "plt.scatter(days,close_prices, color= 'red', label= 'Data')\n",
        "plt.plot(days, lin.predict(days), color='blue', label='Linear Model')\n",
        "plt.legend()\n",
        "plt.show()"
      ],
      "execution_count": null,
      "outputs": [
        {
          "output_type": "display_data",
          "data": {
            "image/png": "[encoded data removed]",
            "text/plain": [
              "<Figure size 1152x576 with 1 Axes>"
            ]
          },
          "metadata": {
            "tags": [],
            "needs_background": "light"
          }
        }
      ]
    },
    {
      "cell_type": "code",
      "metadata": {
        "colab": {
          "base_uri": "https://localhost:8080/"
        },
        "id": "JA4qV_HpY8mG",
        "outputId": "d50a2bc3-2879-4586-f56f-2fb1774ae1d5"
      },
      "source": [
        "day= [[20210517]]\n",
        "print('The predicted value on 2021-05-04 from the rbf model is: ' ,lin.predict(day))\n",
        "print('The percent error for this is: ', float((abs(3270.39-(lin.predict(day)))/3270.39)*100),'%')"
      ],
      "execution_count": null,
      "outputs": [
        {
          "output_type": "stream",
          "text": [
            "The predicted value on 2021-05-04 from the rbf model is:  [2191.14735504]\n",
            "The percent error for this is:  33.000426400522464 %\n"
          ],
          "name": "stdout"
        }
      ]
    },
    {
      "cell_type": "markdown",
      "metadata": {
        "id": "58l09ZjEbngY"
      },
      "source": [
        "# 05-02-2020 - Now "
      ]
    },
    {
      "cell_type": "code",
      "metadata": {
        "id": "mNAaGK99bp-5"
      },
      "source": [
        "amzn_df2 = AMZNData.history(period='1d', start= '2020-5-2', end = '2021-5-18')"
      ],
      "execution_count": null,
      "outputs": []
    },
    {
      "cell_type": "code",
      "metadata": {
        "id": "0q7HiZpPbw7D",
        "colab": {
          "base_uri": "https://localhost:8080/",
          "height": 437
        },
        "outputId": "50ebfe52-129f-4dfb-a5f1-834f98456440"
      },
      "source": [
        "amzn_df2"
      ],
      "execution_count": null,
      "outputs": [
        {
          "output_type": "execute_result",
          "data": {
            "text/html": [
              "<div>\n",
              "<style scoped>\n",
              "    .dataframe tbody tr th:only-of-type {\n",
              "        vertical-align: middle;\n",
              "    }\n",
              "\n",
              "    .dataframe tbody tr th {\n",
              "        vertical-align: top;\n",
              "    }\n",
              "\n",
              "    .dataframe thead th {\n",
              "        text-align: right;\n",
              "    }\n",
              "</style>\n",
              "<table border=\"1\" class=\"dataframe\">\n",
              "  <thead>\n",
              "    <tr style=\"text-align: right;\">\n",
              "      <th></th>\n",
              "      <th>Open</th>\n",
              "      <th>High</th>\n",
              "      <th>Low</th>\n",
              "      <th>Close</th>\n",
              "      <th>Volume</th>\n",
              "      <th>Dividends</th>\n",
              "      <th>Stock Splits</th>\n",
              "    </tr>\n",
              "    <tr>\n",
              "      <th>Date</th>\n",
              "      <th></th>\n",
              "      <th></th>\n",
              "      <th></th>\n",
              "      <th></th>\n",
              "      <th></th>\n",
              "      <th></th>\n",
              "      <th></th>\n",
              "    </tr>\n",
              "  </thead>\n",
              "  <tbody>\n",
              "    <tr>\n",
              "      <th>2020-05-04</th>\n",
              "      <td>2256.379883</td>\n",
              "      <td>2326.979980</td>\n",
              "      <td>2256.379883</td>\n",
              "      <td>2315.989990</td>\n",
              "      <td>4865900</td>\n",
              "      <td>0</td>\n",
              "      <td>0</td>\n",
              "    </tr>\n",
              "    <tr>\n",
              "      <th>2020-05-05</th>\n",
              "      <td>2340.000000</td>\n",
              "      <td>2351.000000</td>\n",
              "      <td>2307.129883</td>\n",
              "      <td>2317.800049</td>\n",
              "      <td>3242500</td>\n",
              "      <td>0</td>\n",
              "      <td>0</td>\n",
              "    </tr>\n",
              "    <tr>\n",
              "      <th>2020-05-06</th>\n",
              "      <td>2329.439941</td>\n",
              "      <td>2357.449951</td>\n",
              "      <td>2320.000000</td>\n",
              "      <td>2351.260010</td>\n",
              "      <td>3117800</td>\n",
              "      <td>0</td>\n",
              "      <td>0</td>\n",
              "    </tr>\n",
              "    <tr>\n",
              "      <th>2020-05-07</th>\n",
              "      <td>2374.780029</td>\n",
              "      <td>2376.000000</td>\n",
              "      <td>2343.110107</td>\n",
              "      <td>2367.610107</td>\n",
              "      <td>3396400</td>\n",
              "      <td>0</td>\n",
              "      <td>0</td>\n",
              "    </tr>\n",
              "    <tr>\n",
              "      <th>2020-05-08</th>\n",
              "      <td>2372.139893</td>\n",
              "      <td>2387.239990</td>\n",
              "      <td>2357.000000</td>\n",
              "      <td>2379.610107</td>\n",
              "      <td>3206600</td>\n",
              "      <td>0</td>\n",
              "      <td>0</td>\n",
              "    </tr>\n",
              "    <tr>\n",
              "      <th>...</th>\n",
              "      <td>...</td>\n",
              "      <td>...</td>\n",
              "      <td>...</td>\n",
              "      <td>...</td>\n",
              "      <td>...</td>\n",
              "      <td>...</td>\n",
              "      <td>...</td>\n",
              "    </tr>\n",
              "    <tr>\n",
              "      <th>2021-05-11</th>\n",
              "      <td>3136.280029</td>\n",
              "      <td>3238.000000</td>\n",
              "      <td>3127.370117</td>\n",
              "      <td>3223.909912</td>\n",
              "      <td>4619800</td>\n",
              "      <td>0</td>\n",
              "      <td>0</td>\n",
              "    </tr>\n",
              "    <tr>\n",
              "      <th>2021-05-12</th>\n",
              "      <td>3185.000000</td>\n",
              "      <td>3207.939941</td>\n",
              "      <td>3133.100098</td>\n",
              "      <td>3151.939941</td>\n",
              "      <td>4936400</td>\n",
              "      <td>0</td>\n",
              "      <td>0</td>\n",
              "    </tr>\n",
              "    <tr>\n",
              "      <th>2021-05-13</th>\n",
              "      <td>3185.469971</td>\n",
              "      <td>3203.840088</td>\n",
              "      <td>3133.000000</td>\n",
              "      <td>3161.469971</td>\n",
              "      <td>3350900</td>\n",
              "      <td>0</td>\n",
              "      <td>0</td>\n",
              "    </tr>\n",
              "    <tr>\n",
              "      <th>2021-05-14</th>\n",
              "      <td>3185.560059</td>\n",
              "      <td>3228.860107</td>\n",
              "      <td>3183.000000</td>\n",
              "      <td>3222.899902</td>\n",
              "      <td>3321400</td>\n",
              "      <td>0</td>\n",
              "      <td>0</td>\n",
              "    </tr>\n",
              "    <tr>\n",
              "      <th>2021-05-17</th>\n",
              "      <td>3245.929932</td>\n",
              "      <td>3292.750000</td>\n",
              "      <td>3234.590088</td>\n",
              "      <td>3270.389893</td>\n",
              "      <td>3723900</td>\n",
              "      <td>0</td>\n",
              "      <td>0</td>\n",
              "    </tr>\n",
              "  </tbody>\n",
              "</table>\n",
              "<p>262 rows × 7 columns</p>\n",
              "</div>"
            ],
            "text/plain": [
              "                   Open         High  ...  Dividends  Stock Splits\n",
              "Date                                  ...                         \n",
              "2020-05-04  2256.379883  2326.979980  ...          0             0\n",
              "2020-05-05  2340.000000  2351.000000  ...          0             0\n",
              "2020-05-06  2329.439941  2357.449951  ...          0             0\n",
              "2020-05-07  2374.780029  2376.000000  ...          0             0\n",
              "2020-05-08  2372.139893  2387.239990  ...          0             0\n",
              "...                 ...          ...  ...        ...           ...\n",
              "2021-05-11  3136.280029  3238.000000  ...          0             0\n",
              "2021-05-12  3185.000000  3207.939941  ...          0             0\n",
              "2021-05-13  3185.469971  3203.840088  ...          0             0\n",
              "2021-05-14  3185.560059  3228.860107  ...          0             0\n",
              "2021-05-17  3245.929932  3292.750000  ...          0             0\n",
              "\n",
              "[262 rows x 7 columns]"
            ]
          },
          "metadata": {
            "tags": []
          },
          "execution_count": 44
        }
      ]
    },
    {
      "cell_type": "code",
      "metadata": {
        "id": "tpQPAdbhb3bR",
        "colab": {
          "base_uri": "https://localhost:8080/"
        },
        "outputId": "3c3800f0-1e26-40ee-af91-750a14d7375f"
      },
      "source": [
        "df_Open=amzn_df2[['Open']]\n",
        "df_dates2=amzn_df2.index.to_frame().reset_index(drop=True)\n",
        "print(df_dates2)"
      ],
      "execution_count": null,
      "outputs": [
        {
          "output_type": "stream",
          "text": [
            "          Date\n",
            "0   2020-05-04\n",
            "1   2020-05-05\n",
            "2   2020-05-06\n",
            "3   2020-05-07\n",
            "4   2020-05-08\n",
            "..         ...\n",
            "257 2021-05-11\n",
            "258 2021-05-12\n",
            "259 2021-05-13\n",
            "260 2021-05-14\n",
            "261 2021-05-17\n",
            "\n",
            "[262 rows x 1 columns]\n"
          ],
          "name": "stdout"
        }
      ]
    },
    {
      "cell_type": "code",
      "metadata": {
        "id": "U-Yv5ebOcEbn"
      },
      "source": [
        "amzn_df2['Date']= df_dates2['Date'].values"
      ],
      "execution_count": null,
      "outputs": []
    },
    {
      "cell_type": "code",
      "metadata": {
        "id": "uat58vnGcKDZ",
        "colab": {
          "base_uri": "https://localhost:8080/",
          "height": 437
        },
        "outputId": "bbc4e249-ca37-4569-f3f6-daa28b7e6ffe"
      },
      "source": [
        "amzn_df2"
      ],
      "execution_count": null,
      "outputs": [
        {
          "output_type": "execute_result",
          "data": {
            "text/html": [
              "<div>\n",
              "<style scoped>\n",
              "    .dataframe tbody tr th:only-of-type {\n",
              "        vertical-align: middle;\n",
              "    }\n",
              "\n",
              "    .dataframe tbody tr th {\n",
              "        vertical-align: top;\n",
              "    }\n",
              "\n",
              "    .dataframe thead th {\n",
              "        text-align: right;\n",
              "    }\n",
              "</style>\n",
              "<table border=\"1\" class=\"dataframe\">\n",
              "  <thead>\n",
              "    <tr style=\"text-align: right;\">\n",
              "      <th></th>\n",
              "      <th>Open</th>\n",
              "      <th>High</th>\n",
              "      <th>Low</th>\n",
              "      <th>Close</th>\n",
              "      <th>Volume</th>\n",
              "      <th>Dividends</th>\n",
              "      <th>Stock Splits</th>\n",
              "      <th>Date</th>\n",
              "    </tr>\n",
              "    <tr>\n",
              "      <th>Date</th>\n",
              "      <th></th>\n",
              "      <th></th>\n",
              "      <th></th>\n",
              "      <th></th>\n",
              "      <th></th>\n",
              "      <th></th>\n",
              "      <th></th>\n",
              "      <th></th>\n",
              "    </tr>\n",
              "  </thead>\n",
              "  <tbody>\n",
              "    <tr>\n",
              "      <th>2020-05-04</th>\n",
              "      <td>2256.379883</td>\n",
              "      <td>2326.979980</td>\n",
              "      <td>2256.379883</td>\n",
              "      <td>2315.989990</td>\n",
              "      <td>4865900</td>\n",
              "      <td>0</td>\n",
              "      <td>0</td>\n",
              "      <td>2020-05-04</td>\n",
              "    </tr>\n",
              "    <tr>\n",
              "      <th>2020-05-05</th>\n",
              "      <td>2340.000000</td>\n",
              "      <td>2351.000000</td>\n",
              "      <td>2307.129883</td>\n",
              "      <td>2317.800049</td>\n",
              "      <td>3242500</td>\n",
              "      <td>0</td>\n",
              "      <td>0</td>\n",
              "      <td>2020-05-05</td>\n",
              "    </tr>\n",
              "    <tr>\n",
              "      <th>2020-05-06</th>\n",
              "      <td>2329.439941</td>\n",
              "      <td>2357.449951</td>\n",
              "      <td>2320.000000</td>\n",
              "      <td>2351.260010</td>\n",
              "      <td>3117800</td>\n",
              "      <td>0</td>\n",
              "      <td>0</td>\n",
              "      <td>2020-05-06</td>\n",
              "    </tr>\n",
              "    <tr>\n",
              "      <th>2020-05-07</th>\n",
              "      <td>2374.780029</td>\n",
              "      <td>2376.000000</td>\n",
              "      <td>2343.110107</td>\n",
              "      <td>2367.610107</td>\n",
              "      <td>3396400</td>\n",
              "      <td>0</td>\n",
              "      <td>0</td>\n",
              "      <td>2020-05-07</td>\n",
              "    </tr>\n",
              "    <tr>\n",
              "      <th>2020-05-08</th>\n",
              "      <td>2372.139893</td>\n",
              "      <td>2387.239990</td>\n",
              "      <td>2357.000000</td>\n",
              "      <td>2379.610107</td>\n",
              "      <td>3206600</td>\n",
              "      <td>0</td>\n",
              "      <td>0</td>\n",
              "      <td>2020-05-08</td>\n",
              "    </tr>\n",
              "    <tr>\n",
              "      <th>...</th>\n",
              "      <td>...</td>\n",
              "      <td>...</td>\n",
              "      <td>...</td>\n",
              "      <td>...</td>\n",
              "      <td>...</td>\n",
              "      <td>...</td>\n",
              "      <td>...</td>\n",
              "      <td>...</td>\n",
              "    </tr>\n",
              "    <tr>\n",
              "      <th>2021-05-11</th>\n",
              "      <td>3136.280029</td>\n",
              "      <td>3238.000000</td>\n",
              "      <td>3127.370117</td>\n",
              "      <td>3223.909912</td>\n",
              "      <td>4619800</td>\n",
              "      <td>0</td>\n",
              "      <td>0</td>\n",
              "      <td>2021-05-11</td>\n",
              "    </tr>\n",
              "    <tr>\n",
              "      <th>2021-05-12</th>\n",
              "      <td>3185.000000</td>\n",
              "      <td>3207.939941</td>\n",
              "      <td>3133.100098</td>\n",
              "      <td>3151.939941</td>\n",
              "      <td>4936400</td>\n",
              "      <td>0</td>\n",
              "      <td>0</td>\n",
              "      <td>2021-05-12</td>\n",
              "    </tr>\n",
              "    <tr>\n",
              "      <th>2021-05-13</th>\n",
              "      <td>3185.469971</td>\n",
              "      <td>3203.840088</td>\n",
              "      <td>3133.000000</td>\n",
              "      <td>3161.469971</td>\n",
              "      <td>3350900</td>\n",
              "      <td>0</td>\n",
              "      <td>0</td>\n",
              "      <td>2021-05-13</td>\n",
              "    </tr>\n",
              "    <tr>\n",
              "      <th>2021-05-14</th>\n",
              "      <td>3185.560059</td>\n",
              "      <td>3228.860107</td>\n",
              "      <td>3183.000000</td>\n",
              "      <td>3222.899902</td>\n",
              "      <td>3321400</td>\n",
              "      <td>0</td>\n",
              "      <td>0</td>\n",
              "      <td>2021-05-14</td>\n",
              "    </tr>\n",
              "    <tr>\n",
              "      <th>2021-05-17</th>\n",
              "      <td>3245.929932</td>\n",
              "      <td>3292.750000</td>\n",
              "      <td>3234.590088</td>\n",
              "      <td>3270.389893</td>\n",
              "      <td>3723900</td>\n",
              "      <td>0</td>\n",
              "      <td>0</td>\n",
              "      <td>2021-05-17</td>\n",
              "    </tr>\n",
              "  </tbody>\n",
              "</table>\n",
              "<p>262 rows × 8 columns</p>\n",
              "</div>"
            ],
            "text/plain": [
              "                   Open         High  ...  Stock Splits       Date\n",
              "Date                                  ...                         \n",
              "2020-05-04  2256.379883  2326.979980  ...             0 2020-05-04\n",
              "2020-05-05  2340.000000  2351.000000  ...             0 2020-05-05\n",
              "2020-05-06  2329.439941  2357.449951  ...             0 2020-05-06\n",
              "2020-05-07  2374.780029  2376.000000  ...             0 2020-05-07\n",
              "2020-05-08  2372.139893  2387.239990  ...             0 2020-05-08\n",
              "...                 ...          ...  ...           ...        ...\n",
              "2021-05-11  3136.280029  3238.000000  ...             0 2021-05-11\n",
              "2021-05-12  3185.000000  3207.939941  ...             0 2021-05-12\n",
              "2021-05-13  3185.469971  3203.840088  ...             0 2021-05-13\n",
              "2021-05-14  3185.560059  3228.860107  ...             0 2021-05-14\n",
              "2021-05-17  3245.929932  3292.750000  ...             0 2021-05-17\n",
              "\n",
              "[262 rows x 8 columns]"
            ]
          },
          "metadata": {
            "tags": []
          },
          "execution_count": 47
        }
      ]
    },
    {
      "cell_type": "code",
      "metadata": {
        "id": "lT6j25hhcJ92"
      },
      "source": [
        "amzn_df2['Date'] = amzn_df2['Date'].astype(str)"
      ],
      "execution_count": null,
      "outputs": []
    },
    {
      "cell_type": "code",
      "metadata": {
        "id": "U7AOfg8kcP0g"
      },
      "source": [
        "amzn_df2['new_date'] = amzn_df2['Date'].str.replace('\\D', '').astype(int)"
      ],
      "execution_count": null,
      "outputs": []
    },
    {
      "cell_type": "code",
      "metadata": {
        "id": "pxxffIhkcZrr",
        "colab": {
          "base_uri": "https://localhost:8080/",
          "height": 107
        },
        "outputId": "8b2e3541-8156-4c9f-918f-31079d3e3bf1"
      },
      "source": [
        "actual_price2 = amzn_df2.tail(1)\n",
        "actual_price2"
      ],
      "execution_count": null,
      "outputs": [
        {
          "output_type": "execute_result",
          "data": {
            "text/html": [
              "<div>\n",
              "<style scoped>\n",
              "    .dataframe tbody tr th:only-of-type {\n",
              "        vertical-align: middle;\n",
              "    }\n",
              "\n",
              "    .dataframe tbody tr th {\n",
              "        vertical-align: top;\n",
              "    }\n",
              "\n",
              "    .dataframe thead th {\n",
              "        text-align: right;\n",
              "    }\n",
              "</style>\n",
              "<table border=\"1\" class=\"dataframe\">\n",
              "  <thead>\n",
              "    <tr style=\"text-align: right;\">\n",
              "      <th></th>\n",
              "      <th>Open</th>\n",
              "      <th>High</th>\n",
              "      <th>Low</th>\n",
              "      <th>Close</th>\n",
              "      <th>Volume</th>\n",
              "      <th>Dividends</th>\n",
              "      <th>Stock Splits</th>\n",
              "      <th>Date</th>\n",
              "      <th>new_date</th>\n",
              "    </tr>\n",
              "    <tr>\n",
              "      <th>Date</th>\n",
              "      <th></th>\n",
              "      <th></th>\n",
              "      <th></th>\n",
              "      <th></th>\n",
              "      <th></th>\n",
              "      <th></th>\n",
              "      <th></th>\n",
              "      <th></th>\n",
              "      <th></th>\n",
              "    </tr>\n",
              "  </thead>\n",
              "  <tbody>\n",
              "    <tr>\n",
              "      <th>2021-05-17</th>\n",
              "      <td>3245.929932</td>\n",
              "      <td>3292.75</td>\n",
              "      <td>3234.590088</td>\n",
              "      <td>3270.389893</td>\n",
              "      <td>3723900</td>\n",
              "      <td>0</td>\n",
              "      <td>0</td>\n",
              "      <td>2021-05-17</td>\n",
              "      <td>20210517</td>\n",
              "    </tr>\n",
              "  </tbody>\n",
              "</table>\n",
              "</div>"
            ],
            "text/plain": [
              "                   Open     High  ...        Date  new_date\n",
              "Date                              ...                      \n",
              "2021-05-17  3245.929932  3292.75  ...  2021-05-17  20210517\n",
              "\n",
              "[1 rows x 9 columns]"
            ]
          },
          "metadata": {
            "tags": []
          },
          "execution_count": 50
        }
      ]
    },
    {
      "cell_type": "code",
      "metadata": {
        "id": "71Rq9LQGcboV"
      },
      "source": [
        "amzn_df2 = amzn_df2.head(len(amzn_df2)-1)"
      ],
      "execution_count": null,
      "outputs": []
    },
    {
      "cell_type": "code",
      "metadata": {
        "id": "ZpgkbwPicmtp"
      },
      "source": [
        "days2 = list()\n",
        "close_prices2= list()"
      ],
      "execution_count": null,
      "outputs": []
    },
    {
      "cell_type": "code",
      "metadata": {
        "id": "BNgukURecpBS",
        "colab": {
          "base_uri": "https://localhost:8080/"
        },
        "outputId": "01f7979a-6eff-4272-f9e8-f46bfe006d27"
      },
      "source": [
        "df_days2 = amzn_df2.loc[:,'new_date']\n",
        "df_days2"
      ],
      "execution_count": null,
      "outputs": [
        {
          "output_type": "execute_result",
          "data": {
            "text/plain": [
              "Date\n",
              "2020-05-04    20200504\n",
              "2020-05-05    20200505\n",
              "2020-05-06    20200506\n",
              "2020-05-07    20200507\n",
              "2020-05-08    20200508\n",
              "                ...   \n",
              "2021-05-10    20210510\n",
              "2021-05-11    20210511\n",
              "2021-05-12    20210512\n",
              "2021-05-13    20210513\n",
              "2021-05-14    20210514\n",
              "Name: new_date, Length: 261, dtype: int64"
            ]
          },
          "metadata": {
            "tags": []
          },
          "execution_count": 53
        }
      ]
    },
    {
      "cell_type": "code",
      "metadata": {
        "id": "wuWV6vajct_s"
      },
      "source": [
        "df_close_price2 = amzn_df2.loc[:,'Close']"
      ],
      "execution_count": null,
      "outputs": []
    },
    {
      "cell_type": "code",
      "metadata": {
        "id": "4ElamMf9czy7"
      },
      "source": [
        "for dates2 in df_days2:\n",
        "  days2.append([int(dates2)])\n",
        "\n",
        "days2"
      ],
      "execution_count": null,
      "outputs": []
    },
    {
      "cell_type": "code",
      "metadata": {
        "id": "IkTUMhbXc8f-"
      },
      "source": [
        "for price2 in df_close_price2: \n",
        "  close_prices2.append(float(price2))\n",
        "\n",
        "close_prices2"
      ],
      "execution_count": null,
      "outputs": []
    },
    {
      "cell_type": "code",
      "metadata": {
        "id": "r7dHTvgAdCnI"
      },
      "source": [
        "print(days2)\n",
        "print(close_prices2)\n",
        "\n",
        "print(len(days2))\n",
        "print(len(close_prices2))"
      ],
      "execution_count": null,
      "outputs": []
    },
    {
      "cell_type": "code",
      "metadata": {
        "colab": {
          "base_uri": "https://localhost:8080/"
        },
        "id": "MMv0vUDadFc3",
        "outputId": "32418019-d990-40dc-df9c-3f1e036cef65"
      },
      "source": [
        "rbf = SVR(kernel= 'rbf', C= 1000.0, gamma= 0.1)\n",
        "rbf.fit(days2, close_prices2)"
      ],
      "execution_count": null,
      "outputs": [
        {
          "output_type": "execute_result",
          "data": {
            "text/plain": [
              "SVR(C=1000.0, cache_size=200, coef0=0.0, degree=3, epsilon=0.1, gamma=0.1,\n",
              "    kernel='rbf', max_iter=-1, shrinking=True, tol=0.001, verbose=False)"
            ]
          },
          "metadata": {
            "tags": []
          },
          "execution_count": 58
        }
      ]
    },
    {
      "cell_type": "code",
      "metadata": {
        "colab": {
          "base_uri": "https://localhost:8080/",
          "height": 496
        },
        "id": "YZWuXGhZdK1W",
        "outputId": "4dda2a15-ab9c-440a-8480-2250f1ea9a9b"
      },
      "source": [
        "plt.figure(figsize=(16,8))\n",
        "plt.scatter(days2,close_prices2, color= 'red', label= 'Data')\n",
        "plt.plot(days2, rbf.predict(days2), color='blue', label='RBF Model')\n",
        "plt.legend()\n",
        "plt.show()"
      ],
      "execution_count": null,
      "outputs": [
        {
          "output_type": "display_data",
          "data": {
            "image/png": "[encoded data removed]",
            "text/plain": [
              "<Figure size 1152x576 with 1 Axes>"
            ]
          },
          "metadata": {
            "tags": [],
            "needs_background": "light"
          }
        }
      ]
    },
    {
      "cell_type": "code",
      "metadata": {
        "colab": {
          "base_uri": "https://localhost:8080/"
        },
        "id": "bS9_iazldUfX",
        "outputId": "a9ad88d9-3c27-4387-d937-6300580330b2"
      },
      "source": [
        "day= [[20210517]]\n",
        "print('The predicted value on 2021-05-04 from the rbf model is: ' , rbf.predict(day))\n",
        "print('The percent error for this is: ', float((abs(3270.39-(rbf.predict(day)))/3270.39)*100),'%')"
      ],
      "execution_count": null,
      "outputs": [
        {
          "output_type": "stream",
          "text": [
            "The predicted value on 2021-05-04 from the rbf model is:  [3234.60502086]\n",
            "The percent error for this is:  1.0942113674687164 %\n"
          ],
          "name": "stdout"
        }
      ]
    },
    {
      "cell_type": "code",
      "metadata": {
        "colab": {
          "base_uri": "https://localhost:8080/"
        },
        "id": "DwLjWopHd1Lz",
        "outputId": "45a66217-9896-4114-bbc7-4dd0eefbfe5c"
      },
      "source": [
        "#Today\n",
        "may_sixth = [[20210505]]\n",
        "print('The predicted value on 2021-05-05 from the rbf model is: ' , rbf.predict(may_sixth))\n",
        "print('The percent error for this is: ', float((abs(3270.54-(rbf.predict(may_sixth)))/3270.54)*100),'%')"
      ],
      "execution_count": null,
      "outputs": [
        {
          "output_type": "stream",
          "text": [
            "The predicted value on 2021-05-05 from the rbf model is:  [3271.50642031]\n",
            "The percent error for this is:  0.029549258318019647 %\n"
          ],
          "name": "stdout"
        }
      ]
    },
    {
      "cell_type": "code",
      "metadata": {
        "colab": {
          "base_uri": "https://localhost:8080/"
        },
        "id": "CidWDQWId_9m",
        "outputId": "c8a65502-5a4a-4cc5-f95e-46d9d5978d83"
      },
      "source": [
        "#Tomorrow\n",
        "tomorrow = [[20210518]]\n",
        "print('The predicted value on 2021-05-06 from the rbf model is: ' , rbf.predict(tomorrow))\n",
        "print('The percent error for this is: ', float((abs(3232.28-(rbf.predict(tomorrow)))/3232.28)*100),'%')"
      ],
      "execution_count": null,
      "outputs": [
        {
          "output_type": "stream",
          "text": [
            "The predicted value on 2021-05-06 from the rbf model is:  [3175.87822875]\n",
            "The percent error for this is:  1.7449531366998443 %\n"
          ],
          "name": "stdout"
        }
      ]
    },
    {
      "cell_type": "code",
      "metadata": {
        "colab": {
          "base_uri": "https://localhost:8080/"
        },
        "id": "34si02T1ef7D",
        "outputId": "09389234-cabc-4fdc-a871-bc5645183243"
      },
      "source": [
        "twoDays = [[20210507]]\n",
        "print('The predicted value on 2021-05-07 from the rbf model is: ' , rbf.predict(twoDays))"
      ],
      "execution_count": null,
      "outputs": [
        {
          "output_type": "stream",
          "text": [
            "The predicted value on 2021-05-07 from the rbf model is:  [3291.71005051]\n"
          ],
          "name": "stdout"
        }
      ]
    },
    {
      "cell_type": "code",
      "metadata": {
        "id": "B4ksgSl2gHX3"
      },
      "source": [
        ""
      ],
      "execution_count": null,
      "outputs": []
    }
  ]
}