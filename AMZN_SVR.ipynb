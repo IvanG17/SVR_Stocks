{
  "nbformat": 4,
  "nbformat_minor": 0,
  "metadata": {
    "colab": {
      "name": "AMZN-SVR.ipynb",
      "provenance": [],
      "authorship_tag": "ABX9TyMf3sxxCFtGrK4FxSG1L05N"
    },
    "kernelspec": {
      "name": "python3",
      "display_name": "Python 3"
    },
    "language_info": {
      "name": "python"
    }
  },
  "cells": [
    {
      "cell_type": "code",
      "metadata": {
        "colab": {
          "base_uri": "https://localhost:8080/"
        },
        "id": "Usp-DCCaE9-T",
        "outputId": "790c49cf-4a27-4773-9e5f-c38626c591e3"
      },
      "source": [
        "pip install yfinance"
      ],
      "execution_count": null,
      "outputs": [
        {
          "output_type": "stream",
          "text": [
            "Collecting yfinance\n",
            "  Downloading https://files.pythonhosted.org/packages/a7/ee/315752b9ef281ba83c62aa7ec2e2074f85223da6e7e74efb4d3e11c0f510/yfinance-0.1.59.tar.gz\n",
            "Requirement already satisfied: pandas>=0.24 in /usr/local/lib/python3.7/dist-packages (from yfinance) (1.1.5)\n",
            "Requirement already satisfied: numpy>=1.15 in /usr/local/lib/python3.7/dist-packages (from yfinance) (1.19.5)\n",
            "Requirement already satisfied: requests>=2.20 in /usr/local/lib/python3.7/dist-packages (from yfinance) (2.23.0)\n",
            "Requirement already satisfied: multitasking>=0.0.7 in /usr/local/lib/python3.7/dist-packages (from yfinance) (0.0.9)\n",
            "Collecting lxml>=4.5.1\n",
            "\u001b[?25l  Downloading https://files.pythonhosted.org/packages/30/c0/d0526314971fc661b083ab135747dc68446a3022686da8c16d25fcf6ef07/lxml-4.6.3-cp37-cp37m-manylinux2014_x86_64.whl (6.3MB)\n",
            "\u001b[K     |████████████████████████████████| 6.3MB 4.3MB/s \n",
            "\u001b[?25hRequirement already satisfied: pytz>=2017.2 in /usr/local/lib/python3.7/dist-packages (from pandas>=0.24->yfinance) (2018.9)\n",
            "Requirement already satisfied: python-dateutil>=2.7.3 in /usr/local/lib/python3.7/dist-packages (from pandas>=0.24->yfinance) (2.8.1)\n",
            "Requirement already satisfied: certifi>=2017.4.17 in /usr/local/lib/python3.7/dist-packages (from requests>=2.20->yfinance) (2020.12.5)\n",
            "Requirement already satisfied: chardet<4,>=3.0.2 in /usr/local/lib/python3.7/dist-packages (from requests>=2.20->yfinance) (3.0.4)\n",
            "Requirement already satisfied: urllib3!=1.25.0,!=1.25.1,<1.26,>=1.21.1 in /usr/local/lib/python3.7/dist-packages (from requests>=2.20->yfinance) (1.24.3)\n",
            "Requirement already satisfied: idna<3,>=2.5 in /usr/local/lib/python3.7/dist-packages (from requests>=2.20->yfinance) (2.10)\n",
            "Requirement already satisfied: six>=1.5 in /usr/local/lib/python3.7/dist-packages (from python-dateutil>=2.7.3->pandas>=0.24->yfinance) (1.15.0)\n",
            "Building wheels for collected packages: yfinance\n",
            "  Building wheel for yfinance (setup.py) ... \u001b[?25l\u001b[?25hdone\n",
            "  Created wheel for yfinance: filename=yfinance-0.1.59-py2.py3-none-any.whl size=23442 sha256=1c64f3a9cc608ceb7a30be2ae70f06b8eec99bc4b020756222295677458c3be5\n",
            "  Stored in directory: /root/.cache/pip/wheels/f8/2a/0f/4b5a86e1d52e451757eb6bc17fd899629f0925c777741b6d04\n",
            "Successfully built yfinance\n",
            "Installing collected packages: lxml, yfinance\n",
            "  Found existing installation: lxml 4.2.6\n",
            "    Uninstalling lxml-4.2.6:\n",
            "      Successfully uninstalled lxml-4.2.6\n",
            "Successfully installed lxml-4.6.3 yfinance-0.1.59\n"
          ],
          "name": "stdout"
        }
      ]
    },
    {
      "cell_type": "code",
      "metadata": {
        "id": "r-ATH3QjFHPx"
      },
      "source": [
        "from sklearn.svm import SVR\n",
        "import numpy as np \n",
        "import pandas as pd \n",
        "import matplotlib.pyplot as plt \n",
        "from datetime import datetime\n"
      ],
      "execution_count": null,
      "outputs": []
    },
    {
      "cell_type": "code",
      "metadata": {
        "id": "tQKYV0KPFLVO"
      },
      "source": [
        "import yfinance as yf"
      ],
      "execution_count": null,
      "outputs": []
    },
    {
      "cell_type": "code",
      "metadata": {
        "id": "nVwFQxFQFMsI"
      },
      "source": [
        "ticker = 'AMZN'\n",
        "AMZNData = yf.Ticker(ticker)"
      ],
      "execution_count": null,
      "outputs": []
    },
    {
      "cell_type": "code",
      "metadata": {
        "id": "IFBGkYQuFTpK"
      },
      "source": [
        "amzn_df = AMZNData.history(period='1d', start= '2011-1-1', end = '2021-5-18')"
      ],
      "execution_count": null,
      "outputs": []
    },
    {
      "cell_type": "code",
      "metadata": {
        "id": "A8zvSf8HFj6W",
        "colab": {
          "base_uri": "https://localhost:8080/",
          "height": 437
        },
        "outputId": "d8a9d125-0710-4a6a-9c71-40365d42b4f9"
      },
      "source": [
        "amzn_df"
      ],
      "execution_count": null,
      "outputs": [
        {
          "output_type": "execute_result",
          "data": {
            "text/html": [
              "<div>\n",
              "<style scoped>\n",
              "    .dataframe tbody tr th:only-of-type {\n",
              "        vertical-align: middle;\n",
              "    }\n",
              "\n",
              "    .dataframe tbody tr th {\n",
              "        vertical-align: top;\n",
              "    }\n",
              "\n",
              "    .dataframe thead th {\n",
              "        text-align: right;\n",
              "    }\n",
              "</style>\n",
              "<table border=\"1\" class=\"dataframe\">\n",
              "  <thead>\n",
              "    <tr style=\"text-align: right;\">\n",
              "      <th></th>\n",
              "      <th>Open</th>\n",
              "      <th>High</th>\n",
              "      <th>Low</th>\n",
              "      <th>Close</th>\n",
              "      <th>Volume</th>\n",
              "      <th>Dividends</th>\n",
              "      <th>Stock Splits</th>\n",
              "    </tr>\n",
              "    <tr>\n",
              "      <th>Date</th>\n",
              "      <th></th>\n",
              "      <th></th>\n",
              "      <th></th>\n",
              "      <th></th>\n",
              "      <th></th>\n",
              "      <th></th>\n",
              "      <th></th>\n",
              "    </tr>\n",
              "  </thead>\n",
              "  <tbody>\n",
              "    <tr>\n",
              "      <th>2011-01-03</th>\n",
              "      <td>181.369995</td>\n",
              "      <td>186.000000</td>\n",
              "      <td>181.210007</td>\n",
              "      <td>184.220001</td>\n",
              "      <td>5331400</td>\n",
              "      <td>0</td>\n",
              "      <td>0</td>\n",
              "    </tr>\n",
              "    <tr>\n",
              "      <th>2011-01-04</th>\n",
              "      <td>186.149994</td>\n",
              "      <td>187.699997</td>\n",
              "      <td>183.779999</td>\n",
              "      <td>185.009995</td>\n",
              "      <td>5031800</td>\n",
              "      <td>0</td>\n",
              "      <td>0</td>\n",
              "    </tr>\n",
              "    <tr>\n",
              "      <th>2011-01-05</th>\n",
              "      <td>184.100006</td>\n",
              "      <td>187.449997</td>\n",
              "      <td>184.070007</td>\n",
              "      <td>187.419998</td>\n",
              "      <td>3418800</td>\n",
              "      <td>0</td>\n",
              "      <td>0</td>\n",
              "    </tr>\n",
              "    <tr>\n",
              "      <th>2011-01-06</th>\n",
              "      <td>186.500000</td>\n",
              "      <td>187.410004</td>\n",
              "      <td>185.250000</td>\n",
              "      <td>185.860001</td>\n",
              "      <td>3179700</td>\n",
              "      <td>0</td>\n",
              "      <td>0</td>\n",
              "    </tr>\n",
              "    <tr>\n",
              "      <th>2011-01-07</th>\n",
              "      <td>187.880005</td>\n",
              "      <td>188.449997</td>\n",
              "      <td>183.740005</td>\n",
              "      <td>185.490005</td>\n",
              "      <td>5221700</td>\n",
              "      <td>0</td>\n",
              "      <td>0</td>\n",
              "    </tr>\n",
              "    <tr>\n",
              "      <th>...</th>\n",
              "      <td>...</td>\n",
              "      <td>...</td>\n",
              "      <td>...</td>\n",
              "      <td>...</td>\n",
              "      <td>...</td>\n",
              "      <td>...</td>\n",
              "      <td>...</td>\n",
              "    </tr>\n",
              "    <tr>\n",
              "      <th>2021-05-11</th>\n",
              "      <td>3136.280029</td>\n",
              "      <td>3238.000000</td>\n",
              "      <td>3127.370117</td>\n",
              "      <td>3223.909912</td>\n",
              "      <td>4619800</td>\n",
              "      <td>0</td>\n",
              "      <td>0</td>\n",
              "    </tr>\n",
              "    <tr>\n",
              "      <th>2021-05-12</th>\n",
              "      <td>3185.000000</td>\n",
              "      <td>3207.939941</td>\n",
              "      <td>3133.100098</td>\n",
              "      <td>3151.939941</td>\n",
              "      <td>4936400</td>\n",
              "      <td>0</td>\n",
              "      <td>0</td>\n",
              "    </tr>\n",
              "    <tr>\n",
              "      <th>2021-05-13</th>\n",
              "      <td>3185.469971</td>\n",
              "      <td>3203.840088</td>\n",
              "      <td>3133.000000</td>\n",
              "      <td>3161.469971</td>\n",
              "      <td>3350900</td>\n",
              "      <td>0</td>\n",
              "      <td>0</td>\n",
              "    </tr>\n",
              "    <tr>\n",
              "      <th>2021-05-14</th>\n",
              "      <td>3185.560059</td>\n",
              "      <td>3228.860107</td>\n",
              "      <td>3183.000000</td>\n",
              "      <td>3222.899902</td>\n",
              "      <td>3321400</td>\n",
              "      <td>0</td>\n",
              "      <td>0</td>\n",
              "    </tr>\n",
              "    <tr>\n",
              "      <th>2021-05-17</th>\n",
              "      <td>3245.929932</td>\n",
              "      <td>3292.750000</td>\n",
              "      <td>3234.590088</td>\n",
              "      <td>3270.389893</td>\n",
              "      <td>3723900</td>\n",
              "      <td>0</td>\n",
              "      <td>0</td>\n",
              "    </tr>\n",
              "  </tbody>\n",
              "</table>\n",
              "<p>2610 rows × 7 columns</p>\n",
              "</div>"
            ],
            "text/plain": [
              "                   Open         High  ...  Dividends  Stock Splits\n",
              "Date                                  ...                         \n",
              "2011-01-03   181.369995   186.000000  ...          0             0\n",
              "2011-01-04   186.149994   187.699997  ...          0             0\n",
              "2011-01-05   184.100006   187.449997  ...          0             0\n",
              "2011-01-06   186.500000   187.410004  ...          0             0\n",
              "2011-01-07   187.880005   188.449997  ...          0             0\n",
              "...                 ...          ...  ...        ...           ...\n",
              "2021-05-11  3136.280029  3238.000000  ...          0             0\n",
              "2021-05-12  3185.000000  3207.939941  ...          0             0\n",
              "2021-05-13  3185.469971  3203.840088  ...          0             0\n",
              "2021-05-14  3185.560059  3228.860107  ...          0             0\n",
              "2021-05-17  3245.929932  3292.750000  ...          0             0\n",
              "\n",
              "[2610 rows x 7 columns]"
            ]
          },
          "metadata": {
            "tags": []
          },
          "execution_count": 7
        }
      ]
    },
    {
      "cell_type": "code",
      "metadata": {
        "id": "_FynukLuFk4U",
        "colab": {
          "base_uri": "https://localhost:8080/"
        },
        "outputId": "d3a6eead-d402-4bf1-a7fb-694d679a76c8"
      },
      "source": [
        "for col in amzn_df.columns:\n",
        "  print (col)"
      ],
      "execution_count": null,
      "outputs": [
        {
          "output_type": "stream",
          "text": [
            "Open\n",
            "High\n",
            "Low\n",
            "Close\n",
            "Volume\n",
            "Dividends\n",
            "Stock Splits\n"
          ],
          "name": "stdout"
        }
      ]
    },
    {
      "cell_type": "code",
      "metadata": {
        "id": "8PhFqe1lFuHR"
      },
      "source": [
        "amzn_df.reset_index(inplace=True)\n",
        "amzn_df.set_index('Date', inplace=True)"
      ],
      "execution_count": null,
      "outputs": []
    },
    {
      "cell_type": "code",
      "metadata": {
        "id": "QzZoHjKhGrib",
        "colab": {
          "base_uri": "https://localhost:8080/",
          "height": 437
        },
        "outputId": "c794e27b-1543-4571-e562-a327e08a29fa"
      },
      "source": [
        "amzn_df"
      ],
      "execution_count": null,
      "outputs": [
        {
          "output_type": "execute_result",
          "data": {
            "text/html": [
              "<div>\n",
              "<style scoped>\n",
              "    .dataframe tbody tr th:only-of-type {\n",
              "        vertical-align: middle;\n",
              "    }\n",
              "\n",
              "    .dataframe tbody tr th {\n",
              "        vertical-align: top;\n",
              "    }\n",
              "\n",
              "    .dataframe thead th {\n",
              "        text-align: right;\n",
              "    }\n",
              "</style>\n",
              "<table border=\"1\" class=\"dataframe\">\n",
              "  <thead>\n",
              "    <tr style=\"text-align: right;\">\n",
              "      <th></th>\n",
              "      <th>Open</th>\n",
              "      <th>High</th>\n",
              "      <th>Low</th>\n",
              "      <th>Close</th>\n",
              "      <th>Volume</th>\n",
              "      <th>Dividends</th>\n",
              "      <th>Stock Splits</th>\n",
              "    </tr>\n",
              "    <tr>\n",
              "      <th>Date</th>\n",
              "      <th></th>\n",
              "      <th></th>\n",
              "      <th></th>\n",
              "      <th></th>\n",
              "      <th></th>\n",
              "      <th></th>\n",
              "      <th></th>\n",
              "    </tr>\n",
              "  </thead>\n",
              "  <tbody>\n",
              "    <tr>\n",
              "      <th>2011-01-03</th>\n",
              "      <td>181.369995</td>\n",
              "      <td>186.000000</td>\n",
              "      <td>181.210007</td>\n",
              "      <td>184.220001</td>\n",
              "      <td>5331400</td>\n",
              "      <td>0</td>\n",
              "      <td>0</td>\n",
              "    </tr>\n",
              "    <tr>\n",
              "      <th>2011-01-04</th>\n",
              "      <td>186.149994</td>\n",
              "      <td>187.699997</td>\n",
              "      <td>183.779999</td>\n",
              "      <td>185.009995</td>\n",
              "      <td>5031800</td>\n",
              "      <td>0</td>\n",
              "      <td>0</td>\n",
              "    </tr>\n",
              "    <tr>\n",
              "      <th>2011-01-05</th>\n",
              "      <td>184.100006</td>\n",
              "      <td>187.449997</td>\n",
              "      <td>184.070007</td>\n",
              "      <td>187.419998</td>\n",
              "      <td>3418800</td>\n",
              "      <td>0</td>\n",
              "      <td>0</td>\n",
              "    </tr>\n",
              "    <tr>\n",
              "      <th>2011-01-06</th>\n",
              "      <td>186.500000</td>\n",
              "      <td>187.410004</td>\n",
              "      <td>185.250000</td>\n",
              "      <td>185.860001</td>\n",
              "      <td>3179700</td>\n",
              "      <td>0</td>\n",
              "      <td>0</td>\n",
              "    </tr>\n",
              "    <tr>\n",
              "      <th>2011-01-07</th>\n",
              "      <td>187.880005</td>\n",
              "      <td>188.449997</td>\n",
              "      <td>183.740005</td>\n",
              "      <td>185.490005</td>\n",
              "      <td>5221700</td>\n",
              "      <td>0</td>\n",
              "      <td>0</td>\n",
              "    </tr>\n",
              "    <tr>\n",
              "      <th>...</th>\n",
              "      <td>...</td>\n",
              "      <td>...</td>\n",
              "      <td>...</td>\n",
              "      <td>...</td>\n",
              "      <td>...</td>\n",
              "      <td>...</td>\n",
              "      <td>...</td>\n",
              "    </tr>\n",
              "    <tr>\n",
              "      <th>2021-05-11</th>\n",
              "      <td>3136.280029</td>\n",
              "      <td>3238.000000</td>\n",
              "      <td>3127.370117</td>\n",
              "      <td>3223.909912</td>\n",
              "      <td>4619800</td>\n",
              "      <td>0</td>\n",
              "      <td>0</td>\n",
              "    </tr>\n",
              "    <tr>\n",
              "      <th>2021-05-12</th>\n",
              "      <td>3185.000000</td>\n",
              "      <td>3207.939941</td>\n",
              "      <td>3133.100098</td>\n",
              "      <td>3151.939941</td>\n",
              "      <td>4936400</td>\n",
              "      <td>0</td>\n",
              "      <td>0</td>\n",
              "    </tr>\n",
              "    <tr>\n",
              "      <th>2021-05-13</th>\n",
              "      <td>3185.469971</td>\n",
              "      <td>3203.840088</td>\n",
              "      <td>3133.000000</td>\n",
              "      <td>3161.469971</td>\n",
              "      <td>3350900</td>\n",
              "      <td>0</td>\n",
              "      <td>0</td>\n",
              "    </tr>\n",
              "    <tr>\n",
              "      <th>2021-05-14</th>\n",
              "      <td>3185.560059</td>\n",
              "      <td>3228.860107</td>\n",
              "      <td>3183.000000</td>\n",
              "      <td>3222.899902</td>\n",
              "      <td>3321400</td>\n",
              "      <td>0</td>\n",
              "      <td>0</td>\n",
              "    </tr>\n",
              "    <tr>\n",
              "      <th>2021-05-17</th>\n",
              "      <td>3245.929932</td>\n",
              "      <td>3292.750000</td>\n",
              "      <td>3234.590088</td>\n",
              "      <td>3270.389893</td>\n",
              "      <td>3723900</td>\n",
              "      <td>0</td>\n",
              "      <td>0</td>\n",
              "    </tr>\n",
              "  </tbody>\n",
              "</table>\n",
              "<p>2610 rows × 7 columns</p>\n",
              "</div>"
            ],
            "text/plain": [
              "                   Open         High  ...  Dividends  Stock Splits\n",
              "Date                                  ...                         \n",
              "2011-01-03   181.369995   186.000000  ...          0             0\n",
              "2011-01-04   186.149994   187.699997  ...          0             0\n",
              "2011-01-05   184.100006   187.449997  ...          0             0\n",
              "2011-01-06   186.500000   187.410004  ...          0             0\n",
              "2011-01-07   187.880005   188.449997  ...          0             0\n",
              "...                 ...          ...  ...        ...           ...\n",
              "2021-05-11  3136.280029  3238.000000  ...          0             0\n",
              "2021-05-12  3185.000000  3207.939941  ...          0             0\n",
              "2021-05-13  3185.469971  3203.840088  ...          0             0\n",
              "2021-05-14  3185.560059  3228.860107  ...          0             0\n",
              "2021-05-17  3245.929932  3292.750000  ...          0             0\n",
              "\n",
              "[2610 rows x 7 columns]"
            ]
          },
          "metadata": {
            "tags": []
          },
          "execution_count": 10
        }
      ]
    },
    {
      "cell_type": "code",
      "metadata": {
        "id": "XurAi2UPHf8K",
        "colab": {
          "base_uri": "https://localhost:8080/"
        },
        "outputId": "29ecda85-fffe-4b15-c105-6a706649fecc"
      },
      "source": [
        "df_Open=amzn_df[['Open']]\n",
        "df_dates=amzn_df.index.to_frame().reset_index(drop=True)\n",
        "print(df_dates)"
      ],
      "execution_count": null,
      "outputs": [
        {
          "output_type": "stream",
          "text": [
            "           Date\n",
            "0    2011-01-03\n",
            "1    2011-01-04\n",
            "2    2011-01-05\n",
            "3    2011-01-06\n",
            "4    2011-01-07\n",
            "...         ...\n",
            "2605 2021-05-11\n",
            "2606 2021-05-12\n",
            "2607 2021-05-13\n",
            "2608 2021-05-14\n",
            "2609 2021-05-17\n",
            "\n",
            "[2610 rows x 1 columns]\n"
          ],
          "name": "stdout"
        }
      ]
    },
    {
      "cell_type": "code",
      "metadata": {
        "id": "NU7WwRZBHhSB"
      },
      "source": [
        "#amzn_df = pd.concat([amzn_df, df_dates])"
      ],
      "execution_count": null,
      "outputs": []
    },
    {
      "cell_type": "code",
      "metadata": {
        "id": "gQxYLvYsH6-o",
        "colab": {
          "base_uri": "https://localhost:8080/",
          "height": 437
        },
        "outputId": "aaac4905-cba2-4e4c-b5e5-333054f9316b"
      },
      "source": [
        "amzn_df"
      ],
      "execution_count": null,
      "outputs": [
        {
          "output_type": "execute_result",
          "data": {
            "text/html": [
              "<div>\n",
              "<style scoped>\n",
              "    .dataframe tbody tr th:only-of-type {\n",
              "        vertical-align: middle;\n",
              "    }\n",
              "\n",
              "    .dataframe tbody tr th {\n",
              "        vertical-align: top;\n",
              "    }\n",
              "\n",
              "    .dataframe thead th {\n",
              "        text-align: right;\n",
              "    }\n",
              "</style>\n",
              "<table border=\"1\" class=\"dataframe\">\n",
              "  <thead>\n",
              "    <tr style=\"text-align: right;\">\n",
              "      <th></th>\n",
              "      <th>Open</th>\n",
              "      <th>High</th>\n",
              "      <th>Low</th>\n",
              "      <th>Close</th>\n",
              "      <th>Volume</th>\n",
              "      <th>Dividends</th>\n",
              "      <th>Stock Splits</th>\n",
              "    </tr>\n",
              "    <tr>\n",
              "      <th>Date</th>\n",
              "      <th></th>\n",
              "      <th></th>\n",
              "      <th></th>\n",
              "      <th></th>\n",
              "      <th></th>\n",
              "      <th></th>\n",
              "      <th></th>\n",
              "    </tr>\n",
              "  </thead>\n",
              "  <tbody>\n",
              "    <tr>\n",
              "      <th>2011-01-03</th>\n",
              "      <td>181.369995</td>\n",
              "      <td>186.000000</td>\n",
              "      <td>181.210007</td>\n",
              "      <td>184.220001</td>\n",
              "      <td>5331400</td>\n",
              "      <td>0</td>\n",
              "      <td>0</td>\n",
              "    </tr>\n",
              "    <tr>\n",
              "      <th>2011-01-04</th>\n",
              "      <td>186.149994</td>\n",
              "      <td>187.699997</td>\n",
              "      <td>183.779999</td>\n",
              "      <td>185.009995</td>\n",
              "      <td>5031800</td>\n",
              "      <td>0</td>\n",
              "      <td>0</td>\n",
              "    </tr>\n",
              "    <tr>\n",
              "      <th>2011-01-05</th>\n",
              "      <td>184.100006</td>\n",
              "      <td>187.449997</td>\n",
              "      <td>184.070007</td>\n",
              "      <td>187.419998</td>\n",
              "      <td>3418800</td>\n",
              "      <td>0</td>\n",
              "      <td>0</td>\n",
              "    </tr>\n",
              "    <tr>\n",
              "      <th>2011-01-06</th>\n",
              "      <td>186.500000</td>\n",
              "      <td>187.410004</td>\n",
              "      <td>185.250000</td>\n",
              "      <td>185.860001</td>\n",
              "      <td>3179700</td>\n",
              "      <td>0</td>\n",
              "      <td>0</td>\n",
              "    </tr>\n",
              "    <tr>\n",
              "      <th>2011-01-07</th>\n",
              "      <td>187.880005</td>\n",
              "      <td>188.449997</td>\n",
              "      <td>183.740005</td>\n",
              "      <td>185.490005</td>\n",
              "      <td>5221700</td>\n",
              "      <td>0</td>\n",
              "      <td>0</td>\n",
              "    </tr>\n",
              "    <tr>\n",
              "      <th>...</th>\n",
              "      <td>...</td>\n",
              "      <td>...</td>\n",
              "      <td>...</td>\n",
              "      <td>...</td>\n",
              "      <td>...</td>\n",
              "      <td>...</td>\n",
              "      <td>...</td>\n",
              "    </tr>\n",
              "    <tr>\n",
              "      <th>2021-05-11</th>\n",
              "      <td>3136.280029</td>\n",
              "      <td>3238.000000</td>\n",
              "      <td>3127.370117</td>\n",
              "      <td>3223.909912</td>\n",
              "      <td>4619800</td>\n",
              "      <td>0</td>\n",
              "      <td>0</td>\n",
              "    </tr>\n",
              "    <tr>\n",
              "      <th>2021-05-12</th>\n",
              "      <td>3185.000000</td>\n",
              "      <td>3207.939941</td>\n",
              "      <td>3133.100098</td>\n",
              "      <td>3151.939941</td>\n",
              "      <td>4936400</td>\n",
              "      <td>0</td>\n",
              "      <td>0</td>\n",
              "    </tr>\n",
              "    <tr>\n",
              "      <th>2021-05-13</th>\n",
              "      <td>3185.469971</td>\n",
              "      <td>3203.840088</td>\n",
              "      <td>3133.000000</td>\n",
              "      <td>3161.469971</td>\n",
              "      <td>3350900</td>\n",
              "      <td>0</td>\n",
              "      <td>0</td>\n",
              "    </tr>\n",
              "    <tr>\n",
              "      <th>2021-05-14</th>\n",
              "      <td>3185.560059</td>\n",
              "      <td>3228.860107</td>\n",
              "      <td>3183.000000</td>\n",
              "      <td>3222.899902</td>\n",
              "      <td>3321400</td>\n",
              "      <td>0</td>\n",
              "      <td>0</td>\n",
              "    </tr>\n",
              "    <tr>\n",
              "      <th>2021-05-17</th>\n",
              "      <td>3245.929932</td>\n",
              "      <td>3292.750000</td>\n",
              "      <td>3234.590088</td>\n",
              "      <td>3270.389893</td>\n",
              "      <td>3723900</td>\n",
              "      <td>0</td>\n",
              "      <td>0</td>\n",
              "    </tr>\n",
              "  </tbody>\n",
              "</table>\n",
              "<p>2610 rows × 7 columns</p>\n",
              "</div>"
            ],
            "text/plain": [
              "                   Open         High  ...  Dividends  Stock Splits\n",
              "Date                                  ...                         \n",
              "2011-01-03   181.369995   186.000000  ...          0             0\n",
              "2011-01-04   186.149994   187.699997  ...          0             0\n",
              "2011-01-05   184.100006   187.449997  ...          0             0\n",
              "2011-01-06   186.500000   187.410004  ...          0             0\n",
              "2011-01-07   187.880005   188.449997  ...          0             0\n",
              "...                 ...          ...  ...        ...           ...\n",
              "2021-05-11  3136.280029  3238.000000  ...          0             0\n",
              "2021-05-12  3185.000000  3207.939941  ...          0             0\n",
              "2021-05-13  3185.469971  3203.840088  ...          0             0\n",
              "2021-05-14  3185.560059  3228.860107  ...          0             0\n",
              "2021-05-17  3245.929932  3292.750000  ...          0             0\n",
              "\n",
              "[2610 rows x 7 columns]"
            ]
          },
          "metadata": {
            "tags": []
          },
          "execution_count": 13
        }
      ]
    },
    {
      "cell_type": "code",
      "metadata": {
        "id": "CCUSaSeZH7ml"
      },
      "source": [
        " #df_dates['Date']"
      ],
      "execution_count": null,
      "outputs": []
    },
    {
      "cell_type": "code",
      "metadata": {
        "id": "floLm7RgIP5m"
      },
      "source": [
        "#a#mzn_df=amzn_df.append(df_dates)"
      ],
      "execution_count": null,
      "outputs": []
    },
    {
      "cell_type": "code",
      "metadata": {
        "id": "F07zwKyrIQv4"
      },
      "source": [
        "amzn_df['Date']= df_dates['Date'].values"
      ],
      "execution_count": null,
      "outputs": []
    },
    {
      "cell_type": "code",
      "metadata": {
        "id": "VOCgatWOIqx-",
        "colab": {
          "base_uri": "https://localhost:8080/",
          "height": 437
        },
        "outputId": "6d0a9639-9e97-4e7f-a7ec-b9630d833885"
      },
      "source": [
        "amzn_df"
      ],
      "execution_count": null,
      "outputs": [
        {
          "output_type": "execute_result",
          "data": {
            "text/html": [
              "<div>\n",
              "<style scoped>\n",
              "    .dataframe tbody tr th:only-of-type {\n",
              "        vertical-align: middle;\n",
              "    }\n",
              "\n",
              "    .dataframe tbody tr th {\n",
              "        vertical-align: top;\n",
              "    }\n",
              "\n",
              "    .dataframe thead th {\n",
              "        text-align: right;\n",
              "    }\n",
              "</style>\n",
              "<table border=\"1\" class=\"dataframe\">\n",
              "  <thead>\n",
              "    <tr style=\"text-align: right;\">\n",
              "      <th></th>\n",
              "      <th>Open</th>\n",
              "      <th>High</th>\n",
              "      <th>Low</th>\n",
              "      <th>Close</th>\n",
              "      <th>Volume</th>\n",
              "      <th>Dividends</th>\n",
              "      <th>Stock Splits</th>\n",
              "      <th>Date</th>\n",
              "    </tr>\n",
              "    <tr>\n",
              "      <th>Date</th>\n",
              "      <th></th>\n",
              "      <th></th>\n",
              "      <th></th>\n",
              "      <th></th>\n",
              "      <th></th>\n",
              "      <th></th>\n",
              "      <th></th>\n",
              "      <th></th>\n",
              "    </tr>\n",
              "  </thead>\n",
              "  <tbody>\n",
              "    <tr>\n",
              "      <th>2011-01-03</th>\n",
              "      <td>181.369995</td>\n",
              "      <td>186.000000</td>\n",
              "      <td>181.210007</td>\n",
              "      <td>184.220001</td>\n",
              "      <td>5331400</td>\n",
              "      <td>0</td>\n",
              "      <td>0</td>\n",
              "      <td>2011-01-03</td>\n",
              "    </tr>\n",
              "    <tr>\n",
              "      <th>2011-01-04</th>\n",
              "      <td>186.149994</td>\n",
              "      <td>187.699997</td>\n",
              "      <td>183.779999</td>\n",
              "      <td>185.009995</td>\n",
              "      <td>5031800</td>\n",
              "      <td>0</td>\n",
              "      <td>0</td>\n",
              "      <td>2011-01-04</td>\n",
              "    </tr>\n",
              "    <tr>\n",
              "      <th>2011-01-05</th>\n",
              "      <td>184.100006</td>\n",
              "      <td>187.449997</td>\n",
              "      <td>184.070007</td>\n",
              "      <td>187.419998</td>\n",
              "      <td>3418800</td>\n",
              "      <td>0</td>\n",
              "      <td>0</td>\n",
              "      <td>2011-01-05</td>\n",
              "    </tr>\n",
              "    <tr>\n",
              "      <th>2011-01-06</th>\n",
              "      <td>186.500000</td>\n",
              "      <td>187.410004</td>\n",
              "      <td>185.250000</td>\n",
              "      <td>185.860001</td>\n",
              "      <td>3179700</td>\n",
              "      <td>0</td>\n",
              "      <td>0</td>\n",
              "      <td>2011-01-06</td>\n",
              "    </tr>\n",
              "    <tr>\n",
              "      <th>2011-01-07</th>\n",
              "      <td>187.880005</td>\n",
              "      <td>188.449997</td>\n",
              "      <td>183.740005</td>\n",
              "      <td>185.490005</td>\n",
              "      <td>5221700</td>\n",
              "      <td>0</td>\n",
              "      <td>0</td>\n",
              "      <td>2011-01-07</td>\n",
              "    </tr>\n",
              "    <tr>\n",
              "      <th>...</th>\n",
              "      <td>...</td>\n",
              "      <td>...</td>\n",
              "      <td>...</td>\n",
              "      <td>...</td>\n",
              "      <td>...</td>\n",
              "      <td>...</td>\n",
              "      <td>...</td>\n",
              "      <td>...</td>\n",
              "    </tr>\n",
              "    <tr>\n",
              "      <th>2021-05-11</th>\n",
              "      <td>3136.280029</td>\n",
              "      <td>3238.000000</td>\n",
              "      <td>3127.370117</td>\n",
              "      <td>3223.909912</td>\n",
              "      <td>4619800</td>\n",
              "      <td>0</td>\n",
              "      <td>0</td>\n",
              "      <td>2021-05-11</td>\n",
              "    </tr>\n",
              "    <tr>\n",
              "      <th>2021-05-12</th>\n",
              "      <td>3185.000000</td>\n",
              "      <td>3207.939941</td>\n",
              "      <td>3133.100098</td>\n",
              "      <td>3151.939941</td>\n",
              "      <td>4936400</td>\n",
              "      <td>0</td>\n",
              "      <td>0</td>\n",
              "      <td>2021-05-12</td>\n",
              "    </tr>\n",
              "    <tr>\n",
              "      <th>2021-05-13</th>\n",
              "      <td>3185.469971</td>\n",
              "      <td>3203.840088</td>\n",
              "      <td>3133.000000</td>\n",
              "      <td>3161.469971</td>\n",
              "      <td>3350900</td>\n",
              "      <td>0</td>\n",
              "      <td>0</td>\n",
              "      <td>2021-05-13</td>\n",
              "    </tr>\n",
              "    <tr>\n",
              "      <th>2021-05-14</th>\n",
              "      <td>3185.560059</td>\n",
              "      <td>3228.860107</td>\n",
              "      <td>3183.000000</td>\n",
              "      <td>3222.899902</td>\n",
              "      <td>3321400</td>\n",
              "      <td>0</td>\n",
              "      <td>0</td>\n",
              "      <td>2021-05-14</td>\n",
              "    </tr>\n",
              "    <tr>\n",
              "      <th>2021-05-17</th>\n",
              "      <td>3245.929932</td>\n",
              "      <td>3292.750000</td>\n",
              "      <td>3234.590088</td>\n",
              "      <td>3270.389893</td>\n",
              "      <td>3723900</td>\n",
              "      <td>0</td>\n",
              "      <td>0</td>\n",
              "      <td>2021-05-17</td>\n",
              "    </tr>\n",
              "  </tbody>\n",
              "</table>\n",
              "<p>2610 rows × 8 columns</p>\n",
              "</div>"
            ],
            "text/plain": [
              "                   Open         High  ...  Stock Splits       Date\n",
              "Date                                  ...                         \n",
              "2011-01-03   181.369995   186.000000  ...             0 2011-01-03\n",
              "2011-01-04   186.149994   187.699997  ...             0 2011-01-04\n",
              "2011-01-05   184.100006   187.449997  ...             0 2011-01-05\n",
              "2011-01-06   186.500000   187.410004  ...             0 2011-01-06\n",
              "2011-01-07   187.880005   188.449997  ...             0 2011-01-07\n",
              "...                 ...          ...  ...           ...        ...\n",
              "2021-05-11  3136.280029  3238.000000  ...             0 2021-05-11\n",
              "2021-05-12  3185.000000  3207.939941  ...             0 2021-05-12\n",
              "2021-05-13  3185.469971  3203.840088  ...             0 2021-05-13\n",
              "2021-05-14  3185.560059  3228.860107  ...             0 2021-05-14\n",
              "2021-05-17  3245.929932  3292.750000  ...             0 2021-05-17\n",
              "\n",
              "[2610 rows x 8 columns]"
            ]
          },
          "metadata": {
            "tags": []
          },
          "execution_count": 17
        }
      ]
    },
    {
      "cell_type": "code",
      "metadata": {
        "id": "su1iv34TJBL3"
      },
      "source": [
        "amzn_df['Date'] = amzn_df['Date'].astype(str)"
      ],
      "execution_count": null,
      "outputs": []
    },
    {
      "cell_type": "code",
      "metadata": {
        "id": "z8-qFpabJGq6"
      },
      "source": [
        "amzn_df['new_date'] = amzn_df['Date'].str.replace('\\D', '').astype(int)"
      ],
      "execution_count": null,
      "outputs": []
    },
    {
      "cell_type": "code",
      "metadata": {
        "id": "agyTW_EiJMBz",
        "colab": {
          "base_uri": "https://localhost:8080/",
          "height": 437
        },
        "outputId": "38c58d9a-d11c-47eb-c104-188146c66780"
      },
      "source": [
        "amzn_df"
      ],
      "execution_count": null,
      "outputs": [
        {
          "output_type": "execute_result",
          "data": {
            "text/html": [
              "<div>\n",
              "<style scoped>\n",
              "    .dataframe tbody tr th:only-of-type {\n",
              "        vertical-align: middle;\n",
              "    }\n",
              "\n",
              "    .dataframe tbody tr th {\n",
              "        vertical-align: top;\n",
              "    }\n",
              "\n",
              "    .dataframe thead th {\n",
              "        text-align: right;\n",
              "    }\n",
              "</style>\n",
              "<table border=\"1\" class=\"dataframe\">\n",
              "  <thead>\n",
              "    <tr style=\"text-align: right;\">\n",
              "      <th></th>\n",
              "      <th>Open</th>\n",
              "      <th>High</th>\n",
              "      <th>Low</th>\n",
              "      <th>Close</th>\n",
              "      <th>Volume</th>\n",
              "      <th>Dividends</th>\n",
              "      <th>Stock Splits</th>\n",
              "      <th>Date</th>\n",
              "      <th>new_date</th>\n",
              "    </tr>\n",
              "    <tr>\n",
              "      <th>Date</th>\n",
              "      <th></th>\n",
              "      <th></th>\n",
              "      <th></th>\n",
              "      <th></th>\n",
              "      <th></th>\n",
              "      <th></th>\n",
              "      <th></th>\n",
              "      <th></th>\n",
              "      <th></th>\n",
              "    </tr>\n",
              "  </thead>\n",
              "  <tbody>\n",
              "    <tr>\n",
              "      <th>2011-01-03</th>\n",
              "      <td>181.369995</td>\n",
              "      <td>186.000000</td>\n",
              "      <td>181.210007</td>\n",
              "      <td>184.220001</td>\n",
              "      <td>5331400</td>\n",
              "      <td>0</td>\n",
              "      <td>0</td>\n",
              "      <td>2011-01-03</td>\n",
              "      <td>20110103</td>\n",
              "    </tr>\n",
              "    <tr>\n",
              "      <th>2011-01-04</th>\n",
              "      <td>186.149994</td>\n",
              "      <td>187.699997</td>\n",
              "      <td>183.779999</td>\n",
              "      <td>185.009995</td>\n",
              "      <td>5031800</td>\n",
              "      <td>0</td>\n",
              "      <td>0</td>\n",
              "      <td>2011-01-04</td>\n",
              "      <td>20110104</td>\n",
              "    </tr>\n",
              "    <tr>\n",
              "      <th>2011-01-05</th>\n",
              "      <td>184.100006</td>\n",
              "      <td>187.449997</td>\n",
              "      <td>184.070007</td>\n",
              "      <td>187.419998</td>\n",
              "      <td>3418800</td>\n",
              "      <td>0</td>\n",
              "      <td>0</td>\n",
              "      <td>2011-01-05</td>\n",
              "      <td>20110105</td>\n",
              "    </tr>\n",
              "    <tr>\n",
              "      <th>2011-01-06</th>\n",
              "      <td>186.500000</td>\n",
              "      <td>187.410004</td>\n",
              "      <td>185.250000</td>\n",
              "      <td>185.860001</td>\n",
              "      <td>3179700</td>\n",
              "      <td>0</td>\n",
              "      <td>0</td>\n",
              "      <td>2011-01-06</td>\n",
              "      <td>20110106</td>\n",
              "    </tr>\n",
              "    <tr>\n",
              "      <th>2011-01-07</th>\n",
              "      <td>187.880005</td>\n",
              "      <td>188.449997</td>\n",
              "      <td>183.740005</td>\n",
              "      <td>185.490005</td>\n",
              "      <td>5221700</td>\n",
              "      <td>0</td>\n",
              "      <td>0</td>\n",
              "      <td>2011-01-07</td>\n",
              "      <td>20110107</td>\n",
              "    </tr>\n",
              "    <tr>\n",
              "      <th>...</th>\n",
              "      <td>...</td>\n",
              "      <td>...</td>\n",
              "      <td>...</td>\n",
              "      <td>...</td>\n",
              "      <td>...</td>\n",
              "      <td>...</td>\n",
              "      <td>...</td>\n",
              "      <td>...</td>\n",
              "      <td>...</td>\n",
              "    </tr>\n",
              "    <tr>\n",
              "      <th>2021-05-11</th>\n",
              "      <td>3136.280029</td>\n",
              "      <td>3238.000000</td>\n",
              "      <td>3127.370117</td>\n",
              "      <td>3223.909912</td>\n",
              "      <td>4619800</td>\n",
              "      <td>0</td>\n",
              "      <td>0</td>\n",
              "      <td>2021-05-11</td>\n",
              "      <td>20210511</td>\n",
              "    </tr>\n",
              "    <tr>\n",
              "      <th>2021-05-12</th>\n",
              "      <td>3185.000000</td>\n",
              "      <td>3207.939941</td>\n",
              "      <td>3133.100098</td>\n",
              "      <td>3151.939941</td>\n",
              "      <td>4936400</td>\n",
              "      <td>0</td>\n",
              "      <td>0</td>\n",
              "      <td>2021-05-12</td>\n",
              "      <td>20210512</td>\n",
              "    </tr>\n",
              "    <tr>\n",
              "      <th>2021-05-13</th>\n",
              "      <td>3185.469971</td>\n",
              "      <td>3203.840088</td>\n",
              "      <td>3133.000000</td>\n",
              "      <td>3161.469971</td>\n",
              "      <td>3350900</td>\n",
              "      <td>0</td>\n",
              "      <td>0</td>\n",
              "      <td>2021-05-13</td>\n",
              "      <td>20210513</td>\n",
              "    </tr>\n",
              "    <tr>\n",
              "      <th>2021-05-14</th>\n",
              "      <td>3185.560059</td>\n",
              "      <td>3228.860107</td>\n",
              "      <td>3183.000000</td>\n",
              "      <td>3222.899902</td>\n",
              "      <td>3321400</td>\n",
              "      <td>0</td>\n",
              "      <td>0</td>\n",
              "      <td>2021-05-14</td>\n",
              "      <td>20210514</td>\n",
              "    </tr>\n",
              "    <tr>\n",
              "      <th>2021-05-17</th>\n",
              "      <td>3245.929932</td>\n",
              "      <td>3292.750000</td>\n",
              "      <td>3234.590088</td>\n",
              "      <td>3270.389893</td>\n",
              "      <td>3723900</td>\n",
              "      <td>0</td>\n",
              "      <td>0</td>\n",
              "      <td>2021-05-17</td>\n",
              "      <td>20210517</td>\n",
              "    </tr>\n",
              "  </tbody>\n",
              "</table>\n",
              "<p>2610 rows × 9 columns</p>\n",
              "</div>"
            ],
            "text/plain": [
              "                   Open         High  ...        Date  new_date\n",
              "Date                                  ...                      \n",
              "2011-01-03   181.369995   186.000000  ...  2011-01-03  20110103\n",
              "2011-01-04   186.149994   187.699997  ...  2011-01-04  20110104\n",
              "2011-01-05   184.100006   187.449997  ...  2011-01-05  20110105\n",
              "2011-01-06   186.500000   187.410004  ...  2011-01-06  20110106\n",
              "2011-01-07   187.880005   188.449997  ...  2011-01-07  20110107\n",
              "...                 ...          ...  ...         ...       ...\n",
              "2021-05-11  3136.280029  3238.000000  ...  2021-05-11  20210511\n",
              "2021-05-12  3185.000000  3207.939941  ...  2021-05-12  20210512\n",
              "2021-05-13  3185.469971  3203.840088  ...  2021-05-13  20210513\n",
              "2021-05-14  3185.560059  3228.860107  ...  2021-05-14  20210514\n",
              "2021-05-17  3245.929932  3292.750000  ...  2021-05-17  20210517\n",
              "\n",
              "[2610 rows x 9 columns]"
            ]
          },
          "metadata": {
            "tags": []
          },
          "execution_count": 20
        }
      ]
    },
    {
      "cell_type": "code",
      "metadata": {
        "id": "J4cFyPpNJOPD",
        "colab": {
          "base_uri": "https://localhost:8080/",
          "height": 107
        },
        "outputId": "3ec98cf5-41aa-44ca-9dcc-076cd23b07a4"
      },
      "source": [
        "actual_price = amzn_df.tail(1)\n",
        "actual_price"
      ],
      "execution_count": null,
      "outputs": [
        {
          "output_type": "execute_result",
          "data": {
            "text/html": [
              "<div>\n",
              "<style scoped>\n",
              "    .dataframe tbody tr th:only-of-type {\n",
              "        vertical-align: middle;\n",
              "    }\n",
              "\n",
              "    .dataframe tbody tr th {\n",
              "        vertical-align: top;\n",
              "    }\n",
              "\n",
              "    .dataframe thead th {\n",
              "        text-align: right;\n",
              "    }\n",
              "</style>\n",
              "<table border=\"1\" class=\"dataframe\">\n",
              "  <thead>\n",
              "    <tr style=\"text-align: right;\">\n",
              "      <th></th>\n",
              "      <th>Open</th>\n",
              "      <th>High</th>\n",
              "      <th>Low</th>\n",
              "      <th>Close</th>\n",
              "      <th>Volume</th>\n",
              "      <th>Dividends</th>\n",
              "      <th>Stock Splits</th>\n",
              "      <th>Date</th>\n",
              "      <th>new_date</th>\n",
              "    </tr>\n",
              "    <tr>\n",
              "      <th>Date</th>\n",
              "      <th></th>\n",
              "      <th></th>\n",
              "      <th></th>\n",
              "      <th></th>\n",
              "      <th></th>\n",
              "      <th></th>\n",
              "      <th></th>\n",
              "      <th></th>\n",
              "      <th></th>\n",
              "    </tr>\n",
              "  </thead>\n",
              "  <tbody>\n",
              "    <tr>\n",
              "      <th>2021-05-17</th>\n",
              "      <td>3245.929932</td>\n",
              "      <td>3292.75</td>\n",
              "      <td>3234.590088</td>\n",
              "      <td>3270.389893</td>\n",
              "      <td>3723900</td>\n",
              "      <td>0</td>\n",
              "      <td>0</td>\n",
              "      <td>2021-05-17</td>\n",
              "      <td>20210517</td>\n",
              "    </tr>\n",
              "  </tbody>\n",
              "</table>\n",
              "</div>"
            ],
            "text/plain": [
              "                   Open     High  ...        Date  new_date\n",
              "Date                              ...                      \n",
              "2021-05-17  3245.929932  3292.75  ...  2021-05-17  20210517\n",
              "\n",
              "[1 rows x 9 columns]"
            ]
          },
          "metadata": {
            "tags": []
          },
          "execution_count": 21
        }
      ]
    },
    {
      "cell_type": "code",
      "metadata": {
        "id": "aU4AvhTtIDvw",
        "colab": {
          "base_uri": "https://localhost:8080/"
        },
        "outputId": "76659e86-d3a8-400c-af1e-1022367d3e45"
      },
      "source": [
        "x=actual_price['Close']\n",
        "list2=[]\n",
        "list2.append(x)\n",
        "list2\n",
        "\n",
        "y= 1+ list2[0]\n",
        "print(list2[0])\n",
        "print(y)\n",
        "\n",
        "len(list2)\n"
      ],
      "execution_count": null,
      "outputs": [
        {
          "output_type": "stream",
          "text": [
            "Date\n",
            "2021-05-17    3270.389893\n",
            "Name: Close, dtype: float64\n",
            "Date\n",
            "2021-05-17    3271.389893\n",
            "Name: Close, dtype: float64\n"
          ],
          "name": "stdout"
        },
        {
          "output_type": "execute_result",
          "data": {
            "text/plain": [
              "1"
            ]
          },
          "metadata": {
            "tags": []
          },
          "execution_count": 22
        }
      ]
    },
    {
      "cell_type": "code",
      "metadata": {
        "id": "c7NU9Ky7JRvt"
      },
      "source": [
        "amzn_df = amzn_df.head(len(amzn_df)-1)"
      ],
      "execution_count": null,
      "outputs": []
    },
    {
      "cell_type": "code",
      "metadata": {
        "id": "4faIDnyGJWNs"
      },
      "source": [
        "days = list()\n",
        "close_prices= list()"
      ],
      "execution_count": null,
      "outputs": []
    },
    {
      "cell_type": "code",
      "metadata": {
        "id": "9oSeJ9Z3JZoG",
        "colab": {
          "base_uri": "https://localhost:8080/"
        },
        "outputId": "503a9c45-e933-40a3-acbf-4c454ba9fc17"
      },
      "source": [
        "df_days = amzn_df.loc[:,'new_date']\n",
        "df_days"
      ],
      "execution_count": null,
      "outputs": [
        {
          "output_type": "execute_result",
          "data": {
            "text/plain": [
              "Date\n",
              "2011-01-03    20110103\n",
              "2011-01-04    20110104\n",
              "2011-01-05    20110105\n",
              "2011-01-06    20110106\n",
              "2011-01-07    20110107\n",
              "                ...   \n",
              "2021-05-10    20210510\n",
              "2021-05-11    20210511\n",
              "2021-05-12    20210512\n",
              "2021-05-13    20210513\n",
              "2021-05-14    20210514\n",
              "Name: new_date, Length: 2609, dtype: int64"
            ]
          },
          "metadata": {
            "tags": []
          },
          "execution_count": 25
        }
      ]
    },
    {
      "cell_type": "code",
      "metadata": {
        "id": "4Xkxsaf5Jb7K"
      },
      "source": [
        "df_close_price = amzn_df.loc[:,'Close']"
      ],
      "execution_count": null,
      "outputs": []
    },
    {
      "cell_type": "code",
      "metadata": {
        "id": "gt3bqO-mJecR"
      },
      "source": [
        "for dates in df_days:\n",
        "  days.append([int(dates)])\n",
        "\n",
        "days"
      ],
      "execution_count": null,
      "outputs": []
    },
    {
      "cell_type": "code",
      "metadata": {
        "id": "LLYeb7akJhys"
      },
      "source": [
        "for price in df_close_price: \n",
        "  close_prices.append(float(price))\n",
        "\n",
        "close_prices"
      ],
      "execution_count": null,
      "outputs": []
    },
    {
      "cell_type": "code",
      "metadata": {
        "id": "1F3eBNvLJjcQ"
      },
      "source": [
        "print(days)\n",
        "print(close_prices)\n",
        "\n",
        "print(len(days))\n",
        "print(len(close_prices))"
      ],
      "execution_count": null,
      "outputs": []
    },
    {
      "cell_type": "code",
      "metadata": {
        "colab": {
          "base_uri": "https://localhost:8080/"
        },
        "id": "LwRGN32wYYD_",
        "outputId": "188e51d5-1659-433d-8490-21d31e02e23a"
      },
      "source": [
        "rbf = SVR(kernel= 'rbf', C= 1000.0, gamma= 1E-5)\n",
        "rbf.fit(days, close_prices)"
      ],
      "execution_count": null,
      "outputs": [
        {
          "output_type": "execute_result",
          "data": {
            "text/plain": [
              "SVR(C=1000.0, cache_size=200, coef0=0.0, degree=3, epsilon=0.1, gamma=1e-05,\n",
              "    kernel='rbf', max_iter=-1, shrinking=True, tol=0.001, verbose=False)"
            ]
          },
          "metadata": {
            "tags": []
          },
          "execution_count": 69
        }
      ]
    },
    {
      "cell_type": "code",
      "metadata": {
        "colab": {
          "base_uri": "https://localhost:8080/",
          "height": 496
        },
        "id": "dI-YplQHYYjO",
        "outputId": "f5b18726-b0e1-4c5d-cbe0-af1009640e71"
      },
      "source": [
        "plt.figure(figsize=(16,8))\n",
        "plt.scatter(days,close_prices, color= 'red', label= 'Data')\n",
        "plt.plot(days, rbf.predict(days), color='blue', label='RBF Model')\n",
        "plt.legend()\n",
        "plt.show()"
      ],
      "execution_count": null,
      "outputs": [
        {
          "output_type": "display_data",
          "data": {
            "image/png": "[encoded data removed]",
            "text/plain": [
              "<Figure size 1152x576 with 1 Axes>"
            ]
          },
          "metadata": {
            "tags": [],
            "needs_background": "light"
          }
        }
      ]
    },
    {
      "cell_type": "code",
      "metadata": {
        "colab": {
          "base_uri": "https://localhost:8080/",
          "height": 107
        },
        "id": "spWei0brYm6l",
        "outputId": "98a8e958-28fc-4fc1-f957-81cb73eba4ea"
      },
      "source": [
        "actual_price"
      ],
      "execution_count": null,
      "outputs": [
        {
          "output_type": "execute_result",
          "data": {
            "text/html": [
              "<div>\n",
              "<style scoped>\n",
              "    .dataframe tbody tr th:only-of-type {\n",
              "        vertical-align: middle;\n",
              "    }\n",
              "\n",
              "    .dataframe tbody tr th {\n",
              "        vertical-align: top;\n",
              "    }\n",
              "\n",
              "    .dataframe thead th {\n",
              "        text-align: right;\n",
              "    }\n",
              "</style>\n",
              "<table border=\"1\" class=\"dataframe\">\n",
              "  <thead>\n",
              "    <tr style=\"text-align: right;\">\n",
              "      <th></th>\n",
              "      <th>Open</th>\n",
              "      <th>High</th>\n",
              "      <th>Low</th>\n",
              "      <th>Close</th>\n",
              "      <th>Volume</th>\n",
              "      <th>Dividends</th>\n",
              "      <th>Stock Splits</th>\n",
              "      <th>Date</th>\n",
              "      <th>new_date</th>\n",
              "    </tr>\n",
              "    <tr>\n",
              "      <th>Date</th>\n",
              "      <th></th>\n",
              "      <th></th>\n",
              "      <th></th>\n",
              "      <th></th>\n",
              "      <th></th>\n",
              "      <th></th>\n",
              "      <th></th>\n",
              "      <th></th>\n",
              "      <th></th>\n",
              "    </tr>\n",
              "  </thead>\n",
              "  <tbody>\n",
              "    <tr>\n",
              "      <th>2021-05-17</th>\n",
              "      <td>3245.929932</td>\n",
              "      <td>3292.75</td>\n",
              "      <td>3234.590088</td>\n",
              "      <td>3270.389893</td>\n",
              "      <td>3723900</td>\n",
              "      <td>0</td>\n",
              "      <td>0</td>\n",
              "      <td>2021-05-17</td>\n",
              "      <td>20210517</td>\n",
              "    </tr>\n",
              "  </tbody>\n",
              "</table>\n",
              "</div>"
            ],
            "text/plain": [
              "                   Open     High  ...        Date  new_date\n",
              "Date                              ...                      \n",
              "2021-05-17  3245.929932  3292.75  ...  2021-05-17  20210517\n",
              "\n",
              "[1 rows x 9 columns]"
            ]
          },
          "metadata": {
            "tags": []
          },
          "execution_count": 71
        }
      ]
    },
    {
      "cell_type": "code",
      "metadata": {
        "colab": {
          "base_uri": "https://localhost:8080/"
        },
        "id": "63hKMAF6Ynkx",
        "outputId": "50a21335-5be8-420e-ee15-5e5470f3c3da"
      },
      "source": [
        "day= [[20210517]]\n",
        "print('The predicted value on 2021-05-04 from the rbf model is: ' , rbf.predict(day))\n",
        "print('The percent error for this is: ', float((abs(3270.39-(rbf.predict(day)))/3270.39)*100),'%')"
      ],
      "execution_count": null,
      "outputs": [
        {
          "output_type": "stream",
          "text": [
            "The predicted value on 2021-05-04 from the rbf model is:  [3282.18431041]\n",
            "The percent error for this is:  0.36063926340748614 %\n"
          ],
          "name": "stdout"
        }
      ]
    },
    {
      "cell_type": "code",
      "metadata": {
        "colab": {
          "base_uri": "https://localhost:8080/"
        },
        "id": "hUXkjKj0ZLIJ",
        "outputId": "b3583b82-137a-4dea-a9a5-879fb8553cad"
      },
      "source": [
        "may_sixth = [[20210505]]\n",
        "print('The predicted value on 2021-05-05 from the rbf model is: ' , rbf.predict(may_sixth))\n",
        "print('The percent error for this is: ', float((abs(3270.54-(rbf.predict(may_sixth)))/3270.54)*100),'%')"
      ],
      "execution_count": null,
      "outputs": [
        {
          "output_type": "stream",
          "text": [
            "The predicted value on 2021-05-05 from the rbf model is:  [3292.92146587]\n",
            "The percent error for this is:  0.6843354880934155 %\n"
          ],
          "name": "stdout"
        }
      ]
    },
    {
      "cell_type": "code",
      "metadata": {
        "colab": {
          "base_uri": "https://localhost:8080/"
        },
        "id": "ah3BvtOPjny2",
        "outputId": "2f45c941-338e-4078-f74f-cfd1c4bf3d91"
      },
      "source": [
        "tomorrow = [[20210506]]\n",
        "print('The predicted value on 2021-05-06 from the rbf model is: ' , rbf.predict(tomorrow))\n",
        "print('It\\'s predicted to drop: ' , float(((3146.3458-3249.386427)/3146.3458)*100), '%')"
      ],
      "execution_count": null,
      "outputs": [
        {
          "output_type": "stream",
          "text": [
            "The predicted value on 2021-05-06 from the rbf model is:  [3292.23460979]\n",
            "It's predicted to drop:  -3.2749301427706974 %\n"
          ],
          "name": "stdout"
        }
      ]
    },
    {
      "cell_type": "code",
      "metadata": {
        "id": "pu8bWpHljhMw"
      },
      "source": [
        ""
      ],
      "execution_count": null,
      "outputs": []
    },
    {
      "cell_type": "markdown",
      "metadata": {
        "id": "4X-VhWasfFes"
      },
      "source": [
        "# RBF Unfixed"
      ]
    },
    {
      "cell_type": "code",
      "metadata": {
        "colab": {
          "base_uri": "https://localhost:8080/"
        },
        "id": "XxNEbOCafIUb",
        "outputId": "be0665dc-0114-4885-eba9-af1de04fb3a9"
      },
      "source": [
        "rbf = SVR(kernel= 'rbf', C= 1000.0, gamma= 0.15)\n",
        "rbf.fit(days, close_prices)"
      ],
      "execution_count": null,
      "outputs": [
        {
          "output_type": "execute_result",
          "data": {
            "text/plain": [
              "SVR(C=1000.0, cache_size=200, coef0=0.0, degree=3, epsilon=0.1, gamma=0.15,\n",
              "    kernel='rbf', max_iter=-1, shrinking=True, tol=0.001, verbose=False)"
            ]
          },
          "metadata": {
            "tags": []
          },
          "execution_count": 36
        }
      ]
    },
    {
      "cell_type": "code",
      "metadata": {
        "colab": {
          "base_uri": "https://localhost:8080/",
          "height": 496
        },
        "id": "VEMAn7W0fMcp",
        "outputId": "244a4156-9fc7-441c-9e5e-dc243b52068e"
      },
      "source": [
        "plt.figure(figsize=(16,8))\n",
        "plt.scatter(days,close_prices, color= 'red', label= 'Data')\n",
        "plt.plot(days, rbf.predict(days), color='blue', label='RBF Model')\n",
        "plt.legend()\n",
        "plt.show()"
      ],
      "execution_count": null,
      "outputs": [
        {
          "output_type": "display_data",
          "data": {
            "image/png": "[encoded data removed]",
            "text/plain": [
              "<Figure size 1152x576 with 1 Axes>"
            ]
          },
          "metadata": {
            "tags": [],
            "needs_background": "light"
          }
        }
      ]
    },
    {
      "cell_type": "code",
      "metadata": {
        "colab": {
          "base_uri": "https://localhost:8080/"
        },
        "id": "YYEWpoYEfRoU",
        "outputId": "b768af3a-c4be-4d53-ef8d-dd619295a8c4"
      },
      "source": [
        "day= [[20210517]]\n",
        "print('The predicted value on 2021-05-04 from the rbf model is: ' , rbf.predict(day))\n",
        "print('The percent error for this is: ', float((abs(3270.39-(rbf.predict(day)))/3270.39)*100),'%')"
      ],
      "execution_count": null,
      "outputs": [
        {
          "output_type": "stream",
          "text": [
            "The predicted value on 2021-05-04 from the rbf model is:  [1328.50654933]\n",
            "The percent error for this is:  59.377733257230325 %\n"
          ],
          "name": "stdout"
        }
      ]
    },
    {
      "cell_type": "code",
      "metadata": {
        "colab": {
          "base_uri": "https://localhost:8080/"
        },
        "id": "oKKfvAZ7fSKY",
        "outputId": "1175616d-3f1c-47a4-8926-b07cd5faadf0"
      },
      "source": [
        "may_sixth = [[20210505]]\n",
        "print('The predicted value on 2021-05-05 from the rbf model is: ' , rbf.predict(may_sixth))\n",
        "print('The percent error for this is: ', float((abs(3270.54-(rbf.predict(may_sixth)))/3270.54)*100),'%')"
      ],
      "execution_count": null,
      "outputs": [
        {
          "output_type": "stream",
          "text": [
            "The predicted value on 2021-05-05 from the rbf model is:  [3270.63977013]\n",
            "The percent error for this is:  0.0030505704322229773 %\n"
          ],
          "name": "stdout"
        }
      ]
    },
    {
      "cell_type": "markdown",
      "metadata": {
        "id": "8W-FtxYefBzY"
      },
      "source": [
        "# Linear"
      ]
    },
    {
      "cell_type": "code",
      "metadata": {
        "colab": {
          "base_uri": "https://localhost:8080/"
        },
        "id": "GaOhhP9bYygB",
        "outputId": "7127c522-d456-4eb4-f35f-7968f494172e"
      },
      "source": [
        "lin = SVR(kernel= 'linear',C= 1E-8)\n",
        "lin.fit(days, close_prices) "
      ],
      "execution_count": null,
      "outputs": [
        {
          "output_type": "execute_result",
          "data": {
            "text/plain": [
              "SVR(C=1e-08, cache_size=200, coef0=0.0, degree=3, epsilon=0.1, gamma='scale',\n",
              "    kernel='linear', max_iter=-1, shrinking=True, tol=0.001, verbose=False)"
            ]
          },
          "metadata": {
            "tags": []
          },
          "execution_count": 40
        }
      ]
    },
    {
      "cell_type": "code",
      "metadata": {
        "colab": {
          "base_uri": "https://localhost:8080/",
          "height": 496
        },
        "id": "Qy5R5NVBY8R3",
        "outputId": "952a975a-01ae-4739-acd5-3420b77c504f"
      },
      "source": [
        "plt.figure(figsize=(16,8))\n",
        "plt.scatter(days,close_prices, color= 'red', label= 'Data')\n",
        "plt.plot(days, lin.predict(days), color='blue', label='Linear Model')\n",
        "plt.legend()\n",
        "plt.show()"
      ],
      "execution_count": null,
      "outputs": [
        {
          "output_type": "display_data",
          "data": {
            "image/png": "[encoded data removed]",
            "text/plain": [
              "<Figure size 1152x576 with 1 Axes>"
            ]
          },
          "metadata": {
            "tags": [],
            "needs_background": "light"
          }
        }
      ]
    },
    {
      "cell_type": "code",
      "metadata": {
        "colab": {
          "base_uri": "https://localhost:8080/"
        },
        "id": "JA4qV_HpY8mG",
        "outputId": "d50a2bc3-2879-4586-f56f-2fb1774ae1d5"
      },
      "source": [
        "day= [[20210517]]\n",
        "print('The predicted value on 2021-05-04 from the rbf model is: ' ,lin.predict(day))\n",
        "print('The percent error for this is: ', float((abs(3270.39-(lin.predict(day)))/3270.39)*100),'%')"
      ],
      "execution_count": null,
      "outputs": [
        {
          "output_type": "stream",
          "text": [
            "The predicted value on 2021-05-04 from the rbf model is:  [2191.14735504]\n",
            "The percent error for this is:  33.000426400522464 %\n"
          ],
          "name": "stdout"
        }
      ]
    },
    {
      "cell_type": "markdown",
      "metadata": {
        "id": "58l09ZjEbngY"
      },
      "source": [
        "# 05-02-2020 - Now "
      ]
    },
    {
      "cell_type": "code",
      "metadata": {
        "id": "mNAaGK99bp-5"
      },
      "source": [
        "amzn_df2 = AMZNData.history(period='1d', start= '2020-5-2', end = '2021-5-18')"
      ],
      "execution_count": null,
      "outputs": []
    },
    {
      "cell_type": "code",
      "metadata": {
        "id": "0q7HiZpPbw7D",
        "colab": {
          "base_uri": "https://localhost:8080/",
          "height": 437
        },
        "outputId": "50ebfe52-129f-4dfb-a5f1-834f98456440"
      },
      "source": [
        "amzn_df2"
      ],
      "execution_count": null,
      "outputs": [
        {
          "output_type": "execute_result",
          "data": {
            "text/html": [
              "<div>\n",
              "<style scoped>\n",
              "    .dataframe tbody tr th:only-of-type {\n",
              "        vertical-align: middle;\n",
              "    }\n",
              "\n",
              "    .dataframe tbody tr th {\n",
              "        vertical-align: top;\n",
              "    }\n",
              "\n",
              "    .dataframe thead th {\n",
              "        text-align: right;\n",
              "    }\n",
              "</style>\n",
              "<table border=\"1\" class=\"dataframe\">\n",
              "  <thead>\n",
              "    <tr style=\"text-align: right;\">\n",
              "      <th></th>\n",
              "      <th>Open</th>\n",
              "      <th>High</th>\n",
              "      <th>Low</th>\n",
              "      <th>Close</th>\n",
              "      <th>Volume</th>\n",
              "      <th>Dividends</th>\n",
              "      <th>Stock Splits</th>\n",
              "    </tr>\n",
              "    <tr>\n",
              "      <th>Date</th>\n",
              "      <th></th>\n",
              "      <th></th>\n",
              "      <th></th>\n",
              "      <th></th>\n",
              "      <th></th>\n",
              "      <th></th>\n",
              "      <th></th>\n",
              "    </tr>\n",
              "  </thead>\n",
              "  <tbody>\n",
              "    <tr>\n",
              "      <th>2020-05-04</th>\n",
              "      <td>2256.379883</td>\n",
              "      <td>2326.979980</td>\n",
              "      <td>2256.379883</td>\n",
              "      <td>2315.989990</td>\n",
              "      <td>4865900</td>\n",
              "      <td>0</td>\n",
              "      <td>0</td>\n",
              "    </tr>\n",
              "    <tr>\n",
              "      <th>2020-05-05</th>\n",
              "      <td>2340.000000</td>\n",
              "      <td>2351.000000</td>\n",
              "      <td>2307.129883</td>\n",
              "      <td>2317.800049</td>\n",
              "      <td>3242500</td>\n",
              "      <td>0</td>\n",
              "      <td>0</td>\n",
              "    </tr>\n",
              "    <tr>\n",
              "      <th>2020-05-06</th>\n",
              "      <td>2329.439941</td>\n",
              "      <td>2357.449951</td>\n",
              "      <td>2320.000000</td>\n",
              "      <td>2351.260010</td>\n",
              "      <td>3117800</td>\n",
              "      <td>0</td>\n",
              "      <td>0</td>\n",
              "    </tr>\n",
              "    <tr>\n",
              "      <th>2020-05-07</th>\n",
              "      <td>2374.780029</td>\n",
              "      <td>2376.000000</td>\n",
              "      <td>2343.110107</td>\n",
              "      <td>2367.610107</td>\n",
              "      <td>3396400</td>\n",
              "      <td>0</td>\n",
              "      <td>0</td>\n",
              "    </tr>\n",
              "    <tr>\n",
              "      <th>2020-05-08</th>\n",
              "      <td>2372.139893</td>\n",
              "      <td>2387.239990</td>\n",
              "      <td>2357.000000</td>\n",
              "      <td>2379.610107</td>\n",
              "      <td>3206600</td>\n",
              "      <td>0</td>\n",
              "      <td>0</td>\n",
              "    </tr>\n",
              "    <tr>\n",
              "      <th>...</th>\n",
              "      <td>...</td>\n",
              "      <td>...</td>\n",
              "      <td>...</td>\n",
              "      <td>...</td>\n",
              "      <td>...</td>\n",
              "      <td>...</td>\n",
              "      <td>...</td>\n",
              "    </tr>\n",
              "    <tr>\n",
              "      <th>2021-05-11</th>\n",
              "      <td>3136.280029</td>\n",
              "      <td>3238.000000</td>\n",
              "      <td>3127.370117</td>\n",
              "      <td>3223.909912</td>\n",
              "      <td>4619800</td>\n",
              "      <td>0</td>\n",
              "      <td>0</td>\n",
              "    </tr>\n",
              "    <tr>\n",
              "      <th>2021-05-12</th>\n",
              "      <td>3185.000000</td>\n",
              "      <td>3207.939941</td>\n",
              "      <td>3133.100098</td>\n",
              "      <td>3151.939941</td>\n",
              "      <td>4936400</td>\n",
              "      <td>0</td>\n",
              "      <td>0</td>\n",
              "    </tr>\n",
              "    <tr>\n",
              "      <th>2021-05-13</th>\n",
              "      <td>3185.469971</td>\n",
              "      <td>3203.840088</td>\n",
              "      <td>3133.000000</td>\n",
              "      <td>3161.469971</td>\n",
              "      <td>3350900</td>\n",
              "      <td>0</td>\n",
              "      <td>0</td>\n",
              "    </tr>\n",
              "    <tr>\n",
              "      <th>2021-05-14</th>\n",
              "      <td>3185.560059</td>\n",
              "      <td>3228.860107</td>\n",
              "      <td>3183.000000</td>\n",
              "      <td>3222.899902</td>\n",
              "      <td>3321400</td>\n",
              "      <td>0</td>\n",
              "      <td>0</td>\n",
              "    </tr>\n",
              "    <tr>\n",
              "      <th>2021-05-17</th>\n",
              "      <td>3245.929932</td>\n",
              "      <td>3292.750000</td>\n",
              "      <td>3234.590088</td>\n",
              "      <td>3270.389893</td>\n",
              "      <td>3723900</td>\n",
              "      <td>0</td>\n",
              "      <td>0</td>\n",
              "    </tr>\n",
              "  </tbody>\n",
              "</table>\n",
              "<p>262 rows × 7 columns</p>\n",
              "</div>"
            ],
            "text/plain": [
              "                   Open         High  ...  Dividends  Stock Splits\n",
              "Date                                  ...                         \n",
              "2020-05-04  2256.379883  2326.979980  ...          0             0\n",
              "2020-05-05  2340.000000  2351.000000  ...          0             0\n",
              "2020-05-06  2329.439941  2357.449951  ...          0             0\n",
              "2020-05-07  2374.780029  2376.000000  ...          0             0\n",
              "2020-05-08  2372.139893  2387.239990  ...          0             0\n",
              "...                 ...          ...  ...        ...           ...\n",
              "2021-05-11  3136.280029  3238.000000  ...          0             0\n",
              "2021-05-12  3185.000000  3207.939941  ...          0             0\n",
              "2021-05-13  3185.469971  3203.840088  ...          0             0\n",
              "2021-05-14  3185.560059  3228.860107  ...          0             0\n",
              "2021-05-17  3245.929932  3292.750000  ...          0             0\n",
              "\n",
              "[262 rows x 7 columns]"
            ]
          },
          "metadata": {
            "tags": []
          },
          "execution_count": 44
        }
      ]
    },
    {
      "cell_type": "code",
      "metadata": {
        "id": "tpQPAdbhb3bR",
        "colab": {
          "base_uri": "https://localhost:8080/"
        },
        "outputId": "3c3800f0-1e26-40ee-af91-750a14d7375f"
      },
      "source": [
        "df_Open=amzn_df2[['Open']]\n",
        "df_dates2=amzn_df2.index.to_frame().reset_index(drop=True)\n",
        "print(df_dates2)"
      ],
      "execution_count": null,
      "outputs": [
        {
          "output_type": "stream",
          "text": [
            "          Date\n",
            "0   2020-05-04\n",
            "1   2020-05-05\n",
            "2   2020-05-06\n",
            "3   2020-05-07\n",
            "4   2020-05-08\n",
            "..         ...\n",
            "257 2021-05-11\n",
            "258 2021-05-12\n",
            "259 2021-05-13\n",
            "260 2021-05-14\n",
            "261 2021-05-17\n",
            "\n",
            "[262 rows x 1 columns]\n"
          ],
          "name": "stdout"
        }
      ]
    },
    {
      "cell_type": "code",
      "metadata": {
        "id": "U-Yv5ebOcEbn"
      },
      "source": [
        "amzn_df2['Date']= df_dates2['Date'].values"
      ],
      "execution_count": null,
      "outputs": []
    },
    {
      "cell_type": "code",
      "metadata": {
        "id": "uat58vnGcKDZ",
        "colab": {
          "base_uri": "https://localhost:8080/",
          "height": 437
        },
        "outputId": "bbc4e249-ca37-4569-f3f6-daa28b7e6ffe"
      },
      "source": [
        "amzn_df2"
      ],
      "execution_count": null,
      "outputs": [
        {
          "output_type": "execute_result",
          "data": {
            "text/html": [
              "<div>\n",
              "<style scoped>\n",
              "    .dataframe tbody tr th:only-of-type {\n",
              "        vertical-align: middle;\n",
              "    }\n",
              "\n",
              "    .dataframe tbody tr th {\n",
              "        vertical-align: top;\n",
              "    }\n",
              "\n",
              "    .dataframe thead th {\n",
              "        text-align: right;\n",
              "    }\n",
              "</style>\n",
              "<table border=\"1\" class=\"dataframe\">\n",
              "  <thead>\n",
              "    <tr style=\"text-align: right;\">\n",
              "      <th></th>\n",
              "      <th>Open</th>\n",
              "      <th>High</th>\n",
              "      <th>Low</th>\n",
              "      <th>Close</th>\n",
              "      <th>Volume</th>\n",
              "      <th>Dividends</th>\n",
              "      <th>Stock Splits</th>\n",
              "      <th>Date</th>\n",
              "    </tr>\n",
              "    <tr>\n",
              "      <th>Date</th>\n",
              "      <th></th>\n",
              "      <th></th>\n",
              "      <th></th>\n",
              "      <th></th>\n",
              "      <th></th>\n",
              "      <th></th>\n",
              "      <th></th>\n",
              "      <th></th>\n",
              "    </tr>\n",
              "  </thead>\n",
              "  <tbody>\n",
              "    <tr>\n",
              "      <th>2020-05-04</th>\n",
              "      <td>2256.379883</td>\n",
              "      <td>2326.979980</td>\n",
              "      <td>2256.379883</td>\n",
              "      <td>2315.989990</td>\n",
              "      <td>4865900</td>\n",
              "      <td>0</td>\n",
              "      <td>0</td>\n",
              "      <td>2020-05-04</td>\n",
              "    </tr>\n",
              "    <tr>\n",
              "      <th>2020-05-05</th>\n",
              "      <td>2340.000000</td>\n",
              "      <td>2351.000000</td>\n",
              "      <td>2307.129883</td>\n",
              "      <td>2317.800049</td>\n",
              "      <td>3242500</td>\n",
              "      <td>0</td>\n",
              "      <td>0</td>\n",
              "      <td>2020-05-05</td>\n",
              "    </tr>\n",
              "    <tr>\n",
              "      <th>2020-05-06</th>\n",
              "      <td>2329.439941</td>\n",
              "      <td>2357.449951</td>\n",
              "      <td>2320.000000</td>\n",
              "      <td>2351.260010</td>\n",
              "      <td>3117800</td>\n",
              "      <td>0</td>\n",
              "      <td>0</td>\n",
              "      <td>2020-05-06</td>\n",
              "    </tr>\n",
              "    <tr>\n",
              "      <th>2020-05-07</th>\n",
              "      <td>2374.780029</td>\n",
              "      <td>2376.000000</td>\n",
              "      <td>2343.110107</td>\n",
              "      <td>2367.610107</td>\n",
              "      <td>3396400</td>\n",
              "      <td>0</td>\n",
              "      <td>0</td>\n",
              "      <td>2020-05-07</td>\n",
              "    </tr>\n",
              "    <tr>\n",
              "      <th>2020-05-08</th>\n",
              "      <td>2372.139893</td>\n",
              "      <td>2387.239990</td>\n",
              "      <td>2357.000000</td>\n",
              "      <td>2379.610107</td>\n",
              "      <td>3206600</td>\n",
              "      <td>0</td>\n",
              "      <td>0</td>\n",
              "      <td>2020-05-08</td>\n",
              "    </tr>\n",
              "    <tr>\n",
              "      <th>...</th>\n",
              "      <td>...</td>\n",
              "      <td>...</td>\n",
              "      <td>...</td>\n",
              "      <td>...</td>\n",
              "      <td>...</td>\n",
              "      <td>...</td>\n",
              "      <td>...</td>\n",
              "      <td>...</td>\n",
              "    </tr>\n",
              "    <tr>\n",
              "      <th>2021-05-11</th>\n",
              "      <td>3136.280029</td>\n",
              "      <td>3238.000000</td>\n",
              "      <td>3127.370117</td>\n",
              "      <td>3223.909912</td>\n",
              "      <td>4619800</td>\n",
              "      <td>0</td>\n",
              "      <td>0</td>\n",
              "      <td>2021-05-11</td>\n",
              "    </tr>\n",
              "    <tr>\n",
              "      <th>2021-05-12</th>\n",
              "      <td>3185.000000</td>\n",
              "      <td>3207.939941</td>\n",
              "      <td>3133.100098</td>\n",
              "      <td>3151.939941</td>\n",
              "      <td>4936400</td>\n",
              "      <td>0</td>\n",
              "      <td>0</td>\n",
              "      <td>2021-05-12</td>\n",
              "    </tr>\n",
              "    <tr>\n",
              "      <th>2021-05-13</th>\n",
              "      <td>3185.469971</td>\n",
              "      <td>3203.840088</td>\n",
              "      <td>3133.000000</td>\n",
              "      <td>3161.469971</td>\n",
              "      <td>3350900</td>\n",
              "      <td>0</td>\n",
              "      <td>0</td>\n",
              "      <td>2021-05-13</td>\n",
              "    </tr>\n",
              "    <tr>\n",
              "      <th>2021-05-14</th>\n",
              "      <td>3185.560059</td>\n",
              "      <td>3228.860107</td>\n",
              "      <td>3183.000000</td>\n",
              "      <td>3222.899902</td>\n",
              "      <td>3321400</td>\n",
              "      <td>0</td>\n",
              "      <td>0</td>\n",
              "      <td>2021-05-14</td>\n",
              "    </tr>\n",
              "    <tr>\n",
              "      <th>2021-05-17</th>\n",
              "      <td>3245.929932</td>\n",
              "      <td>3292.750000</td>\n",
              "      <td>3234.590088</td>\n",
              "      <td>3270.389893</td>\n",
              "      <td>3723900</td>\n",
              "      <td>0</td>\n",
              "      <td>0</td>\n",
              "      <td>2021-05-17</td>\n",
              "    </tr>\n",
              "  </tbody>\n",
              "</table>\n",
              "<p>262 rows × 8 columns</p>\n",
              "</div>"
            ],
            "text/plain": [
              "                   Open         High  ...  Stock Splits       Date\n",
              "Date                                  ...                         \n",
              "2020-05-04  2256.379883  2326.979980  ...             0 2020-05-04\n",
              "2020-05-05  2340.000000  2351.000000  ...             0 2020-05-05\n",
              "2020-05-06  2329.439941  2357.449951  ...             0 2020-05-06\n",
              "2020-05-07  2374.780029  2376.000000  ...             0 2020-05-07\n",
              "2020-05-08  2372.139893  2387.239990  ...             0 2020-05-08\n",
              "...                 ...          ...  ...           ...        ...\n",
              "2021-05-11  3136.280029  3238.000000  ...             0 2021-05-11\n",
              "2021-05-12  3185.000000  3207.939941  ...             0 2021-05-12\n",
              "2021-05-13  3185.469971  3203.840088  ...             0 2021-05-13\n",
              "2021-05-14  3185.560059  3228.860107  ...             0 2021-05-14\n",
              "2021-05-17  3245.929932  3292.750000  ...             0 2021-05-17\n",
              "\n",
              "[262 rows x 8 columns]"
            ]
          },
          "metadata": {
            "tags": []
          },
          "execution_count": 47
        }
      ]
    },
    {
      "cell_type": "code",
      "metadata": {
        "id": "lT6j25hhcJ92"
      },
      "source": [
        "amzn_df2['Date'] = amzn_df2['Date'].astype(str)"
      ],
      "execution_count": null,
      "outputs": []
    },
    {
      "cell_type": "code",
      "metadata": {
        "id": "U7AOfg8kcP0g"
      },
      "source": [
        "amzn_df2['new_date'] = amzn_df2['Date'].str.replace('\\D', '').astype(int)"
      ],
      "execution_count": null,
      "outputs": []
    },
    {
      "cell_type": "code",
      "metadata": {
        "id": "pxxffIhkcZrr",
        "colab": {
          "base_uri": "https://localhost:8080/",
          "height": 107
        },
        "outputId": "8b2e3541-8156-4c9f-918f-31079d3e3bf1"
      },
      "source": [
        "actual_price2 = amzn_df2.tail(1)\n",
        "actual_price2"
      ],
      "execution_count": null,
      "outputs": [
        {
          "output_type": "execute_result",
          "data": {
            "text/html": [
              "<div>\n",
              "<style scoped>\n",
              "    .dataframe tbody tr th:only-of-type {\n",
              "        vertical-align: middle;\n",
              "    }\n",
              "\n",
              "    .dataframe tbody tr th {\n",
              "        vertical-align: top;\n",
              "    }\n",
              "\n",
              "    .dataframe thead th {\n",
              "        text-align: right;\n",
              "    }\n",
              "</style>\n",
              "<table border=\"1\" class=\"dataframe\">\n",
              "  <thead>\n",
              "    <tr style=\"text-align: right;\">\n",
              "      <th></th>\n",
              "      <th>Open</th>\n",
              "      <th>High</th>\n",
              "      <th>Low</th>\n",
              "      <th>Close</th>\n",
              "      <th>Volume</th>\n",
              "      <th>Dividends</th>\n",
              "      <th>Stock Splits</th>\n",
              "      <th>Date</th>\n",
              "      <th>new_date</th>\n",
              "    </tr>\n",
              "    <tr>\n",
              "      <th>Date</th>\n",
              "      <th></th>\n",
              "      <th></th>\n",
              "      <th></th>\n",
              "      <th></th>\n",
              "      <th></th>\n",
              "      <th></th>\n",
              "      <th></th>\n",
              "      <th></th>\n",
              "      <th></th>\n",
              "    </tr>\n",
              "  </thead>\n",
              "  <tbody>\n",
              "    <tr>\n",
              "      <th>2021-05-17</th>\n",
              "      <td>3245.929932</td>\n",
              "      <td>3292.75</td>\n",
              "      <td>3234.590088</td>\n",
              "      <td>3270.389893</td>\n",
              "      <td>3723900</td>\n",
              "      <td>0</td>\n",
              "      <td>0</td>\n",
              "      <td>2021-05-17</td>\n",
              "      <td>20210517</td>\n",
              "    </tr>\n",
              "  </tbody>\n",
              "</table>\n",
              "</div>"
            ],
            "text/plain": [
              "                   Open     High  ...        Date  new_date\n",
              "Date                              ...                      \n",
              "2021-05-17  3245.929932  3292.75  ...  2021-05-17  20210517\n",
              "\n",
              "[1 rows x 9 columns]"
            ]
          },
          "metadata": {
            "tags": []
          },
          "execution_count": 50
        }
      ]
    },
    {
      "cell_type": "code",
      "metadata": {
        "id": "71Rq9LQGcboV"
      },
      "source": [
        "amzn_df2 = amzn_df2.head(len(amzn_df2)-1)"
      ],
      "execution_count": null,
      "outputs": []
    },
    {
      "cell_type": "code",
      "metadata": {
        "id": "ZpgkbwPicmtp"
      },
      "source": [
        "days2 = list()\n",
        "close_prices2= list()"
      ],
      "execution_count": null,
      "outputs": []
    },
    {
      "cell_type": "code",
      "metadata": {
        "id": "BNgukURecpBS",
        "colab": {
          "base_uri": "https://localhost:8080/"
        },
        "outputId": "01f7979a-6eff-4272-f9e8-f46bfe006d27"
      },
      "source": [
        "df_days2 = amzn_df2.loc[:,'new_date']\n",
        "df_days2"
      ],
      "execution_count": null,
      "outputs": [
        {
          "output_type": "execute_result",
          "data": {
            "text/plain": [
              "Date\n",
              "2020-05-04    20200504\n",
              "2020-05-05    20200505\n",
              "2020-05-06    20200506\n",
              "2020-05-07    20200507\n",
              "2020-05-08    20200508\n",
              "                ...   \n",
              "2021-05-10    20210510\n",
              "2021-05-11    20210511\n",
              "2021-05-12    20210512\n",
              "2021-05-13    20210513\n",
              "2021-05-14    20210514\n",
              "Name: new_date, Length: 261, dtype: int64"
            ]
          },
          "metadata": {
            "tags": []
          },
          "execution_count": 53
        }
      ]
    },
    {
      "cell_type": "code",
      "metadata": {
        "id": "wuWV6vajct_s"
      },
      "source": [
        "df_close_price2 = amzn_df2.loc[:,'Close']"
      ],
      "execution_count": null,
      "outputs": []
    },
    {
      "cell_type": "code",
      "metadata": {
        "id": "4ElamMf9czy7"
      },
      "source": [
        "for dates2 in df_days2:\n",
        "  days2.append([int(dates2)])\n",
        "\n",
        "days2"
      ],
      "execution_count": null,
      "outputs": []
    },
    {
      "cell_type": "code",
      "metadata": {
        "id": "IkTUMhbXc8f-"
      },
      "source": [
        "for price2 in df_close_price2: \n",
        "  close_prices2.append(float(price2))\n",
        "\n",
        "close_prices2"
      ],
      "execution_count": null,
      "outputs": []
    },
    {
      "cell_type": "code",
      "metadata": {
        "id": "r7dHTvgAdCnI"
      },
      "source": [
        "print(days2)\n",
        "print(close_prices2)\n",
        "\n",
        "print(len(days2))\n",
        "print(len(close_prices2))"
      ],
      "execution_count": null,
      "outputs": []
    },
    {
      "cell_type": "code",
      "metadata": {
        "colab": {
          "base_uri": "https://localhost:8080/"
        },
        "id": "MMv0vUDadFc3",
        "outputId": "32418019-d990-40dc-df9c-3f1e036cef65"
      },
      "source": [
        "rbf = SVR(kernel= 'rbf', C= 1000.0, gamma= 0.1)\n",
        "rbf.fit(days2, close_prices2)"
      ],
      "execution_count": null,
      "outputs": [
        {
          "output_type": "execute_result",
          "data": {
            "text/plain": [
              "SVR(C=1000.0, cache_size=200, coef0=0.0, degree=3, epsilon=0.1, gamma=0.1,\n",
              "    kernel='rbf', max_iter=-1, shrinking=True, tol=0.001, verbose=False)"
            ]
          },
          "metadata": {
            "tags": []
          },
          "execution_count": 58
        }
      ]
    },
    {
      "cell_type": "code",
      "metadata": {
        "colab": {
          "base_uri": "https://localhost:8080/",
          "height": 496
        },
        "id": "YZWuXGhZdK1W",
        "outputId": "4dda2a15-ab9c-440a-8480-2250f1ea9a9b"
      },
      "source": [
        "plt.figure(figsize=(16,8))\n",
        "plt.scatter(days2,close_prices2, color= 'red', label= 'Data')\n",
        "plt.plot(days2, rbf.predict(days2), color='blue', label='RBF Model')\n",
        "plt.legend()\n",
        "plt.show()"
      ],
      "execution_count": null,
      "outputs": [
        {
          "output_type": "display_data",
          "data": {
            "image/png": "[encoded data removed]",
            "text/plain": [
              "<Figure size 1152x576 with 1 Axes>"
            ]
          },
          "metadata": {
            "tags": [],
            "needs_background": "light"
          }
        }
      ]
    },
    {
      "cell_type": "code",
      "metadata": {
        "colab": {
          "base_uri": "https://localhost:8080/"
        },
        "id": "bS9_iazldUfX",
        "outputId": "a9ad88d9-3c27-4387-d937-6300580330b2"
      },
      "source": [
        "day= [[20210517]]\n",
        "print('The predicted value on 2021-05-04 from the rbf model is: ' , rbf.predict(day))\n",
        "print('The percent error for this is: ', float((abs(3270.39-(rbf.predict(day)))/3270.39)*100),'%')"
      ],
      "execution_count": null,
      "outputs": [
        {
          "output_type": "stream",
          "text": [
            "The predicted value on 2021-05-04 from the rbf model is:  [3234.60502086]\n",
            "The percent error for this is:  1.0942113674687164 %\n"
          ],
          "name": "stdout"
        }
      ]
    },
    {
      "cell_type": "code",
      "metadata": {
        "colab": {
          "base_uri": "https://localhost:8080/"
        },
        "id": "DwLjWopHd1Lz",
        "outputId": "45a66217-9896-4114-bbc7-4dd0eefbfe5c"
      },
      "source": [
        "#Today\n",
        "may_sixth = [[20210505]]\n",
        "print('The predicted value on 2021-05-05 from the rbf model is: ' , rbf.predict(may_sixth))\n",
        "print('The percent error for this is: ', float((abs(3270.54-(rbf.predict(may_sixth)))/3270.54)*100),'%')"
      ],
      "execution_count": null,
      "outputs": [
        {
          "output_type": "stream",
          "text": [
            "The predicted value on 2021-05-05 from the rbf model is:  [3271.50642031]\n",
            "The percent error for this is:  0.029549258318019647 %\n"
          ],
          "name": "stdout"
        }
      ]
    },
    {
      "cell_type": "code",
      "metadata": {
        "colab": {
          "base_uri": "https://localhost:8080/"
        },
        "id": "CidWDQWId_9m",
        "outputId": "c8a65502-5a4a-4cc5-f95e-46d9d5978d83"
      },
      "source": [
        "#Tomorrow\n",
        "tomorrow = [[20210518]]\n",
        "print('The predicted value on 2021-05-06 from the rbf model is: ' , rbf.predict(tomorrow))\n",
        "print('The percent error for this is: ', float((abs(3232.28-(rbf.predict(tomorrow)))/3232.28)*100),'%')"
      ],
      "execution_count": null,
      "outputs": [
        {
          "output_type": "stream",
          "text": [
            "The predicted value on 2021-05-06 from the rbf model is:  [3175.87822875]\n",
            "The percent error for this is:  1.7449531366998443 %\n"
          ],
          "name": "stdout"
        }
      ]
    },
    {
      "cell_type": "code",
      "metadata": {
        "colab": {
          "base_uri": "https://localhost:8080/"
        },
        "id": "34si02T1ef7D",
        "outputId": "09389234-cabc-4fdc-a871-bc5645183243"
      },
      "source": [
        "twoDays = [[20210507]]\n",
        "print('The predicted value on 2021-05-07 from the rbf model is: ' , rbf.predict(twoDays))"
      ],
      "execution_count": null,
      "outputs": [
        {
          "output_type": "stream",
          "text": [
            "The predicted value on 2021-05-07 from the rbf model is:  [3291.71005051]\n"
          ],
          "name": "stdout"
        }
      ]
    },
    {
      "cell_type": "code",
      "metadata": {
        "id": "B4ksgSl2gHX3"
      },
      "source": [
        ""
      ],
      "execution_count": null,
      "outputs": []
    }
  ]
}