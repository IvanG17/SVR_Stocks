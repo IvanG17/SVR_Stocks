{
  "nbformat": 4,
  "nbformat_minor": 0,
  "metadata": {
    "colab": {
      "name": "SPY-SVR.ipynb",
      "provenance": [],
      "toc_visible": true,
      "authorship_tag": "ABX9TyMicsYqsnuqbCtvSj8Zgslv",
      "include_colab_link": true
    },
    "kernelspec": {
      "name": "python3",
      "display_name": "Python 3"
    },
    "language_info": {
      "name": "python"
    }
  },
  "cells": [
    {
      "cell_type": "markdown",
      "metadata": {
        "id": "view-in-github",
        "colab_type": "text"
      },
      "source": [
        "<a href=\"https://colab.research.google.com/github/IvanG17/SVR_Stocks/blob/main/SPY_SVR_condensed.ipynb\" target=\"_parent\"><img src=\"https://colab.research.google.com/assets/colab-badge.svg\" alt=\"Open In Colab\"/></a>"
      ]
    },
    {
      "cell_type": "code",
      "metadata": {
        "colab": {
          "base_uri": "https://localhost:8080/"
        },
        "id": "Usp-DCCaE9-T",
        "outputId": "1751f9bb-919d-40fa-bafc-6c0501dec3fc"
      },
      "source": [
        "pip install yfinance"
      ],
      "execution_count": null,
      "outputs": [
        {
          "output_type": "stream",
          "text": [
            "Requirement already satisfied: yfinance in /usr/local/lib/python3.7/dist-packages (0.1.59)\n",
            "Requirement already satisfied: numpy>=1.15 in /usr/local/lib/python3.7/dist-packages (from yfinance) (1.19.5)\n",
            "Requirement already satisfied: pandas>=0.24 in /usr/local/lib/python3.7/dist-packages (from yfinance) (1.1.5)\n",
            "Requirement already satisfied: lxml>=4.5.1 in /usr/local/lib/python3.7/dist-packages (from yfinance) (4.6.3)\n",
            "Requirement already satisfied: requests>=2.20 in /usr/local/lib/python3.7/dist-packages (from yfinance) (2.23.0)\n",
            "Requirement already satisfied: multitasking>=0.0.7 in /usr/local/lib/python3.7/dist-packages (from yfinance) (0.0.9)\n",
            "Requirement already satisfied: python-dateutil>=2.7.3 in /usr/local/lib/python3.7/dist-packages (from pandas>=0.24->yfinance) (2.8.1)\n",
            "Requirement already satisfied: pytz>=2017.2 in /usr/local/lib/python3.7/dist-packages (from pandas>=0.24->yfinance) (2018.9)\n",
            "Requirement already satisfied: certifi>=2017.4.17 in /usr/local/lib/python3.7/dist-packages (from requests>=2.20->yfinance) (2020.12.5)\n",
            "Requirement already satisfied: chardet<4,>=3.0.2 in /usr/local/lib/python3.7/dist-packages (from requests>=2.20->yfinance) (3.0.4)\n",
            "Requirement already satisfied: idna<3,>=2.5 in /usr/local/lib/python3.7/dist-packages (from requests>=2.20->yfinance) (2.10)\n",
            "Requirement already satisfied: urllib3!=1.25.0,!=1.25.1,<1.26,>=1.21.1 in /usr/local/lib/python3.7/dist-packages (from requests>=2.20->yfinance) (1.24.3)\n",
            "Requirement already satisfied: six>=1.5 in /usr/local/lib/python3.7/dist-packages (from python-dateutil>=2.7.3->pandas>=0.24->yfinance) (1.15.0)\n"
          ],
          "name": "stdout"
        }
      ]
    },
    {
      "cell_type": "code",
      "metadata": {
        "id": "r-ATH3QjFHPx"
      },
      "source": [
        "from sklearn.svm import SVR\n",
        "import numpy as np \n",
        "import pandas as pd \n",
        "import matplotlib.pyplot as plt \n",
        "from datetime import datetime\n"
      ],
      "execution_count": null,
      "outputs": []
    },
    {
      "cell_type": "code",
      "metadata": {
        "id": "tQKYV0KPFLVO"
      },
      "source": [
        "import yfinance as yf"
      ],
      "execution_count": null,
      "outputs": []
    },
    {
      "cell_type": "code",
      "metadata": {
        "id": "nVwFQxFQFMsI"
      },
      "source": [
        "ticker = 'SPY'\n",
        "SPYData = yf.Ticker(ticker)"
      ],
      "execution_count": null,
      "outputs": []
    },
    {
      "cell_type": "code",
      "metadata": {
        "id": "IFBGkYQuFTpK"
      },
      "source": [
        "amzn_df = SPYData.history(period='1d', start= '2011-1-1', end = '2021-5-18')"
      ],
      "execution_count": null,
      "outputs": []
    },
    {
      "cell_type": "code",
      "metadata": {
        "id": "A8zvSf8HFj6W",
        "colab": {
          "base_uri": "https://localhost:8080/",
          "height": 437
        },
        "outputId": "7773ed53-6ef3-4ac1-d104-d875a7f27a22"
      },
      "source": [
        "amzn_df"
      ],
      "execution_count": null,
      "outputs": [
        {
          "output_type": "execute_result",
          "data": {
            "text/html": [
              "<div>\n",
              "<style scoped>\n",
              "    .dataframe tbody tr th:only-of-type {\n",
              "        vertical-align: middle;\n",
              "    }\n",
              "\n",
              "    .dataframe tbody tr th {\n",
              "        vertical-align: top;\n",
              "    }\n",
              "\n",
              "    .dataframe thead th {\n",
              "        text-align: right;\n",
              "    }\n",
              "</style>\n",
              "<table border=\"1\" class=\"dataframe\">\n",
              "  <thead>\n",
              "    <tr style=\"text-align: right;\">\n",
              "      <th></th>\n",
              "      <th>Open</th>\n",
              "      <th>High</th>\n",
              "      <th>Low</th>\n",
              "      <th>Close</th>\n",
              "      <th>Volume</th>\n",
              "      <th>Dividends</th>\n",
              "      <th>Stock Splits</th>\n",
              "    </tr>\n",
              "    <tr>\n",
              "      <th>Date</th>\n",
              "      <th></th>\n",
              "      <th></th>\n",
              "      <th></th>\n",
              "      <th></th>\n",
              "      <th></th>\n",
              "      <th></th>\n",
              "      <th></th>\n",
              "    </tr>\n",
              "  </thead>\n",
              "  <tbody>\n",
              "    <tr>\n",
              "      <th>2011-01-03</th>\n",
              "      <td>103.501668</td>\n",
              "      <td>104.228654</td>\n",
              "      <td>102.676658</td>\n",
              "      <td>103.779396</td>\n",
              "      <td>138725200</td>\n",
              "      <td>0.0</td>\n",
              "      <td>0</td>\n",
              "    </tr>\n",
              "    <tr>\n",
              "      <th>2011-01-04</th>\n",
              "      <td>104.008091</td>\n",
              "      <td>104.040765</td>\n",
              "      <td>103.076895</td>\n",
              "      <td>103.722198</td>\n",
              "      <td>137409700</td>\n",
              "      <td>0.0</td>\n",
              "      <td>0</td>\n",
              "    </tr>\n",
              "    <tr>\n",
              "      <th>2011-01-05</th>\n",
              "      <td>103.395475</td>\n",
              "      <td>104.326671</td>\n",
              "      <td>103.297452</td>\n",
              "      <td>104.261322</td>\n",
              "      <td>133975300</td>\n",
              "      <td>0.0</td>\n",
              "      <td>0</td>\n",
              "    </tr>\n",
              "    <tr>\n",
              "      <th>2011-01-06</th>\n",
              "      <td>104.302168</td>\n",
              "      <td>104.416525</td>\n",
              "      <td>103.746717</td>\n",
              "      <td>104.057114</td>\n",
              "      <td>122519000</td>\n",
              "      <td>0.0</td>\n",
              "      <td>0</td>\n",
              "    </tr>\n",
              "    <tr>\n",
              "      <th>2011-01-07</th>\n",
              "      <td>104.195953</td>\n",
              "      <td>104.367489</td>\n",
              "      <td>103.044214</td>\n",
              "      <td>103.852882</td>\n",
              "      <td>156034600</td>\n",
              "      <td>0.0</td>\n",
              "      <td>0</td>\n",
              "    </tr>\n",
              "    <tr>\n",
              "      <th>...</th>\n",
              "      <td>...</td>\n",
              "      <td>...</td>\n",
              "      <td>...</td>\n",
              "      <td>...</td>\n",
              "      <td>...</td>\n",
              "      <td>...</td>\n",
              "      <td>...</td>\n",
              "    </tr>\n",
              "    <tr>\n",
              "      <th>2021-05-11</th>\n",
              "      <td>413.100006</td>\n",
              "      <td>415.269989</td>\n",
              "      <td>410.059998</td>\n",
              "      <td>414.209991</td>\n",
              "      <td>116888000</td>\n",
              "      <td>0.0</td>\n",
              "      <td>0</td>\n",
              "    </tr>\n",
              "    <tr>\n",
              "      <th>2021-05-12</th>\n",
              "      <td>411.230011</td>\n",
              "      <td>412.589996</td>\n",
              "      <td>404.000000</td>\n",
              "      <td>405.410004</td>\n",
              "      <td>134811000</td>\n",
              "      <td>0.0</td>\n",
              "      <td>0</td>\n",
              "    </tr>\n",
              "    <tr>\n",
              "      <th>2021-05-13</th>\n",
              "      <td>407.070007</td>\n",
              "      <td>412.350006</td>\n",
              "      <td>407.019989</td>\n",
              "      <td>410.279999</td>\n",
              "      <td>106394000</td>\n",
              "      <td>0.0</td>\n",
              "      <td>0</td>\n",
              "    </tr>\n",
              "    <tr>\n",
              "      <th>2021-05-14</th>\n",
              "      <td>413.209991</td>\n",
              "      <td>417.489990</td>\n",
              "      <td>413.179993</td>\n",
              "      <td>416.579987</td>\n",
              "      <td>82123100</td>\n",
              "      <td>0.0</td>\n",
              "      <td>0</td>\n",
              "    </tr>\n",
              "    <tr>\n",
              "      <th>2021-05-17</th>\n",
              "      <td>415.390015</td>\n",
              "      <td>416.390015</td>\n",
              "      <td>413.359985</td>\n",
              "      <td>415.519989</td>\n",
              "      <td>65129200</td>\n",
              "      <td>0.0</td>\n",
              "      <td>0</td>\n",
              "    </tr>\n",
              "  </tbody>\n",
              "</table>\n",
              "<p>2610 rows × 7 columns</p>\n",
              "</div>"
            ],
            "text/plain": [
              "                  Open        High  ...  Dividends  Stock Splits\n",
              "Date                                ...                         \n",
              "2011-01-03  103.501668  104.228654  ...        0.0             0\n",
              "2011-01-04  104.008091  104.040765  ...        0.0             0\n",
              "2011-01-05  103.395475  104.326671  ...        0.0             0\n",
              "2011-01-06  104.302168  104.416525  ...        0.0             0\n",
              "2011-01-07  104.195953  104.367489  ...        0.0             0\n",
              "...                ...         ...  ...        ...           ...\n",
              "2021-05-11  413.100006  415.269989  ...        0.0             0\n",
              "2021-05-12  411.230011  412.589996  ...        0.0             0\n",
              "2021-05-13  407.070007  412.350006  ...        0.0             0\n",
              "2021-05-14  413.209991  417.489990  ...        0.0             0\n",
              "2021-05-17  415.390015  416.390015  ...        0.0             0\n",
              "\n",
              "[2610 rows x 7 columns]"
            ]
          },
          "metadata": {
            "tags": []
          },
          "execution_count": 11
        }
      ]
    },
    {
      "cell_type": "code",
      "metadata": {
        "id": "_FynukLuFk4U",
        "colab": {
          "base_uri": "https://localhost:8080/"
        },
        "outputId": "054b6bde-d265-4a79-80ce-2258fe47a67f"
      },
      "source": [
        "for col in amzn_df.columns:\n",
        "  print (col)"
      ],
      "execution_count": null,
      "outputs": [
        {
          "output_type": "stream",
          "text": [
            "Open\n",
            "High\n",
            "Low\n",
            "Close\n",
            "Volume\n",
            "Dividends\n",
            "Stock Splits\n"
          ],
          "name": "stdout"
        }
      ]
    },
    {
      "cell_type": "code",
      "metadata": {
        "id": "8PhFqe1lFuHR"
      },
      "source": [
        "amzn_df.reset_index(inplace=True)\n",
        "amzn_df.set_index('Date', inplace=True)"
      ],
      "execution_count": null,
      "outputs": []
    },
    {
      "cell_type": "code",
      "metadata": {
        "id": "QzZoHjKhGrib",
        "colab": {
          "base_uri": "https://localhost:8080/",
          "height": 437
        },
        "outputId": "2d78ed1a-e6d2-419f-9227-641d5fffa740"
      },
      "source": [
        "amzn_df"
      ],
      "execution_count": null,
      "outputs": [
        {
          "output_type": "execute_result",
          "data": {
            "text/html": [
              "<div>\n",
              "<style scoped>\n",
              "    .dataframe tbody tr th:only-of-type {\n",
              "        vertical-align: middle;\n",
              "    }\n",
              "\n",
              "    .dataframe tbody tr th {\n",
              "        vertical-align: top;\n",
              "    }\n",
              "\n",
              "    .dataframe thead th {\n",
              "        text-align: right;\n",
              "    }\n",
              "</style>\n",
              "<table border=\"1\" class=\"dataframe\">\n",
              "  <thead>\n",
              "    <tr style=\"text-align: right;\">\n",
              "      <th></th>\n",
              "      <th>Open</th>\n",
              "      <th>High</th>\n",
              "      <th>Low</th>\n",
              "      <th>Close</th>\n",
              "      <th>Volume</th>\n",
              "      <th>Dividends</th>\n",
              "      <th>Stock Splits</th>\n",
              "    </tr>\n",
              "    <tr>\n",
              "      <th>Date</th>\n",
              "      <th></th>\n",
              "      <th></th>\n",
              "      <th></th>\n",
              "      <th></th>\n",
              "      <th></th>\n",
              "      <th></th>\n",
              "      <th></th>\n",
              "    </tr>\n",
              "  </thead>\n",
              "  <tbody>\n",
              "    <tr>\n",
              "      <th>2011-01-03</th>\n",
              "      <td>103.501668</td>\n",
              "      <td>104.228654</td>\n",
              "      <td>102.676658</td>\n",
              "      <td>103.779396</td>\n",
              "      <td>138725200</td>\n",
              "      <td>0.0</td>\n",
              "      <td>0</td>\n",
              "    </tr>\n",
              "    <tr>\n",
              "      <th>2011-01-04</th>\n",
              "      <td>104.008091</td>\n",
              "      <td>104.040765</td>\n",
              "      <td>103.076895</td>\n",
              "      <td>103.722198</td>\n",
              "      <td>137409700</td>\n",
              "      <td>0.0</td>\n",
              "      <td>0</td>\n",
              "    </tr>\n",
              "    <tr>\n",
              "      <th>2011-01-05</th>\n",
              "      <td>103.395475</td>\n",
              "      <td>104.326671</td>\n",
              "      <td>103.297452</td>\n",
              "      <td>104.261322</td>\n",
              "      <td>133975300</td>\n",
              "      <td>0.0</td>\n",
              "      <td>0</td>\n",
              "    </tr>\n",
              "    <tr>\n",
              "      <th>2011-01-06</th>\n",
              "      <td>104.302168</td>\n",
              "      <td>104.416525</td>\n",
              "      <td>103.746717</td>\n",
              "      <td>104.057114</td>\n",
              "      <td>122519000</td>\n",
              "      <td>0.0</td>\n",
              "      <td>0</td>\n",
              "    </tr>\n",
              "    <tr>\n",
              "      <th>2011-01-07</th>\n",
              "      <td>104.195953</td>\n",
              "      <td>104.367489</td>\n",
              "      <td>103.044214</td>\n",
              "      <td>103.852882</td>\n",
              "      <td>156034600</td>\n",
              "      <td>0.0</td>\n",
              "      <td>0</td>\n",
              "    </tr>\n",
              "    <tr>\n",
              "      <th>...</th>\n",
              "      <td>...</td>\n",
              "      <td>...</td>\n",
              "      <td>...</td>\n",
              "      <td>...</td>\n",
              "      <td>...</td>\n",
              "      <td>...</td>\n",
              "      <td>...</td>\n",
              "    </tr>\n",
              "    <tr>\n",
              "      <th>2021-05-11</th>\n",
              "      <td>413.100006</td>\n",
              "      <td>415.269989</td>\n",
              "      <td>410.059998</td>\n",
              "      <td>414.209991</td>\n",
              "      <td>116888000</td>\n",
              "      <td>0.0</td>\n",
              "      <td>0</td>\n",
              "    </tr>\n",
              "    <tr>\n",
              "      <th>2021-05-12</th>\n",
              "      <td>411.230011</td>\n",
              "      <td>412.589996</td>\n",
              "      <td>404.000000</td>\n",
              "      <td>405.410004</td>\n",
              "      <td>134811000</td>\n",
              "      <td>0.0</td>\n",
              "      <td>0</td>\n",
              "    </tr>\n",
              "    <tr>\n",
              "      <th>2021-05-13</th>\n",
              "      <td>407.070007</td>\n",
              "      <td>412.350006</td>\n",
              "      <td>407.019989</td>\n",
              "      <td>410.279999</td>\n",
              "      <td>106394000</td>\n",
              "      <td>0.0</td>\n",
              "      <td>0</td>\n",
              "    </tr>\n",
              "    <tr>\n",
              "      <th>2021-05-14</th>\n",
              "      <td>413.209991</td>\n",
              "      <td>417.489990</td>\n",
              "      <td>413.179993</td>\n",
              "      <td>416.579987</td>\n",
              "      <td>82123100</td>\n",
              "      <td>0.0</td>\n",
              "      <td>0</td>\n",
              "    </tr>\n",
              "    <tr>\n",
              "      <th>2021-05-17</th>\n",
              "      <td>415.390015</td>\n",
              "      <td>416.390015</td>\n",
              "      <td>413.359985</td>\n",
              "      <td>415.519989</td>\n",
              "      <td>65129200</td>\n",
              "      <td>0.0</td>\n",
              "      <td>0</td>\n",
              "    </tr>\n",
              "  </tbody>\n",
              "</table>\n",
              "<p>2610 rows × 7 columns</p>\n",
              "</div>"
            ],
            "text/plain": [
              "                  Open        High  ...  Dividends  Stock Splits\n",
              "Date                                ...                         \n",
              "2011-01-03  103.501668  104.228654  ...        0.0             0\n",
              "2011-01-04  104.008091  104.040765  ...        0.0             0\n",
              "2011-01-05  103.395475  104.326671  ...        0.0             0\n",
              "2011-01-06  104.302168  104.416525  ...        0.0             0\n",
              "2011-01-07  104.195953  104.367489  ...        0.0             0\n",
              "...                ...         ...  ...        ...           ...\n",
              "2021-05-11  413.100006  415.269989  ...        0.0             0\n",
              "2021-05-12  411.230011  412.589996  ...        0.0             0\n",
              "2021-05-13  407.070007  412.350006  ...        0.0             0\n",
              "2021-05-14  413.209991  417.489990  ...        0.0             0\n",
              "2021-05-17  415.390015  416.390015  ...        0.0             0\n",
              "\n",
              "[2610 rows x 7 columns]"
            ]
          },
          "metadata": {
            "tags": []
          },
          "execution_count": 14
        }
      ]
    },
    {
      "cell_type": "code",
      "metadata": {
        "id": "XurAi2UPHf8K",
        "colab": {
          "base_uri": "https://localhost:8080/"
        },
        "outputId": "ab3fbc19-e2e4-4be1-e434-04d57c835f48"
      },
      "source": [
        "df_Open=amzn_df[['Open']]\n",
        "df_dates=amzn_df.index.to_frame().reset_index(drop=True)\n",
        "print(df_dates)"
      ],
      "execution_count": null,
      "outputs": [
        {
          "output_type": "stream",
          "text": [
            "           Date\n",
            "0    2011-01-03\n",
            "1    2011-01-04\n",
            "2    2011-01-05\n",
            "3    2011-01-06\n",
            "4    2011-01-07\n",
            "...         ...\n",
            "2605 2021-05-11\n",
            "2606 2021-05-12\n",
            "2607 2021-05-13\n",
            "2608 2021-05-14\n",
            "2609 2021-05-17\n",
            "\n",
            "[2610 rows x 1 columns]\n"
          ],
          "name": "stdout"
        }
      ]
    },
    {
      "cell_type": "code",
      "metadata": {
        "id": "NU7WwRZBHhSB"
      },
      "source": [
        "#amzn_df = pd.concat([amzn_df, df_dates])"
      ],
      "execution_count": null,
      "outputs": []
    },
    {
      "cell_type": "code",
      "metadata": {
        "id": "gQxYLvYsH6-o",
        "colab": {
          "base_uri": "https://localhost:8080/",
          "height": 437
        },
        "outputId": "55041627-b1d6-4092-fd06-fe4f5f87fd17"
      },
      "source": [
        "amzn_df"
      ],
      "execution_count": null,
      "outputs": [
        {
          "output_type": "execute_result",
          "data": {
            "text/html": [
              "<div>\n",
              "<style scoped>\n",
              "    .dataframe tbody tr th:only-of-type {\n",
              "        vertical-align: middle;\n",
              "    }\n",
              "\n",
              "    .dataframe tbody tr th {\n",
              "        vertical-align: top;\n",
              "    }\n",
              "\n",
              "    .dataframe thead th {\n",
              "        text-align: right;\n",
              "    }\n",
              "</style>\n",
              "<table border=\"1\" class=\"dataframe\">\n",
              "  <thead>\n",
              "    <tr style=\"text-align: right;\">\n",
              "      <th></th>\n",
              "      <th>Open</th>\n",
              "      <th>High</th>\n",
              "      <th>Low</th>\n",
              "      <th>Close</th>\n",
              "      <th>Volume</th>\n",
              "      <th>Dividends</th>\n",
              "      <th>Stock Splits</th>\n",
              "    </tr>\n",
              "    <tr>\n",
              "      <th>Date</th>\n",
              "      <th></th>\n",
              "      <th></th>\n",
              "      <th></th>\n",
              "      <th></th>\n",
              "      <th></th>\n",
              "      <th></th>\n",
              "      <th></th>\n",
              "    </tr>\n",
              "  </thead>\n",
              "  <tbody>\n",
              "    <tr>\n",
              "      <th>2011-01-03</th>\n",
              "      <td>103.501668</td>\n",
              "      <td>104.228654</td>\n",
              "      <td>102.676658</td>\n",
              "      <td>103.779396</td>\n",
              "      <td>138725200</td>\n",
              "      <td>0.0</td>\n",
              "      <td>0</td>\n",
              "    </tr>\n",
              "    <tr>\n",
              "      <th>2011-01-04</th>\n",
              "      <td>104.008091</td>\n",
              "      <td>104.040765</td>\n",
              "      <td>103.076895</td>\n",
              "      <td>103.722198</td>\n",
              "      <td>137409700</td>\n",
              "      <td>0.0</td>\n",
              "      <td>0</td>\n",
              "    </tr>\n",
              "    <tr>\n",
              "      <th>2011-01-05</th>\n",
              "      <td>103.395475</td>\n",
              "      <td>104.326671</td>\n",
              "      <td>103.297452</td>\n",
              "      <td>104.261322</td>\n",
              "      <td>133975300</td>\n",
              "      <td>0.0</td>\n",
              "      <td>0</td>\n",
              "    </tr>\n",
              "    <tr>\n",
              "      <th>2011-01-06</th>\n",
              "      <td>104.302168</td>\n",
              "      <td>104.416525</td>\n",
              "      <td>103.746717</td>\n",
              "      <td>104.057114</td>\n",
              "      <td>122519000</td>\n",
              "      <td>0.0</td>\n",
              "      <td>0</td>\n",
              "    </tr>\n",
              "    <tr>\n",
              "      <th>2011-01-07</th>\n",
              "      <td>104.195953</td>\n",
              "      <td>104.367489</td>\n",
              "      <td>103.044214</td>\n",
              "      <td>103.852882</td>\n",
              "      <td>156034600</td>\n",
              "      <td>0.0</td>\n",
              "      <td>0</td>\n",
              "    </tr>\n",
              "    <tr>\n",
              "      <th>...</th>\n",
              "      <td>...</td>\n",
              "      <td>...</td>\n",
              "      <td>...</td>\n",
              "      <td>...</td>\n",
              "      <td>...</td>\n",
              "      <td>...</td>\n",
              "      <td>...</td>\n",
              "    </tr>\n",
              "    <tr>\n",
              "      <th>2021-05-11</th>\n",
              "      <td>413.100006</td>\n",
              "      <td>415.269989</td>\n",
              "      <td>410.059998</td>\n",
              "      <td>414.209991</td>\n",
              "      <td>116888000</td>\n",
              "      <td>0.0</td>\n",
              "      <td>0</td>\n",
              "    </tr>\n",
              "    <tr>\n",
              "      <th>2021-05-12</th>\n",
              "      <td>411.230011</td>\n",
              "      <td>412.589996</td>\n",
              "      <td>404.000000</td>\n",
              "      <td>405.410004</td>\n",
              "      <td>134811000</td>\n",
              "      <td>0.0</td>\n",
              "      <td>0</td>\n",
              "    </tr>\n",
              "    <tr>\n",
              "      <th>2021-05-13</th>\n",
              "      <td>407.070007</td>\n",
              "      <td>412.350006</td>\n",
              "      <td>407.019989</td>\n",
              "      <td>410.279999</td>\n",
              "      <td>106394000</td>\n",
              "      <td>0.0</td>\n",
              "      <td>0</td>\n",
              "    </tr>\n",
              "    <tr>\n",
              "      <th>2021-05-14</th>\n",
              "      <td>413.209991</td>\n",
              "      <td>417.489990</td>\n",
              "      <td>413.179993</td>\n",
              "      <td>416.579987</td>\n",
              "      <td>82123100</td>\n",
              "      <td>0.0</td>\n",
              "      <td>0</td>\n",
              "    </tr>\n",
              "    <tr>\n",
              "      <th>2021-05-17</th>\n",
              "      <td>415.390015</td>\n",
              "      <td>416.390015</td>\n",
              "      <td>413.359985</td>\n",
              "      <td>415.519989</td>\n",
              "      <td>65129200</td>\n",
              "      <td>0.0</td>\n",
              "      <td>0</td>\n",
              "    </tr>\n",
              "  </tbody>\n",
              "</table>\n",
              "<p>2610 rows × 7 columns</p>\n",
              "</div>"
            ],
            "text/plain": [
              "                  Open        High  ...  Dividends  Stock Splits\n",
              "Date                                ...                         \n",
              "2011-01-03  103.501668  104.228654  ...        0.0             0\n",
              "2011-01-04  104.008091  104.040765  ...        0.0             0\n",
              "2011-01-05  103.395475  104.326671  ...        0.0             0\n",
              "2011-01-06  104.302168  104.416525  ...        0.0             0\n",
              "2011-01-07  104.195953  104.367489  ...        0.0             0\n",
              "...                ...         ...  ...        ...           ...\n",
              "2021-05-11  413.100006  415.269989  ...        0.0             0\n",
              "2021-05-12  411.230011  412.589996  ...        0.0             0\n",
              "2021-05-13  407.070007  412.350006  ...        0.0             0\n",
              "2021-05-14  413.209991  417.489990  ...        0.0             0\n",
              "2021-05-17  415.390015  416.390015  ...        0.0             0\n",
              "\n",
              "[2610 rows x 7 columns]"
            ]
          },
          "metadata": {
            "tags": []
          },
          "execution_count": 17
        }
      ]
    },
    {
      "cell_type": "code",
      "metadata": {
        "id": "CCUSaSeZH7ml"
      },
      "source": [
        " #df_dates['Date']"
      ],
      "execution_count": null,
      "outputs": []
    },
    {
      "cell_type": "code",
      "metadata": {
        "id": "floLm7RgIP5m"
      },
      "source": [
        "#a#mzn_df=amzn_df.append(df_dates)"
      ],
      "execution_count": null,
      "outputs": []
    },
    {
      "cell_type": "code",
      "metadata": {
        "id": "F07zwKyrIQv4"
      },
      "source": [
        "amzn_df['Date']= df_dates['Date'].values"
      ],
      "execution_count": null,
      "outputs": []
    },
    {
      "cell_type": "code",
      "metadata": {
        "id": "VOCgatWOIqx-",
        "colab": {
          "base_uri": "https://localhost:8080/",
          "height": 437
        },
        "outputId": "e20b938f-642a-4384-f792-66fa5b011385"
      },
      "source": [
        "amzn_df"
      ],
      "execution_count": null,
      "outputs": [
        {
          "output_type": "execute_result",
          "data": {
            "text/html": [
              "<div>\n",
              "<style scoped>\n",
              "    .dataframe tbody tr th:only-of-type {\n",
              "        vertical-align: middle;\n",
              "    }\n",
              "\n",
              "    .dataframe tbody tr th {\n",
              "        vertical-align: top;\n",
              "    }\n",
              "\n",
              "    .dataframe thead th {\n",
              "        text-align: right;\n",
              "    }\n",
              "</style>\n",
              "<table border=\"1\" class=\"dataframe\">\n",
              "  <thead>\n",
              "    <tr style=\"text-align: right;\">\n",
              "      <th></th>\n",
              "      <th>Open</th>\n",
              "      <th>High</th>\n",
              "      <th>Low</th>\n",
              "      <th>Close</th>\n",
              "      <th>Volume</th>\n",
              "      <th>Dividends</th>\n",
              "      <th>Stock Splits</th>\n",
              "      <th>Date</th>\n",
              "    </tr>\n",
              "    <tr>\n",
              "      <th>Date</th>\n",
              "      <th></th>\n",
              "      <th></th>\n",
              "      <th></th>\n",
              "      <th></th>\n",
              "      <th></th>\n",
              "      <th></th>\n",
              "      <th></th>\n",
              "      <th></th>\n",
              "    </tr>\n",
              "  </thead>\n",
              "  <tbody>\n",
              "    <tr>\n",
              "      <th>2011-01-03</th>\n",
              "      <td>103.501668</td>\n",
              "      <td>104.228654</td>\n",
              "      <td>102.676658</td>\n",
              "      <td>103.779396</td>\n",
              "      <td>138725200</td>\n",
              "      <td>0.0</td>\n",
              "      <td>0</td>\n",
              "      <td>2011-01-03</td>\n",
              "    </tr>\n",
              "    <tr>\n",
              "      <th>2011-01-04</th>\n",
              "      <td>104.008091</td>\n",
              "      <td>104.040765</td>\n",
              "      <td>103.076895</td>\n",
              "      <td>103.722198</td>\n",
              "      <td>137409700</td>\n",
              "      <td>0.0</td>\n",
              "      <td>0</td>\n",
              "      <td>2011-01-04</td>\n",
              "    </tr>\n",
              "    <tr>\n",
              "      <th>2011-01-05</th>\n",
              "      <td>103.395475</td>\n",
              "      <td>104.326671</td>\n",
              "      <td>103.297452</td>\n",
              "      <td>104.261322</td>\n",
              "      <td>133975300</td>\n",
              "      <td>0.0</td>\n",
              "      <td>0</td>\n",
              "      <td>2011-01-05</td>\n",
              "    </tr>\n",
              "    <tr>\n",
              "      <th>2011-01-06</th>\n",
              "      <td>104.302168</td>\n",
              "      <td>104.416525</td>\n",
              "      <td>103.746717</td>\n",
              "      <td>104.057114</td>\n",
              "      <td>122519000</td>\n",
              "      <td>0.0</td>\n",
              "      <td>0</td>\n",
              "      <td>2011-01-06</td>\n",
              "    </tr>\n",
              "    <tr>\n",
              "      <th>2011-01-07</th>\n",
              "      <td>104.195953</td>\n",
              "      <td>104.367489</td>\n",
              "      <td>103.044214</td>\n",
              "      <td>103.852882</td>\n",
              "      <td>156034600</td>\n",
              "      <td>0.0</td>\n",
              "      <td>0</td>\n",
              "      <td>2011-01-07</td>\n",
              "    </tr>\n",
              "    <tr>\n",
              "      <th>...</th>\n",
              "      <td>...</td>\n",
              "      <td>...</td>\n",
              "      <td>...</td>\n",
              "      <td>...</td>\n",
              "      <td>...</td>\n",
              "      <td>...</td>\n",
              "      <td>...</td>\n",
              "      <td>...</td>\n",
              "    </tr>\n",
              "    <tr>\n",
              "      <th>2021-05-11</th>\n",
              "      <td>413.100006</td>\n",
              "      <td>415.269989</td>\n",
              "      <td>410.059998</td>\n",
              "      <td>414.209991</td>\n",
              "      <td>116888000</td>\n",
              "      <td>0.0</td>\n",
              "      <td>0</td>\n",
              "      <td>2021-05-11</td>\n",
              "    </tr>\n",
              "    <tr>\n",
              "      <th>2021-05-12</th>\n",
              "      <td>411.230011</td>\n",
              "      <td>412.589996</td>\n",
              "      <td>404.000000</td>\n",
              "      <td>405.410004</td>\n",
              "      <td>134811000</td>\n",
              "      <td>0.0</td>\n",
              "      <td>0</td>\n",
              "      <td>2021-05-12</td>\n",
              "    </tr>\n",
              "    <tr>\n",
              "      <th>2021-05-13</th>\n",
              "      <td>407.070007</td>\n",
              "      <td>412.350006</td>\n",
              "      <td>407.019989</td>\n",
              "      <td>410.279999</td>\n",
              "      <td>106394000</td>\n",
              "      <td>0.0</td>\n",
              "      <td>0</td>\n",
              "      <td>2021-05-13</td>\n",
              "    </tr>\n",
              "    <tr>\n",
              "      <th>2021-05-14</th>\n",
              "      <td>413.209991</td>\n",
              "      <td>417.489990</td>\n",
              "      <td>413.179993</td>\n",
              "      <td>416.579987</td>\n",
              "      <td>82123100</td>\n",
              "      <td>0.0</td>\n",
              "      <td>0</td>\n",
              "      <td>2021-05-14</td>\n",
              "    </tr>\n",
              "    <tr>\n",
              "      <th>2021-05-17</th>\n",
              "      <td>415.390015</td>\n",
              "      <td>416.390015</td>\n",
              "      <td>413.359985</td>\n",
              "      <td>415.519989</td>\n",
              "      <td>65129200</td>\n",
              "      <td>0.0</td>\n",
              "      <td>0</td>\n",
              "      <td>2021-05-17</td>\n",
              "    </tr>\n",
              "  </tbody>\n",
              "</table>\n",
              "<p>2610 rows × 8 columns</p>\n",
              "</div>"
            ],
            "text/plain": [
              "                  Open        High  ...  Stock Splits       Date\n",
              "Date                                ...                         \n",
              "2011-01-03  103.501668  104.228654  ...             0 2011-01-03\n",
              "2011-01-04  104.008091  104.040765  ...             0 2011-01-04\n",
              "2011-01-05  103.395475  104.326671  ...             0 2011-01-05\n",
              "2011-01-06  104.302168  104.416525  ...             0 2011-01-06\n",
              "2011-01-07  104.195953  104.367489  ...             0 2011-01-07\n",
              "...                ...         ...  ...           ...        ...\n",
              "2021-05-11  413.100006  415.269989  ...             0 2021-05-11\n",
              "2021-05-12  411.230011  412.589996  ...             0 2021-05-12\n",
              "2021-05-13  407.070007  412.350006  ...             0 2021-05-13\n",
              "2021-05-14  413.209991  417.489990  ...             0 2021-05-14\n",
              "2021-05-17  415.390015  416.390015  ...             0 2021-05-17\n",
              "\n",
              "[2610 rows x 8 columns]"
            ]
          },
          "metadata": {
            "tags": []
          },
          "execution_count": 21
        }
      ]
    },
    {
      "cell_type": "code",
      "metadata": {
        "id": "su1iv34TJBL3"
      },
      "source": [
        "amzn_df['Date'] = amzn_df['Date'].astype(str)"
      ],
      "execution_count": null,
      "outputs": []
    },
    {
      "cell_type": "code",
      "metadata": {
        "id": "z8-qFpabJGq6"
      },
      "source": [
        "amzn_df['new_date'] = amzn_df['Date'].str.replace('\\D', '').astype(int)"
      ],
      "execution_count": null,
      "outputs": []
    },
    {
      "cell_type": "code",
      "metadata": {
        "id": "agyTW_EiJMBz",
        "colab": {
          "base_uri": "https://localhost:8080/",
          "height": 437
        },
        "outputId": "acc389a4-d386-48a5-ff05-581961f4c6c0"
      },
      "source": [
        "amzn_df"
      ],
      "execution_count": null,
      "outputs": [
        {
          "output_type": "execute_result",
          "data": {
            "text/html": [
              "<div>\n",
              "<style scoped>\n",
              "    .dataframe tbody tr th:only-of-type {\n",
              "        vertical-align: middle;\n",
              "    }\n",
              "\n",
              "    .dataframe tbody tr th {\n",
              "        vertical-align: top;\n",
              "    }\n",
              "\n",
              "    .dataframe thead th {\n",
              "        text-align: right;\n",
              "    }\n",
              "</style>\n",
              "<table border=\"1\" class=\"dataframe\">\n",
              "  <thead>\n",
              "    <tr style=\"text-align: right;\">\n",
              "      <th></th>\n",
              "      <th>Open</th>\n",
              "      <th>High</th>\n",
              "      <th>Low</th>\n",
              "      <th>Close</th>\n",
              "      <th>Volume</th>\n",
              "      <th>Dividends</th>\n",
              "      <th>Stock Splits</th>\n",
              "      <th>Date</th>\n",
              "      <th>new_date</th>\n",
              "    </tr>\n",
              "    <tr>\n",
              "      <th>Date</th>\n",
              "      <th></th>\n",
              "      <th></th>\n",
              "      <th></th>\n",
              "      <th></th>\n",
              "      <th></th>\n",
              "      <th></th>\n",
              "      <th></th>\n",
              "      <th></th>\n",
              "      <th></th>\n",
              "    </tr>\n",
              "  </thead>\n",
              "  <tbody>\n",
              "    <tr>\n",
              "      <th>2011-01-03</th>\n",
              "      <td>103.501668</td>\n",
              "      <td>104.228654</td>\n",
              "      <td>102.676658</td>\n",
              "      <td>103.779396</td>\n",
              "      <td>138725200</td>\n",
              "      <td>0.0</td>\n",
              "      <td>0</td>\n",
              "      <td>2011-01-03</td>\n",
              "      <td>20110103</td>\n",
              "    </tr>\n",
              "    <tr>\n",
              "      <th>2011-01-04</th>\n",
              "      <td>104.008091</td>\n",
              "      <td>104.040765</td>\n",
              "      <td>103.076895</td>\n",
              "      <td>103.722198</td>\n",
              "      <td>137409700</td>\n",
              "      <td>0.0</td>\n",
              "      <td>0</td>\n",
              "      <td>2011-01-04</td>\n",
              "      <td>20110104</td>\n",
              "    </tr>\n",
              "    <tr>\n",
              "      <th>2011-01-05</th>\n",
              "      <td>103.395475</td>\n",
              "      <td>104.326671</td>\n",
              "      <td>103.297452</td>\n",
              "      <td>104.261322</td>\n",
              "      <td>133975300</td>\n",
              "      <td>0.0</td>\n",
              "      <td>0</td>\n",
              "      <td>2011-01-05</td>\n",
              "      <td>20110105</td>\n",
              "    </tr>\n",
              "    <tr>\n",
              "      <th>2011-01-06</th>\n",
              "      <td>104.302168</td>\n",
              "      <td>104.416525</td>\n",
              "      <td>103.746717</td>\n",
              "      <td>104.057114</td>\n",
              "      <td>122519000</td>\n",
              "      <td>0.0</td>\n",
              "      <td>0</td>\n",
              "      <td>2011-01-06</td>\n",
              "      <td>20110106</td>\n",
              "    </tr>\n",
              "    <tr>\n",
              "      <th>2011-01-07</th>\n",
              "      <td>104.195953</td>\n",
              "      <td>104.367489</td>\n",
              "      <td>103.044214</td>\n",
              "      <td>103.852882</td>\n",
              "      <td>156034600</td>\n",
              "      <td>0.0</td>\n",
              "      <td>0</td>\n",
              "      <td>2011-01-07</td>\n",
              "      <td>20110107</td>\n",
              "    </tr>\n",
              "    <tr>\n",
              "      <th>...</th>\n",
              "      <td>...</td>\n",
              "      <td>...</td>\n",
              "      <td>...</td>\n",
              "      <td>...</td>\n",
              "      <td>...</td>\n",
              "      <td>...</td>\n",
              "      <td>...</td>\n",
              "      <td>...</td>\n",
              "      <td>...</td>\n",
              "    </tr>\n",
              "    <tr>\n",
              "      <th>2021-05-11</th>\n",
              "      <td>413.100006</td>\n",
              "      <td>415.269989</td>\n",
              "      <td>410.059998</td>\n",
              "      <td>414.209991</td>\n",
              "      <td>116888000</td>\n",
              "      <td>0.0</td>\n",
              "      <td>0</td>\n",
              "      <td>2021-05-11</td>\n",
              "      <td>20210511</td>\n",
              "    </tr>\n",
              "    <tr>\n",
              "      <th>2021-05-12</th>\n",
              "      <td>411.230011</td>\n",
              "      <td>412.589996</td>\n",
              "      <td>404.000000</td>\n",
              "      <td>405.410004</td>\n",
              "      <td>134811000</td>\n",
              "      <td>0.0</td>\n",
              "      <td>0</td>\n",
              "      <td>2021-05-12</td>\n",
              "      <td>20210512</td>\n",
              "    </tr>\n",
              "    <tr>\n",
              "      <th>2021-05-13</th>\n",
              "      <td>407.070007</td>\n",
              "      <td>412.350006</td>\n",
              "      <td>407.019989</td>\n",
              "      <td>410.279999</td>\n",
              "      <td>106394000</td>\n",
              "      <td>0.0</td>\n",
              "      <td>0</td>\n",
              "      <td>2021-05-13</td>\n",
              "      <td>20210513</td>\n",
              "    </tr>\n",
              "    <tr>\n",
              "      <th>2021-05-14</th>\n",
              "      <td>413.209991</td>\n",
              "      <td>417.489990</td>\n",
              "      <td>413.179993</td>\n",
              "      <td>416.579987</td>\n",
              "      <td>82123100</td>\n",
              "      <td>0.0</td>\n",
              "      <td>0</td>\n",
              "      <td>2021-05-14</td>\n",
              "      <td>20210514</td>\n",
              "    </tr>\n",
              "    <tr>\n",
              "      <th>2021-05-17</th>\n",
              "      <td>415.390015</td>\n",
              "      <td>416.390015</td>\n",
              "      <td>413.359985</td>\n",
              "      <td>415.519989</td>\n",
              "      <td>65129200</td>\n",
              "      <td>0.0</td>\n",
              "      <td>0</td>\n",
              "      <td>2021-05-17</td>\n",
              "      <td>20210517</td>\n",
              "    </tr>\n",
              "  </tbody>\n",
              "</table>\n",
              "<p>2610 rows × 9 columns</p>\n",
              "</div>"
            ],
            "text/plain": [
              "                  Open        High  ...        Date  new_date\n",
              "Date                                ...                      \n",
              "2011-01-03  103.501668  104.228654  ...  2011-01-03  20110103\n",
              "2011-01-04  104.008091  104.040765  ...  2011-01-04  20110104\n",
              "2011-01-05  103.395475  104.326671  ...  2011-01-05  20110105\n",
              "2011-01-06  104.302168  104.416525  ...  2011-01-06  20110106\n",
              "2011-01-07  104.195953  104.367489  ...  2011-01-07  20110107\n",
              "...                ...         ...  ...         ...       ...\n",
              "2021-05-11  413.100006  415.269989  ...  2021-05-11  20210511\n",
              "2021-05-12  411.230011  412.589996  ...  2021-05-12  20210512\n",
              "2021-05-13  407.070007  412.350006  ...  2021-05-13  20210513\n",
              "2021-05-14  413.209991  417.489990  ...  2021-05-14  20210514\n",
              "2021-05-17  415.390015  416.390015  ...  2021-05-17  20210517\n",
              "\n",
              "[2610 rows x 9 columns]"
            ]
          },
          "metadata": {
            "tags": []
          },
          "execution_count": 24
        }
      ]
    },
    {
      "cell_type": "code",
      "metadata": {
        "id": "J4cFyPpNJOPD",
        "colab": {
          "base_uri": "https://localhost:8080/",
          "height": 107
        },
        "outputId": "ad965375-9b0e-4f36-e287-0b70d2420cdd"
      },
      "source": [
        "actual_price = amzn_df.tail(1)\n",
        "actual_price"
      ],
      "execution_count": null,
      "outputs": [
        {
          "output_type": "execute_result",
          "data": {
            "text/html": [
              "<div>\n",
              "<style scoped>\n",
              "    .dataframe tbody tr th:only-of-type {\n",
              "        vertical-align: middle;\n",
              "    }\n",
              "\n",
              "    .dataframe tbody tr th {\n",
              "        vertical-align: top;\n",
              "    }\n",
              "\n",
              "    .dataframe thead th {\n",
              "        text-align: right;\n",
              "    }\n",
              "</style>\n",
              "<table border=\"1\" class=\"dataframe\">\n",
              "  <thead>\n",
              "    <tr style=\"text-align: right;\">\n",
              "      <th></th>\n",
              "      <th>Open</th>\n",
              "      <th>High</th>\n",
              "      <th>Low</th>\n",
              "      <th>Close</th>\n",
              "      <th>Volume</th>\n",
              "      <th>Dividends</th>\n",
              "      <th>Stock Splits</th>\n",
              "      <th>Date</th>\n",
              "      <th>new_date</th>\n",
              "    </tr>\n",
              "    <tr>\n",
              "      <th>Date</th>\n",
              "      <th></th>\n",
              "      <th></th>\n",
              "      <th></th>\n",
              "      <th></th>\n",
              "      <th></th>\n",
              "      <th></th>\n",
              "      <th></th>\n",
              "      <th></th>\n",
              "      <th></th>\n",
              "    </tr>\n",
              "  </thead>\n",
              "  <tbody>\n",
              "    <tr>\n",
              "      <th>2021-05-17</th>\n",
              "      <td>415.390015</td>\n",
              "      <td>416.390015</td>\n",
              "      <td>413.359985</td>\n",
              "      <td>415.519989</td>\n",
              "      <td>65129200</td>\n",
              "      <td>0.0</td>\n",
              "      <td>0</td>\n",
              "      <td>2021-05-17</td>\n",
              "      <td>20210517</td>\n",
              "    </tr>\n",
              "  </tbody>\n",
              "</table>\n",
              "</div>"
            ],
            "text/plain": [
              "                  Open        High  ...        Date  new_date\n",
              "Date                                ...                      \n",
              "2021-05-17  415.390015  416.390015  ...  2021-05-17  20210517\n",
              "\n",
              "[1 rows x 9 columns]"
            ]
          },
          "metadata": {
            "tags": []
          },
          "execution_count": 25
        }
      ]
    },
    {
      "cell_type": "code",
      "metadata": {
        "id": "aU4AvhTtIDvw",
        "colab": {
          "base_uri": "https://localhost:8080/"
        },
        "outputId": "7deacfa0-7d5d-4e93-cf50-7123bbae4f7e"
      },
      "source": [
        "x=actual_price['Close']\n",
        "list2=[]\n",
        "list2.append(x)\n",
        "list2\n",
        "\n",
        "y= 1+ list2[0]\n",
        "print(list2[0])\n",
        "print(y)\n",
        "\n",
        "len(list2)\n"
      ],
      "execution_count": null,
      "outputs": [
        {
          "output_type": "stream",
          "text": [
            "Date\n",
            "2021-05-17    415.519989\n",
            "Name: Close, dtype: float64\n",
            "Date\n",
            "2021-05-17    416.519989\n",
            "Name: Close, dtype: float64\n"
          ],
          "name": "stdout"
        },
        {
          "output_type": "execute_result",
          "data": {
            "text/plain": [
              "1"
            ]
          },
          "metadata": {
            "tags": []
          },
          "execution_count": 26
        }
      ]
    },
    {
      "cell_type": "code",
      "metadata": {
        "id": "c7NU9Ky7JRvt"
      },
      "source": [
        "amzn_df = amzn_df.head(len(amzn_df)-1)"
      ],
      "execution_count": null,
      "outputs": []
    },
    {
      "cell_type": "code",
      "metadata": {
        "id": "4faIDnyGJWNs"
      },
      "source": [
        "days = list()\n",
        "close_prices= list()"
      ],
      "execution_count": null,
      "outputs": []
    },
    {
      "cell_type": "code",
      "metadata": {
        "id": "9oSeJ9Z3JZoG",
        "colab": {
          "base_uri": "https://localhost:8080/"
        },
        "outputId": "002cdd31-4e38-48cf-87b9-11e97eacdb96"
      },
      "source": [
        "df_days = amzn_df.loc[:,'new_date']\n",
        "df_days"
      ],
      "execution_count": null,
      "outputs": [
        {
          "output_type": "execute_result",
          "data": {
            "text/plain": [
              "Date\n",
              "2011-01-03    20110103\n",
              "2011-01-04    20110104\n",
              "2011-01-05    20110105\n",
              "2011-01-06    20110106\n",
              "2011-01-07    20110107\n",
              "                ...   \n",
              "2021-05-10    20210510\n",
              "2021-05-11    20210511\n",
              "2021-05-12    20210512\n",
              "2021-05-13    20210513\n",
              "2021-05-14    20210514\n",
              "Name: new_date, Length: 2609, dtype: int64"
            ]
          },
          "metadata": {
            "tags": []
          },
          "execution_count": 29
        }
      ]
    },
    {
      "cell_type": "code",
      "metadata": {
        "id": "4Xkxsaf5Jb7K"
      },
      "source": [
        "df_close_price = amzn_df.loc[:,'Close']"
      ],
      "execution_count": null,
      "outputs": []
    },
    {
      "cell_type": "code",
      "metadata": {
        "id": "gt3bqO-mJecR"
      },
      "source": [
        "for dates in df_days:\n",
        "  days.append([int(dates)])\n",
        "\n",
        "days"
      ],
      "execution_count": null,
      "outputs": []
    },
    {
      "cell_type": "code",
      "metadata": {
        "id": "LLYeb7akJhys"
      },
      "source": [
        "for price in df_close_price: \n",
        "  close_prices.append(float(price))\n",
        "\n",
        "close_prices"
      ],
      "execution_count": null,
      "outputs": []
    },
    {
      "cell_type": "code",
      "metadata": {
        "id": "1F3eBNvLJjcQ"
      },
      "source": [
        "print(days)\n",
        "print(close_prices)\n",
        "\n",
        "print(len(days))\n",
        "print(len(close_prices))"
      ],
      "execution_count": null,
      "outputs": []
    },
    {
      "cell_type": "code",
      "metadata": {
        "colab": {
          "base_uri": "https://localhost:8080/"
        },
        "id": "LwRGN32wYYD_",
        "outputId": "c3caed5f-6d98-47aa-ceb5-0fe2093ceb1b"
      },
      "source": [
        "rbf = SVR(kernel= 'rbf', C= 1000.0, gamma= 1E-5)\n",
        "rbf.fit(days, close_prices)"
      ],
      "execution_count": null,
      "outputs": [
        {
          "output_type": "execute_result",
          "data": {
            "text/plain": [
              "SVR(C=1000.0, cache_size=200, coef0=0.0, degree=3, epsilon=0.1, gamma=1e-05,\n",
              "    kernel='rbf', max_iter=-1, shrinking=True, tol=0.001, verbose=False)"
            ]
          },
          "metadata": {
            "tags": []
          },
          "execution_count": 34
        }
      ]
    },
    {
      "cell_type": "code",
      "metadata": {
        "colab": {
          "base_uri": "https://localhost:8080/",
          "height": 496
        },
        "id": "dI-YplQHYYjO",
        "outputId": "8289e784-2327-4362-ea53-c695e517a449"
      },
      "source": [
        "plt.figure(figsize=(16,8))\n",
        "plt.scatter(days,close_prices, color= 'red', label= 'Data')\n",
        "plt.plot(days, rbf.predict(days), color='blue', label='RBF Model')\n",
        "plt.legend()\n",
        "plt.show()"
      ],
      "execution_count": null,
      "outputs": [
        {
          "output_type": "display_data",
          "data": {
            "image/png": "[encoded data removed]",
            "text/plain": [
              "<Figure size 1152x576 with 1 Axes>"
            ]
          },
          "metadata": {
            "tags": [],
            "needs_background": "light"
          }
        }
      ]
    },
    {
      "cell_type": "code",
      "metadata": {
        "colab": {
          "base_uri": "https://localhost:8080/",
          "height": 107
        },
        "id": "spWei0brYm6l",
        "outputId": "7f47ef23-6ee2-42ea-9c84-8538a9134ade"
      },
      "source": [
        "actual_price"
      ],
      "execution_count": null,
      "outputs": [
        {
          "output_type": "execute_result",
          "data": {
            "text/html": [
              "<div>\n",
              "<style scoped>\n",
              "    .dataframe tbody tr th:only-of-type {\n",
              "        vertical-align: middle;\n",
              "    }\n",
              "\n",
              "    .dataframe tbody tr th {\n",
              "        vertical-align: top;\n",
              "    }\n",
              "\n",
              "    .dataframe thead th {\n",
              "        text-align: right;\n",
              "    }\n",
              "</style>\n",
              "<table border=\"1\" class=\"dataframe\">\n",
              "  <thead>\n",
              "    <tr style=\"text-align: right;\">\n",
              "      <th></th>\n",
              "      <th>Open</th>\n",
              "      <th>High</th>\n",
              "      <th>Low</th>\n",
              "      <th>Close</th>\n",
              "      <th>Volume</th>\n",
              "      <th>Dividends</th>\n",
              "      <th>Stock Splits</th>\n",
              "      <th>Date</th>\n",
              "      <th>new_date</th>\n",
              "    </tr>\n",
              "    <tr>\n",
              "      <th>Date</th>\n",
              "      <th></th>\n",
              "      <th></th>\n",
              "      <th></th>\n",
              "      <th></th>\n",
              "      <th></th>\n",
              "      <th></th>\n",
              "      <th></th>\n",
              "      <th></th>\n",
              "      <th></th>\n",
              "    </tr>\n",
              "  </thead>\n",
              "  <tbody>\n",
              "    <tr>\n",
              "      <th>2021-05-17</th>\n",
              "      <td>415.390015</td>\n",
              "      <td>416.390015</td>\n",
              "      <td>413.359985</td>\n",
              "      <td>415.519989</td>\n",
              "      <td>65129200</td>\n",
              "      <td>0.0</td>\n",
              "      <td>0</td>\n",
              "      <td>2021-05-17</td>\n",
              "      <td>20210517</td>\n",
              "    </tr>\n",
              "  </tbody>\n",
              "</table>\n",
              "</div>"
            ],
            "text/plain": [
              "                  Open        High  ...        Date  new_date\n",
              "Date                                ...                      \n",
              "2021-05-17  415.390015  416.390015  ...  2021-05-17  20210517\n",
              "\n",
              "[1 rows x 9 columns]"
            ]
          },
          "metadata": {
            "tags": []
          },
          "execution_count": 36
        }
      ]
    },
    {
      "cell_type": "code",
      "metadata": {
        "colab": {
          "base_uri": "https://localhost:8080/"
        },
        "id": "63hKMAF6Ynkx",
        "outputId": "236b59db-f282-4c1a-9114-61b3c6664571"
      },
      "source": [
        "day= [[20210517]]\n",
        "print('The predicted value on 2021-05-04 from the rbf model is: ' , rbf.predict(day))\n",
        "print('The percent error for this is: ', float((abs(3270.39-(rbf.predict(day)))/3270.39)*100),'%')"
      ],
      "execution_count": null,
      "outputs": [
        {
          "output_type": "stream",
          "text": [
            "The predicted value on 2021-05-04 from the rbf model is:  [415.82094305]\n",
            "The percent error for this is:  87.28527964403136 %\n"
          ],
          "name": "stdout"
        }
      ]
    },
    {
      "cell_type": "code",
      "metadata": {
        "colab": {
          "base_uri": "https://localhost:8080/"
        },
        "id": "hUXkjKj0ZLIJ",
        "outputId": "f8240ded-e07f-4764-c200-ce1d35b7c0b8"
      },
      "source": [
        "may_sixth = [[20210505]]\n",
        "print('The predicted value on 2021-05-05 from the rbf model is: ' , rbf.predict(may_sixth))\n",
        "print('The percent error for this is: ', float((abs(3270.54-(rbf.predict(may_sixth)))/3270.54)*100),'%')"
      ],
      "execution_count": null,
      "outputs": [
        {
          "output_type": "stream",
          "text": [
            "The predicted value on 2021-05-05 from the rbf model is:  [418.01408197]\n",
            "The percent error for this is:  87.2188053968547 %\n"
          ],
          "name": "stdout"
        }
      ]
    },
    {
      "cell_type": "code",
      "metadata": {
        "colab": {
          "base_uri": "https://localhost:8080/"
        },
        "id": "ah3BvtOPjny2",
        "outputId": "81ecb285-aefb-442b-dbf9-8677391660b7"
      },
      "source": [
        "tomorrow = [[20210506]]\n",
        "print('The predicted value on 2021-05-06 from the rbf model is: ' , rbf.predict(tomorrow))\n",
        "print('It\\'s predicted to drop: ' , float(((3146.3458-3249.386427)/3146.3458)*100), '%')"
      ],
      "execution_count": null,
      "outputs": [
        {
          "output_type": "stream",
          "text": [
            "The predicted value on 2021-05-06 from the rbf model is:  [417.86269509]\n",
            "It's predicted to drop:  -3.2749301427706974 %\n"
          ],
          "name": "stdout"
        }
      ]
    },
    {
      "cell_type": "code",
      "metadata": {
        "id": "pu8bWpHljhMw"
      },
      "source": [
        ""
      ],
      "execution_count": null,
      "outputs": []
    },
    {
      "cell_type": "markdown",
      "metadata": {
        "id": "4X-VhWasfFes"
      },
      "source": [
        "# RBF Unfixed"
      ]
    },
    {
      "cell_type": "code",
      "metadata": {
        "colab": {
          "base_uri": "https://localhost:8080/"
        },
        "id": "XxNEbOCafIUb",
        "outputId": "0996492d-ddc6-45c5-c5c7-99d4c296cb3c"
      },
      "source": [
        "rbf = SVR(kernel= 'rbf', C= 1000.0, gamma= 0.15)\n",
        "rbf.fit(days, close_prices)"
      ],
      "execution_count": null,
      "outputs": [
        {
          "output_type": "execute_result",
          "data": {
            "text/plain": [
              "SVR(C=1000.0, cache_size=200, coef0=0.0, degree=3, epsilon=0.1, gamma=0.15,\n",
              "    kernel='rbf', max_iter=-1, shrinking=True, tol=0.001, verbose=False)"
            ]
          },
          "metadata": {
            "tags": []
          },
          "execution_count": 40
        }
      ]
    },
    {
      "cell_type": "code",
      "metadata": {
        "colab": {
          "base_uri": "https://localhost:8080/",
          "height": 496
        },
        "id": "VEMAn7W0fMcp",
        "outputId": "0bf1e16a-f4c8-4997-e010-7a1b45790dd1"
      },
      "source": [
        "plt.figure(figsize=(16,8))\n",
        "plt.scatter(days,close_prices, color= 'red', label= 'Data')\n",
        "plt.plot(days, rbf.predict(days), color='blue', label='RBF Model')\n",
        "plt.legend()\n",
        "plt.show()"
      ],
      "execution_count": null,
      "outputs": [
        {
          "output_type": "display_data",
          "data": {
            "image/png": "[encoded data removed]",
            "text/plain": [
              "<Figure size 1152x576 with 1 Axes>"
            ]
          },
          "metadata": {
            "tags": [],
            "needs_background": "light"
          }
        }
      ]
    },
    {
      "cell_type": "code",
      "metadata": {
        "colab": {
          "base_uri": "https://localhost:8080/"
        },
        "id": "YYEWpoYEfRoU",
        "outputId": "f1613344-a006-4f4a-8fdb-8ce67b4bb1af"
      },
      "source": [
        "day= [[20210517]]\n",
        "print('The predicted value on 2021-05-04 from the rbf model is: ' , rbf.predict(day))\n",
        "print('The percent error for this is: ', float((abs(3270.39-(rbf.predict(day)))/3270.39)*100),'%')"
      ],
      "execution_count": null,
      "outputs": [
        {
          "output_type": "stream",
          "text": [
            "The predicted value on 2021-05-04 from the rbf model is:  [264.378901]\n",
            "The percent error for this is:  91.9159824669557 %\n"
          ],
          "name": "stdout"
        }
      ]
    },
    {
      "cell_type": "code",
      "metadata": {
        "colab": {
          "base_uri": "https://localhost:8080/"
        },
        "id": "oKKfvAZ7fSKY",
        "outputId": "c8d36f98-a4c8-4c32-feff-688113e5fc23"
      },
      "source": [
        "may_sixth = [[20210505]]\n",
        "print('The predicted value on 2021-05-05 from the rbf model is: ' , rbf.predict(may_sixth))\n",
        "print('The percent error for this is: ', float((abs(3270.54-(rbf.predict(may_sixth)))/3270.54)*100),'%')"
      ],
      "execution_count": null,
      "outputs": [
        {
          "output_type": "stream",
          "text": [
            "The predicted value on 2021-05-05 from the rbf model is:  [414.94340512]\n",
            "The percent error for this is:  87.31269438319575 %\n"
          ],
          "name": "stdout"
        }
      ]
    },
    {
      "cell_type": "markdown",
      "metadata": {
        "id": "8W-FtxYefBzY"
      },
      "source": [
        "# Linear"
      ]
    },
    {
      "cell_type": "code",
      "metadata": {
        "colab": {
          "base_uri": "https://localhost:8080/"
        },
        "id": "GaOhhP9bYygB",
        "outputId": "6c2638d3-1062-45df-ce15-71f2a79ab2e7"
      },
      "source": [
        "lin = SVR(kernel= 'linear',C= 1E-8)\n",
        "lin.fit(days, close_prices) "
      ],
      "execution_count": null,
      "outputs": [
        {
          "output_type": "execute_result",
          "data": {
            "text/plain": [
              "SVR(C=1e-08, cache_size=200, coef0=0.0, degree=3, epsilon=0.1, gamma='scale',\n",
              "    kernel='linear', max_iter=-1, shrinking=True, tol=0.001, verbose=False)"
            ]
          },
          "metadata": {
            "tags": []
          },
          "execution_count": 44
        }
      ]
    },
    {
      "cell_type": "code",
      "metadata": {
        "colab": {
          "base_uri": "https://localhost:8080/",
          "height": 496
        },
        "id": "Qy5R5NVBY8R3",
        "outputId": "70dc103c-3352-4cdf-e3de-bc4bccc84d2b"
      },
      "source": [
        "plt.figure(figsize=(16,8))\n",
        "plt.scatter(days,close_prices, color= 'red', label= 'Data')\n",
        "plt.plot(days, lin.predict(days), color='blue', label='Linear Model')\n",
        "plt.legend()\n",
        "plt.show()"
      ],
      "execution_count": null,
      "outputs": [
        {
          "output_type": "display_data",
          "data": {
            "image/png": "[encoded data removed]",
            "text/plain": [
              "<Figure size 1152x576 with 1 Axes>"
            ]
          },
          "metadata": {
            "tags": [],
            "needs_background": "light"
          }
        }
      ]
    },
    {
      "cell_type": "code",
      "metadata": {
        "colab": {
          "base_uri": "https://localhost:8080/"
        },
        "id": "JA4qV_HpY8mG",
        "outputId": "eab0149c-6754-4855-8ef6-e6b4095a02fa"
      },
      "source": [
        "day= [[20210517]]\n",
        "print('The predicted value on 2021-05-04 from the rbf model is: ' ,lin.predict(day))\n",
        "print('The percent error for this is: ', float((abs(3270.39-(lin.predict(day)))/3270.39)*100),'%')"
      ],
      "execution_count": null,
      "outputs": [
        {
          "output_type": "stream",
          "text": [
            "The predicted value on 2021-05-04 from the rbf model is:  [334.56931818]\n",
            "The percent error for this is:  89.76974250214106 %\n"
          ],
          "name": "stdout"
        }
      ]
    },
    {
      "cell_type": "markdown",
      "metadata": {
        "id": "58l09ZjEbngY"
      },
      "source": [
        "# 05-02-2020 - Now "
      ]
    },
    {
      "cell_type": "code",
      "metadata": {
        "id": "mNAaGK99bp-5"
      },
      "source": [
        "spy_df2 = SPYData.history(period='1d', start= '2020-5-2', end = '2021-5-18')"
      ],
      "execution_count": null,
      "outputs": []
    },
    {
      "cell_type": "code",
      "metadata": {
        "id": "0q7HiZpPbw7D",
        "colab": {
          "base_uri": "https://localhost:8080/",
          "height": 437
        },
        "outputId": "a2564c7d-dd08-4fd1-fc05-f629e6c917a6"
      },
      "source": [
        "spy_df2\n"
      ],
      "execution_count": null,
      "outputs": [
        {
          "output_type": "execute_result",
          "data": {
            "text/html": [
              "<div>\n",
              "<style scoped>\n",
              "    .dataframe tbody tr th:only-of-type {\n",
              "        vertical-align: middle;\n",
              "    }\n",
              "\n",
              "    .dataframe tbody tr th {\n",
              "        vertical-align: top;\n",
              "    }\n",
              "\n",
              "    .dataframe thead th {\n",
              "        text-align: right;\n",
              "    }\n",
              "</style>\n",
              "<table border=\"1\" class=\"dataframe\">\n",
              "  <thead>\n",
              "    <tr style=\"text-align: right;\">\n",
              "      <th></th>\n",
              "      <th>Open</th>\n",
              "      <th>High</th>\n",
              "      <th>Low</th>\n",
              "      <th>Close</th>\n",
              "      <th>Volume</th>\n",
              "      <th>Dividends</th>\n",
              "      <th>Stock Splits</th>\n",
              "    </tr>\n",
              "    <tr>\n",
              "      <th>Date</th>\n",
              "      <th></th>\n",
              "      <th></th>\n",
              "      <th></th>\n",
              "      <th></th>\n",
              "      <th></th>\n",
              "      <th></th>\n",
              "      <th></th>\n",
              "    </tr>\n",
              "  </thead>\n",
              "  <tbody>\n",
              "    <tr>\n",
              "      <th>2020-05-04</th>\n",
              "      <td>276.308950</td>\n",
              "      <td>279.419078</td>\n",
              "      <td>274.724375</td>\n",
              "      <td>279.094299</td>\n",
              "      <td>80873200</td>\n",
              "      <td>0.0</td>\n",
              "      <td>0</td>\n",
              "    </tr>\n",
              "    <tr>\n",
              "      <th>2020-05-05</th>\n",
              "      <td>282.115822</td>\n",
              "      <td>284.684613</td>\n",
              "      <td>279.232045</td>\n",
              "      <td>281.672913</td>\n",
              "      <td>79569900</td>\n",
              "      <td>0.0</td>\n",
              "      <td>0</td>\n",
              "    </tr>\n",
              "    <tr>\n",
              "      <th>2020-05-06</th>\n",
              "      <td>283.493739</td>\n",
              "      <td>283.907093</td>\n",
              "      <td>279.300967</td>\n",
              "      <td>279.763550</td>\n",
              "      <td>73632600</td>\n",
              "      <td>0.0</td>\n",
              "      <td>0</td>\n",
              "    </tr>\n",
              "    <tr>\n",
              "      <th>2020-05-07</th>\n",
              "      <td>283.208307</td>\n",
              "      <td>285.206265</td>\n",
              "      <td>282.598097</td>\n",
              "      <td>283.139404</td>\n",
              "      <td>75250400</td>\n",
              "      <td>0.0</td>\n",
              "      <td>0</td>\n",
              "    </tr>\n",
              "    <tr>\n",
              "      <th>2020-05-08</th>\n",
              "      <td>286.495581</td>\n",
              "      <td>288.326240</td>\n",
              "      <td>285.284984</td>\n",
              "      <td>287.824280</td>\n",
              "      <td>76452400</td>\n",
              "      <td>0.0</td>\n",
              "      <td>0</td>\n",
              "    </tr>\n",
              "    <tr>\n",
              "      <th>...</th>\n",
              "      <td>...</td>\n",
              "      <td>...</td>\n",
              "      <td>...</td>\n",
              "      <td>...</td>\n",
              "      <td>...</td>\n",
              "      <td>...</td>\n",
              "      <td>...</td>\n",
              "    </tr>\n",
              "    <tr>\n",
              "      <th>2021-05-11</th>\n",
              "      <td>413.100006</td>\n",
              "      <td>415.269989</td>\n",
              "      <td>410.059998</td>\n",
              "      <td>414.209991</td>\n",
              "      <td>116888000</td>\n",
              "      <td>0.0</td>\n",
              "      <td>0</td>\n",
              "    </tr>\n",
              "    <tr>\n",
              "      <th>2021-05-12</th>\n",
              "      <td>411.230011</td>\n",
              "      <td>412.589996</td>\n",
              "      <td>404.000000</td>\n",
              "      <td>405.410004</td>\n",
              "      <td>134811000</td>\n",
              "      <td>0.0</td>\n",
              "      <td>0</td>\n",
              "    </tr>\n",
              "    <tr>\n",
              "      <th>2021-05-13</th>\n",
              "      <td>407.070007</td>\n",
              "      <td>412.350006</td>\n",
              "      <td>407.019989</td>\n",
              "      <td>410.279999</td>\n",
              "      <td>106394000</td>\n",
              "      <td>0.0</td>\n",
              "      <td>0</td>\n",
              "    </tr>\n",
              "    <tr>\n",
              "      <th>2021-05-14</th>\n",
              "      <td>413.209991</td>\n",
              "      <td>417.489990</td>\n",
              "      <td>413.179993</td>\n",
              "      <td>416.579987</td>\n",
              "      <td>82123100</td>\n",
              "      <td>0.0</td>\n",
              "      <td>0</td>\n",
              "    </tr>\n",
              "    <tr>\n",
              "      <th>2021-05-17</th>\n",
              "      <td>415.390015</td>\n",
              "      <td>416.390015</td>\n",
              "      <td>413.359985</td>\n",
              "      <td>415.519989</td>\n",
              "      <td>65129200</td>\n",
              "      <td>0.0</td>\n",
              "      <td>0</td>\n",
              "    </tr>\n",
              "  </tbody>\n",
              "</table>\n",
              "<p>262 rows × 7 columns</p>\n",
              "</div>"
            ],
            "text/plain": [
              "                  Open        High  ...  Dividends  Stock Splits\n",
              "Date                                ...                         \n",
              "2020-05-04  276.308950  279.419078  ...        0.0             0\n",
              "2020-05-05  282.115822  284.684613  ...        0.0             0\n",
              "2020-05-06  283.493739  283.907093  ...        0.0             0\n",
              "2020-05-07  283.208307  285.206265  ...        0.0             0\n",
              "2020-05-08  286.495581  288.326240  ...        0.0             0\n",
              "...                ...         ...  ...        ...           ...\n",
              "2021-05-11  413.100006  415.269989  ...        0.0             0\n",
              "2021-05-12  411.230011  412.589996  ...        0.0             0\n",
              "2021-05-13  407.070007  412.350006  ...        0.0             0\n",
              "2021-05-14  413.209991  417.489990  ...        0.0             0\n",
              "2021-05-17  415.390015  416.390015  ...        0.0             0\n",
              "\n",
              "[262 rows x 7 columns]"
            ]
          },
          "metadata": {
            "tags": []
          },
          "execution_count": 53
        }
      ]
    },
    {
      "cell_type": "code",
      "metadata": {
        "id": "tpQPAdbhb3bR",
        "colab": {
          "base_uri": "https://localhost:8080/"
        },
        "outputId": "12e902cb-91e8-4747-d91e-e23a2dbff558"
      },
      "source": [
        "df_Open=spy_df2[['Open']]\n",
        "df_dates2=spy_df2.index.to_frame().reset_index(drop=True)\n",
        "print(df_dates2)"
      ],
      "execution_count": null,
      "outputs": [
        {
          "output_type": "stream",
          "text": [
            "          Date\n",
            "0   2020-05-04\n",
            "1   2020-05-05\n",
            "2   2020-05-06\n",
            "3   2020-05-07\n",
            "4   2020-05-08\n",
            "..         ...\n",
            "257 2021-05-11\n",
            "258 2021-05-12\n",
            "259 2021-05-13\n",
            "260 2021-05-14\n",
            "261 2021-05-17\n",
            "\n",
            "[262 rows x 1 columns]\n"
          ],
          "name": "stdout"
        }
      ]
    },
    {
      "cell_type": "code",
      "metadata": {
        "id": "U-Yv5ebOcEbn"
      },
      "source": [
        "spy_df2['Date']= df_dates2['Date'].values"
      ],
      "execution_count": null,
      "outputs": []
    },
    {
      "cell_type": "code",
      "metadata": {
        "id": "uat58vnGcKDZ",
        "colab": {
          "base_uri": "https://localhost:8080/",
          "height": 437
        },
        "outputId": "fc817000-96d1-4243-888d-a4e30ea67f90"
      },
      "source": [
        "spy_df2"
      ],
      "execution_count": null,
      "outputs": [
        {
          "output_type": "execute_result",
          "data": {
            "text/html": [
              "<div>\n",
              "<style scoped>\n",
              "    .dataframe tbody tr th:only-of-type {\n",
              "        vertical-align: middle;\n",
              "    }\n",
              "\n",
              "    .dataframe tbody tr th {\n",
              "        vertical-align: top;\n",
              "    }\n",
              "\n",
              "    .dataframe thead th {\n",
              "        text-align: right;\n",
              "    }\n",
              "</style>\n",
              "<table border=\"1\" class=\"dataframe\">\n",
              "  <thead>\n",
              "    <tr style=\"text-align: right;\">\n",
              "      <th></th>\n",
              "      <th>Open</th>\n",
              "      <th>High</th>\n",
              "      <th>Low</th>\n",
              "      <th>Close</th>\n",
              "      <th>Volume</th>\n",
              "      <th>Dividends</th>\n",
              "      <th>Stock Splits</th>\n",
              "      <th>Date</th>\n",
              "    </tr>\n",
              "    <tr>\n",
              "      <th>Date</th>\n",
              "      <th></th>\n",
              "      <th></th>\n",
              "      <th></th>\n",
              "      <th></th>\n",
              "      <th></th>\n",
              "      <th></th>\n",
              "      <th></th>\n",
              "      <th></th>\n",
              "    </tr>\n",
              "  </thead>\n",
              "  <tbody>\n",
              "    <tr>\n",
              "      <th>2020-05-04</th>\n",
              "      <td>276.308950</td>\n",
              "      <td>279.419078</td>\n",
              "      <td>274.724375</td>\n",
              "      <td>279.094299</td>\n",
              "      <td>80873200</td>\n",
              "      <td>0.0</td>\n",
              "      <td>0</td>\n",
              "      <td>2020-05-04</td>\n",
              "    </tr>\n",
              "    <tr>\n",
              "      <th>2020-05-05</th>\n",
              "      <td>282.115822</td>\n",
              "      <td>284.684613</td>\n",
              "      <td>279.232045</td>\n",
              "      <td>281.672913</td>\n",
              "      <td>79569900</td>\n",
              "      <td>0.0</td>\n",
              "      <td>0</td>\n",
              "      <td>2020-05-05</td>\n",
              "    </tr>\n",
              "    <tr>\n",
              "      <th>2020-05-06</th>\n",
              "      <td>283.493739</td>\n",
              "      <td>283.907093</td>\n",
              "      <td>279.300967</td>\n",
              "      <td>279.763550</td>\n",
              "      <td>73632600</td>\n",
              "      <td>0.0</td>\n",
              "      <td>0</td>\n",
              "      <td>2020-05-06</td>\n",
              "    </tr>\n",
              "    <tr>\n",
              "      <th>2020-05-07</th>\n",
              "      <td>283.208307</td>\n",
              "      <td>285.206265</td>\n",
              "      <td>282.598097</td>\n",
              "      <td>283.139404</td>\n",
              "      <td>75250400</td>\n",
              "      <td>0.0</td>\n",
              "      <td>0</td>\n",
              "      <td>2020-05-07</td>\n",
              "    </tr>\n",
              "    <tr>\n",
              "      <th>2020-05-08</th>\n",
              "      <td>286.495581</td>\n",
              "      <td>288.326240</td>\n",
              "      <td>285.284984</td>\n",
              "      <td>287.824280</td>\n",
              "      <td>76452400</td>\n",
              "      <td>0.0</td>\n",
              "      <td>0</td>\n",
              "      <td>2020-05-08</td>\n",
              "    </tr>\n",
              "    <tr>\n",
              "      <th>...</th>\n",
              "      <td>...</td>\n",
              "      <td>...</td>\n",
              "      <td>...</td>\n",
              "      <td>...</td>\n",
              "      <td>...</td>\n",
              "      <td>...</td>\n",
              "      <td>...</td>\n",
              "      <td>...</td>\n",
              "    </tr>\n",
              "    <tr>\n",
              "      <th>2021-05-11</th>\n",
              "      <td>413.100006</td>\n",
              "      <td>415.269989</td>\n",
              "      <td>410.059998</td>\n",
              "      <td>414.209991</td>\n",
              "      <td>116888000</td>\n",
              "      <td>0.0</td>\n",
              "      <td>0</td>\n",
              "      <td>2021-05-11</td>\n",
              "    </tr>\n",
              "    <tr>\n",
              "      <th>2021-05-12</th>\n",
              "      <td>411.230011</td>\n",
              "      <td>412.589996</td>\n",
              "      <td>404.000000</td>\n",
              "      <td>405.410004</td>\n",
              "      <td>134811000</td>\n",
              "      <td>0.0</td>\n",
              "      <td>0</td>\n",
              "      <td>2021-05-12</td>\n",
              "    </tr>\n",
              "    <tr>\n",
              "      <th>2021-05-13</th>\n",
              "      <td>407.070007</td>\n",
              "      <td>412.350006</td>\n",
              "      <td>407.019989</td>\n",
              "      <td>410.279999</td>\n",
              "      <td>106394000</td>\n",
              "      <td>0.0</td>\n",
              "      <td>0</td>\n",
              "      <td>2021-05-13</td>\n",
              "    </tr>\n",
              "    <tr>\n",
              "      <th>2021-05-14</th>\n",
              "      <td>413.209991</td>\n",
              "      <td>417.489990</td>\n",
              "      <td>413.179993</td>\n",
              "      <td>416.579987</td>\n",
              "      <td>82123100</td>\n",
              "      <td>0.0</td>\n",
              "      <td>0</td>\n",
              "      <td>2021-05-14</td>\n",
              "    </tr>\n",
              "    <tr>\n",
              "      <th>2021-05-17</th>\n",
              "      <td>415.390015</td>\n",
              "      <td>416.390015</td>\n",
              "      <td>413.359985</td>\n",
              "      <td>415.519989</td>\n",
              "      <td>65129200</td>\n",
              "      <td>0.0</td>\n",
              "      <td>0</td>\n",
              "      <td>2021-05-17</td>\n",
              "    </tr>\n",
              "  </tbody>\n",
              "</table>\n",
              "<p>262 rows × 8 columns</p>\n",
              "</div>"
            ],
            "text/plain": [
              "                  Open        High  ...  Stock Splits       Date\n",
              "Date                                ...                         \n",
              "2020-05-04  276.308950  279.419078  ...             0 2020-05-04\n",
              "2020-05-05  282.115822  284.684613  ...             0 2020-05-05\n",
              "2020-05-06  283.493739  283.907093  ...             0 2020-05-06\n",
              "2020-05-07  283.208307  285.206265  ...             0 2020-05-07\n",
              "2020-05-08  286.495581  288.326240  ...             0 2020-05-08\n",
              "...                ...         ...  ...           ...        ...\n",
              "2021-05-11  413.100006  415.269989  ...             0 2021-05-11\n",
              "2021-05-12  411.230011  412.589996  ...             0 2021-05-12\n",
              "2021-05-13  407.070007  412.350006  ...             0 2021-05-13\n",
              "2021-05-14  413.209991  417.489990  ...             0 2021-05-14\n",
              "2021-05-17  415.390015  416.390015  ...             0 2021-05-17\n",
              "\n",
              "[262 rows x 8 columns]"
            ]
          },
          "metadata": {
            "tags": []
          },
          "execution_count": 56
        }
      ]
    },
    {
      "cell_type": "code",
      "metadata": {
        "id": "lT6j25hhcJ92"
      },
      "source": [
        "spy_df2['Date'] = spy_df2['Date'].astype(str)"
      ],
      "execution_count": null,
      "outputs": []
    },
    {
      "cell_type": "code",
      "metadata": {
        "id": "U7AOfg8kcP0g"
      },
      "source": [
        "spy_df2['new_date'] = spy_df2['Date'].str.replace('\\D', '').astype(int)"
      ],
      "execution_count": null,
      "outputs": []
    },
    {
      "cell_type": "code",
      "metadata": {
        "id": "pxxffIhkcZrr",
        "colab": {
          "base_uri": "https://localhost:8080/",
          "height": 107
        },
        "outputId": "700d52ce-7d7c-4548-a2b6-935fee359c51"
      },
      "source": [
        "actual_price2 = spy_df2.tail(1)\n",
        "actual_price2"
      ],
      "execution_count": null,
      "outputs": [
        {
          "output_type": "execute_result",
          "data": {
            "text/html": [
              "<div>\n",
              "<style scoped>\n",
              "    .dataframe tbody tr th:only-of-type {\n",
              "        vertical-align: middle;\n",
              "    }\n",
              "\n",
              "    .dataframe tbody tr th {\n",
              "        vertical-align: top;\n",
              "    }\n",
              "\n",
              "    .dataframe thead th {\n",
              "        text-align: right;\n",
              "    }\n",
              "</style>\n",
              "<table border=\"1\" class=\"dataframe\">\n",
              "  <thead>\n",
              "    <tr style=\"text-align: right;\">\n",
              "      <th></th>\n",
              "      <th>Open</th>\n",
              "      <th>High</th>\n",
              "      <th>Low</th>\n",
              "      <th>Close</th>\n",
              "      <th>Volume</th>\n",
              "      <th>Dividends</th>\n",
              "      <th>Stock Splits</th>\n",
              "      <th>Date</th>\n",
              "      <th>new_date</th>\n",
              "    </tr>\n",
              "    <tr>\n",
              "      <th>Date</th>\n",
              "      <th></th>\n",
              "      <th></th>\n",
              "      <th></th>\n",
              "      <th></th>\n",
              "      <th></th>\n",
              "      <th></th>\n",
              "      <th></th>\n",
              "      <th></th>\n",
              "      <th></th>\n",
              "    </tr>\n",
              "  </thead>\n",
              "  <tbody>\n",
              "    <tr>\n",
              "      <th>2021-05-17</th>\n",
              "      <td>415.390015</td>\n",
              "      <td>416.390015</td>\n",
              "      <td>413.359985</td>\n",
              "      <td>415.519989</td>\n",
              "      <td>65129200</td>\n",
              "      <td>0.0</td>\n",
              "      <td>0</td>\n",
              "      <td>2021-05-17</td>\n",
              "      <td>20210517</td>\n",
              "    </tr>\n",
              "  </tbody>\n",
              "</table>\n",
              "</div>"
            ],
            "text/plain": [
              "                  Open        High  ...        Date  new_date\n",
              "Date                                ...                      \n",
              "2021-05-17  415.390015  416.390015  ...  2021-05-17  20210517\n",
              "\n",
              "[1 rows x 9 columns]"
            ]
          },
          "metadata": {
            "tags": []
          },
          "execution_count": 59
        }
      ]
    },
    {
      "cell_type": "code",
      "metadata": {
        "id": "71Rq9LQGcboV"
      },
      "source": [
        "spy_df2 = spy_df2.head(len(spy_df2)-1)"
      ],
      "execution_count": null,
      "outputs": []
    },
    {
      "cell_type": "code",
      "metadata": {
        "id": "ZpgkbwPicmtp"
      },
      "source": [
        "days2 = list()\n",
        "close_prices2= list()"
      ],
      "execution_count": null,
      "outputs": []
    },
    {
      "cell_type": "code",
      "metadata": {
        "id": "BNgukURecpBS",
        "colab": {
          "base_uri": "https://localhost:8080/"
        },
        "outputId": "27a7dc7b-2248-4c2f-a774-6de6ff14c633"
      },
      "source": [
        "df_days2 = spy_df2.loc[:,'new_date']\n",
        "df_days2"
      ],
      "execution_count": null,
      "outputs": [
        {
          "output_type": "execute_result",
          "data": {
            "text/plain": [
              "Date\n",
              "2020-05-04    20200504\n",
              "2020-05-05    20200505\n",
              "2020-05-06    20200506\n",
              "2020-05-07    20200507\n",
              "2020-05-08    20200508\n",
              "                ...   \n",
              "2021-05-10    20210510\n",
              "2021-05-11    20210511\n",
              "2021-05-12    20210512\n",
              "2021-05-13    20210513\n",
              "2021-05-14    20210514\n",
              "Name: new_date, Length: 261, dtype: int64"
            ]
          },
          "metadata": {
            "tags": []
          },
          "execution_count": 63
        }
      ]
    },
    {
      "cell_type": "code",
      "metadata": {
        "id": "wuWV6vajct_s"
      },
      "source": [
        "df_close_price2 = spy_df2.loc[:,'Close']"
      ],
      "execution_count": null,
      "outputs": []
    },
    {
      "cell_type": "code",
      "metadata": {
        "id": "4ElamMf9czy7"
      },
      "source": [
        "for dates2 in df_days2:\n",
        "  days2.append([int(dates2)])\n",
        "\n",
        "days2"
      ],
      "execution_count": null,
      "outputs": []
    },
    {
      "cell_type": "code",
      "metadata": {
        "id": "IkTUMhbXc8f-"
      },
      "source": [
        "for price2 in df_close_price2: \n",
        "  close_prices2.append(float(price2))\n",
        "\n",
        "close_prices2"
      ],
      "execution_count": null,
      "outputs": []
    },
    {
      "cell_type": "code",
      "metadata": {
        "id": "r7dHTvgAdCnI"
      },
      "source": [
        "print(days2)\n",
        "print(close_prices2)\n",
        "\n",
        "print(len(days2))\n",
        "print(len(close_prices2))"
      ],
      "execution_count": null,
      "outputs": []
    },
    {
      "cell_type": "code",
      "metadata": {
        "colab": {
          "base_uri": "https://localhost:8080/"
        },
        "id": "MMv0vUDadFc3",
        "outputId": "ad09b99c-3db2-4db0-c100-5d41c6c04a13"
      },
      "source": [
        "rbf = SVR(kernel= 'rbf', C= 1000.0, gamma= 0.1)\n",
        "rbf.fit(days2, close_prices2)"
      ],
      "execution_count": null,
      "outputs": [
        {
          "output_type": "execute_result",
          "data": {
            "text/plain": [
              "SVR(C=1000.0, cache_size=200, coef0=0.0, degree=3, epsilon=0.1, gamma=0.1,\n",
              "    kernel='rbf', max_iter=-1, shrinking=True, tol=0.001, verbose=False)"
            ]
          },
          "metadata": {
            "tags": []
          },
          "execution_count": 78
        }
      ]
    },
    {
      "cell_type": "code",
      "metadata": {
        "colab": {
          "base_uri": "https://localhost:8080/",
          "height": 496
        },
        "id": "YZWuXGhZdK1W",
        "outputId": "c5e3ddd7-09b0-4754-8e40-8324ca6a40ab"
      },
      "source": [
        "plt.figure(figsize=(16,8))\n",
        "plt.scatter(days2,close_prices2, color= 'red', label= 'Data')\n",
        "plt.plot(days2, rbf.predict(days2), color='blue', label='RBF Model')\n",
        "plt.legend()\n",
        "plt.show()"
      ],
      "execution_count": null,
      "outputs": [
        {
          "output_type": "display_data",
          "data": {
            "image/png": "[encoded data removed]",
            "text/plain": [
              "<Figure size 1152x576 with 1 Axes>"
            ]
          },
          "metadata": {
            "tags": [],
            "needs_background": "light"
          }
        }
      ]
    },
    {
      "cell_type": "code",
      "metadata": {
        "colab": {
          "base_uri": "https://localhost:8080/"
        },
        "id": "bS9_iazldUfX",
        "outputId": "7abfe862-cdd7-4f70-f572-fbb4d0937264"
      },
      "source": [
        "day= [[20210517]]\n",
        "print('The predicted value on 2021-05-04 from the rbf model is: ' , rbf.predict(day))\n",
        "print('The percent error for this is: ', float((abs(415.52-(rbf.predict(day)))/415.52)*100),'%')"
      ],
      "execution_count": null,
      "outputs": [
        {
          "output_type": "stream",
          "text": [
            "The predicted value on 2021-05-04 from the rbf model is:  [384.08205516]\n",
            "The percent error for this is:  7.5659281961842195 %\n"
          ],
          "name": "stdout"
        }
      ]
    },
    {
      "cell_type": "code",
      "metadata": {
        "id": "DwLjWopHd1Lz"
      },
      "source": [
        "#Today\n",
        "may_sixth = [[20210505]]\n",
        "print('The predicted value on 2021-05-05 from the rbf model is: ' , rbf.predict(may_sixth))\n",
        "print('The percent error for this is: ', float((abs(3270.54-(rbf.predict(may_sixth)))/3270.54)*100),'%')"
      ],
      "execution_count": null,
      "outputs": []
    },
    {
      "cell_type": "code",
      "metadata": {
        "colab": {
          "base_uri": "https://localhost:8080/"
        },
        "id": "CidWDQWId_9m",
        "outputId": "ffe75fe7-08b8-4e26-a6af-1d268f7e2b4d"
      },
      "source": [
        "#Tomorrow\n",
        "tomorrow = [[20210518]]\n",
        "print('The predicted value on 2021-05-06 from the rbf model is: ' , rbf.predict(tomorrow))\n",
        "#print('It\\'s predicted to drop: ' , float(((3161.45796-3249.386427)/3249.386427)*100), '%')"
      ],
      "execution_count": null,
      "outputs": [
        {
          "output_type": "stream",
          "text": [
            "The predicted value on 2021-05-06 from the rbf model is:  [367.65014013]\n"
          ],
          "name": "stdout"
        }
      ]
    },
    {
      "cell_type": "code",
      "metadata": {
        "id": "34si02T1ef7D"
      },
      "source": [
        "twoDays = [[20210507]]\n",
        "print('The predicted value on 2021-05-07 from the rbf model is: ' , rbf.predict(twoDays))"
      ],
      "execution_count": null,
      "outputs": []
    },
    {
      "cell_type": "code",
      "metadata": {
        "id": "B4ksgSl2gHX3"
      },
      "source": [
        ""
      ],
      "execution_count": null,
      "outputs": []
    }
  ]
}