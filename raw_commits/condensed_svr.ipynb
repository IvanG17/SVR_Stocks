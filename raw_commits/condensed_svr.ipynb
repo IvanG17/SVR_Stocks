{
  "nbformat": 4,
  "nbformat_minor": 0,
  "metadata": {
    "colab": {
      "name": "SPY-SVR.ipynb",
      "provenance": [],
      "toc_visible": true
    },
    "kernelspec": {
      "name": "python3",
      "display_name": "Python 3"
    },
    "language_info": {
      "name": "python"
    }
  },
  "cells": [
    {
      "cell_type": "code",
      "metadata": {
        "id": "Usp-DCCaE9-T"
      },
      "source": [
        "pip install yfinance"
      ],
      "execution_count": null,
      "outputs": []
    },
    {
      "cell_type": "code",
      "metadata": {
        "id": "r-ATH3QjFHPx"
      },
      "source": [
        "from sklearn.svm import SVR\n",
        "import numpy as np \n",
        "import pandas as pd \n",
        "import matplotlib.pyplot as plt \n",
        "from datetime import datetime\n"
      ],
      "execution_count": null,
      "outputs": []
    },
    {
      "cell_type": "code",
      "metadata": {
        "id": "tQKYV0KPFLVO"
      },
      "source": [
        "import yfinance as yf"
      ],
      "execution_count": null,
      "outputs": []
    },
    {
      "cell_type": "code",
      "metadata": {
        "id": "nVwFQxFQFMsI"
      },
      "source": [
        "ticker = 'SPY'\n",
        "SPYData = yf.Ticker(ticker)"
      ],
      "execution_count": null,
      "outputs": []
    },
    {
      "cell_type": "code",
      "metadata": {
        "id": "IFBGkYQuFTpK"
      },
      "source": [
        "amzn_df = SPYData.history(period='1d', start= '2011-1-1', end = '2021-5-18')"
      ],
      "execution_count": null,
      "outputs": []
    },
    {
      "cell_type": "code",
      "metadata": {
        "id": "A8zvSf8HFj6W",
        "colab": {
          "base_uri": "https://localhost:8080/",
          "height": 445
        },
        "outputId": "63b45a9c-f1a6-4811-8086-8f3e6a1c2ec8"
      },
      "source": [
        "amzn_df"
      ],
      "execution_count": null,
      "outputs": [
        {
          "output_type": "execute_result",
          "data": {
            "text/html": [
              "<div>\n",
              "<style scoped>\n",
              "    .dataframe tbody tr th:only-of-type {\n",
              "        vertical-align: middle;\n",
              "    }\n",
              "\n",
              "    .dataframe tbody tr th {\n",
              "        vertical-align: top;\n",
              "    }\n",
              "\n",
              "    .dataframe thead th {\n",
              "        text-align: right;\n",
              "    }\n",
              "</style>\n",
              "<table border=\"1\" class=\"dataframe\">\n",
              "  <thead>\n",
              "    <tr style=\"text-align: right;\">\n",
              "      <th></th>\n",
              "      <th>Open</th>\n",
              "      <th>High</th>\n",
              "      <th>Low</th>\n",
              "      <th>Close</th>\n",
              "      <th>Volume</th>\n",
              "      <th>Dividends</th>\n",
              "      <th>Stock Splits</th>\n",
              "    </tr>\n",
              "    <tr>\n",
              "      <th>Date</th>\n",
              "      <th></th>\n",
              "      <th></th>\n",
              "      <th></th>\n",
              "      <th></th>\n",
              "      <th></th>\n",
              "      <th></th>\n",
              "      <th></th>\n",
              "    </tr>\n",
              "  </thead>\n",
              "  <tbody>\n",
              "    <tr>\n",
              "      <th>2011-01-03</th>\n",
              "      <td>103.164156</td>\n",
              "      <td>103.888772</td>\n",
              "      <td>102.341837</td>\n",
              "      <td>103.440979</td>\n",
              "      <td>138725200</td>\n",
              "      <td>0.0</td>\n",
              "      <td>0</td>\n",
              "    </tr>\n",
              "    <tr>\n",
              "      <th>2011-01-04</th>\n",
              "      <td>103.668909</td>\n",
              "      <td>103.701477</td>\n",
              "      <td>102.740750</td>\n",
              "      <td>103.383949</td>\n",
              "      <td>137409700</td>\n",
              "      <td>0.0</td>\n",
              "      <td>0</td>\n",
              "    </tr>\n",
              "    <tr>\n",
              "      <th>2011-01-05</th>\n",
              "      <td>103.058309</td>\n",
              "      <td>103.986469</td>\n",
              "      <td>102.960606</td>\n",
              "      <td>103.921333</td>\n",
              "      <td>133975300</td>\n",
              "      <td>0.0</td>\n",
              "      <td>0</td>\n",
              "    </tr>\n",
              "    <tr>\n",
              "      <th>2011-01-06</th>\n",
              "      <td>103.962036</td>\n",
              "      <td>104.076020</td>\n",
              "      <td>103.408397</td>\n",
              "      <td>103.717781</td>\n",
              "      <td>122519000</td>\n",
              "      <td>0.0</td>\n",
              "      <td>0</td>\n",
              "    </tr>\n",
              "    <tr>\n",
              "      <th>2011-01-07</th>\n",
              "      <td>103.856189</td>\n",
              "      <td>104.027165</td>\n",
              "      <td>102.708205</td>\n",
              "      <td>103.514236</td>\n",
              "      <td>156034600</td>\n",
              "      <td>0.0</td>\n",
              "      <td>0</td>\n",
              "    </tr>\n",
              "    <tr>\n",
              "      <th>...</th>\n",
              "      <td>...</td>\n",
              "      <td>...</td>\n",
              "      <td>...</td>\n",
              "      <td>...</td>\n",
              "      <td>...</td>\n",
              "      <td>...</td>\n",
              "      <td>...</td>\n",
              "    </tr>\n",
              "    <tr>\n",
              "      <th>2021-05-11</th>\n",
              "      <td>411.752918</td>\n",
              "      <td>413.915824</td>\n",
              "      <td>408.722822</td>\n",
              "      <td>412.859283</td>\n",
              "      <td>116888000</td>\n",
              "      <td>0.0</td>\n",
              "      <td>0</td>\n",
              "    </tr>\n",
              "    <tr>\n",
              "      <th>2021-05-12</th>\n",
              "      <td>409.889042</td>\n",
              "      <td>411.244592</td>\n",
              "      <td>402.682607</td>\n",
              "      <td>404.088013</td>\n",
              "      <td>134811000</td>\n",
              "      <td>0.0</td>\n",
              "      <td>0</td>\n",
              "    </tr>\n",
              "    <tr>\n",
              "      <th>2021-05-13</th>\n",
              "      <td>405.742584</td>\n",
              "      <td>411.005365</td>\n",
              "      <td>405.692729</td>\n",
              "      <td>408.942108</td>\n",
              "      <td>106394000</td>\n",
              "      <td>0.0</td>\n",
              "      <td>0</td>\n",
              "    </tr>\n",
              "    <tr>\n",
              "      <th>2021-05-14</th>\n",
              "      <td>411.862552</td>\n",
              "      <td>416.128594</td>\n",
              "      <td>411.832651</td>\n",
              "      <td>415.221558</td>\n",
              "      <td>82201600</td>\n",
              "      <td>0.0</td>\n",
              "      <td>0</td>\n",
              "    </tr>\n",
              "    <tr>\n",
              "      <th>2021-05-17</th>\n",
              "      <td>414.035458</td>\n",
              "      <td>415.032197</td>\n",
              "      <td>412.012048</td>\n",
              "      <td>414.165009</td>\n",
              "      <td>65129200</td>\n",
              "      <td>0.0</td>\n",
              "      <td>0</td>\n",
              "    </tr>\n",
              "  </tbody>\n",
              "</table>\n",
              "<p>2610 rows × 7 columns</p>\n",
              "</div>"
            ],
            "text/plain": [
              "                  Open        High  ...  Dividends  Stock Splits\n",
              "Date                                ...                         \n",
              "2011-01-03  103.164156  103.888772  ...        0.0             0\n",
              "2011-01-04  103.668909  103.701477  ...        0.0             0\n",
              "2011-01-05  103.058309  103.986469  ...        0.0             0\n",
              "2011-01-06  103.962036  104.076020  ...        0.0             0\n",
              "2011-01-07  103.856189  104.027165  ...        0.0             0\n",
              "...                ...         ...  ...        ...           ...\n",
              "2021-05-11  411.752918  413.915824  ...        0.0             0\n",
              "2021-05-12  409.889042  411.244592  ...        0.0             0\n",
              "2021-05-13  405.742584  411.005365  ...        0.0             0\n",
              "2021-05-14  411.862552  416.128594  ...        0.0             0\n",
              "2021-05-17  414.035458  415.032197  ...        0.0             0\n",
              "\n",
              "[2610 rows x 7 columns]"
            ]
          },
          "metadata": {
            "tags": []
          },
          "execution_count": 7
        }
      ]
    },
    {
      "cell_type": "code",
      "metadata": {
        "id": "_FynukLuFk4U",
        "colab": {
          "base_uri": "https://localhost:8080/"
        },
        "outputId": "6179a730-b4d0-4b6b-9b5d-b12c2dedb8d5"
      },
      "source": [
        "for col in amzn_df.columns:\n",
        "  print (col)"
      ],
      "execution_count": null,
      "outputs": [
        {
          "output_type": "stream",
          "text": [
            "Open\n",
            "High\n",
            "Low\n",
            "Close\n",
            "Volume\n",
            "Dividends\n",
            "Stock Splits\n"
          ],
          "name": "stdout"
        }
      ]
    },
    {
      "cell_type": "code",
      "metadata": {
        "id": "8PhFqe1lFuHR"
      },
      "source": [
        "amzn_df.reset_index(inplace=True)\n",
        "amzn_df.set_index('Date', inplace=True)"
      ],
      "execution_count": null,
      "outputs": []
    },
    {
      "cell_type": "code",
      "metadata": {
        "id": "QzZoHjKhGrib",
        "colab": {
          "base_uri": "https://localhost:8080/",
          "height": 445
        },
        "outputId": "ab26b4bd-7728-461b-8cbd-349d80fbc4fd"
      },
      "source": [
        "amzn_df"
      ],
      "execution_count": null,
      "outputs": [
        {
          "output_type": "execute_result",
          "data": {
            "text/html": [
              "<div>\n",
              "<style scoped>\n",
              "    .dataframe tbody tr th:only-of-type {\n",
              "        vertical-align: middle;\n",
              "    }\n",
              "\n",
              "    .dataframe tbody tr th {\n",
              "        vertical-align: top;\n",
              "    }\n",
              "\n",
              "    .dataframe thead th {\n",
              "        text-align: right;\n",
              "    }\n",
              "</style>\n",
              "<table border=\"1\" class=\"dataframe\">\n",
              "  <thead>\n",
              "    <tr style=\"text-align: right;\">\n",
              "      <th></th>\n",
              "      <th>Open</th>\n",
              "      <th>High</th>\n",
              "      <th>Low</th>\n",
              "      <th>Close</th>\n",
              "      <th>Volume</th>\n",
              "      <th>Dividends</th>\n",
              "      <th>Stock Splits</th>\n",
              "    </tr>\n",
              "    <tr>\n",
              "      <th>Date</th>\n",
              "      <th></th>\n",
              "      <th></th>\n",
              "      <th></th>\n",
              "      <th></th>\n",
              "      <th></th>\n",
              "      <th></th>\n",
              "      <th></th>\n",
              "    </tr>\n",
              "  </thead>\n",
              "  <tbody>\n",
              "    <tr>\n",
              "      <th>2011-01-03</th>\n",
              "      <td>103.164156</td>\n",
              "      <td>103.888772</td>\n",
              "      <td>102.341837</td>\n",
              "      <td>103.440979</td>\n",
              "      <td>138725200</td>\n",
              "      <td>0.0</td>\n",
              "      <td>0</td>\n",
              "    </tr>\n",
              "    <tr>\n",
              "      <th>2011-01-04</th>\n",
              "      <td>103.668909</td>\n",
              "      <td>103.701477</td>\n",
              "      <td>102.740750</td>\n",
              "      <td>103.383949</td>\n",
              "      <td>137409700</td>\n",
              "      <td>0.0</td>\n",
              "      <td>0</td>\n",
              "    </tr>\n",
              "    <tr>\n",
              "      <th>2011-01-05</th>\n",
              "      <td>103.058309</td>\n",
              "      <td>103.986469</td>\n",
              "      <td>102.960606</td>\n",
              "      <td>103.921333</td>\n",
              "      <td>133975300</td>\n",
              "      <td>0.0</td>\n",
              "      <td>0</td>\n",
              "    </tr>\n",
              "    <tr>\n",
              "      <th>2011-01-06</th>\n",
              "      <td>103.962036</td>\n",
              "      <td>104.076020</td>\n",
              "      <td>103.408397</td>\n",
              "      <td>103.717781</td>\n",
              "      <td>122519000</td>\n",
              "      <td>0.0</td>\n",
              "      <td>0</td>\n",
              "    </tr>\n",
              "    <tr>\n",
              "      <th>2011-01-07</th>\n",
              "      <td>103.856189</td>\n",
              "      <td>104.027165</td>\n",
              "      <td>102.708205</td>\n",
              "      <td>103.514236</td>\n",
              "      <td>156034600</td>\n",
              "      <td>0.0</td>\n",
              "      <td>0</td>\n",
              "    </tr>\n",
              "    <tr>\n",
              "      <th>...</th>\n",
              "      <td>...</td>\n",
              "      <td>...</td>\n",
              "      <td>...</td>\n",
              "      <td>...</td>\n",
              "      <td>...</td>\n",
              "      <td>...</td>\n",
              "      <td>...</td>\n",
              "    </tr>\n",
              "    <tr>\n",
              "      <th>2021-05-11</th>\n",
              "      <td>411.752918</td>\n",
              "      <td>413.915824</td>\n",
              "      <td>408.722822</td>\n",
              "      <td>412.859283</td>\n",
              "      <td>116888000</td>\n",
              "      <td>0.0</td>\n",
              "      <td>0</td>\n",
              "    </tr>\n",
              "    <tr>\n",
              "      <th>2021-05-12</th>\n",
              "      <td>409.889042</td>\n",
              "      <td>411.244592</td>\n",
              "      <td>402.682607</td>\n",
              "      <td>404.088013</td>\n",
              "      <td>134811000</td>\n",
              "      <td>0.0</td>\n",
              "      <td>0</td>\n",
              "    </tr>\n",
              "    <tr>\n",
              "      <th>2021-05-13</th>\n",
              "      <td>405.742584</td>\n",
              "      <td>411.005365</td>\n",
              "      <td>405.692729</td>\n",
              "      <td>408.942108</td>\n",
              "      <td>106394000</td>\n",
              "      <td>0.0</td>\n",
              "      <td>0</td>\n",
              "    </tr>\n",
              "    <tr>\n",
              "      <th>2021-05-14</th>\n",
              "      <td>411.862552</td>\n",
              "      <td>416.128594</td>\n",
              "      <td>411.832651</td>\n",
              "      <td>415.221558</td>\n",
              "      <td>82201600</td>\n",
              "      <td>0.0</td>\n",
              "      <td>0</td>\n",
              "    </tr>\n",
              "    <tr>\n",
              "      <th>2021-05-17</th>\n",
              "      <td>414.035458</td>\n",
              "      <td>415.032197</td>\n",
              "      <td>412.012048</td>\n",
              "      <td>414.165009</td>\n",
              "      <td>65129200</td>\n",
              "      <td>0.0</td>\n",
              "      <td>0</td>\n",
              "    </tr>\n",
              "  </tbody>\n",
              "</table>\n",
              "<p>2610 rows × 7 columns</p>\n",
              "</div>"
            ],
            "text/plain": [
              "                  Open        High  ...  Dividends  Stock Splits\n",
              "Date                                ...                         \n",
              "2011-01-03  103.164156  103.888772  ...        0.0             0\n",
              "2011-01-04  103.668909  103.701477  ...        0.0             0\n",
              "2011-01-05  103.058309  103.986469  ...        0.0             0\n",
              "2011-01-06  103.962036  104.076020  ...        0.0             0\n",
              "2011-01-07  103.856189  104.027165  ...        0.0             0\n",
              "...                ...         ...  ...        ...           ...\n",
              "2021-05-11  411.752918  413.915824  ...        0.0             0\n",
              "2021-05-12  409.889042  411.244592  ...        0.0             0\n",
              "2021-05-13  405.742584  411.005365  ...        0.0             0\n",
              "2021-05-14  411.862552  416.128594  ...        0.0             0\n",
              "2021-05-17  414.035458  415.032197  ...        0.0             0\n",
              "\n",
              "[2610 rows x 7 columns]"
            ]
          },
          "metadata": {
            "tags": []
          },
          "execution_count": 10
        }
      ]
    },
    {
      "cell_type": "code",
      "metadata": {
        "id": "XurAi2UPHf8K",
        "colab": {
          "base_uri": "https://localhost:8080/"
        },
        "outputId": "5c18b095-6c54-49aa-d010-a91a753e2b21"
      },
      "source": [
        "df_Open=amzn_df[['Open']]\n",
        "df_dates=amzn_df.index.to_frame().reset_index(drop=True)\n",
        "print(df_dates)"
      ],
      "execution_count": null,
      "outputs": [
        {
          "output_type": "stream",
          "text": [
            "           Date\n",
            "0    2011-01-03\n",
            "1    2011-01-04\n",
            "2    2011-01-05\n",
            "3    2011-01-06\n",
            "4    2011-01-07\n",
            "...         ...\n",
            "2605 2021-05-11\n",
            "2606 2021-05-12\n",
            "2607 2021-05-13\n",
            "2608 2021-05-14\n",
            "2609 2021-05-17\n",
            "\n",
            "[2610 rows x 1 columns]\n"
          ],
          "name": "stdout"
        }
      ]
    },
    {
      "cell_type": "code",
      "metadata": {
        "id": "NU7WwRZBHhSB"
      },
      "source": [
        "#amzn_df = pd.concat([amzn_df, df_dates])"
      ],
      "execution_count": null,
      "outputs": []
    },
    {
      "cell_type": "code",
      "metadata": {
        "id": "gQxYLvYsH6-o",
        "colab": {
          "base_uri": "https://localhost:8080/",
          "height": 445
        },
        "outputId": "a82b05c5-4cc6-4b2e-ffc7-7eec6105ae28"
      },
      "source": [
        "amzn_df"
      ],
      "execution_count": null,
      "outputs": [
        {
          "output_type": "execute_result",
          "data": {
            "text/html": [
              "<div>\n",
              "<style scoped>\n",
              "    .dataframe tbody tr th:only-of-type {\n",
              "        vertical-align: middle;\n",
              "    }\n",
              "\n",
              "    .dataframe tbody tr th {\n",
              "        vertical-align: top;\n",
              "    }\n",
              "\n",
              "    .dataframe thead th {\n",
              "        text-align: right;\n",
              "    }\n",
              "</style>\n",
              "<table border=\"1\" class=\"dataframe\">\n",
              "  <thead>\n",
              "    <tr style=\"text-align: right;\">\n",
              "      <th></th>\n",
              "      <th>Open</th>\n",
              "      <th>High</th>\n",
              "      <th>Low</th>\n",
              "      <th>Close</th>\n",
              "      <th>Volume</th>\n",
              "      <th>Dividends</th>\n",
              "      <th>Stock Splits</th>\n",
              "    </tr>\n",
              "    <tr>\n",
              "      <th>Date</th>\n",
              "      <th></th>\n",
              "      <th></th>\n",
              "      <th></th>\n",
              "      <th></th>\n",
              "      <th></th>\n",
              "      <th></th>\n",
              "      <th></th>\n",
              "    </tr>\n",
              "  </thead>\n",
              "  <tbody>\n",
              "    <tr>\n",
              "      <th>2011-01-03</th>\n",
              "      <td>103.164156</td>\n",
              "      <td>103.888772</td>\n",
              "      <td>102.341837</td>\n",
              "      <td>103.440979</td>\n",
              "      <td>138725200</td>\n",
              "      <td>0.0</td>\n",
              "      <td>0</td>\n",
              "    </tr>\n",
              "    <tr>\n",
              "      <th>2011-01-04</th>\n",
              "      <td>103.668909</td>\n",
              "      <td>103.701477</td>\n",
              "      <td>102.740750</td>\n",
              "      <td>103.383949</td>\n",
              "      <td>137409700</td>\n",
              "      <td>0.0</td>\n",
              "      <td>0</td>\n",
              "    </tr>\n",
              "    <tr>\n",
              "      <th>2011-01-05</th>\n",
              "      <td>103.058309</td>\n",
              "      <td>103.986469</td>\n",
              "      <td>102.960606</td>\n",
              "      <td>103.921333</td>\n",
              "      <td>133975300</td>\n",
              "      <td>0.0</td>\n",
              "      <td>0</td>\n",
              "    </tr>\n",
              "    <tr>\n",
              "      <th>2011-01-06</th>\n",
              "      <td>103.962036</td>\n",
              "      <td>104.076020</td>\n",
              "      <td>103.408397</td>\n",
              "      <td>103.717781</td>\n",
              "      <td>122519000</td>\n",
              "      <td>0.0</td>\n",
              "      <td>0</td>\n",
              "    </tr>\n",
              "    <tr>\n",
              "      <th>2011-01-07</th>\n",
              "      <td>103.856189</td>\n",
              "      <td>104.027165</td>\n",
              "      <td>102.708205</td>\n",
              "      <td>103.514236</td>\n",
              "      <td>156034600</td>\n",
              "      <td>0.0</td>\n",
              "      <td>0</td>\n",
              "    </tr>\n",
              "    <tr>\n",
              "      <th>...</th>\n",
              "      <td>...</td>\n",
              "      <td>...</td>\n",
              "      <td>...</td>\n",
              "      <td>...</td>\n",
              "      <td>...</td>\n",
              "      <td>...</td>\n",
              "      <td>...</td>\n",
              "    </tr>\n",
              "    <tr>\n",
              "      <th>2021-05-11</th>\n",
              "      <td>411.752918</td>\n",
              "      <td>413.915824</td>\n",
              "      <td>408.722822</td>\n",
              "      <td>412.859283</td>\n",
              "      <td>116888000</td>\n",
              "      <td>0.0</td>\n",
              "      <td>0</td>\n",
              "    </tr>\n",
              "    <tr>\n",
              "      <th>2021-05-12</th>\n",
              "      <td>409.889042</td>\n",
              "      <td>411.244592</td>\n",
              "      <td>402.682607</td>\n",
              "      <td>404.088013</td>\n",
              "      <td>134811000</td>\n",
              "      <td>0.0</td>\n",
              "      <td>0</td>\n",
              "    </tr>\n",
              "    <tr>\n",
              "      <th>2021-05-13</th>\n",
              "      <td>405.742584</td>\n",
              "      <td>411.005365</td>\n",
              "      <td>405.692729</td>\n",
              "      <td>408.942108</td>\n",
              "      <td>106394000</td>\n",
              "      <td>0.0</td>\n",
              "      <td>0</td>\n",
              "    </tr>\n",
              "    <tr>\n",
              "      <th>2021-05-14</th>\n",
              "      <td>411.862552</td>\n",
              "      <td>416.128594</td>\n",
              "      <td>411.832651</td>\n",
              "      <td>415.221558</td>\n",
              "      <td>82201600</td>\n",
              "      <td>0.0</td>\n",
              "      <td>0</td>\n",
              "    </tr>\n",
              "    <tr>\n",
              "      <th>2021-05-17</th>\n",
              "      <td>414.035458</td>\n",
              "      <td>415.032197</td>\n",
              "      <td>412.012048</td>\n",
              "      <td>414.165009</td>\n",
              "      <td>65129200</td>\n",
              "      <td>0.0</td>\n",
              "      <td>0</td>\n",
              "    </tr>\n",
              "  </tbody>\n",
              "</table>\n",
              "<p>2610 rows × 7 columns</p>\n",
              "</div>"
            ],
            "text/plain": [
              "                  Open        High  ...  Dividends  Stock Splits\n",
              "Date                                ...                         \n",
              "2011-01-03  103.164156  103.888772  ...        0.0             0\n",
              "2011-01-04  103.668909  103.701477  ...        0.0             0\n",
              "2011-01-05  103.058309  103.986469  ...        0.0             0\n",
              "2011-01-06  103.962036  104.076020  ...        0.0             0\n",
              "2011-01-07  103.856189  104.027165  ...        0.0             0\n",
              "...                ...         ...  ...        ...           ...\n",
              "2021-05-11  411.752918  413.915824  ...        0.0             0\n",
              "2021-05-12  409.889042  411.244592  ...        0.0             0\n",
              "2021-05-13  405.742584  411.005365  ...        0.0             0\n",
              "2021-05-14  411.862552  416.128594  ...        0.0             0\n",
              "2021-05-17  414.035458  415.032197  ...        0.0             0\n",
              "\n",
              "[2610 rows x 7 columns]"
            ]
          },
          "metadata": {
            "tags": []
          },
          "execution_count": 13
        }
      ]
    },
    {
      "cell_type": "code",
      "metadata": {
        "id": "CCUSaSeZH7ml"
      },
      "source": [
        " #df_dates['Date']"
      ],
      "execution_count": null,
      "outputs": []
    },
    {
      "cell_type": "code",
      "metadata": {
        "id": "floLm7RgIP5m"
      },
      "source": [
        "#a#mzn_df=amzn_df.append(df_dates)"
      ],
      "execution_count": null,
      "outputs": []
    },
    {
      "cell_type": "code",
      "metadata": {
        "id": "F07zwKyrIQv4"
      },
      "source": [
        "amzn_df['Date']= df_dates['Date'].values"
      ],
      "execution_count": null,
      "outputs": []
    },
    {
      "cell_type": "code",
      "metadata": {
        "id": "VOCgatWOIqx-",
        "colab": {
          "base_uri": "https://localhost:8080/",
          "height": 445
        },
        "outputId": "97e4424f-38e9-4861-962c-3b8420badccc"
      },
      "source": [
        "amzn_df"
      ],
      "execution_count": null,
      "outputs": [
        {
          "output_type": "execute_result",
          "data": {
            "text/html": [
              "<div>\n",
              "<style scoped>\n",
              "    .dataframe tbody tr th:only-of-type {\n",
              "        vertical-align: middle;\n",
              "    }\n",
              "\n",
              "    .dataframe tbody tr th {\n",
              "        vertical-align: top;\n",
              "    }\n",
              "\n",
              "    .dataframe thead th {\n",
              "        text-align: right;\n",
              "    }\n",
              "</style>\n",
              "<table border=\"1\" class=\"dataframe\">\n",
              "  <thead>\n",
              "    <tr style=\"text-align: right;\">\n",
              "      <th></th>\n",
              "      <th>Open</th>\n",
              "      <th>High</th>\n",
              "      <th>Low</th>\n",
              "      <th>Close</th>\n",
              "      <th>Volume</th>\n",
              "      <th>Dividends</th>\n",
              "      <th>Stock Splits</th>\n",
              "      <th>Date</th>\n",
              "    </tr>\n",
              "    <tr>\n",
              "      <th>Date</th>\n",
              "      <th></th>\n",
              "      <th></th>\n",
              "      <th></th>\n",
              "      <th></th>\n",
              "      <th></th>\n",
              "      <th></th>\n",
              "      <th></th>\n",
              "      <th></th>\n",
              "    </tr>\n",
              "  </thead>\n",
              "  <tbody>\n",
              "    <tr>\n",
              "      <th>2011-01-03</th>\n",
              "      <td>103.164156</td>\n",
              "      <td>103.888772</td>\n",
              "      <td>102.341837</td>\n",
              "      <td>103.440979</td>\n",
              "      <td>138725200</td>\n",
              "      <td>0.0</td>\n",
              "      <td>0</td>\n",
              "      <td>2011-01-03</td>\n",
              "    </tr>\n",
              "    <tr>\n",
              "      <th>2011-01-04</th>\n",
              "      <td>103.668909</td>\n",
              "      <td>103.701477</td>\n",
              "      <td>102.740750</td>\n",
              "      <td>103.383949</td>\n",
              "      <td>137409700</td>\n",
              "      <td>0.0</td>\n",
              "      <td>0</td>\n",
              "      <td>2011-01-04</td>\n",
              "    </tr>\n",
              "    <tr>\n",
              "      <th>2011-01-05</th>\n",
              "      <td>103.058309</td>\n",
              "      <td>103.986469</td>\n",
              "      <td>102.960606</td>\n",
              "      <td>103.921333</td>\n",
              "      <td>133975300</td>\n",
              "      <td>0.0</td>\n",
              "      <td>0</td>\n",
              "      <td>2011-01-05</td>\n",
              "    </tr>\n",
              "    <tr>\n",
              "      <th>2011-01-06</th>\n",
              "      <td>103.962036</td>\n",
              "      <td>104.076020</td>\n",
              "      <td>103.408397</td>\n",
              "      <td>103.717781</td>\n",
              "      <td>122519000</td>\n",
              "      <td>0.0</td>\n",
              "      <td>0</td>\n",
              "      <td>2011-01-06</td>\n",
              "    </tr>\n",
              "    <tr>\n",
              "      <th>2011-01-07</th>\n",
              "      <td>103.856189</td>\n",
              "      <td>104.027165</td>\n",
              "      <td>102.708205</td>\n",
              "      <td>103.514236</td>\n",
              "      <td>156034600</td>\n",
              "      <td>0.0</td>\n",
              "      <td>0</td>\n",
              "      <td>2011-01-07</td>\n",
              "    </tr>\n",
              "    <tr>\n",
              "      <th>...</th>\n",
              "      <td>...</td>\n",
              "      <td>...</td>\n",
              "      <td>...</td>\n",
              "      <td>...</td>\n",
              "      <td>...</td>\n",
              "      <td>...</td>\n",
              "      <td>...</td>\n",
              "      <td>...</td>\n",
              "    </tr>\n",
              "    <tr>\n",
              "      <th>2021-05-11</th>\n",
              "      <td>411.752918</td>\n",
              "      <td>413.915824</td>\n",
              "      <td>408.722822</td>\n",
              "      <td>412.859283</td>\n",
              "      <td>116888000</td>\n",
              "      <td>0.0</td>\n",
              "      <td>0</td>\n",
              "      <td>2021-05-11</td>\n",
              "    </tr>\n",
              "    <tr>\n",
              "      <th>2021-05-12</th>\n",
              "      <td>409.889042</td>\n",
              "      <td>411.244592</td>\n",
              "      <td>402.682607</td>\n",
              "      <td>404.088013</td>\n",
              "      <td>134811000</td>\n",
              "      <td>0.0</td>\n",
              "      <td>0</td>\n",
              "      <td>2021-05-12</td>\n",
              "    </tr>\n",
              "    <tr>\n",
              "      <th>2021-05-13</th>\n",
              "      <td>405.742584</td>\n",
              "      <td>411.005365</td>\n",
              "      <td>405.692729</td>\n",
              "      <td>408.942108</td>\n",
              "      <td>106394000</td>\n",
              "      <td>0.0</td>\n",
              "      <td>0</td>\n",
              "      <td>2021-05-13</td>\n",
              "    </tr>\n",
              "    <tr>\n",
              "      <th>2021-05-14</th>\n",
              "      <td>411.862552</td>\n",
              "      <td>416.128594</td>\n",
              "      <td>411.832651</td>\n",
              "      <td>415.221558</td>\n",
              "      <td>82201600</td>\n",
              "      <td>0.0</td>\n",
              "      <td>0</td>\n",
              "      <td>2021-05-14</td>\n",
              "    </tr>\n",
              "    <tr>\n",
              "      <th>2021-05-17</th>\n",
              "      <td>414.035458</td>\n",
              "      <td>415.032197</td>\n",
              "      <td>412.012048</td>\n",
              "      <td>414.165009</td>\n",
              "      <td>65129200</td>\n",
              "      <td>0.0</td>\n",
              "      <td>0</td>\n",
              "      <td>2021-05-17</td>\n",
              "    </tr>\n",
              "  </tbody>\n",
              "</table>\n",
              "<p>2610 rows × 8 columns</p>\n",
              "</div>"
            ],
            "text/plain": [
              "                  Open        High  ...  Stock Splits       Date\n",
              "Date                                ...                         \n",
              "2011-01-03  103.164156  103.888772  ...             0 2011-01-03\n",
              "2011-01-04  103.668909  103.701477  ...             0 2011-01-04\n",
              "2011-01-05  103.058309  103.986469  ...             0 2011-01-05\n",
              "2011-01-06  103.962036  104.076020  ...             0 2011-01-06\n",
              "2011-01-07  103.856189  104.027165  ...             0 2011-01-07\n",
              "...                ...         ...  ...           ...        ...\n",
              "2021-05-11  411.752918  413.915824  ...             0 2021-05-11\n",
              "2021-05-12  409.889042  411.244592  ...             0 2021-05-12\n",
              "2021-05-13  405.742584  411.005365  ...             0 2021-05-13\n",
              "2021-05-14  411.862552  416.128594  ...             0 2021-05-14\n",
              "2021-05-17  414.035458  415.032197  ...             0 2021-05-17\n",
              "\n",
              "[2610 rows x 8 columns]"
            ]
          },
          "metadata": {
            "tags": []
          },
          "execution_count": 17
        }
      ]
    },
    {
      "cell_type": "code",
      "metadata": {
        "id": "su1iv34TJBL3"
      },
      "source": [
        "amzn_df['Date'] = amzn_df['Date'].astype(str)"
      ],
      "execution_count": null,
      "outputs": []
    },
    {
      "cell_type": "code",
      "metadata": {
        "id": "z8-qFpabJGq6"
      },
      "source": [
        "amzn_df['new_date'] = amzn_df['Date'].str.replace('\\D', '').astype(int)"
      ],
      "execution_count": null,
      "outputs": []
    },
    {
      "cell_type": "code",
      "metadata": {
        "id": "agyTW_EiJMBz",
        "colab": {
          "base_uri": "https://localhost:8080/",
          "height": 445
        },
        "outputId": "58b0cbf4-d93d-4e58-b64c-2212096c3ebf"
      },
      "source": [
        "amzn_df"
      ],
      "execution_count": null,
      "outputs": [
        {
          "output_type": "execute_result",
          "data": {
            "text/html": [
              "<div>\n",
              "<style scoped>\n",
              "    .dataframe tbody tr th:only-of-type {\n",
              "        vertical-align: middle;\n",
              "    }\n",
              "\n",
              "    .dataframe tbody tr th {\n",
              "        vertical-align: top;\n",
              "    }\n",
              "\n",
              "    .dataframe thead th {\n",
              "        text-align: right;\n",
              "    }\n",
              "</style>\n",
              "<table border=\"1\" class=\"dataframe\">\n",
              "  <thead>\n",
              "    <tr style=\"text-align: right;\">\n",
              "      <th></th>\n",
              "      <th>Open</th>\n",
              "      <th>High</th>\n",
              "      <th>Low</th>\n",
              "      <th>Close</th>\n",
              "      <th>Volume</th>\n",
              "      <th>Dividends</th>\n",
              "      <th>Stock Splits</th>\n",
              "      <th>Date</th>\n",
              "      <th>new_date</th>\n",
              "    </tr>\n",
              "    <tr>\n",
              "      <th>Date</th>\n",
              "      <th></th>\n",
              "      <th></th>\n",
              "      <th></th>\n",
              "      <th></th>\n",
              "      <th></th>\n",
              "      <th></th>\n",
              "      <th></th>\n",
              "      <th></th>\n",
              "      <th></th>\n",
              "    </tr>\n",
              "  </thead>\n",
              "  <tbody>\n",
              "    <tr>\n",
              "      <th>2011-01-03</th>\n",
              "      <td>103.164156</td>\n",
              "      <td>103.888772</td>\n",
              "      <td>102.341837</td>\n",
              "      <td>103.440979</td>\n",
              "      <td>138725200</td>\n",
              "      <td>0.0</td>\n",
              "      <td>0</td>\n",
              "      <td>2011-01-03</td>\n",
              "      <td>20110103</td>\n",
              "    </tr>\n",
              "    <tr>\n",
              "      <th>2011-01-04</th>\n",
              "      <td>103.668909</td>\n",
              "      <td>103.701477</td>\n",
              "      <td>102.740750</td>\n",
              "      <td>103.383949</td>\n",
              "      <td>137409700</td>\n",
              "      <td>0.0</td>\n",
              "      <td>0</td>\n",
              "      <td>2011-01-04</td>\n",
              "      <td>20110104</td>\n",
              "    </tr>\n",
              "    <tr>\n",
              "      <th>2011-01-05</th>\n",
              "      <td>103.058309</td>\n",
              "      <td>103.986469</td>\n",
              "      <td>102.960606</td>\n",
              "      <td>103.921333</td>\n",
              "      <td>133975300</td>\n",
              "      <td>0.0</td>\n",
              "      <td>0</td>\n",
              "      <td>2011-01-05</td>\n",
              "      <td>20110105</td>\n",
              "    </tr>\n",
              "    <tr>\n",
              "      <th>2011-01-06</th>\n",
              "      <td>103.962036</td>\n",
              "      <td>104.076020</td>\n",
              "      <td>103.408397</td>\n",
              "      <td>103.717781</td>\n",
              "      <td>122519000</td>\n",
              "      <td>0.0</td>\n",
              "      <td>0</td>\n",
              "      <td>2011-01-06</td>\n",
              "      <td>20110106</td>\n",
              "    </tr>\n",
              "    <tr>\n",
              "      <th>2011-01-07</th>\n",
              "      <td>103.856189</td>\n",
              "      <td>104.027165</td>\n",
              "      <td>102.708205</td>\n",
              "      <td>103.514236</td>\n",
              "      <td>156034600</td>\n",
              "      <td>0.0</td>\n",
              "      <td>0</td>\n",
              "      <td>2011-01-07</td>\n",
              "      <td>20110107</td>\n",
              "    </tr>\n",
              "    <tr>\n",
              "      <th>...</th>\n",
              "      <td>...</td>\n",
              "      <td>...</td>\n",
              "      <td>...</td>\n",
              "      <td>...</td>\n",
              "      <td>...</td>\n",
              "      <td>...</td>\n",
              "      <td>...</td>\n",
              "      <td>...</td>\n",
              "      <td>...</td>\n",
              "    </tr>\n",
              "    <tr>\n",
              "      <th>2021-05-11</th>\n",
              "      <td>411.752918</td>\n",
              "      <td>413.915824</td>\n",
              "      <td>408.722822</td>\n",
              "      <td>412.859283</td>\n",
              "      <td>116888000</td>\n",
              "      <td>0.0</td>\n",
              "      <td>0</td>\n",
              "      <td>2021-05-11</td>\n",
              "      <td>20210511</td>\n",
              "    </tr>\n",
              "    <tr>\n",
              "      <th>2021-05-12</th>\n",
              "      <td>409.889042</td>\n",
              "      <td>411.244592</td>\n",
              "      <td>402.682607</td>\n",
              "      <td>404.088013</td>\n",
              "      <td>134811000</td>\n",
              "      <td>0.0</td>\n",
              "      <td>0</td>\n",
              "      <td>2021-05-12</td>\n",
              "      <td>20210512</td>\n",
              "    </tr>\n",
              "    <tr>\n",
              "      <th>2021-05-13</th>\n",
              "      <td>405.742584</td>\n",
              "      <td>411.005365</td>\n",
              "      <td>405.692729</td>\n",
              "      <td>408.942108</td>\n",
              "      <td>106394000</td>\n",
              "      <td>0.0</td>\n",
              "      <td>0</td>\n",
              "      <td>2021-05-13</td>\n",
              "      <td>20210513</td>\n",
              "    </tr>\n",
              "    <tr>\n",
              "      <th>2021-05-14</th>\n",
              "      <td>411.862552</td>\n",
              "      <td>416.128594</td>\n",
              "      <td>411.832651</td>\n",
              "      <td>415.221558</td>\n",
              "      <td>82201600</td>\n",
              "      <td>0.0</td>\n",
              "      <td>0</td>\n",
              "      <td>2021-05-14</td>\n",
              "      <td>20210514</td>\n",
              "    </tr>\n",
              "    <tr>\n",
              "      <th>2021-05-17</th>\n",
              "      <td>414.035458</td>\n",
              "      <td>415.032197</td>\n",
              "      <td>412.012048</td>\n",
              "      <td>414.165009</td>\n",
              "      <td>65129200</td>\n",
              "      <td>0.0</td>\n",
              "      <td>0</td>\n",
              "      <td>2021-05-17</td>\n",
              "      <td>20210517</td>\n",
              "    </tr>\n",
              "  </tbody>\n",
              "</table>\n",
              "<p>2610 rows × 9 columns</p>\n",
              "</div>"
            ],
            "text/plain": [
              "                  Open        High  ...        Date  new_date\n",
              "Date                                ...                      \n",
              "2011-01-03  103.164156  103.888772  ...  2011-01-03  20110103\n",
              "2011-01-04  103.668909  103.701477  ...  2011-01-04  20110104\n",
              "2011-01-05  103.058309  103.986469  ...  2011-01-05  20110105\n",
              "2011-01-06  103.962036  104.076020  ...  2011-01-06  20110106\n",
              "2011-01-07  103.856189  104.027165  ...  2011-01-07  20110107\n",
              "...                ...         ...  ...         ...       ...\n",
              "2021-05-11  411.752918  413.915824  ...  2021-05-11  20210511\n",
              "2021-05-12  409.889042  411.244592  ...  2021-05-12  20210512\n",
              "2021-05-13  405.742584  411.005365  ...  2021-05-13  20210513\n",
              "2021-05-14  411.862552  416.128594  ...  2021-05-14  20210514\n",
              "2021-05-17  414.035458  415.032197  ...  2021-05-17  20210517\n",
              "\n",
              "[2610 rows x 9 columns]"
            ]
          },
          "metadata": {
            "tags": []
          },
          "execution_count": 20
        }
      ]
    },
    {
      "cell_type": "code",
      "metadata": {
        "id": "J4cFyPpNJOPD",
        "colab": {
          "base_uri": "https://localhost:8080/",
          "height": 110
        },
        "outputId": "b06404b8-3747-4fb7-b780-144db3306f45"
      },
      "source": [
        "actual_price = amzn_df.tail(1)\n",
        "actual_price"
      ],
      "execution_count": null,
      "outputs": [
        {
          "output_type": "execute_result",
          "data": {
            "text/html": [
              "<div>\n",
              "<style scoped>\n",
              "    .dataframe tbody tr th:only-of-type {\n",
              "        vertical-align: middle;\n",
              "    }\n",
              "\n",
              "    .dataframe tbody tr th {\n",
              "        vertical-align: top;\n",
              "    }\n",
              "\n",
              "    .dataframe thead th {\n",
              "        text-align: right;\n",
              "    }\n",
              "</style>\n",
              "<table border=\"1\" class=\"dataframe\">\n",
              "  <thead>\n",
              "    <tr style=\"text-align: right;\">\n",
              "      <th></th>\n",
              "      <th>Open</th>\n",
              "      <th>High</th>\n",
              "      <th>Low</th>\n",
              "      <th>Close</th>\n",
              "      <th>Volume</th>\n",
              "      <th>Dividends</th>\n",
              "      <th>Stock Splits</th>\n",
              "      <th>Date</th>\n",
              "      <th>new_date</th>\n",
              "    </tr>\n",
              "    <tr>\n",
              "      <th>Date</th>\n",
              "      <th></th>\n",
              "      <th></th>\n",
              "      <th></th>\n",
              "      <th></th>\n",
              "      <th></th>\n",
              "      <th></th>\n",
              "      <th></th>\n",
              "      <th></th>\n",
              "      <th></th>\n",
              "    </tr>\n",
              "  </thead>\n",
              "  <tbody>\n",
              "    <tr>\n",
              "      <th>2021-05-17</th>\n",
              "      <td>414.035458</td>\n",
              "      <td>415.032197</td>\n",
              "      <td>412.012048</td>\n",
              "      <td>414.165009</td>\n",
              "      <td>65129200</td>\n",
              "      <td>0.0</td>\n",
              "      <td>0</td>\n",
              "      <td>2021-05-17</td>\n",
              "      <td>20210517</td>\n",
              "    </tr>\n",
              "  </tbody>\n",
              "</table>\n",
              "</div>"
            ],
            "text/plain": [
              "                  Open        High  ...        Date  new_date\n",
              "Date                                ...                      \n",
              "2021-05-17  414.035458  415.032197  ...  2021-05-17  20210517\n",
              "\n",
              "[1 rows x 9 columns]"
            ]
          },
          "metadata": {
            "tags": []
          },
          "execution_count": 21
        }
      ]
    },
    {
      "cell_type": "code",
      "metadata": {
        "id": "aU4AvhTtIDvw",
        "colab": {
          "base_uri": "https://localhost:8080/"
        },
        "outputId": "d159dbf6-58c7-4c08-a589-988795271d5a"
      },
      "source": [
        "x=actual_price['Close']\n",
        "list2=[]\n",
        "list2.append(x)\n",
        "list2\n",
        "\n",
        "y= 1+ list2[0]\n",
        "print(list2[0])\n",
        "print(y)\n",
        "\n",
        "len(list2)\n"
      ],
      "execution_count": null,
      "outputs": [
        {
          "output_type": "stream",
          "text": [
            "Date\n",
            "2021-05-17    414.165009\n",
            "Name: Close, dtype: float64\n",
            "Date\n",
            "2021-05-17    415.165009\n",
            "Name: Close, dtype: float64\n"
          ],
          "name": "stdout"
        },
        {
          "output_type": "execute_result",
          "data": {
            "text/plain": [
              "1"
            ]
          },
          "metadata": {
            "tags": []
          },
          "execution_count": 22
        }
      ]
    },
    {
      "cell_type": "code",
      "metadata": {
        "id": "c7NU9Ky7JRvt"
      },
      "source": [
        "amzn_df = amzn_df.head(len(amzn_df)-1)"
      ],
      "execution_count": null,
      "outputs": []
    },
    {
      "cell_type": "code",
      "metadata": {
        "id": "4faIDnyGJWNs"
      },
      "source": [
        "days = list()\n",
        "close_prices= list()"
      ],
      "execution_count": null,
      "outputs": []
    },
    {
      "cell_type": "code",
      "metadata": {
        "id": "9oSeJ9Z3JZoG",
        "colab": {
          "base_uri": "https://localhost:8080/"
        },
        "outputId": "adee78fb-18d9-4298-dbc8-97bf61cd6f16"
      },
      "source": [
        "df_days = amzn_df.loc[:,'new_date']\n",
        "df_days"
      ],
      "execution_count": null,
      "outputs": [
        {
          "output_type": "execute_result",
          "data": {
            "text/plain": [
              "Date\n",
              "2011-01-03    20110103\n",
              "2011-01-04    20110104\n",
              "2011-01-05    20110105\n",
              "2011-01-06    20110106\n",
              "2011-01-07    20110107\n",
              "                ...   \n",
              "2021-05-10    20210510\n",
              "2021-05-11    20210511\n",
              "2021-05-12    20210512\n",
              "2021-05-13    20210513\n",
              "2021-05-14    20210514\n",
              "Name: new_date, Length: 2609, dtype: int64"
            ]
          },
          "metadata": {
            "tags": []
          },
          "execution_count": 25
        }
      ]
    },
    {
      "cell_type": "code",
      "metadata": {
        "id": "4Xkxsaf5Jb7K"
      },
      "source": [
        "df_close_price = amzn_df.loc[:,'Close']"
      ],
      "execution_count": null,
      "outputs": []
    },
    {
      "cell_type": "code",
      "metadata": {
        "id": "gt3bqO-mJecR"
      },
      "source": [
        "for dates in df_days:\n",
        "  days.append([int(dates)])\n",
        "\n",
        "days"
      ],
      "execution_count": null,
      "outputs": []
    },
    {
      "cell_type": "code",
      "metadata": {
        "id": "LLYeb7akJhys"
      },
      "source": [
        "for price in df_close_price: \n",
        "  close_prices.append(float(price))\n",
        "\n",
        "close_prices"
      ],
      "execution_count": null,
      "outputs": []
    },
    {
      "cell_type": "code",
      "metadata": {
        "id": "1F3eBNvLJjcQ"
      },
      "source": [
        "print(days)\n",
        "print(close_prices)\n",
        "\n",
        "print(len(days))\n",
        "print(len(close_prices))"
      ],
      "execution_count": null,
      "outputs": []
    },
    {
      "cell_type": "code",
      "metadata": {
        "colab": {
          "base_uri": "https://localhost:8080/"
        },
        "id": "LwRGN32wYYD_",
        "outputId": "e203968c-45f1-4043-86cd-f8537b71e388"
      },
      "source": [
        "rbf = SVR(kernel= 'rbf', C= 1000.0, gamma= 1E-5)\n",
        "rbf.fit(days, close_prices)"
      ],
      "execution_count": null,
      "outputs": [
        {
          "output_type": "execute_result",
          "data": {
            "text/plain": [
              "SVR(C=1000.0, cache_size=200, coef0=0.0, degree=3, epsilon=0.1, gamma=1e-05,\n",
              "    kernel='rbf', max_iter=-1, shrinking=True, tol=0.001, verbose=False)"
            ]
          },
          "metadata": {
            "tags": []
          },
          "execution_count": 30
        }
      ]
    },
    {
      "cell_type": "code",
      "metadata": {
        "colab": {
          "base_uri": "https://localhost:8080/",
          "height": 496
        },
        "id": "dI-YplQHYYjO",
        "outputId": "bbb9fe2e-de33-4bbd-af0e-6e75b72d8460"
      },
      "source": [
        "plt.figure(figsize=(16,8))\n",
        "plt.scatter(days,close_prices, color= 'red', label= 'Data')\n",
        "plt.plot(days, rbf.predict(days), color='blue', label='RBF Model')\n",
        "plt.legend()\n",
        "plt.show()"
      ],
      "execution_count": null,
      "outputs": [
        {
          "output_type": "display_data",
          "data": {
            "image/png": "[encoded data removed]",
            "text/plain": [
              "<Figure size 1152x576 with 1 Axes>"
            ]
          },
          "metadata": {
            "tags": [],
            "needs_background": "light"
          }
        }
      ]
    },
    {
      "cell_type": "code",
      "metadata": {
        "colab": {
          "base_uri": "https://localhost:8080/",
          "height": 110
        },
        "id": "spWei0brYm6l",
        "outputId": "29818621-de7b-4b92-a3f7-80b82eb5b777"
      },
      "source": [
        "actual_price"
      ],
      "execution_count": null,
      "outputs": [
        {
          "output_type": "execute_result",
          "data": {
            "text/html": [
              "<div>\n",
              "<style scoped>\n",
              "    .dataframe tbody tr th:only-of-type {\n",
              "        vertical-align: middle;\n",
              "    }\n",
              "\n",
              "    .dataframe tbody tr th {\n",
              "        vertical-align: top;\n",
              "    }\n",
              "\n",
              "    .dataframe thead th {\n",
              "        text-align: right;\n",
              "    }\n",
              "</style>\n",
              "<table border=\"1\" class=\"dataframe\">\n",
              "  <thead>\n",
              "    <tr style=\"text-align: right;\">\n",
              "      <th></th>\n",
              "      <th>Open</th>\n",
              "      <th>High</th>\n",
              "      <th>Low</th>\n",
              "      <th>Close</th>\n",
              "      <th>Volume</th>\n",
              "      <th>Dividends</th>\n",
              "      <th>Stock Splits</th>\n",
              "      <th>Date</th>\n",
              "      <th>new_date</th>\n",
              "    </tr>\n",
              "    <tr>\n",
              "      <th>Date</th>\n",
              "      <th></th>\n",
              "      <th></th>\n",
              "      <th></th>\n",
              "      <th></th>\n",
              "      <th></th>\n",
              "      <th></th>\n",
              "      <th></th>\n",
              "      <th></th>\n",
              "      <th></th>\n",
              "    </tr>\n",
              "  </thead>\n",
              "  <tbody>\n",
              "    <tr>\n",
              "      <th>2021-05-17</th>\n",
              "      <td>414.035458</td>\n",
              "      <td>415.032197</td>\n",
              "      <td>412.012048</td>\n",
              "      <td>414.165009</td>\n",
              "      <td>65129200</td>\n",
              "      <td>0.0</td>\n",
              "      <td>0</td>\n",
              "      <td>2021-05-17</td>\n",
              "      <td>20210517</td>\n",
              "    </tr>\n",
              "  </tbody>\n",
              "</table>\n",
              "</div>"
            ],
            "text/plain": [
              "                  Open        High  ...        Date  new_date\n",
              "Date                                ...                      \n",
              "2021-05-17  414.035458  415.032197  ...  2021-05-17  20210517\n",
              "\n",
              "[1 rows x 9 columns]"
            ]
          },
          "metadata": {
            "tags": []
          },
          "execution_count": 32
        }
      ]
    },
    {
      "cell_type": "code",
      "metadata": {
        "colab": {
          "base_uri": "https://localhost:8080/"
        },
        "id": "63hKMAF6Ynkx",
        "outputId": "381a002c-5a74-4fb8-e9f5-5f85cd2c3777"
      },
      "source": [
        "day= [[20210517]]\n",
        "print('The predicted value on 2021-05-04 from the rbf model is: ' , rbf.predict(day))\n",
        "print('The percent error for this is: ', float((abs(3270.39-(rbf.predict(day)))/3270.39)*100),'%')"
      ],
      "execution_count": null,
      "outputs": [
        {
          "output_type": "stream",
          "text": [
            "The predicted value on 2021-05-04 from the rbf model is:  [414.46568491]\n",
            "The percent error for this is:  87.32671990452123 %\n"
          ],
          "name": "stdout"
        }
      ]
    },
    {
      "cell_type": "code",
      "metadata": {
        "colab": {
          "base_uri": "https://localhost:8080/"
        },
        "id": "hUXkjKj0ZLIJ",
        "outputId": "e99e793d-015d-4ee4-e899-980930028e2f"
      },
      "source": [
        "may_sixth = [[20210505]]\n",
        "print('The predicted value on 2021-05-05 from the rbf model is: ' , rbf.predict(may_sixth))\n",
        "print('The percent error for this is: ', float((abs(3270.54-(rbf.predict(may_sixth)))/3270.54)*100),'%')"
      ],
      "execution_count": null,
      "outputs": [
        {
          "output_type": "stream",
          "text": [
            "The predicted value on 2021-05-05 from the rbf model is:  [416.65147215]\n",
            "The percent error for this is:  87.26046854174069 %\n"
          ],
          "name": "stdout"
        }
      ]
    },
    {
      "cell_type": "code",
      "metadata": {
        "colab": {
          "base_uri": "https://localhost:8080/"
        },
        "id": "ah3BvtOPjny2",
        "outputId": "4956e65d-21c7-4394-cafe-03eb4274f2c4"
      },
      "source": [
        "tomorrow = [[20210506]]\n",
        "print('The predicted value on 2021-05-06 from the rbf model is: ' , rbf.predict(tomorrow))\n",
        "print('It\\'s predicted to drop: ' , float(((3146.3458-3249.386427)/3146.3458)*100), '%')"
      ],
      "execution_count": null,
      "outputs": [
        {
          "output_type": "stream",
          "text": [
            "The predicted value on 2021-05-06 from the rbf model is:  [416.50059488]\n",
            "It's predicted to drop:  -3.2749301427706974 %\n"
          ],
          "name": "stdout"
        }
      ]
    },
    {
      "cell_type": "code",
      "metadata": {
        "id": "pu8bWpHljhMw"
      },
      "source": [
        ""
      ],
      "execution_count": null,
      "outputs": []
    },
    {
      "cell_type": "markdown",
      "metadata": {
        "id": "4X-VhWasfFes"
      },
      "source": [
        "# RBF Unfixed"
      ]
    },
    {
      "cell_type": "code",
      "metadata": {
        "colab": {
          "base_uri": "https://localhost:8080/"
        },
        "id": "XxNEbOCafIUb",
        "outputId": "fcaebc03-4ba9-440c-fd7f-9bfce5622996"
      },
      "source": [
        "rbf = SVR(kernel= 'rbf', C= 1000.0, gamma= 0.15)\n",
        "rbf.fit(days, close_prices)"
      ],
      "execution_count": null,
      "outputs": [
        {
          "output_type": "execute_result",
          "data": {
            "text/plain": [
              "SVR(C=1000.0, cache_size=200, coef0=0.0, degree=3, epsilon=0.1, gamma=0.15,\n",
              "    kernel='rbf', max_iter=-1, shrinking=True, tol=0.001, verbose=False)"
            ]
          },
          "metadata": {
            "tags": []
          },
          "execution_count": 36
        }
      ]
    },
    {
      "cell_type": "code",
      "metadata": {
        "colab": {
          "base_uri": "https://localhost:8080/"
        },
        "id": "VEMAn7W0fMcp",
        "outputId": "d18cc907-4ab5-4805-9269-787dcd509274"
      },
      "source": [
        "plt.figure(figsize=(16,8))\n",
        "plt.scatter(days,close_prices, color= 'red', label= 'Data')\n",
        "plt.plot(days, rbf.predict(days), color='blue', label='RBF Model')\n",
        "plt.legend()\n",
        "plt.show()"
      ],
      "execution_count": null,
      "outputs": [
        {
          "output_type": "display_data",
          "data": {
            "image/png": "[encoded data removed]",
            "text/plain": [
              "<Figure size 1152x576 with 1 Axes>"
            ]
          },
          "metadata": {
            "tags": [],
            "needs_background": "light"
          }
        }
      ]
    },
    {
      "cell_type": "code",
      "metadata": {
        "colab": {
          "base_uri": "https://localhost:8080/"
        },
        "id": "YYEWpoYEfRoU",
        "outputId": "20b69546-edf3-402c-ba1d-d6586d3508c3"
      },
      "source": [
        "day= [[20210517]]\n",
        "print('The predicted value on 2021-05-04 from the rbf model is: ' , rbf.predict(day))\n",
        "print('The percent error for this is: ', float((abs(3270.39-(rbf.predict(day)))/3270.39)*100),'%')"
      ],
      "execution_count": null,
      "outputs": [
        {
          "output_type": "stream",
          "text": [
            "The predicted value on 2021-05-04 from the rbf model is:  [263.5083257]\n",
            "The percent error for this is:  91.94260238997862 %\n"
          ],
          "name": "stdout"
        }
      ]
    },
    {
      "cell_type": "code",
      "metadata": {
        "colab": {
          "base_uri": "https://localhost:8080/"
        },
        "id": "oKKfvAZ7fSKY",
        "outputId": "50fbae12-e337-4ce0-b9db-26c9b7746bd4"
      },
      "source": [
        "may_sixth = [[20210505]]\n",
        "print('The predicted value on 2021-05-05 from the rbf model is: ' , rbf.predict(may_sixth))\n",
        "print('The percent error for this is: ', float((abs(3270.54-(rbf.predict(may_sixth)))/3270.54)*100),'%')"
      ],
      "execution_count": null,
      "outputs": [
        {
          "output_type": "stream",
          "text": [
            "The predicted value on 2021-05-05 from the rbf model is:  [413.60177652]\n",
            "The percent error for this is:  87.35371600652095 %\n"
          ],
          "name": "stdout"
        }
      ]
    },
    {
      "cell_type": "markdown",
      "metadata": {
        "id": "8W-FtxYefBzY"
      },
      "source": [
        "# Linear"
      ]
    },
    {
      "cell_type": "code",
      "metadata": {
        "id": "GaOhhP9bYygB"
      },
      "source": [
        "lin = SVR(kernel= 'linear',C= 1E-8)\n",
        "lin.fit(days, close_prices) "
      ],
      "execution_count": null,
      "outputs": []
    },
    {
      "cell_type": "code",
      "metadata": {
        "id": "Qy5R5NVBY8R3"
      },
      "source": [
        "plt.figure(figsize=(16,8))\n",
        "plt.scatter(days,close_prices, color= 'red', label= 'Data')\n",
        "plt.plot(days, lin.predict(days), color='blue', label='Linear Model')\n",
        "plt.legend()\n",
        "plt.show()"
      ],
      "execution_count": null,
      "outputs": []
    },
    {
      "cell_type": "code",
      "metadata": {
        "id": "JA4qV_HpY8mG"
      },
      "source": [
        "day= [[20210517]]\n",
        "print('The predicted value on 2021-05-04 from the rbf model is: ' ,lin.predict(day))\n",
        "print('The percent error for this is: ', float((abs(3270.39-(lin.predict(day)))/3270.39)*100),'%')"
      ],
      "execution_count": null,
      "outputs": []
    },
    {
      "cell_type": "markdown",
      "metadata": {
        "id": "58l09ZjEbngY"
      },
      "source": [
        "# 05-02-2020 - Now "
      ]
    },
    {
      "cell_type": "code",
      "metadata": {
        "id": "mNAaGK99bp-5"
      },
      "source": [
        "spy_df2 = SPYData.history(period='1d', start= '2020-5-2', end = '2021-5-18')"
      ],
      "execution_count": null,
      "outputs": []
    },
    {
      "cell_type": "code",
      "metadata": {
        "id": "0q7HiZpPbw7D"
      },
      "source": [
        "spy_df2\n"
      ],
      "execution_count": null,
      "outputs": []
    },
    {
      "cell_type": "code",
      "metadata": {
        "id": "tpQPAdbhb3bR"
      },
      "source": [
        "df_Open=spy_df2[['Open']]\n",
        "df_dates2=spy_df2.index.to_frame().reset_index(drop=True)\n",
        "print(df_dates2)"
      ],
      "execution_count": null,
      "outputs": []
    },
    {
      "cell_type": "code",
      "metadata": {
        "id": "U-Yv5ebOcEbn"
      },
      "source": [
        "spy_df2['Date']= df_dates2['Date'].values"
      ],
      "execution_count": null,
      "outputs": []
    },
    {
      "cell_type": "code",
      "metadata": {
        "id": "uat58vnGcKDZ"
      },
      "source": [
        "spy_df2"
      ],
      "execution_count": null,
      "outputs": []
    },
    {
      "cell_type": "code",
      "metadata": {
        "id": "lT6j25hhcJ92"
      },
      "source": [
        "spy_df2['Date'] = spy_df2['Date'].astype(str)"
      ],
      "execution_count": null,
      "outputs": []
    },
    {
      "cell_type": "code",
      "metadata": {
        "id": "U7AOfg8kcP0g"
      },
      "source": [
        "spy_df2['new_date'] = spy_df2['Date'].str.replace('\\D', '').astype(int)"
      ],
      "execution_count": null,
      "outputs": []
    },
    {
      "cell_type": "code",
      "metadata": {
        "id": "pxxffIhkcZrr"
      },
      "source": [
        "actual_price2 = spy_df2.tail(1)\n",
        "actual_price2"
      ],
      "execution_count": null,
      "outputs": []
    },
    {
      "cell_type": "code",
      "metadata": {
        "id": "71Rq9LQGcboV"
      },
      "source": [
        "spy_df2 = spy_df2.head(len(spy_df2)-1)"
      ],
      "execution_count": null,
      "outputs": []
    },
    {
      "cell_type": "code",
      "metadata": {
        "id": "ZpgkbwPicmtp"
      },
      "source": [
        "days2 = list()\n",
        "close_prices2= list()"
      ],
      "execution_count": null,
      "outputs": []
    },
    {
      "cell_type": "code",
      "metadata": {
        "id": "BNgukURecpBS"
      },
      "source": [
        "df_days2 = spy_df2.loc[:,'new_date']\n",
        "df_days2"
      ],
      "execution_count": null,
      "outputs": []
    },
    {
      "cell_type": "code",
      "metadata": {
        "id": "wuWV6vajct_s"
      },
      "source": [
        "df_close_price2 = spy_df2.loc[:,'Close']"
      ],
      "execution_count": null,
      "outputs": []
    },
    {
      "cell_type": "code",
      "metadata": {
        "id": "4ElamMf9czy7"
      },
      "source": [
        "for dates2 in df_days2:\n",
        "  days2.append([int(dates2)])\n",
        "\n",
        "days2"
      ],
      "execution_count": null,
      "outputs": []
    },
    {
      "cell_type": "code",
      "metadata": {
        "id": "IkTUMhbXc8f-"
      },
      "source": [
        "for price2 in df_close_price2: \n",
        "  close_prices2.append(float(price2))\n",
        "\n",
        "close_prices2"
      ],
      "execution_count": null,
      "outputs": []
    },
    {
      "cell_type": "code",
      "metadata": {
        "id": "r7dHTvgAdCnI"
      },
      "source": [
        "print(days2)\n",
        "print(close_prices2)\n",
        "\n",
        "print(len(days2))\n",
        "print(len(close_prices2))"
      ],
      "execution_count": null,
      "outputs": []
    },
    {
      "cell_type": "code",
      "metadata": {
        "id": "MMv0vUDadFc3"
      },
      "source": [
        "rbf = SVR(kernel= 'rbf', C= 1000.0, gamma= 0.1)\n",
        "rbf.fit(days2, close_prices2)"
      ],
      "execution_count": null,
      "outputs": []
    },
    {
      "cell_type": "code",
      "metadata": {
        "id": "YZWuXGhZdK1W"
      },
      "source": [
        "plt.figure(figsize=(16,8))\n",
        "plt.scatter(days2,close_prices2, color= 'red', label= 'Data')\n",
        "plt.plot(days2, rbf.predict(days2), color='blue', label='RBF Model')\n",
        "plt.legend()\n",
        "plt.show()"
      ],
      "execution_count": null,
      "outputs": []
    },
    {
      "cell_type": "code",
      "metadata": {
        "id": "bS9_iazldUfX"
      },
      "source": [
        "day= [[20210517]]\n",
        "print('The predicted value on 2021-05-04 from the rbf model is: ' , rbf.predict(day))\n",
        "print('The percent error for this is: ', float((abs(415.52-(rbf.predict(day)))/415.52)*100),'%')"
      ],
      "execution_count": null,
      "outputs": []
    },
    {
      "cell_type": "code",
      "metadata": {
        "id": "DwLjWopHd1Lz"
      },
      "source": [
        "#Today\n",
        "may_sixth = [[20210505]]\n",
        "print('The predicted value on 2021-05-05 from the rbf model is: ' , rbf.predict(may_sixth))\n",
        "print('The percent error for this is: ', float((abs(3270.54-(rbf.predict(may_sixth)))/3270.54)*100),'%')"
      ],
      "execution_count": null,
      "outputs": []
    },
    {
      "cell_type": "code",
      "metadata": {
        "id": "CidWDQWId_9m"
      },
      "source": [
        "#Tomorrow\n",
        "tomorrow = [[20210518]]\n",
        "print('The predicted value on 2021-05-06 from the rbf model is: ' , rbf.predict(tomorrow))\n",
        "#print('It\\'s predicted to drop: ' , float(((3161.45796-3249.386427)/3249.386427)*100), '%')"
      ],
      "execution_count": null,
      "outputs": []
    },
    {
      "cell_type": "code",
      "metadata": {
        "id": "34si02T1ef7D"
      },
      "source": [
        "twoDays = [[20210507]]\n",
        "print('The predicted value on 2021-05-07 from the rbf model is: ' , rbf.predict(twoDays))"
      ],
      "execution_count": null,
      "outputs": []
    },
    {
      "cell_type": "code",
      "metadata": {
        "id": "B4ksgSl2gHX3"
      },
      "source": [
        ""
      ],
      "execution_count": null,
      "outputs": []
    }
  ]
}